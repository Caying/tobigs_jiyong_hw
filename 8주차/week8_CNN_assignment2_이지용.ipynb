{
  "nbformat": 4,
  "nbformat_minor": 0,
  "metadata": {
    "colab": {
      "name": "Untitled0.ipynb",
      "provenance": []
    },
    "kernelspec": {
      "name": "python3",
      "display_name": "Python 3"
    }
  },
  "cells": [
    {
      "cell_type": "markdown",
      "metadata": {
        "id": "EIuZVVfD5mYh",
        "colab_type": "text"
      },
      "source": [
        "# TensorFlow"
      ]
    },
    {
      "cell_type": "code",
      "metadata": {
        "id": "X7Iwj9aA5J-C",
        "colab_type": "code",
        "colab": {
          "base_uri": "https://localhost:8080/",
          "height": 65
        },
        "outputId": "b81de98d-822b-43a1-af1c-4373e53d4cab"
      },
      "source": [
        "import tensorflow as tf\n",
        "from tensorflow import keras"
      ],
      "execution_count": 2,
      "outputs": [
        {
          "output_type": "display_data",
          "data": {
            "text/html": [
              "<p style=\"color: red;\">\n",
              "The default version of TensorFlow in Colab will soon switch to TensorFlow 2.x.<br>\n",
              "We recommend you <a href=\"https://www.tensorflow.org/guide/migrate\" target=\"_blank\">upgrade</a> now \n",
              "or ensure your notebook will continue to use TensorFlow 1.x via the <code>%tensorflow_version 1.x</code> magic:\n",
              "<a href=\"https://colab.research.google.com/notebooks/tensorflow_version.ipynb\" target=\"_blank\">more info</a>.</p>\n"
            ],
            "text/plain": [
              "<IPython.core.display.HTML object>"
            ]
          },
          "metadata": {
            "tags": []
          }
        }
      ]
    },
    {
      "cell_type": "code",
      "metadata": {
        "id": "6Snk5SM75iD6",
        "colab_type": "code",
        "colab": {
          "base_uri": "https://localhost:8080/",
          "height": 963
        },
        "outputId": "9fe410fd-2943-400b-e8d6-a2ee117a0bf3"
      },
      "source": [
        "model = keras.Sequential()\n",
        "\n",
        "# Layer 1\n",
        "# https://www.tensorflow.org/api_docs/python/tf/keras/layers/Conv2D\n",
        "model.add(keras.layers.Conv2D(input_shape=(227, 227, 3),\n",
        "                              kernel_size=(11, 11),\n",
        "                              strides=(4, 4),\n",
        "                              filters=96,\n",
        "                              padding=\"valid\",\n",
        "                              activation=tf.nn.relu))\n",
        "\n",
        "# Layer 2\n",
        "# https://www.tensorflow.org/api_docs/python/tf/keras/layers/MaxPool2D\n",
        "model.add(keras.layers.MaxPooling2D(pool_size=(3, 3),\n",
        "                                    strides=(2, 2),\n",
        "                                    padding=\"valid\"))\n",
        "model.add(keras.layers.BatchNormalization())\n",
        "\n",
        "# Layer 3\n",
        "model.add(keras.layers.Conv2D(kernel_size=(5, 5),\n",
        "                              strides=(1, 1),\n",
        "                              padding=\"same\",\n",
        "                              filters=256,\n",
        "                              activation=tf.nn.relu))\n",
        "\n",
        "# Layer 4\n",
        "model.add(keras.layers.MaxPooling2D(pool_size=(3, 3),\n",
        "                                    strides=(2, 2),\n",
        "                                    padding=\"valid\"))\n",
        "model.add(keras.layers.BatchNormalization())\n",
        "\n",
        "# Layer 5\n",
        "model.add(keras.layers.Conv2D(kernel_size=(3, 3),\n",
        "                              strides=(1, 1),\n",
        "                              padding=\"same\",\n",
        "                              filters=384,\n",
        "                              activation=tf.nn.relu))\n",
        "model.add(keras.layers.BatchNormalization())\n",
        "\n",
        "# Layer 6\n",
        "model.add(keras.layers.Conv2D(kernel_size=(3, 3),\n",
        "                              strides=(1, 1),\n",
        "                              padding=\"same\",\n",
        "                              filters=384,\n",
        "                              activation=tf.nn.relu))\n",
        "model.add(keras.layers.BatchNormalization())\n",
        "\n",
        "# Layer 7\n",
        "model.add(keras.layers.Conv2D(kernel_size=(3, 3),\n",
        "                              strides=(1, 1),\n",
        "                              padding=\"same\",\n",
        "                              filters=256,\n",
        "                              activation=tf.nn.relu))\n",
        "\n",
        "# Layer 8\n",
        "model.add(keras.layers.MaxPooling2D(pool_size=(3, 3),\n",
        "                                    strides=(2, 2),\n",
        "                                    padding=\"valid\"))\n",
        "model.add(keras.layers.BatchNormalization())\n",
        "\n",
        "\n",
        "# Layer 9\n",
        "model.add(keras.layers.Flatten())\n",
        "model.add(keras.layers.Dense(units=4096,\n",
        "                             input_shape=(6, 6, 256),\n",
        "                             activation=tf.nn.relu))\n",
        "model.add(keras.layers.BatchNormalization())\n",
        "model.add(keras.layers.Dropout(0.2)) # 과적합 방지\n",
        "\n",
        "# Layer 10\n",
        "model.add(keras.layers.Dense(units=4096,\n",
        "                            activation=tf.nn.relu))\n",
        "model.add(keras.layers.BatchNormalization())\n",
        "model.add(keras.layers.Dropout(0.2))\n",
        "\n",
        "# Layer 11\n",
        "model.add(keras.layers.Dense(units=1000,\n",
        "                             activation=tf.nn.relu))\n",
        "\n",
        "# 출력층\n",
        "model.add(keras.layers.Softmax())\n",
        "\n",
        "model.summary()"
      ],
      "execution_count": 4,
      "outputs": [
        {
          "output_type": "stream",
          "text": [
            "Model: \"sequential_1\"\n",
            "_________________________________________________________________\n",
            "Layer (type)                 Output Shape              Param #   \n",
            "=================================================================\n",
            "conv2d_5 (Conv2D)            (None, 55, 55, 96)        34944     \n",
            "_________________________________________________________________\n",
            "max_pooling2d_3 (MaxPooling2 (None, 27, 27, 96)        0         \n",
            "_________________________________________________________________\n",
            "batch_normalization_6 (Batch (None, 27, 27, 96)        384       \n",
            "_________________________________________________________________\n",
            "conv2d_6 (Conv2D)            (None, 27, 27, 256)       614656    \n",
            "_________________________________________________________________\n",
            "max_pooling2d_4 (MaxPooling2 (None, 13, 13, 256)       0         \n",
            "_________________________________________________________________\n",
            "batch_normalization_7 (Batch (None, 13, 13, 256)       1024      \n",
            "_________________________________________________________________\n",
            "conv2d_7 (Conv2D)            (None, 13, 13, 384)       885120    \n",
            "_________________________________________________________________\n",
            "batch_normalization_8 (Batch (None, 13, 13, 384)       1536      \n",
            "_________________________________________________________________\n",
            "conv2d_8 (Conv2D)            (None, 13, 13, 384)       1327488   \n",
            "_________________________________________________________________\n",
            "batch_normalization_9 (Batch (None, 13, 13, 384)       1536      \n",
            "_________________________________________________________________\n",
            "conv2d_9 (Conv2D)            (None, 13, 13, 256)       884992    \n",
            "_________________________________________________________________\n",
            "max_pooling2d_5 (MaxPooling2 (None, 6, 6, 256)         0         \n",
            "_________________________________________________________________\n",
            "batch_normalization_10 (Batc (None, 6, 6, 256)         1024      \n",
            "_________________________________________________________________\n",
            "flatten_1 (Flatten)          (None, 9216)              0         \n",
            "_________________________________________________________________\n",
            "dense_1 (Dense)              (None, 4096)              37752832  \n",
            "_________________________________________________________________\n",
            "batch_normalization_11 (Batc (None, 4096)              16384     \n",
            "_________________________________________________________________\n",
            "dropout (Dropout)            (None, 4096)              0         \n",
            "_________________________________________________________________\n",
            "dense_2 (Dense)              (None, 4096)              16781312  \n",
            "_________________________________________________________________\n",
            "batch_normalization_12 (Batc (None, 4096)              16384     \n",
            "_________________________________________________________________\n",
            "dropout_1 (Dropout)          (None, 4096)              0         \n",
            "_________________________________________________________________\n",
            "dense_3 (Dense)              (None, 1000)              4097000   \n",
            "_________________________________________________________________\n",
            "softmax (Softmax)            (None, 1000)              0         \n",
            "=================================================================\n",
            "Total params: 62,416,616\n",
            "Trainable params: 62,397,480\n",
            "Non-trainable params: 19,136\n",
            "_________________________________________________________________\n"
          ],
          "name": "stdout"
        }
      ]
    },
    {
      "cell_type": "markdown",
      "metadata": {
        "id": "mXobtU5w5quR",
        "colab_type": "text"
      },
      "source": [
        "# Pytorch"
      ]
    },
    {
      "cell_type": "code",
      "metadata": {
        "id": "7QUlw3HU5iPj",
        "colab_type": "code",
        "colab": {}
      },
      "source": [
        "import torch.nn as nn\n",
        "import torch.nn.functional as F\n",
        "import torch\n",
        "\n",
        "class AlexNet(nn.Module):\n",
        "    def __init__(self, num_classes=1000):\n",
        "        super(AlexNet, self).__init__()\n",
        "        self.features = nn.Sequential(\n",
        "            # layer1\n",
        "            nn.Conv2d(3, 96, kernel_size=11, stride=4, padding=1),\n",
        "            nn.BatchNorm2d(96),\n",
        "            nn.ReLU(inplace=True),\n",
        "            # layer2\n",
        "            nn.MaxPool2d(kernel_size=3, stride=2),\n",
        "            # layer3\n",
        "            nn.Conv2d(96, 256, kernel_size=5, stride=1, padding=2),\n",
        "            nn.BatchNorm2d(256),\n",
        "            nn.ReLU(inplace=True),\n",
        "            # layer4\n",
        "            nn.MaxPool2d(kernel_size=3, stride=2),\n",
        "            # layer5\n",
        "            nn.Conv2d(256, 384, kernel_size=3, stride=1, padding=1),\n",
        "            nn.BatchNorm2d(384),\n",
        "            nn.ReLU(inplace=True),\n",
        "            # layer6\n",
        "            nn.Conv2d(384, 384, kernel_size=3, stride=1, padding=1),\n",
        "            nn.BatchNorm2d(384),\n",
        "            nn.ReLU(inplace=True),\n",
        "            # layer7\n",
        "            nn.Conv2d(384, 256, kernel_size=3, stride=1, padding=1),\n",
        "            nn.BatchNorm2d(256),\n",
        "            nn.ReLU(inplace=True),\n",
        "            # layer8\n",
        "            nn.MaxPool2d(kernel_size=3, stride=2),\n",
        "        )\n",
        "        self.classifier = nn.Sequential(\n",
        "            nn.Linear(256 * 6 * 6, 4096),\n",
        "            nn.ReLU(inplace=True),\n",
        "            nn.Dropout(0.2),\n",
        "            nn.Linear(4096, 4096),\n",
        "            nn.ReLU(inplace=True),\n",
        "            nn.Dropout(0.2),\n",
        "            nn.Linear(4096, num_classes),\n",
        "            nn.Softmax()\n",
        "        )\n",
        "\n",
        "    def forward(self, x):\n",
        "        x = self.features(x)\n",
        "        x = x.view(x.size()[0], -1)\n",
        "        x = self.classifier(x)\n",
        "        return x\n",
        "\n",
        "alexnet = AlexNet()"
      ],
      "execution_count": 0,
      "outputs": []
    },
    {
      "cell_type": "code",
      "metadata": {
        "id": "AJ-6Qow59viS",
        "colab_type": "code",
        "colab": {
          "base_uri": "https://localhost:8080/",
          "height": 763
        },
        "outputId": "2f23d287-0348-4260-f094-269bfd61a2f0"
      },
      "source": [
        "from torchsummary import summary\n",
        "summary(alexnet, (3, 227, 227))"
      ],
      "execution_count": 33,
      "outputs": [
        {
          "output_type": "stream",
          "text": [
            "----------------------------------------------------------------\n",
            "        Layer (type)               Output Shape         Param #\n",
            "================================================================\n",
            "            Conv2d-1           [-1, 96, 55, 55]          34,944\n",
            "       BatchNorm2d-2           [-1, 96, 55, 55]             192\n",
            "              ReLU-3           [-1, 96, 55, 55]               0\n",
            "         MaxPool2d-4           [-1, 96, 27, 27]               0\n",
            "            Conv2d-5          [-1, 256, 27, 27]         614,656\n",
            "       BatchNorm2d-6          [-1, 256, 27, 27]             512\n",
            "              ReLU-7          [-1, 256, 27, 27]               0\n",
            "         MaxPool2d-8          [-1, 256, 13, 13]               0\n",
            "            Conv2d-9          [-1, 384, 13, 13]         885,120\n",
            "      BatchNorm2d-10          [-1, 384, 13, 13]             768\n",
            "             ReLU-11          [-1, 384, 13, 13]               0\n",
            "           Conv2d-12          [-1, 384, 13, 13]       1,327,488\n",
            "      BatchNorm2d-13          [-1, 384, 13, 13]             768\n",
            "             ReLU-14          [-1, 384, 13, 13]               0\n",
            "           Conv2d-15          [-1, 256, 13, 13]         884,992\n",
            "      BatchNorm2d-16          [-1, 256, 13, 13]             512\n",
            "             ReLU-17          [-1, 256, 13, 13]               0\n",
            "        MaxPool2d-18            [-1, 256, 6, 6]               0\n",
            "           Linear-19                 [-1, 4096]      37,752,832\n",
            "             ReLU-20                 [-1, 4096]               0\n",
            "          Dropout-21                 [-1, 4096]               0\n",
            "           Linear-22                 [-1, 4096]      16,781,312\n",
            "             ReLU-23                 [-1, 4096]               0\n",
            "          Dropout-24                 [-1, 4096]               0\n",
            "           Linear-25                 [-1, 1000]       4,097,000\n",
            "          Softmax-26                 [-1, 1000]               0\n",
            "================================================================\n",
            "Total params: 62,381,096\n",
            "Trainable params: 62,381,096\n",
            "Non-trainable params: 0\n",
            "----------------------------------------------------------------\n",
            "Input size (MB): 0.59\n",
            "Forward/backward pass size (MB): 16.02\n",
            "Params size (MB): 237.96\n",
            "Estimated Total Size (MB): 254.57\n",
            "----------------------------------------------------------------\n"
          ],
          "name": "stdout"
        },
        {
          "output_type": "stream",
          "text": [
            "/usr/local/lib/python3.6/dist-packages/torch/nn/modules/container.py:100: UserWarning: Implicit dimension choice for softmax has been deprecated. Change the call to include dim=X as an argument.\n",
            "  input = module(input)\n"
          ],
          "name": "stderr"
        }
      ]
    },
    {
      "cell_type": "code",
      "metadata": {
        "id": "35csdE1j93my",
        "colab_type": "code",
        "colab": {}
      },
      "source": [
        ""
      ],
      "execution_count": 0,
      "outputs": []
    }
  ]
}