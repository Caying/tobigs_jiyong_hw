{
 "cells": [
  {
   "cell_type": "code",
   "execution_count": 1,
   "metadata": {},
   "outputs": [
    {
     "name": "stdout",
     "output_type": "stream",
     "text": [
      "0         setosa\n",
      "1         setosa\n",
      "2         setosa\n",
      "3         setosa\n",
      "4         setosa\n",
      "         ...    \n",
      "145    virginica\n",
      "146    virginica\n",
      "147    virginica\n",
      "148    virginica\n",
      "149    virginica\n",
      "Name: species, Length: 150, dtype: object\n"
     ]
    }
   ],
   "source": [
    "import numpy as np\n",
    "import pandas as pd\n",
    "import matplotlib.pyplot as plt\n",
    "import seaborn as sns\n",
    "import scipy\n",
    "from sklearn.svm import SVC\n",
    "from sklearn.model_selection import train_test_split\n",
    "from sklearn.pipeline import Pipeline\n",
    "from sklearn.preprocessing import StandardScaler\n",
    "\n",
    "#IRIS 데이터 로드\n",
    "iris =  sns.load_dataset('iris') \n",
    "X= iris.iloc[:,:4] #학습할데이터\n",
    "y = iris.iloc[:,-1] #타겟\n",
    "print(y)"
   ]
  },
  {
   "cell_type": "code",
   "execution_count": 2,
   "metadata": {},
   "outputs": [],
   "source": [
    "scal = StandardScaler() #scaling\n",
    "X = scal.fit_transform(X)"
   ]
  },
  {
   "cell_type": "code",
   "execution_count": 3,
   "metadata": {},
   "outputs": [
    {
     "name": "stdout",
     "output_type": "stream",
     "text": [
      "0         setosa\n",
      "1         setosa\n",
      "2         setosa\n",
      "3         setosa\n",
      "4         setosa\n",
      "         ...    \n",
      "145    virginica\n",
      "146    virginica\n",
      "147    virginica\n",
      "148    virginica\n",
      "149    virginica\n",
      "Name: species, Length: 150, dtype: object\n"
     ]
    }
   ],
   "source": [
    "print(y)"
   ]
  },
  {
   "cell_type": "code",
   "execution_count": 4,
   "metadata": {},
   "outputs": [],
   "source": [
    "# One Versus Rest 구현을 위해 class가 0인것과 아닌것을 구분하기위한 machine class가 1인것과 아닌 것을 구분하기 위한 머신 등을 미리만들어줌\n",
    "svm_1 = SVC(kernel ='rbf', C = 5, gamma = 5)\n",
    "svm_2 = SVC(kernel ='rbf', C = 5, gamma = 5)\n",
    "svm_3 = SVC(kernel ='rbf', C = 5, gamma = 5)"
   ]
  },
  {
   "cell_type": "code",
   "execution_count": 5,
   "metadata": {},
   "outputs": [],
   "source": [
    "from sklearn.model_selection import train_test_split #테스트/트레인 데이터로 분리\n",
    "X_train, X_test, y_train, y_test = train_test_split(X, y, test_size=0.2, random_state=48)"
   ]
  },
  {
   "cell_type": "code",
   "execution_count": 6,
   "metadata": {},
   "outputs": [],
   "source": [
    "y_train = pd.get_dummies(y_train) #one hot encoding을 먼저해보자"
   ]
  },
  {
   "cell_type": "code",
   "execution_count": 7,
   "metadata": {},
   "outputs": [
    {
     "name": "stdout",
     "output_type": "stream",
     "text": [
      "[0 0 0 0 0 0 1 0 1 0 0 1 1 0 0 0 1 0 0 0 1 0 0 0 0 1 1 0 0 0]\n",
      "[1 1 1 0 0 0 0 0 0 1 0 0 0 0 1 1 0 0 0 0 0 0 1 1 0 0 0 0 0 1]\n",
      "[0 0 0 0 1 1 0 1 0 0 1 0 0 1 0 0 0 0 0 1 0 1 0 0 1 0 0 1 1 0]\n",
      "[-1.12470845 -0.86326953 -0.65281099 -0.50248821 -0.76284323 -0.87465573\n",
      "  1.07709345 -0.99281647  0.47441336 -0.99842743 -0.83989348  0.15633457\n",
      "  0.32871788 -0.97965464 -0.72385083 -0.92638376  1.28322481 -0.56240455\n",
      " -0.72719892 -0.99509775  0.43166724 -0.96451557 -0.82991366 -1.03020581\n",
      " -0.75166835  1.13461335  0.39943974 -1.04194106 -0.93376548 -1.06133798]\n",
      "[ 1.36054602  0.62859488  0.0580828  -0.36987093 -0.25686625 -0.79229874\n",
      " -1.03195247 -0.87132049 -0.77957234  0.99327762 -0.73309581 -0.64607768\n",
      " -0.71843897 -0.80882458  0.47748663  0.69953462 -1.11879121 -0.1870504\n",
      " -0.24458236 -0.99337352 -0.76149141 -0.96812018  0.11310267  1.06892719\n",
      " -0.56749692 -1.05639624 -0.74817515 -1.0537858  -0.89721836  1.17126024]\n",
      "[-1.26277651 -0.77964936 -0.40539105 -0.13070947  0.02643314  0.57365649\n",
      " -1.04443118  0.88027844 -0.69605517 -0.99074328  0.52442024 -0.51171892\n",
      " -0.61157919  0.78148257 -0.75517707 -0.76905925 -1.16380018 -0.25333938\n",
      " -0.0251979   0.98843144 -0.67129528  0.89577306 -0.30363489 -1.03647008\n",
      "  0.31622662 -1.07758405 -0.65251719  1.09632055  0.85541707 -1.11042784]\n"
     ]
    }
   ],
   "source": [
    "svm_1.fit(X_train,y_train.iloc[:,0]) # 데이터 클레스가 0인 애인지 아닌지 구분해주는 머신\n",
    "svm_2.fit(X_train,y_train.iloc[:,1]) # 데이터 클레스가 1인 애인지 아닌지 구분해주는 머신\n",
    "svm_3.fit(X_train,y_train.iloc[:,2]) # 데이터 클레스가 2인 애인지 아닌지 구분해주는 머신\n",
    "print(svm_1.predict(X_test)) #데이터 클래스가 0인지 아닌지 구분해주는 애를 통해서 테스트데이터의 클래스가 0인지 0이 아닌인지 예측해보자\n",
    "print(svm_2.predict(X_test))\n",
    "print(svm_3.predict(X_test))\n",
    "\n",
    "print(svm_1.decision_function(X_test)) #decision_function hyperplane과의 거리를 구하는 방법 필요하다면 활용해주세요\n",
    "print(svm_2.decision_function(X_test))\n",
    "print(svm_3.decision_function(X_test))"
   ]
  },
  {
   "cell_type": "code",
   "execution_count": 8,
   "metadata": {
    "scrolled": true
   },
   "outputs": [
    {
     "name": "stdout",
     "output_type": "stream",
     "text": [
      "3\n",
      "17\n",
      "18\n"
     ]
    }
   ],
   "source": [
    "# 부호가 모든 같은 경우가 있는가? 요모두 동점인 경우가 생길것이다.\n",
    "for i in range(len(X_test)):\n",
    "    # ~. decision_function을 이용하면 해당 데이터가 하이퍼플레인으로부터 얼마나 떨어져있는 지 거리가 나온다 다음은 그 값의 부호를 이용해\n",
    "    # 모두가 동점인 경우가 있는지 출력하는 함수 \n",
    "    if (np.sign(svm_1.decision_function(X_test)[i]) == np.sign(svm_2.decision_function(X_test)[i]))\\\n",
    "    and (np.sign(svm_2.decision_function(X_test)[i]) == np.sign(svm_3.decision_function(X_test)[i])):\n",
    "        print(i)"
   ]
  },
  {
   "cell_type": "code",
   "execution_count": 9,
   "metadata": {},
   "outputs": [
    {
     "data": {
      "text/plain": [
       "3"
      ]
     },
     "execution_count": 9,
     "metadata": {},
     "output_type": "execute_result"
    }
   ],
   "source": [
    "decision_list = []\n",
    "decision_list.append(svm_1.decision_function(X_test))\n",
    "decision_list.append(svm_2.decision_function(X_test))\n",
    "decision_list.append(svm_3.decision_function(X_test))\n",
    "len(decision_list)"
   ]
  },
  {
   "cell_type": "code",
   "execution_count": 10,
   "metadata": {},
   "outputs": [],
   "source": [
    "## Case 1 : One vs Rest SVM을 이부분에 구현해주세요 위 결과들을 이용해서 multi class SVM을 직접 구현해주세요! 하드코딩이 하시기 편할겁니다.\n",
    "\n",
    "## decision_function 값이 가장 큰 클래스로 분류합니다.\n",
    "def OneVsRestClassifier(decision_list) :\n",
    "    count_class = len(decision_list)\n",
    "    count_data = len(decision_list[0])\n",
    "    for j in range(count_data) :\n",
    "        flag = True\n",
    "        for i in range(count_class-1) :\n",
    "            if (np.sign(decision_list[i][j])) != (np.sign(decision_list[i+1][j])) :\n",
    "                flag = False\n",
    "                break\n",
    "        if flag :\n",
    "            decision_value = decision_list[0][j]\n",
    "            data_class = 0\n",
    "            for i in range(count_class) :\n",
    "                if decision_list[i][j] > decision_value:\n",
    "                    decision_value = decision_list[i][j]\n",
    "                    data_class = i+1\n",
    "            print(j, \"is classified \\'class\", data_class, \"\\'\")"
   ]
  },
  {
   "cell_type": "code",
   "execution_count": 11,
   "metadata": {},
   "outputs": [
    {
     "name": "stdout",
     "output_type": "stream",
     "text": [
      "3 is classified 'class 3 '\n",
      "17 is classified 'class 2 '\n",
      "18 is classified 'class 3 '\n"
     ]
    }
   ],
   "source": [
    "OneVsRestClassifier(decision_list)"
   ]
  },
  {
   "cell_type": "code",
   "execution_count": 12,
   "metadata": {},
   "outputs": [],
   "source": [
    "# Case 2 : One vs One SVM을 이 부분에 구현해주세요. 이것은 선택사항입니다! \n",
    "\n",
    "# decision_function 값을 n(n-1)/2 번 비교해서 투표한 다음 가장 많이 투표된 값으로 클래스를 결정합니다.\n",
    "from scipy import stats\n",
    "def OneVsOneClassifier(decision_list) :\n",
    "    data_class = []\n",
    "    count_class = len(decision_list)\n",
    "    count_data = len(decision_list[0])\n",
    "    for j in range(count_data) :\n",
    "        vote_list = []\n",
    "        for i in range(count_class):\n",
    "            for k in range(count_class-1-i):\n",
    "                if decision_list[i][j] > decision_list[i+k+1][j]:\n",
    "                    vote_list.append(i+1)\n",
    "                else :\n",
    "                    vote_list.append(i+k+2)\n",
    "        data_class.append(scipy.stats.mode(np.array(vote_list))[0][0])\n",
    "    print(data_class)\n",
    "    #return data_class"
   ]
  },
  {
   "cell_type": "code",
   "execution_count": 13,
   "metadata": {},
   "outputs": [
    {
     "name": "stdout",
     "output_type": "stream",
     "text": [
      "[2, 2, 2, 3, 3, 3, 1, 3, 1, 2, 3, 1, 1, 3, 2, 2, 1, 2, 3, 3, 1, 3, 2, 2, 3, 1, 1, 3, 3, 2]\n"
     ]
    }
   ],
   "source": [
    "OneVsOneClassifier(decision_list)"
   ]
  },
  {
   "cell_type": "code",
   "execution_count": 14,
   "metadata": {},
   "outputs": [
    {
     "data": {
      "text/plain": [
       "0.8333333333333334"
      ]
     },
     "execution_count": 14,
     "metadata": {},
     "output_type": "execute_result"
    }
   ],
   "source": [
    "# 그냥 원래 라이브러리가 제공하는 멀티클래스 SVM과 여러분이 구현한 multiclass SVM결과를 한 번 비교해주세요\n",
    "from sklearn.model_selection import train_test_split #데이터셋 분리\n",
    "from sklearn import metrics\n",
    "X_train_2, X_test_2, y_train_2, y_test_2 = train_test_split(X, y, test_size=0.2, random_state=48)\n",
    "\n",
    "svm_4 = SVC(kernel ='rbf', C = 5, gamma = 5)\n",
    "svm_4.fit(X_train_2, y_train_2)\n",
    "y_pred = svm_4.predict(X_test_2)\n",
    "\n",
    "metrics.accuracy_score(y_test_2,y_pred)"
   ]
  },
  {
   "cell_type": "code",
   "execution_count": null,
   "metadata": {},
   "outputs": [],
   "source": []
  }
 ],
 "metadata": {
  "file_extension": ".py",
  "kernelspec": {
   "display_name": "Python 3",
   "language": "python",
   "name": "python3"
  },
  "language_info": {
   "codemirror_mode": {
    "name": "ipython",
    "version": 3
   },
   "file_extension": ".py",
   "mimetype": "text/x-python",
   "name": "python",
   "nbconvert_exporter": "python",
   "pygments_lexer": "ipython3",
   "version": "3.7.6"
  },
  "mimetype": "text/x-python",
  "name": "python",
  "npconvert_exporter": "python",
  "pygments_lexer": "ipython3",
  "version": 3
 },
 "nbformat": 4,
 "nbformat_minor": 2
}
