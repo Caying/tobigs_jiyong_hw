{
 "cells": [
  {
   "cell_type": "markdown",
   "metadata": {},
   "source": [
    "# 안녕하세요 투빅스 보충 과제입니다 :)\n",
    "\n",
    "안녕하세요 투빅스 12기 김태한입니다 :)\n",
    "\n",
    "이번 과제는 코로나 바이러스로 예상치 못한 휴식시간이 생겨 여러분의 딥러닝 감을 유지하고자 드리게 되었습니다.  \n",
    "\n",
    "투빅이분들이라면 분명 쉽게 해낼거라 믿습니다!!\n",
    "\n",
    "\n",
    "모르시는 거 있으시면 저 그리고 12기 멘토분들을 많이 많이 괴롭혀주세요!!!"
   ]
  },
  {
   "cell_type": "markdown",
   "metadata": {},
   "source": [
    "# Assignment 1"
   ]
  },
  {
   "cell_type": "markdown",
   "metadata": {},
   "source": [
    "여러분들은 저번 과제로 뉴럴넷 구현을 이미 한번 하셨습니다!  \n",
    "\n",
    "사실 이번 과제의 최종 목적도 뉴럴넷 구현인데요 이미 한번 하셨고 실력들이 워낙 출중하셔서 금방금방 하실수 있으실거에요.  \n",
    "\n",
    "구현에 바로 들어가기에 앞서 전체 네트워크 구조와 각 구성요소의 행렬 차원 및 오차역전파(back propagation) 복습이 1번 과제입니다.  \n",
    "\n",
    "**?** 에 들어갈 수식을 채워주시면 됩니다!!  "
   ]
  },
  {
   "cell_type": "markdown",
   "metadata": {},
   "source": [
    "## Matrix Shape 정리\n",
    "\n",
    "n : sample_data 수  \n",
    "d : input_dimension  \n",
    "h : hidden_layer_dimension  \n",
    "c : output_dimension  \n",
    "\n",
    "X : input_data  \n",
    "W1 : layer1_weight  \n",
    "b1 : layer1_bias  \n",
    "H : X*W1+b1  \n",
    "A : activation function 거친 value  \n",
    "W2 : layer2_weight  \n",
    "b2 : layer2_bias  \n",
    "S : A*W2+b2  \n",
    "P : softmax 거친 value  \n",
    "\n",
    "**X==(n,d)  \n",
    "W1==(d,h) 채워주세요  \n",
    "b1==(h,)  \n",
    "H==(n,h) 채워주세요  \n",
    "A==(n,h)  \n",
    "W2==(h,c)  \n",
    "b2==(c,) 채워주세요  \n",
    "S==(n,c) 채워주세요  \n",
    "P==(n,c)**"
   ]
  },
  {
   "cell_type": "markdown",
   "metadata": {},
   "source": [
    "## Matrix 미분 정리\n",
    "$H = XW+b　　　(n,h) = (n,d)x(d,h)+(h,)$  \n",
    "$L = f(H)$  \n",
    "$\\frac{\\partial L}{\\partial W} = \\frac{\\partial H}{\\partial W} \\times \\frac{\\partial L}{\\partial H} = X^T\\frac{\\partial L}{\\partial H}$ 　채워주세요  \n",
    "$\\frac{\\partial L}{\\partial X} = \\frac{\\partial H}{\\partial W} \\times \\frac{\\partial L}{\\partial H} = \\frac{\\partial L}{\\partial H}X$ 　채워주세요  \n",
    "$\\frac{\\partial L}{\\partial b} = 1*\\frac{\\partial L}{\\partial H}$  "
   ]
  },
  {
   "cell_type": "markdown",
   "metadata": {},
   "source": [
    "## 2Layers Chain Rule 정리\n",
    "**Forward** \n",
    "\n",
    "$H = XW_{1} + b$  \n",
    "$A = ReLU(H)$  \n",
    "$S = AW_{2} + b_{2}$  \n",
    "$P = Softmax(S)$  \n",
    "$L = -LogLikelihood(P)$\n",
    "\n",
    "\n",
    "**Backward**\n",
    "\n",
    "$\\frac{\\partial L}{\\partial S} = P-T$　:　T는 Label  \n",
    "$\\frac{\\partial L}{\\partial W_{2}} = \\frac{\\partial S}{\\partial W_{2}}\\frac{\\partial L}{\\partial S} = A^T(P-T)$ 　채워주세요  \n",
    "$\\frac{\\partial L}{\\partial b_{2}} = 1*\\frac{\\partial L}{\\partial S} = P-T$  \n",
    "$\\frac{\\partial L}{\\partial A} = \\frac{\\partial L}{\\partial S}\\frac{\\partial S}{\\partial A} = (P-T){W_{2}}^T$　채워주세요  \n",
    "$\\frac{\\partial L}{\\partial H} = \\frac{\\partial A}{\\partial H}\\frac{\\partial L}{\\partial A}$  \n",
    "$\\frac{\\partial L}{\\partial W_{1}} = \\frac{\\partial H}{\\partial W_{1}}\\frac{\\partial L}{\\partial H} = X^{T}\\frac{\\partial L}{\\partial H}$  \n",
    "$\\frac{\\partial L}{\\partial b_{1}} = \\frac{\\partial L}{\\partial H}$  "
   ]
  },
  {
   "cell_type": "markdown",
   "metadata": {},
   "source": [
    "# Assignment 2"
   ]
  },
  {
   "cell_type": "markdown",
   "metadata": {},
   "source": [
    "같이 드린 파일중 model.py라는 파일이 있을거에요!!!  \n",
    "그 친구의 빈칸을 채워주시면 되겠습니다~!!  \n",
    "model.py의 함수는 assignment3의 모델 만들기에서 사용되니 참고하시면서 채워주시면 도움이 될거에요!"
   ]
  },
  {
   "cell_type": "markdown",
   "metadata": {},
   "source": [
    "# Assignment 3"
   ]
  },
  {
   "cell_type": "markdown",
   "metadata": {},
   "source": [
    "자 이제 저희가 구현한 모델을 가지고 한번 cifar-10 dataset을 학습해볼게요!!  \n",
    "근데 시작하기에 앞서 pip install keras 를 해주세요!!  \n",
    "\n",
    "3번과제의 목적은 하이퍼파라미터를 튜닝하던 다른방법을 사용하던 해서 마지막에 그림그리기에서 높은 validation accuracy가 나오도록 하는 과제입니다!!  \n",
    "\n",
    "모델을 2층이아니라 본인만의 3층으로 발전시켜도 좋구요 다른 여러가지 방법들이 있겠죠!?!?!?  \n",
    "\n",
    "가장 높은 validation accuracy를 뽑으신 분께 상품을 드리겠습니다아~!!!"
   ]
  },
  {
   "cell_type": "markdown",
   "metadata": {},
   "source": [
    "### 데이터 load\n",
    "\n",
    "keras 프레임워크를 이용하여 데이터를 로드해 옵니다.  \n",
    "32*32*3차원의 데이터를 3072차원으로 바꾸는 것 까지 해드릴게요.\n",
    "필요하면 sklearn.preprocessing의 scaler를 사용해보셔도 좋습니다!"
   ]
  },
  {
   "cell_type": "code",
   "execution_count": null,
   "metadata": {},
   "outputs": [],
   "source": [
    "from keras.datasets import cifar10"
   ]
  },
  {
   "cell_type": "code",
   "execution_count": 1,
   "metadata": {},
   "outputs": [],
   "source": [
    "import numpy as np\n",
    "from Model import TwoLayerNet\n",
    "from matplotlib import pyplot as plt"
   ]
  },
  {
   "cell_type": "code",
   "execution_count": null,
   "metadata": {},
   "outputs": [],
   "source": [
    "(x_train, y_train), (x_test, y_test) = cifar10.load_data()"
   ]
  },
  {
   "cell_type": "code",
   "execution_count": null,
   "metadata": {},
   "outputs": [],
   "source": [
    "def preprocessing_data(x_train, x_test, y_train, y_test):\n",
    "    #change dtype\n",
    "    x_train = np.array(x_train, dtype=np.float64)\n",
    "    x_test = np.array(x_test, dtype=np.float64)\n",
    "    \n",
    "    #reshaping\n",
    "    x_train = np.reshape(x_train, (x_train.shape[0], -1))\n",
    "    x_test = np.reshape(x_test, (x_test.shape[0], -1))\n",
    "    \n",
    "    y_train = np.reshape(y_train, (y_train.shape[0],))\n",
    "    y_test = np.reshape(y_test, (y_test.shape[0],))\n",
    "        \n",
    "    #normalizing\n",
    "    mean_value = np.mean(x_train, axis=0)\n",
    "    x_train -= mean_value\n",
    "    x_test -= mean_value\n",
    "    \n",
    "    return x_train, x_test, y_train, y_test"
   ]
  },
  {
   "cell_type": "code",
   "execution_count": null,
   "metadata": {},
   "outputs": [],
   "source": [
    "x_train, x_test, y_train, y_test = preprocessing_data(x_train, x_test, y_train, y_test)"
   ]
  },
  {
   "cell_type": "code",
   "execution_count": null,
   "metadata": {},
   "outputs": [],
   "source": [
    "print(x_train.shape)\n",
    "print(x_test.shape)\n",
    "print(y_train.shape)\n",
    "print(y_test.shape)"
   ]
  },
  {
   "cell_type": "markdown",
   "metadata": {},
   "source": [
    "데이터가 너무 많아서 5000개랑 1000개만 사용해보도록 할게요"
   ]
  },
  {
   "cell_type": "code",
   "execution_count": null,
   "metadata": {},
   "outputs": [],
   "source": [
    "x_train = x_train[:5000]\n",
    "y_train = y_train[:5000]\n",
    "x_test = x_test[:1000]\n",
    "y_test = y_test[:1000]"
   ]
  },
  {
   "cell_type": "code",
   "execution_count": 2,
   "metadata": {},
   "outputs": [],
   "source": [
    "x_train = np.load(\"./x_train_data.npy\")\n",
    "y_train = np.load(\"./y_train_data.npy\")\n",
    "x_test = np.load(\"./x_test_data.npy\")\n",
    "y_test = np.load(\"./y_test_data.npy\")"
   ]
  },
  {
   "cell_type": "markdown",
   "metadata": {},
   "source": [
    "### 데이터 확인\n",
    "\n",
    "실제 데이터가 어떻게 생겼는지 한번 봅시다"
   ]
  },
  {
   "cell_type": "code",
   "execution_count": 3,
   "metadata": {},
   "outputs": [
    {
     "data": {
      "text/plain": [
       "array([[ -71.71074,  -74.05614,  -69.5538 , ...,   -3.63908,  -33.8503 ,\n",
       "         -42.38186],\n",
       "       [  23.28926,   40.94386,   54.4462 , ...,   16.36092,    7.1497 ,\n",
       "          29.61814],\n",
       "       [ 124.28926,  118.94386,  122.4462 , ...,  -46.63908,  -39.8503 ,\n",
       "         -30.38186],\n",
       "       ...,\n",
       "       [  36.28926,   26.94386,   12.4462 , ...,  -84.63908,  -47.8503 ,\n",
       "         -30.38186],\n",
       "       [  23.28926,   15.94386,   -7.5538 , ...,   67.36092,  121.1497 ,\n",
       "          -0.38186],\n",
       "       [ -85.71074, -104.05614, -111.5538 , ...,   29.36092,   16.1497 ,\n",
       "         -14.38186]])"
      ]
     },
     "execution_count": 3,
     "metadata": {},
     "output_type": "execute_result"
    }
   ],
   "source": [
    "x_train"
   ]
  },
  {
   "cell_type": "markdown",
   "metadata": {},
   "source": [
    "### 하이퍼파라미터 설정\n",
    "\n",
    "이제 하이퍼파라미터를 설정해볼게요.  \n",
    "hidden_size, epoch_size, batch_size, learning_rate등은 전부 하이퍼 파라미터이니 바꾸면서 도전해보세요!!"
   ]
  },
  {
   "cell_type": "code",
   "execution_count": 17,
   "metadata": {},
   "outputs": [],
   "source": [
    "input_size = 32 * 32 * 3\n",
    "hidden_size = 100\n",
    "output_size = 10\n",
    "epoch_size = 5000\n",
    "batch_size = 200\n",
    "learning_rate = 0.0005\n",
    "N = x_train.shape[0]"
   ]
  },
  {
   "cell_type": "markdown",
   "metadata": {},
   "source": [
    "### 모델 만들기\n",
    "\n",
    "input_size, hidden_size, output_size는 데이터에 맞게 잘 설정해주세요."
   ]
  },
  {
   "cell_type": "code",
   "execution_count": 10,
   "metadata": {},
   "outputs": [],
   "source": [
    "batch_mask = np.random.choice(N, batch_size) #이번 배치에서 쓸 데이터들 인덱스 추출\n",
    "x_batch = x_train[batch_mask]"
   ]
  },
  {
   "cell_type": "code",
   "execution_count": 11,
   "metadata": {},
   "outputs": [],
   "source": [
    "nn = TwoLayerNet(x_batch, input_size=input_size, hidden_size=hidden_size, output_size=output_size)"
   ]
  },
  {
   "cell_type": "code",
   "execution_count": 18,
   "metadata": {},
   "outputs": [
    {
     "name": "stdout",
     "output_type": "stream",
     "text": [
      "0 test accuracy : 0.353\n",
      "0 test loss     : 1771.7291692508097\n",
      "100 test accuracy : 0.369\n",
      "100 test loss     : 1724.6827866182857\n",
      "200 test accuracy : 0.388\n",
      "200 test loss     : 1695.1012275464552\n",
      "300 test accuracy : 0.398\n",
      "300 test loss     : 1677.6869307256738\n",
      "400 test accuracy : 0.393\n",
      "400 test loss     : 1664.5299590915715\n",
      "500 test accuracy : 0.4\n",
      "500 test loss     : 1658.655124130659\n",
      "600 test accuracy : 0.405\n",
      "600 test loss     : 1662.0542101599658\n",
      "700 test accuracy : 0.414\n",
      "700 test loss     : 1674.7299389215787\n",
      "800 test accuracy : 0.415\n",
      "800 test loss     : 1693.677385597858\n",
      "900 test accuracy : 0.421\n",
      "900 test loss     : 1716.3533760997773\n",
      "1000 test accuracy : 0.426\n",
      "1000 test loss     : 1742.001082008764\n",
      "1100 test accuracy : 0.418\n",
      "1100 test loss     : 1767.101993788529\n",
      "1200 test accuracy : 0.413\n",
      "1200 test loss     : 1801.9068179083008\n",
      "1300 test accuracy : 0.408\n",
      "1300 test loss     : 1838.1505456887503\n",
      "1400 test accuracy : 0.407\n",
      "1400 test loss     : 1876.1023845422549\n",
      "1500 test accuracy : 0.405\n",
      "1500 test loss     : 1919.1573346990212\n",
      "1600 test accuracy : 0.392\n",
      "1600 test loss     : 1964.5925945762986\n",
      "1700 test accuracy : 0.388\n",
      "1700 test loss     : 2016.3289957658824\n",
      "1800 test accuracy : 0.378\n",
      "1800 test loss     : 2071.0312430280196\n",
      "1900 test accuracy : 0.381\n",
      "1900 test loss     : 2127.965266210652\n",
      "2000 test accuracy : 0.377\n",
      "2000 test loss     : 2186.8418532680535\n",
      "2100 test accuracy : 0.374\n",
      "2100 test loss     : 2240.842341897301\n",
      "2200 test accuracy : 0.367\n",
      "2200 test loss     : 2302.6430676136256\n",
      "2300 test accuracy : 0.37\n",
      "2300 test loss     : 2359.7671392723564\n",
      "2400 test accuracy : 0.368\n",
      "2400 test loss     : 2418.1201818055793\n",
      "2500 test accuracy : 0.371\n",
      "2500 test loss     : 2475.0115624196865\n",
      "2600 test accuracy : 0.368\n",
      "2600 test loss     : 2527.4609941563212\n",
      "2700 test accuracy : 0.366\n",
      "2700 test loss     : 2588.0466143399985\n",
      "2800 test accuracy : 0.363\n",
      "2800 test loss     : 2643.937450108585\n",
      "2900 test accuracy : 0.36\n",
      "2900 test loss     : 2702.9992889889118\n",
      "3000 test accuracy : 0.356\n",
      "3000 test loss     : 2755.4787854292426\n",
      "3100 test accuracy : 0.359\n",
      "3100 test loss     : 2806.5789271368008\n",
      "3200 test accuracy : 0.359\n",
      "3200 test loss     : 2856.3191517110113\n",
      "3300 test accuracy : 0.358\n",
      "3300 test loss     : 2913.3439637830766\n",
      "3400 test accuracy : 0.353\n",
      "3400 test loss     : 2957.2287367250274\n",
      "3500 test accuracy : 0.349\n",
      "3500 test loss     : 3005.3370619119273\n",
      "3600 test accuracy : 0.35\n",
      "3600 test loss     : 3050.7676160070714\n",
      "3700 test accuracy : 0.349\n",
      "3700 test loss     : 3101.7331274015382\n",
      "3800 test accuracy : 0.348\n",
      "3800 test loss     : 3146.8843053658143\n",
      "3900 test accuracy : 0.346\n",
      "3900 test loss     : 3191.340977207507\n",
      "4000 test accuracy : 0.347\n",
      "4000 test loss     : 3230.4342575985734\n",
      "4100 test accuracy : 0.349\n",
      "4100 test loss     : 3273.464509659707\n",
      "4200 test accuracy : 0.347\n",
      "4200 test loss     : 3315.2426157756017\n",
      "4300 test accuracy : 0.348\n",
      "4300 test loss     : 3352.852918248007\n",
      "4400 test accuracy : 0.346\n",
      "4400 test loss     : 3393.020744106644\n",
      "4500 test accuracy : 0.349\n",
      "4500 test loss     : 3424.7419891268564\n",
      "4600 test accuracy : 0.35\n",
      "4600 test loss     : 3461.0142664605487\n",
      "4700 test accuracy : 0.349\n",
      "4700 test loss     : 3502.510738080539\n",
      "4800 test accuracy : 0.352\n",
      "4800 test loss     : 3534.650187512401\n",
      "4900 test accuracy : 0.347\n",
      "4900 test loss     : 3564.654034618073\n"
     ]
    }
   ],
   "source": [
    "history = {'val_acc': [],'val_loss': []} #기록해서 그림 그리자!\n",
    "\n",
    "#코드를 보며 epoch, batch에 대해서 이해해봅시다.\n",
    "for i in range(epoch_size):\n",
    "    for j in range(N//batch_size):\n",
    "        batch_mask = np.random.choice(N, batch_size) #이번 배치에서 쓸 데이터들 인덱스 추출\n",
    "        x_batch = x_train[batch_mask]\n",
    "        t_batch = y_train[batch_mask]\n",
    "        \n",
    "        nn.backward(x_batch, t_batch, 1e-7) # 가중치 갱신\n",
    "    \n",
    "    #accuracy와 loss를 기록해둡시다.\n",
    "    history[\"val_acc\"].append(nn.accuracy(x_test, y_test))\n",
    "    history[\"val_loss\"].append(nn.forward(x_test, y_test))\n",
    "    \n",
    "    if i % 100 == 0:\n",
    "        print(i, \"test accuracy :\", nn.accuracy(x_test, y_test))\n",
    "        print(i, \"test loss     :\", nn.forward(x_test, y_test))"
   ]
  },
  {
   "cell_type": "markdown",
   "metadata": {},
   "source": [
    "### 그림 그리기"
   ]
  },
  {
   "cell_type": "code",
   "execution_count": 19,
   "metadata": {},
   "outputs": [
    {
     "data": {
      "image/png": "[encoded data removed]",
      "text/plain": [
       "<Figure size 432x288 with 2 Axes>"
      ]
     },
     "metadata": {
      "needs_background": "light"
     },
     "output_type": "display_data"
    },
    {
     "name": "stdout",
     "output_type": "stream",
     "text": [
      "나의 최고 validation loss :  0.431\n"
     ]
    }
   ],
   "source": [
    "fig = plt.figure()\n",
    "ax_acc = fig.add_subplot(111)\n",
    "\n",
    "ax_acc.plot(range(epoch_size), history['val_acc'], label='정확도(%)', color='darkred')\n",
    "#plt.text(3, 14.7, \"<----------------정확도(%)\", verticalalignment='top', horizontalalignment='right')\n",
    "plt.xlabel('epochs')\n",
    "plt.ylabel('Validation Accuracy(%)')\n",
    "ax_acc.grid(linestyle='--', color='lavender')\n",
    "ax_loss = ax_acc.twinx()\n",
    "ax_loss.plot(range(epoch_size), history['val_loss'], label='오차', color='darkblue')\n",
    "#plt.text(3, 2.2, \"<----------------오차\", verticalalignment='top', horizontalalignment='left')\n",
    "plt.ylabel('Validation Error')\n",
    "ax_loss.yaxis.tick_right()\n",
    "ax_loss.grid(linestyle='--', color='lavender')\n",
    "\n",
    "# 그래프 표시\n",
    "plt.show()\n",
    "\n",
    "# 나의 최고 validation accuracy는? 두구두구~\n",
    "print(\"나의 최고 validation loss : \",max(history['val_acc']))"
   ]
  },
  {
   "cell_type": "code",
   "execution_count": null,
   "metadata": {},
   "outputs": [],
   "source": []
  }
 ],
 "metadata": {
  "kernelspec": {
   "display_name": "Python 3",
   "language": "python",
   "name": "python3"
  },
  "language_info": {
   "codemirror_mode": {
    "name": "ipython",
    "version": 3
   },
   "file_extension": ".py",
   "mimetype": "text/x-python",
   "name": "python",
   "nbconvert_exporter": "python",
   "pygments_lexer": "ipython3",
   "version": "3.7.6"
  }
 },
 "nbformat": 4,
 "nbformat_minor": 2
}
