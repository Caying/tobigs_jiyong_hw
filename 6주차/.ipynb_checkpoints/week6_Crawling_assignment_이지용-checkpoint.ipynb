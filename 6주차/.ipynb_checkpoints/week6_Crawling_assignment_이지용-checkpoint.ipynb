{
 "cells": [
  {
   "cell_type": "markdown",
   "metadata": {},
   "source": [
    "# 과제: 네이버 영화 정보 및 평점 크롤링"
   ]
  },
  {
   "cell_type": "markdown",
   "metadata": {},
   "source": [
    "- 대상: 예매순 상위 5개의 현재 상영 중인 영화\n",
    "- 수집할 항목: 영화 제목, 주연배우 3인, 네티즌 평점, 관람객 평점, 기자/평론가 평점, 관람객 별점 리뷰 20건 공감순으로(평점, 작성자닉네임, 리뷰본문)"
   ]
  },
  {
   "cell_type": "markdown",
   "metadata": {},
   "source": [
    "라이브러리 호출"
   ]
  },
  {
   "cell_type": "code",
   "execution_count": 1,
   "metadata": {},
   "outputs": [],
   "source": [
    "import requests\n",
    "from bs4 import BeautifulSoup\n",
    "import re"
   ]
  },
  {
   "cell_type": "markdown",
   "metadata": {},
   "source": [
    "### 1. 예매순 상위 5개의 현재 상영 중인 영화 가져오기"
   ]
  },
  {
   "cell_type": "markdown",
   "metadata": {},
   "source": [
    "영화 검색을 위한 5개의 영화 코드 리스트를 저장한다."
   ]
  },
  {
   "cell_type": "code",
   "execution_count": 2,
   "metadata": {},
   "outputs": [],
   "source": [
    "def get_movie_codes():\n",
    "    codes = []                        #코드를 저장할 리스트\n",
    "    \n",
    "    url = 'https://movie.naver.com/movie/running/current.nhn'\n",
    "    res = requests.get(url)\n",
    "    html = res.text\n",
    "    soup = BeautifulSoup(html, 'html.parser')\n",
    "    \n",
    "    i = 0\n",
    "    for tag in soup.find('ul', class_='lst_detail_t1').find_all('li'):\n",
    "        codes.append(tag.find('a').get('href')[28:])\n",
    "        i += 1\n",
    "        if i == 5 :\n",
    "            break\n",
    "    \n",
    "    return codes"
   ]
  },
  {
   "cell_type": "code",
   "execution_count": 3,
   "metadata": {},
   "outputs": [
    {
     "data": {
      "text/plain": [
       "['179181', '186821', '187321', '186613', '181925']"
      ]
     },
     "execution_count": 3,
     "metadata": {},
     "output_type": "execute_result"
    }
   ],
   "source": [
    "codes = get_movie_codes()\n",
    "codes"
   ]
  },
  {
   "cell_type": "markdown",
   "metadata": {},
   "source": [
    "### 2. 영화 제목 가져오기"
   ]
  },
  {
   "cell_type": "code",
   "execution_count": 4,
   "metadata": {},
   "outputs": [],
   "source": [
    "def get_title(code):\n",
    "    url = \"https://movie.naver.com/movie/bi/mi/basic.nhn?code=\" + code\n",
    "    res = requests.get(url)\n",
    "    html = res.text\n",
    "    soup = BeautifulSoup(html, 'html.parser')\n",
    "    \n",
    "    title = soup.find('h3', class_='h_movie').find('a').text\n",
    "    return title"
   ]
  },
  {
   "cell_type": "code",
   "execution_count": 5,
   "metadata": {},
   "outputs": [
    {
     "data": {
      "text/plain": [
       "'작은 아씨들'"
      ]
     },
     "execution_count": 5,
     "metadata": {},
     "output_type": "execute_result"
    }
   ],
   "source": [
    "get_title(\"186613\")"
   ]
  },
  {
   "cell_type": "markdown",
   "metadata": {},
   "source": [
    "### 3. 출연진 3명 가져오기"
   ]
  },
  {
   "cell_type": "code",
   "execution_count": 6,
   "metadata": {},
   "outputs": [],
   "source": [
    "def get_actor(code):\n",
    "    url = \"https://movie.naver.com/movie/bi/mi/basic.nhn?code=\" + code\n",
    "    res = requests.get(url)\n",
    "    html = res.text\n",
    "    soup = BeautifulSoup(html, 'html.parser')\n",
    "    \n",
    "    people = soup.find(\"div\", class_=\"people\").find_all('a', class_='tx_people')\n",
    "    actor = []\n",
    "    for i in range(1,4) :\n",
    "        actor.append(people[i].text)\n",
    "    \n",
    "    return actor"
   ]
  },
  {
   "cell_type": "code",
   "execution_count": 7,
   "metadata": {
    "scrolled": true
   },
   "outputs": [
    {
     "data": {
      "text/plain": [
       "['조지 맥케이', '딘-찰스 채프먼', '콜린 퍼스']"
      ]
     },
     "execution_count": 7,
     "metadata": {},
     "output_type": "execute_result"
    }
   ],
   "source": [
    "get_actor(\"187321\")"
   ]
  },
  {
   "cell_type": "markdown",
   "metadata": {},
   "source": [
    "### 4. 평점 가져오기"
   ]
  },
  {
   "cell_type": "code",
   "execution_count": 8,
   "metadata": {},
   "outputs": [],
   "source": [
    "def get_grade(code):\n",
    "    url = \"https://movie.naver.com/movie/bi/mi/basic.nhn?code=\" + code\n",
    "    res = requests.get(url)\n",
    "    html = res.text\n",
    "    soup = BeautifulSoup(html, 'html.parser')\n",
    "    \n",
    "    grade = {\"audience_grade\" : \"\",\n",
    "             \"critic_grade\" : \"\",\n",
    "             \"netizen_grade\" : \"\"\n",
    "            }\n",
    "    \n",
    "    grades = []\n",
    "    i = 0\n",
    "    for tx in soup.find_all('div', class_='star_score'):\n",
    "        num = \"\"\n",
    "        for em in tx.find_all('em'):\n",
    "            num += em.text\n",
    "        grades.append(num)\n",
    "        i += 1\n",
    "        if i == 3 :\n",
    "            break\n",
    "    grade[\"audience_grade\"] = grades[0]\n",
    "    grade[\"critic_grade\"] = grades[1]\n",
    "    grade[\"netizen_grade\"] = grades[2]\n",
    "    \n",
    "    return grade"
   ]
  },
  {
   "cell_type": "code",
   "execution_count": 9,
   "metadata": {},
   "outputs": [
    {
     "data": {
      "text/plain": [
       "{'audience_grade': '9.40', 'critic_grade': '7.67', 'netizen_grade': '9.02'}"
      ]
     },
     "execution_count": 9,
     "metadata": {},
     "output_type": "execute_result"
    }
   ],
   "source": [
    "get_grade(\"187321\")"
   ]
  },
  {
   "cell_type": "markdown",
   "metadata": {},
   "source": [
    "### 5. 관람객 평점 공감순 20건 가져오기"
   ]
  },
  {
   "cell_type": "code",
   "execution_count": 10,
   "metadata": {},
   "outputs": [],
   "source": [
    "def get_reviews(code):\n",
    "    reviews = []\n",
    "    for i in range(1,3) :\n",
    "        url = \"https://movie.naver.com/movie/bi/mi/pointWriteFormList.nhn?code=\" + code + \\\n",
    "              \"&type=after&isActualPointWriteExecute=false&isMileageSubscriptionAlready=false&isMileageSubscriptionReject=false&page=\" + str(i)\n",
    "        res = requests.get(url)\n",
    "        html = res.text\n",
    "        soup = BeautifulSoup(html, 'html.parser')\n",
    "        \n",
    "        for review in soup.find('div', class_=\"score_result\").find_all(\"li\") :\n",
    "            grade = review.find('em').text\n",
    "            user_id = review.find('div', class_='score_reple').find('dl').find('span').text\n",
    "            comment = review.find('div', class_='score_reple').find('p').text.strip()\n",
    "            reviews.append({'grade' : grade, 'user_id' : user_id, 'comment' : comment})\n",
    "    return reviews"
   ]
  },
  {
   "cell_type": "code",
   "execution_count": 11,
   "metadata": {},
   "outputs": [
    {
     "data": {
      "text/plain": [
       "[{'grade': '10',\n",
       "  'user_id': 'bohemian(mabu****)',\n",
       "  'comment': '난 전도연의 화류계 캐릭터가 좋다. 무뢰한, 너는 내 운명, 카운트다운...그리고 지푸라기'},\n",
       " {'grade': '10',\n",
       "  'user_id': '최정규(cjg4****)',\n",
       "  'comment': '전도연 연기 진짜 오진다...와 이 영화에서 완전 섹시하게 나온다 역시 명불허전임...'},\n",
       " {'grade': '10',\n",
       "  'user_id': '달다(fxko****)',\n",
       "  'comment': '8명의 배우가 모두 주인공 같은 느낌.'},\n",
       " {'grade': '1',\n",
       "  'user_id': '어쩌라고(dpfk****)',\n",
       "  'comment': '아니 개봉당일날 9시 땡하고 부터 평점 쏟아지는게 말이 돼냐? 요즘 조조는 꼭두새벽부터 함? 백번양보해서 시사회때 봤다 쳐도 이렇게나 많이 봤다고? 죄다 똑같은 말투에? 음원이고 영화고 조작질 역겹다 진짜'},\n",
       " {'grade': '9',\n",
       "  'user_id': '써니(tlag****)',\n",
       "  'comment': '개존잼 역시 전도연이죠? 카리스마 미쳐벌여ㅠㅁㅠ'},\n",
       " {'grade': '10',\n",
       "  'user_id': '까칠소녀(oper****)',\n",
       "  'comment': '연출, 연기, 스토리 모두 대박...무조건 보세요.'},\n",
       " {'grade': '9',\n",
       "  'user_id': 'haeunnnnn(0_80****)',\n",
       "  'comment': '관람객\\n\\n\\r\\n\\t\\t\\t\\t\\t\\t\\t\\t\\t\\t\\t\\t\\t\\t\\r\\n\\t\\t\\t\\t\\t\\t\\t\\t\\t\\t\\t\\t\\t\\t\\t\\r\\n\\t\\t\\t\\t\\t\\t\\t\\t\\t\\t\\t\\t\\t\\t\\t\\r\\n\\t\\t\\t\\t\\t\\t\\t\\t\\t\\t\\t\\t\\t\\t\\t\\t진짜 보고싶었던 영환데 드디어 봤습니당 기다린 보람이 있네용ㅋㅋㅋ 등장인물이 많았는데 영화 속에서 잘 풀어낸 것 같아요 강추합니당 !!'},\n",
       " {'grade': '9', 'user_id': 'hojo****', 'comment': '한국식 피칠갑을 한 타란티노 영화'},\n",
       " {'grade': '9',\n",
       "  'user_id': 'Cjin(dlck****)',\n",
       "  'comment': '관람객\\n\\n\\r\\n\\t\\t\\t\\t\\t\\t\\t\\t\\t\\t\\t\\t\\t\\t\\r\\n\\t\\t\\t\\t\\t\\t\\t\\t\\t\\t\\t\\t\\t\\t\\t\\r\\n\\t\\t\\t\\t\\t\\t\\t\\t\\t\\t\\t\\t\\t\\t\\t\\r\\n\\t\\t\\t\\t\\t\\t\\t\\t\\t\\t\\t\\t\\t\\t\\t\\t연기오지고 스릴오지고'},\n",
       " {'grade': '10',\n",
       "  'user_id': 'trau****',\n",
       "  'comment': '스토리가 짱짱하네요~ 심리적인 긴장감을 잘 살린 영화인것 같네요~ 인기좀 끌듯...'},\n",
       " {'grade': '10',\n",
       "  'user_id': '꽁끼(bamb****)',\n",
       "  'comment': '관람객\\n\\n\\r\\n\\t\\t\\t\\t\\t\\t\\t\\t\\t\\t\\t\\t\\t\\t\\r\\n\\t\\t\\t\\t\\t\\t\\t\\t\\t\\t\\t\\t\\t\\t\\t\\r\\n\\t\\t\\t\\t\\t\\t\\t\\t\\t\\t\\t\\t\\t\\t\\t\\r\\n\\t\\t\\t\\t\\t\\t\\t\\t\\t\\t\\t\\t\\t\\t\\t\\t연기 쩐다잉 ,,, 또 보고 싶음 ㅠ'},\n",
       " {'grade': '1',\n",
       "  'user_id': 'osk1****',\n",
       "  'comment': '방금 보고 왔는데 지금 심정이 지푸라기라도 잡고 싶은 심정이다'},\n",
       " {'grade': '10',\n",
       "  'user_id': 'Linus(getu****)',\n",
       "  'comment': '전도연을 위한, 전도연에 의한 영화! 데뷔작이라고는 믿을수 없는 연출력에놀랐다~'},\n",
       " {'grade': '10',\n",
       "  'user_id': 'myd5q3ji7(i2g1****)',\n",
       "  'comment': '이 캐스팅 너무 마음에 든다.영화보고나서도 할말이 많아지는 영화'},\n",
       " {'grade': '9',\n",
       "  'user_id': '파리투나잇(lgxe****)',\n",
       "  'comment': '솔직히 이 영화 돈주고 볼만합니다ㅎㅎ'},\n",
       " {'grade': '1',\n",
       "  'user_id': 'DooGi(vxor****)',\n",
       "  'comment': '영화 보는 내내 제발 한순간만이라도 재미있는 장면 나오길 지푸라기 잡는 심정으로 봤는데 없음'},\n",
       " {'grade': '10',\n",
       "  'user_id': '시무룩(simu****)',\n",
       "  'comment': '관람객\\n\\n\\r\\n\\t\\t\\t\\t\\t\\t\\t\\t\\t\\t\\t\\t\\t\\t\\r\\n\\t\\t\\t\\t\\t\\t\\t\\t\\t\\t\\t\\t\\t\\t\\t\\r\\n\\t\\t\\t\\t\\t\\t\\t\\t\\t\\t\\t\\t\\t\\t\\t\\r\\n\\t\\t\\t\\t\\t\\t\\t\\t\\t\\t\\t\\t\\t\\t\\t\\t전도연 등장하자마자 걍 스크린 장악함ㅋㅋㅋㅋ역시 전도연이 선택한 작품은 안보고 넘어갈 수 없지'},\n",
       " {'grade': '9',\n",
       "  'user_id': '히피아(whdt****)',\n",
       "  'comment': '다들너무연기를잘하고일단 이런 스토리탄탄한영화 오랜만이네요 굿굿구성도재밋고'},\n",
       " {'grade': '7',\n",
       "  'user_id': '할렘(upge****)',\n",
       "  'comment': '관람객\\n\\n\\r\\n\\t\\t\\t\\t\\t\\t\\t\\t\\t\\t\\t\\t\\t\\t\\r\\n\\t\\t\\t\\t\\t\\t\\t\\t\\t\\t\\t\\t\\t\\t\\t\\r\\n\\t\\t\\t\\t\\t\\t\\t\\t\\t\\t\\t\\t\\t\\t\\t\\r\\n\\t\\t\\t\\t\\t\\t\\t\\t\\t\\t\\t\\t\\t\\t\\t\\t갖은 재료 다 집어넣었는데 왜 맛이 안나지?'},\n",
       " {'grade': '10', 'user_id': 'nu(zkkb****)', 'comment': '인정할 수 밖에 없는 영화'}]"
      ]
     },
     "execution_count": 11,
     "metadata": {},
     "output_type": "execute_result"
    }
   ],
   "source": [
    "get_reviews(\"179181\")"
   ]
  },
  {
   "cell_type": "markdown",
   "metadata": {},
   "source": [
    "### 6. 영화별 내용 저장"
   ]
  },
  {
   "cell_type": "code",
   "execution_count": 12,
   "metadata": {},
   "outputs": [],
   "source": [
    "def dict_movie_contents(code):\n",
    "    movie = {'title' : \"\", \n",
    "             'actor' : [], \n",
    "             'grade' : {},\n",
    "             'reviews' : []\n",
    "            }\n",
    "    \n",
    "    # 영화 제목, 출연진 3명, 평점 가져오기\n",
    "    movie['title'] = get_title(code)\n",
    "    movie['actor'] = get_actor(code)\n",
    "    movie['grade'] = get_grade(code)\n",
    "    \n",
    "    # 리뷰 20건 가져오기\n",
    "    movie['reviews'] = get_reviews(code)\n",
    "    \n",
    "    return movie"
   ]
  },
  {
   "cell_type": "code",
   "execution_count": 13,
   "metadata": {},
   "outputs": [
    {
     "data": {
      "text/plain": [
       "{'title': '지푸라기라도 잡고 싶은 짐승들',\n",
       " 'actor': ['전도연', '정우성', '배성우'],\n",
       " 'grade': {'audience_grade': '8.67',\n",
       "  'critic_grade': '6.71',\n",
       "  'netizen_grade': '7.17'},\n",
       " 'reviews': [{'grade': '10',\n",
       "   'user_id': 'bohemian(mabu****)',\n",
       "   'comment': '난 전도연의 화류계 캐릭터가 좋다. 무뢰한, 너는 내 운명, 카운트다운...그리고 지푸라기'},\n",
       "  {'grade': '10',\n",
       "   'user_id': '최정규(cjg4****)',\n",
       "   'comment': '전도연 연기 진짜 오진다...와 이 영화에서 완전 섹시하게 나온다 역시 명불허전임...'},\n",
       "  {'grade': '10',\n",
       "   'user_id': '달다(fxko****)',\n",
       "   'comment': '8명의 배우가 모두 주인공 같은 느낌.'},\n",
       "  {'grade': '1',\n",
       "   'user_id': '어쩌라고(dpfk****)',\n",
       "   'comment': '아니 개봉당일날 9시 땡하고 부터 평점 쏟아지는게 말이 돼냐? 요즘 조조는 꼭두새벽부터 함? 백번양보해서 시사회때 봤다 쳐도 이렇게나 많이 봤다고? 죄다 똑같은 말투에? 음원이고 영화고 조작질 역겹다 진짜'},\n",
       "  {'grade': '9',\n",
       "   'user_id': '써니(tlag****)',\n",
       "   'comment': '개존잼 역시 전도연이죠? 카리스마 미쳐벌여ㅠㅁㅠ'},\n",
       "  {'grade': '10',\n",
       "   'user_id': '까칠소녀(oper****)',\n",
       "   'comment': '연출, 연기, 스토리 모두 대박...무조건 보세요.'},\n",
       "  {'grade': '9',\n",
       "   'user_id': 'haeunnnnn(0_80****)',\n",
       "   'comment': '관람객\\n\\n\\r\\n\\t\\t\\t\\t\\t\\t\\t\\t\\t\\t\\t\\t\\t\\t\\r\\n\\t\\t\\t\\t\\t\\t\\t\\t\\t\\t\\t\\t\\t\\t\\t\\r\\n\\t\\t\\t\\t\\t\\t\\t\\t\\t\\t\\t\\t\\t\\t\\t\\r\\n\\t\\t\\t\\t\\t\\t\\t\\t\\t\\t\\t\\t\\t\\t\\t\\t진짜 보고싶었던 영환데 드디어 봤습니당 기다린 보람이 있네용ㅋㅋㅋ 등장인물이 많았는데 영화 속에서 잘 풀어낸 것 같아요 강추합니당 !!'},\n",
       "  {'grade': '9', 'user_id': 'hojo****', 'comment': '한국식 피칠갑을 한 타란티노 영화'},\n",
       "  {'grade': '9',\n",
       "   'user_id': 'Cjin(dlck****)',\n",
       "   'comment': '관람객\\n\\n\\r\\n\\t\\t\\t\\t\\t\\t\\t\\t\\t\\t\\t\\t\\t\\t\\r\\n\\t\\t\\t\\t\\t\\t\\t\\t\\t\\t\\t\\t\\t\\t\\t\\r\\n\\t\\t\\t\\t\\t\\t\\t\\t\\t\\t\\t\\t\\t\\t\\t\\r\\n\\t\\t\\t\\t\\t\\t\\t\\t\\t\\t\\t\\t\\t\\t\\t\\t연기오지고 스릴오지고'},\n",
       "  {'grade': '10',\n",
       "   'user_id': 'trau****',\n",
       "   'comment': '스토리가 짱짱하네요~ 심리적인 긴장감을 잘 살린 영화인것 같네요~ 인기좀 끌듯...'},\n",
       "  {'grade': '10',\n",
       "   'user_id': '꽁끼(bamb****)',\n",
       "   'comment': '관람객\\n\\n\\r\\n\\t\\t\\t\\t\\t\\t\\t\\t\\t\\t\\t\\t\\t\\t\\r\\n\\t\\t\\t\\t\\t\\t\\t\\t\\t\\t\\t\\t\\t\\t\\t\\r\\n\\t\\t\\t\\t\\t\\t\\t\\t\\t\\t\\t\\t\\t\\t\\t\\r\\n\\t\\t\\t\\t\\t\\t\\t\\t\\t\\t\\t\\t\\t\\t\\t\\t연기 쩐다잉 ,,, 또 보고 싶음 ㅠ'},\n",
       "  {'grade': '1',\n",
       "   'user_id': 'osk1****',\n",
       "   'comment': '방금 보고 왔는데 지금 심정이 지푸라기라도 잡고 싶은 심정이다'},\n",
       "  {'grade': '10',\n",
       "   'user_id': 'Linus(getu****)',\n",
       "   'comment': '전도연을 위한, 전도연에 의한 영화! 데뷔작이라고는 믿을수 없는 연출력에놀랐다~'},\n",
       "  {'grade': '10',\n",
       "   'user_id': 'myd5q3ji7(i2g1****)',\n",
       "   'comment': '이 캐스팅 너무 마음에 든다.영화보고나서도 할말이 많아지는 영화'},\n",
       "  {'grade': '9',\n",
       "   'user_id': '파리투나잇(lgxe****)',\n",
       "   'comment': '솔직히 이 영화 돈주고 볼만합니다ㅎㅎ'},\n",
       "  {'grade': '1',\n",
       "   'user_id': 'DooGi(vxor****)',\n",
       "   'comment': '영화 보는 내내 제발 한순간만이라도 재미있는 장면 나오길 지푸라기 잡는 심정으로 봤는데 없음'},\n",
       "  {'grade': '10',\n",
       "   'user_id': '시무룩(simu****)',\n",
       "   'comment': '관람객\\n\\n\\r\\n\\t\\t\\t\\t\\t\\t\\t\\t\\t\\t\\t\\t\\t\\t\\r\\n\\t\\t\\t\\t\\t\\t\\t\\t\\t\\t\\t\\t\\t\\t\\t\\r\\n\\t\\t\\t\\t\\t\\t\\t\\t\\t\\t\\t\\t\\t\\t\\t\\r\\n\\t\\t\\t\\t\\t\\t\\t\\t\\t\\t\\t\\t\\t\\t\\t\\t전도연 등장하자마자 걍 스크린 장악함ㅋㅋㅋㅋ역시 전도연이 선택한 작품은 안보고 넘어갈 수 없지'},\n",
       "  {'grade': '9',\n",
       "   'user_id': '히피아(whdt****)',\n",
       "   'comment': '다들너무연기를잘하고일단 이런 스토리탄탄한영화 오랜만이네요 굿굿구성도재밋고'},\n",
       "  {'grade': '7',\n",
       "   'user_id': '할렘(upge****)',\n",
       "   'comment': '관람객\\n\\n\\r\\n\\t\\t\\t\\t\\t\\t\\t\\t\\t\\t\\t\\t\\t\\t\\r\\n\\t\\t\\t\\t\\t\\t\\t\\t\\t\\t\\t\\t\\t\\t\\t\\r\\n\\t\\t\\t\\t\\t\\t\\t\\t\\t\\t\\t\\t\\t\\t\\t\\r\\n\\t\\t\\t\\t\\t\\t\\t\\t\\t\\t\\t\\t\\t\\t\\t\\t갖은 재료 다 집어넣었는데 왜 맛이 안나지?'},\n",
       "  {'grade': '10', 'user_id': 'nu(zkkb****)', 'comment': '인정할 수 밖에 없는 영화'}]}"
      ]
     },
     "execution_count": 13,
     "metadata": {},
     "output_type": "execute_result"
    }
   ],
   "source": [
    "dict_movie_contents(\"179181\")"
   ]
  },
  {
   "cell_type": "markdown",
   "metadata": {},
   "source": [
    "### 7. 파일 저장하기"
   ]
  },
  {
   "cell_type": "code",
   "execution_count": 14,
   "metadata": {},
   "outputs": [],
   "source": [
    "#json, txt, html 형식 중 선택 가능\n",
    "def save(file_name = \"movies\", save_type = \"json\"):\n",
    "    # 1차 저장 (list 형태)\n",
    "    movies = []\n",
    "     \n",
    "    # 상위 5개 영화 코드 불러오기\n",
    "    codes = get_movie_codes()\n",
    "    \n",
    "    for code in codes :\n",
    "        movies.append(dict_movie_contents(code))\n",
    "    \n",
    "    if save_type == \"json\":\n",
    "        file = file_name + \".json\"\n",
    "        f = open(file, 'w')\n",
    "        f.write(str(movies))\n",
    "    \n",
    "    elif save_type == \"txt\":\n",
    "        file = file_name + \".txt\"\n",
    "        f = open(file, 'w')\n",
    "        f.write(str(movies))\n",
    "    \n",
    "    elif save_type == \"html\":\n",
    "        file = file_na,e"
   ]
  },
  {
   "cell_type": "code",
   "execution_count": 15,
   "metadata": {},
   "outputs": [],
   "source": [
    "save()"
   ]
  },
  {
   "cell_type": "code",
   "execution_count": null,
   "metadata": {},
   "outputs": [],
   "source": []
  }
 ],
 "metadata": {
  "kernelspec": {
   "display_name": "Python 3",
   "language": "python",
   "name": "python3"
  },
  "language_info": {
   "codemirror_mode": {
    "name": "ipython",
    "version": 3
   },
   "file_extension": ".py",
   "mimetype": "text/x-python",
   "name": "python",
   "nbconvert_exporter": "python",
   "pygments_lexer": "ipython3",
   "version": "3.7.6"
  }
 },
 "nbformat": 4,
 "nbformat_minor": 4
}
