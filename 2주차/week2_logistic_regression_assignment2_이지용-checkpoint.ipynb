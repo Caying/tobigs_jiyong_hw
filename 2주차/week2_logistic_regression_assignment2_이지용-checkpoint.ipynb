{
 "cells": [
  {
   "cell_type": "code",
   "execution_count": 1,
   "metadata": {
    "scrolled": false
   },
   "outputs": [
    {
     "data": {
      "text/html": [
       "<div>\n",
       "<style scoped>\n",
       "    .dataframe tbody tr th:only-of-type {\n",
       "        vertical-align: middle;\n",
       "    }\n",
       "\n",
       "    .dataframe tbody tr th {\n",
       "        vertical-align: top;\n",
       "    }\n",
       "\n",
       "    .dataframe thead th {\n",
       "        text-align: right;\n",
       "    }\n",
       "</style>\n",
       "<table border=\"1\" class=\"dataframe\">\n",
       "  <thead>\n",
       "    <tr style=\"text-align: right;\">\n",
       "      <th></th>\n",
       "      <th>Label</th>\n",
       "      <th>bias</th>\n",
       "      <th>experience</th>\n",
       "      <th>salary</th>\n",
       "    </tr>\n",
       "  </thead>\n",
       "  <tbody>\n",
       "    <tr>\n",
       "      <th>0</th>\n",
       "      <td>1</td>\n",
       "      <td>1</td>\n",
       "      <td>0.7</td>\n",
       "      <td>48000</td>\n",
       "    </tr>\n",
       "    <tr>\n",
       "      <th>1</th>\n",
       "      <td>0</td>\n",
       "      <td>1</td>\n",
       "      <td>1.9</td>\n",
       "      <td>48000</td>\n",
       "    </tr>\n",
       "    <tr>\n",
       "      <th>2</th>\n",
       "      <td>1</td>\n",
       "      <td>1</td>\n",
       "      <td>2.5</td>\n",
       "      <td>60000</td>\n",
       "    </tr>\n",
       "    <tr>\n",
       "      <th>3</th>\n",
       "      <td>0</td>\n",
       "      <td>1</td>\n",
       "      <td>4.2</td>\n",
       "      <td>63000</td>\n",
       "    </tr>\n",
       "    <tr>\n",
       "      <th>4</th>\n",
       "      <td>0</td>\n",
       "      <td>1</td>\n",
       "      <td>6.0</td>\n",
       "      <td>76000</td>\n",
       "    </tr>\n",
       "  </tbody>\n",
       "</table>\n",
       "</div>"
      ],
      "text/plain": [
       "   Label  bias  experience  salary\n",
       "0      1     1         0.7   48000\n",
       "1      0     1         1.9   48000\n",
       "2      1     1         2.5   60000\n",
       "3      0     1         4.2   63000\n",
       "4      0     1         6.0   76000"
      ]
     },
     "execution_count": 1,
     "metadata": {},
     "output_type": "execute_result"
    }
   ],
   "source": [
    "import numpy as np\n",
    "import pandas as pd\n",
    "from sklearn.preprocessing import StandardScaler\n",
    "data = pd.read_csv('assignment_2.csv')\n",
    "data.head()"
   ]
  },
  {
   "cell_type": "code",
   "execution_count": 2,
   "metadata": {},
   "outputs": [
    {
     "data": {
      "text/html": [
       "<div>\n",
       "<style scoped>\n",
       "    .dataframe tbody tr th:only-of-type {\n",
       "        vertical-align: middle;\n",
       "    }\n",
       "\n",
       "    .dataframe tbody tr th {\n",
       "        vertical-align: top;\n",
       "    }\n",
       "\n",
       "    .dataframe thead th {\n",
       "        text-align: right;\n",
       "    }\n",
       "</style>\n",
       "<table border=\"1\" class=\"dataframe\">\n",
       "  <thead>\n",
       "    <tr style=\"text-align: right;\">\n",
       "      <th></th>\n",
       "      <th>Label</th>\n",
       "      <th>bias</th>\n",
       "      <th>experience</th>\n",
       "      <th>salary</th>\n",
       "    </tr>\n",
       "  </thead>\n",
       "  <tbody>\n",
       "    <tr>\n",
       "      <th>0</th>\n",
       "      <td>1</td>\n",
       "      <td>1</td>\n",
       "      <td>-1.513249</td>\n",
       "      <td>-1.206602</td>\n",
       "    </tr>\n",
       "    <tr>\n",
       "      <th>1</th>\n",
       "      <td>0</td>\n",
       "      <td>1</td>\n",
       "      <td>-1.090751</td>\n",
       "      <td>-1.206602</td>\n",
       "    </tr>\n",
       "    <tr>\n",
       "      <th>2</th>\n",
       "      <td>1</td>\n",
       "      <td>1</td>\n",
       "      <td>-0.879501</td>\n",
       "      <td>-0.432312</td>\n",
       "    </tr>\n",
       "    <tr>\n",
       "      <th>3</th>\n",
       "      <td>0</td>\n",
       "      <td>1</td>\n",
       "      <td>-0.280962</td>\n",
       "      <td>-0.238739</td>\n",
       "    </tr>\n",
       "    <tr>\n",
       "      <th>4</th>\n",
       "      <td>0</td>\n",
       "      <td>1</td>\n",
       "      <td>0.352786</td>\n",
       "      <td>0.600075</td>\n",
       "    </tr>\n",
       "    <tr>\n",
       "      <th>...</th>\n",
       "      <td>...</td>\n",
       "      <td>...</td>\n",
       "      <td>...</td>\n",
       "      <td>...</td>\n",
       "    </tr>\n",
       "    <tr>\n",
       "      <th>195</th>\n",
       "      <td>0</td>\n",
       "      <td>1</td>\n",
       "      <td>0.528827</td>\n",
       "      <td>1.116268</td>\n",
       "    </tr>\n",
       "    <tr>\n",
       "      <th>196</th>\n",
       "      <td>0</td>\n",
       "      <td>1</td>\n",
       "      <td>0.669660</td>\n",
       "      <td>0.406502</td>\n",
       "    </tr>\n",
       "    <tr>\n",
       "      <th>197</th>\n",
       "      <td>0</td>\n",
       "      <td>1</td>\n",
       "      <td>0.035912</td>\n",
       "      <td>0.341978</td>\n",
       "    </tr>\n",
       "    <tr>\n",
       "      <th>198</th>\n",
       "      <td>1</td>\n",
       "      <td>1</td>\n",
       "      <td>1.444241</td>\n",
       "      <td>0.148406</td>\n",
       "    </tr>\n",
       "    <tr>\n",
       "      <th>199</th>\n",
       "      <td>1</td>\n",
       "      <td>1</td>\n",
       "      <td>1.690699</td>\n",
       "      <td>0.793647</td>\n",
       "    </tr>\n",
       "  </tbody>\n",
       "</table>\n",
       "<p>200 rows × 4 columns</p>\n",
       "</div>"
      ],
      "text/plain": [
       "     Label  bias  experience    salary\n",
       "0        1     1   -1.513249 -1.206602\n",
       "1        0     1   -1.090751 -1.206602\n",
       "2        1     1   -0.879501 -0.432312\n",
       "3        0     1   -0.280962 -0.238739\n",
       "4        0     1    0.352786  0.600075\n",
       "..     ...   ...         ...       ...\n",
       "195      0     1    0.528827  1.116268\n",
       "196      0     1    0.669660  0.406502\n",
       "197      0     1    0.035912  0.341978\n",
       "198      1     1    1.444241  0.148406\n",
       "199      1     1    1.690699  0.793647\n",
       "\n",
       "[200 rows x 4 columns]"
      ]
     },
     "execution_count": 2,
     "metadata": {},
     "output_type": "execute_result"
    }
   ],
   "source": [
    "bias = data[\"bias\"]\n",
    "Label = data[\"Label\"]\n",
    "scaler = StandardScaler() # Scaling\n",
    "df_new = pd.DataFrame(scaler.fit_transform(data), columns = data.columns)\n",
    "df_new[\"bias\"] = bias\n",
    "df_new[\"Label\"] = Label\n",
    "df_new"
   ]
  },
  {
   "cell_type": "markdown",
   "metadata": {},
   "source": [
    "## sigmoid"
   ]
  },
  {
   "cell_type": "code",
   "execution_count": 3,
   "metadata": {},
   "outputs": [],
   "source": [
    "import random"
   ]
  },
  {
   "cell_type": "code",
   "execution_count": 4,
   "metadata": {},
   "outputs": [
    {
     "data": {
      "text/plain": [
       "array([0.84097461, 0.30519745, 0.24660556])"
      ]
     },
     "execution_count": 4,
     "metadata": {},
     "output_type": "execute_result"
    }
   ],
   "source": [
    "y = np.array(df_new[\"Label\"])\n",
    "x = np.array(df_new[[\"bias\", \"experience\", \"salary\"]])\n",
    "beta = np.array([random.random(), random.random(), random.random()]) # beta 초기화\n",
    "beta"
   ]
  },
  {
   "cell_type": "code",
   "execution_count": 5,
   "metadata": {
    "scrolled": true
   },
   "outputs": [
    {
     "data": {
      "text/plain": [
       "0.5203836806627095"
      ]
     },
     "execution_count": 5,
     "metadata": {},
     "output_type": "execute_result"
    }
   ],
   "source": [
    "def sigmoid(x, beta) :\n",
    "    multiplier = 0\n",
    "    for i in range(x.size):\n",
    "        multiplier += x[i]*beta[i]\n",
    "    p = 1.0/(1.0+np.exp(-multiplier))\n",
    "    return p\n",
    "sigmoid(x[0], beta)"
   ]
  },
  {
   "cell_type": "markdown",
   "metadata": {},
   "source": [
    "## log likelihood"
   ]
  },
  {
   "cell_type": "code",
   "execution_count": 6,
   "metadata": {},
   "outputs": [
    {
     "data": {
      "text/plain": [
       "-199.54634079738935"
      ]
     },
     "execution_count": 6,
     "metadata": {},
     "output_type": "execute_result"
    }
   ],
   "source": [
    "def lg_likelihood(x, y, beta) :\n",
    "    log_p_hat = 0\n",
    "    for i in range(y.size) :\n",
    "        p = sigmoid(x[i], beta)\n",
    "        log_p_hat += y[i]*np.log(p) + (1-y[i])*np.log(1-p)\n",
    "        \n",
    "    return log_p_hat\n",
    "lg_likelihood(x, y, beta)"
   ]
  },
  {
   "cell_type": "code",
   "execution_count": 7,
   "metadata": {
    "scrolled": true
   },
   "outputs": [
    {
     "data": {
      "text/plain": [
       "-0.653188892053965"
      ]
     },
     "execution_count": 7,
     "metadata": {},
     "output_type": "execute_result"
    }
   ],
   "source": [
    "#개별 likelihood\n",
    "def lg_likelihood_i(x, y, beta, j) :\n",
    "    p_hat = 0\n",
    "    p = sigmoid(x[j], beta)\n",
    "    p_hat += y[j]*np.log(p) + (1-y[j])*np.log(1-p)\n",
    "    return p_hat\n",
    "lg_likelihood_i(x, y, beta, 0)"
   ]
  },
  {
   "cell_type": "markdown",
   "metadata": {},
   "source": [
    "## gradient Descent"
   ]
  },
  {
   "cell_type": "code",
   "execution_count": 8,
   "metadata": {},
   "outputs": [
    {
     "data": {
      "text/plain": [
       "array([-0.42797432,  0.00469349, -0.18435303])"
      ]
     },
     "execution_count": 8,
     "metadata": {},
     "output_type": "execute_result"
    }
   ],
   "source": [
    "# gradients 한 번 구하기\n",
    "def get_gradients(x, y, beta):\n",
    "    gradients = []\n",
    "    \n",
    "    for i in range(x[0].size) :\n",
    "        gradient = 0            # 각 계수별 기울기\n",
    "        for j in range(y.size) :\n",
    "            p = sigmoid(x[j], beta)\n",
    "            gradient += (y[j] - p)*x[j][i] # MLE 편미분\n",
    "            \n",
    "        gradient = gradient/y.size\n",
    "        gradients.append(gradient)\n",
    "    \n",
    "    gradients = np.array(gradients)\n",
    "    \n",
    "    return gradients\n",
    "\n",
    "gradients = np.array(get_gradients(x, y, beta))\n",
    "gradients"
   ]
  },
  {
   "cell_type": "code",
   "execution_count": 9,
   "metadata": {},
   "outputs": [],
   "source": [
    "def step(beta, gradients, stepsize=np.array([0.01,0.01,0.01])) :\n",
    "    beta = beta + stepsize*gradients\n",
    "    return beta"
   ]
  },
  {
   "cell_type": "code",
   "execution_count": 10,
   "metadata": {},
   "outputs": [
    {
     "data": {
      "text/plain": [
       "array([0.83669487, 0.30524439, 0.24476203])"
      ]
     },
     "execution_count": 10,
     "metadata": {},
     "output_type": "execute_result"
    }
   ],
   "source": [
    "step(beta, gradients)"
   ]
  },
  {
   "cell_type": "code",
   "execution_count": 11,
   "metadata": {},
   "outputs": [],
   "source": [
    "def gradientDescent(x, y, beta, max_cycle = 200000, tolerance = 0.000001, stepsize=np.array([0.05,0.05,0.05])) :\n",
    "    theta_0 = beta\n",
    "    i = 0\n",
    "    cost = lg_likelihood(x, y, theta_0)/y.size\n",
    "    gradients = np.array([])\n",
    "    while i < max_cycle:\n",
    "        gradients = get_gradients(x, y, theta_0)\n",
    "        theta = step(theta_0, gradients, stepsize)\n",
    "        temp = theta_0 - theta\n",
    "        theta_0 = theta\n",
    "        \n",
    "        if i % 1000 == 0:\n",
    "            print(gradients)\n",
    "            #print(theta_0)\n",
    "            #print(theta)\n",
    "            #print(np.abs(temp.sum()))\n",
    "        if np.abs(temp.sum()) < tolerance :\n",
    "            print(\"stop\")\n",
    "            break\n",
    "        i += 1\n",
    "    return theta_0"
   ]
  },
  {
   "cell_type": "code",
   "execution_count": 12,
   "metadata": {},
   "outputs": [
    {
     "data": {
      "text/plain": [
       "1.3927776281634703"
      ]
     },
     "execution_count": 12,
     "metadata": {},
     "output_type": "execute_result"
    }
   ],
   "source": [
    "beta.sum()"
   ]
  },
  {
   "cell_type": "code",
   "execution_count": 13,
   "metadata": {},
   "outputs": [
    {
     "name": "stdout",
     "output_type": "stream",
     "text": [
      "[-0.42797432  0.00469349 -0.18435303]\n",
      "[-0.00652796  0.02264731 -0.02227141]\n",
      "[-0.00362676  0.01129033 -0.01103248]\n",
      "[-0.00229338  0.00690005 -0.00671594]\n",
      "[-0.00155681  0.00460733 -0.00447263]\n",
      "[-0.00110141  0.00322843 -0.00312831]\n",
      "[-0.00079983  0.00233006 -0.00225485]\n",
      "[-0.00059105  0.00171469 -0.00165775]\n",
      "[-0.00044211  0.00127883 -0.00123548]\n",
      "[-0.00033358  0.00096287 -0.00092974]\n",
      "[-0.0002533   0.00072999 -0.00070459]\n",
      "[-0.00019324  0.00055626 -0.00053674]\n",
      "[-0.00014794  0.00042549 -0.00041046]\n",
      "[-0.00011356  0.0003264  -0.00031481]\n",
      "[-8.73451510e-05  2.50924602e-04 -2.41985276e-04]\n",
      "[-6.72851589e-05  1.93222496e-04 -1.86319107e-04]\n",
      "[-5.18930987e-05  1.48977534e-04 -1.43643194e-04]\n",
      "[-4.00581742e-05  1.14975314e-04 -1.10851492e-04]\n",
      "[-3.09437912e-05  8.87997564e-05 -8.56106134e-05]\n",
      "[-2.39159464e-05  6.86227116e-05 -6.61557209e-05]\n",
      "stop\n"
     ]
    },
    {
     "data": {
      "text/plain": [
       "array([-2.11010183,  4.52136754, -4.38941555])"
      ]
     },
     "execution_count": 13,
     "metadata": {},
     "output_type": "execute_result"
    }
   ],
   "source": [
    "beta = gradientDescent(x, y, beta)\n",
    "beta"
   ]
  },
  {
   "cell_type": "code",
   "execution_count": 14,
   "metadata": {},
   "outputs": [
    {
     "data": {
      "text/plain": [
       "-57.47849341486427"
      ]
     },
     "execution_count": 14,
     "metadata": {},
     "output_type": "execute_result"
    }
   ],
   "source": [
    "lg_likelihood(x, y, beta) # 수렴한 우도"
   ]
  },
  {
   "cell_type": "code",
   "execution_count": 15,
   "metadata": {},
   "outputs": [
    {
     "data": {
      "text/plain": [
       "array([0, 0, 0, 0, 0, 0, 0, 0, 0, 1, 0, 0, 1, 0, 0, 0, 0, 0, 0, 0, 0, 1,\n",
       "       0, 0, 0, 1, 0, 0, 1, 0, 0, 0, 0, 0, 0, 0, 1, 0, 0, 0, 0, 0, 0, 0,\n",
       "       1, 1, 1, 0, 0, 0, 0, 1, 1, 0, 0, 0, 1, 0, 0, 0, 0, 1, 0, 0, 1, 0,\n",
       "       0, 1, 1, 0, 0, 1, 1, 0, 0, 0, 0, 0, 0, 0, 0, 1, 0, 0, 0, 0, 0, 1,\n",
       "       0, 0, 0, 1, 0, 0, 0, 0, 1, 0, 0, 0, 0, 0, 0, 0, 1, 0, 0, 0, 0, 0,\n",
       "       0, 1, 0, 0, 0, 1, 0, 0, 0, 1, 0, 0, 0, 1, 1, 0, 0, 0, 0, 1, 0, 1,\n",
       "       0, 0, 0, 1, 0, 0, 0, 0, 0, 0, 0, 0, 0, 0, 1, 1, 0, 0, 1, 1, 1, 0,\n",
       "       0, 0, 0, 0, 1, 0, 0, 0, 0, 1, 0, 1, 0, 0, 0, 0, 0, 1, 0, 0, 1, 1,\n",
       "       0, 0, 0, 0, 0, 0, 0, 1, 0, 0, 0, 0, 1, 0, 0, 0, 0, 1, 0, 0, 0, 0,\n",
       "       1, 1])"
      ]
     },
     "execution_count": 15,
     "metadata": {},
     "output_type": "execute_result"
    }
   ],
   "source": [
    "Label_predict = []\n",
    "for i in range(y.size) :\n",
    "    p = sigmoid(x[i], beta)\n",
    "    if p > 0.5 :\n",
    "        Label_predict.append(1)\n",
    "    else :\n",
    "        Label_predict.append(0)\n",
    "Label_predict = np.array(Label_predict)\n",
    "Label_predict"
   ]
  },
  {
   "cell_type": "code",
   "execution_count": 16,
   "metadata": {},
   "outputs": [
    {
     "data": {
      "text/plain": [
       "array([[140,  13],\n",
       "       [  8,  39]], dtype=int64)"
      ]
     },
     "execution_count": 16,
     "metadata": {},
     "output_type": "execute_result"
    }
   ],
   "source": [
    "from sklearn.metrics import *\n",
    "tn, fp, fn, tp = confusion_matrix(Label_predict, Label).ravel()\n",
    "confusion_matrix(Label_predict, Label)"
   ]
  },
  {
   "cell_type": "code",
   "execution_count": 17,
   "metadata": {},
   "outputs": [
    {
     "data": {
      "text/plain": [
       "0.895"
      ]
     },
     "execution_count": 17,
     "metadata": {},
     "output_type": "execute_result"
    }
   ],
   "source": [
    "#Accuracy\n",
    "Accuracy = (tp+tn)/(tp+fn+fp+tn)\n",
    "Accuracy"
   ]
  }
 ],
 "metadata": {
  "kernelspec": {
   "display_name": "Python 3",
   "language": "python",
   "name": "python3"
  },
  "language_info": {
   "codemirror_mode": {
    "name": "ipython",
    "version": 3
   },
   "file_extension": ".py",
   "mimetype": "text/x-python",
   "name": "python",
   "nbconvert_exporter": "python",
   "pygments_lexer": "ipython3",
   "version": "3.7.6"
  }
 },
 "nbformat": 4,
 "nbformat_minor": 4
}
