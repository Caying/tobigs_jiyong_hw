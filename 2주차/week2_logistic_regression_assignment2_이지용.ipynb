{
 "cells": [
  {
   "cell_type": "markdown",
   "metadata": {},
   "source": [
    "## 데이터 불러오기"
   ]
  },
  {
   "cell_type": "code",
   "execution_count": 2,
   "metadata": {
    "scrolled": true
   },
   "outputs": [
    {
     "data": {
      "text/html": [
       "<div>\n",
       "<style scoped>\n",
       "    .dataframe tbody tr th:only-of-type {\n",
       "        vertical-align: middle;\n",
       "    }\n",
       "\n",
       "    .dataframe tbody tr th {\n",
       "        vertical-align: top;\n",
       "    }\n",
       "\n",
       "    .dataframe thead th {\n",
       "        text-align: right;\n",
       "    }\n",
       "</style>\n",
       "<table border=\"1\" class=\"dataframe\">\n",
       "  <thead>\n",
       "    <tr style=\"text-align: right;\">\n",
       "      <th></th>\n",
       "      <th>Label</th>\n",
       "      <th>bias</th>\n",
       "      <th>experience</th>\n",
       "      <th>salary</th>\n",
       "    </tr>\n",
       "  </thead>\n",
       "  <tbody>\n",
       "    <tr>\n",
       "      <th>0</th>\n",
       "      <td>1</td>\n",
       "      <td>1</td>\n",
       "      <td>0.7</td>\n",
       "      <td>48000</td>\n",
       "    </tr>\n",
       "    <tr>\n",
       "      <th>1</th>\n",
       "      <td>0</td>\n",
       "      <td>1</td>\n",
       "      <td>1.9</td>\n",
       "      <td>48000</td>\n",
       "    </tr>\n",
       "    <tr>\n",
       "      <th>2</th>\n",
       "      <td>1</td>\n",
       "      <td>1</td>\n",
       "      <td>2.5</td>\n",
       "      <td>60000</td>\n",
       "    </tr>\n",
       "    <tr>\n",
       "      <th>3</th>\n",
       "      <td>0</td>\n",
       "      <td>1</td>\n",
       "      <td>4.2</td>\n",
       "      <td>63000</td>\n",
       "    </tr>\n",
       "    <tr>\n",
       "      <th>4</th>\n",
       "      <td>0</td>\n",
       "      <td>1</td>\n",
       "      <td>6.0</td>\n",
       "      <td>76000</td>\n",
       "    </tr>\n",
       "  </tbody>\n",
       "</table>\n",
       "</div>"
      ],
      "text/plain": [
       "   Label  bias  experience  salary\n",
       "0      1     1         0.7   48000\n",
       "1      0     1         1.9   48000\n",
       "2      1     1         2.5   60000\n",
       "3      0     1         4.2   63000\n",
       "4      0     1         6.0   76000"
      ]
     },
     "execution_count": 2,
     "metadata": {},
     "output_type": "execute_result"
    }
   ],
   "source": [
    "import numpy as np\n",
    "import pandas as pd\n",
    "from sklearn.preprocessing import StandardScaler\n",
    "from sklearn.model_selection import train_test_split\n",
    "data = pd.read_csv('assignment_2.csv')\n",
    "data.head()"
   ]
  },
  {
   "cell_type": "markdown",
   "metadata": {},
   "source": [
    "### Train Test 데이터 나누기"
   ]
  },
  {
   "cell_type": "code",
   "execution_count": 3,
   "metadata": {},
   "outputs": [],
   "source": [
    "X_train, X_test, y_train, y_test = train_test_split(data.iloc[:, 1:], data.iloc[:, 0], random_state = 0)"
   ]
  },
  {
   "cell_type": "code",
   "execution_count": 4,
   "metadata": {},
   "outputs": [
    {
     "data": {
      "text/plain": [
       "((150, 3), (50, 3), (150,), (50,))"
      ]
     },
     "execution_count": 4,
     "metadata": {},
     "output_type": "execute_result"
    }
   ],
   "source": [
    "X_train.shape, X_test.shape, y_train.shape, y_test.shape"
   ]
  },
  {
   "cell_type": "markdown",
   "metadata": {},
   "source": [
    "## 데이터 스케일링\n",
    "\n",
    "experience와 salary를 스케일링한다."
   ]
  },
  {
   "cell_type": "code",
   "execution_count": 5,
   "metadata": {},
   "outputs": [
    {
     "data": {
      "text/html": [
       "<div>\n",
       "<style scoped>\n",
       "    .dataframe tbody tr th:only-of-type {\n",
       "        vertical-align: middle;\n",
       "    }\n",
       "\n",
       "    .dataframe tbody tr th {\n",
       "        vertical-align: top;\n",
       "    }\n",
       "\n",
       "    .dataframe thead th {\n",
       "        text-align: right;\n",
       "    }\n",
       "</style>\n",
       "<table border=\"1\" class=\"dataframe\">\n",
       "  <thead>\n",
       "    <tr style=\"text-align: right;\">\n",
       "      <th></th>\n",
       "      <th>bias</th>\n",
       "      <th>experience</th>\n",
       "      <th>salary</th>\n",
       "    </tr>\n",
       "  </thead>\n",
       "  <tbody>\n",
       "    <tr>\n",
       "      <th>71</th>\n",
       "      <td>1</td>\n",
       "      <td>5.3</td>\n",
       "      <td>48000</td>\n",
       "    </tr>\n",
       "    <tr>\n",
       "      <th>124</th>\n",
       "      <td>1</td>\n",
       "      <td>8.1</td>\n",
       "      <td>66000</td>\n",
       "    </tr>\n",
       "    <tr>\n",
       "      <th>184</th>\n",
       "      <td>1</td>\n",
       "      <td>3.9</td>\n",
       "      <td>60000</td>\n",
       "    </tr>\n",
       "    <tr>\n",
       "      <th>97</th>\n",
       "      <td>1</td>\n",
       "      <td>0.2</td>\n",
       "      <td>45000</td>\n",
       "    </tr>\n",
       "    <tr>\n",
       "      <th>149</th>\n",
       "      <td>1</td>\n",
       "      <td>1.1</td>\n",
       "      <td>66000</td>\n",
       "    </tr>\n",
       "    <tr>\n",
       "      <th>...</th>\n",
       "      <td>...</td>\n",
       "      <td>...</td>\n",
       "      <td>...</td>\n",
       "    </tr>\n",
       "    <tr>\n",
       "      <th>67</th>\n",
       "      <td>1</td>\n",
       "      <td>6.7</td>\n",
       "      <td>64000</td>\n",
       "    </tr>\n",
       "    <tr>\n",
       "      <th>192</th>\n",
       "      <td>1</td>\n",
       "      <td>4.8</td>\n",
       "      <td>73000</td>\n",
       "    </tr>\n",
       "    <tr>\n",
       "      <th>117</th>\n",
       "      <td>1</td>\n",
       "      <td>7.0</td>\n",
       "      <td>86000</td>\n",
       "    </tr>\n",
       "    <tr>\n",
       "      <th>47</th>\n",
       "      <td>1</td>\n",
       "      <td>7.6</td>\n",
       "      <td>78000</td>\n",
       "    </tr>\n",
       "    <tr>\n",
       "      <th>172</th>\n",
       "      <td>1</td>\n",
       "      <td>6.3</td>\n",
       "      <td>76000</td>\n",
       "    </tr>\n",
       "  </tbody>\n",
       "</table>\n",
       "<p>150 rows × 3 columns</p>\n",
       "</div>"
      ],
      "text/plain": [
       "     bias  experience  salary\n",
       "71      1         5.3   48000\n",
       "124     1         8.1   66000\n",
       "184     1         3.9   60000\n",
       "97      1         0.2   45000\n",
       "149     1         1.1   66000\n",
       "..    ...         ...     ...\n",
       "67      1         6.7   64000\n",
       "192     1         4.8   73000\n",
       "117     1         7.0   86000\n",
       "47      1         7.6   78000\n",
       "172     1         6.3   76000\n",
       "\n",
       "[150 rows x 3 columns]"
      ]
     },
     "execution_count": 5,
     "metadata": {},
     "output_type": "execute_result"
    }
   ],
   "source": [
    "X_train"
   ]
  },
  {
   "cell_type": "code",
   "execution_count": 6,
   "metadata": {
    "scrolled": false
   },
   "outputs": [
    {
     "data": {
      "text/html": [
       "<div>\n",
       "<style scoped>\n",
       "    .dataframe tbody tr th:only-of-type {\n",
       "        vertical-align: middle;\n",
       "    }\n",
       "\n",
       "    .dataframe tbody tr th {\n",
       "        vertical-align: top;\n",
       "    }\n",
       "\n",
       "    .dataframe thead th {\n",
       "        text-align: right;\n",
       "    }\n",
       "</style>\n",
       "<table border=\"1\" class=\"dataframe\">\n",
       "  <thead>\n",
       "    <tr style=\"text-align: right;\">\n",
       "      <th></th>\n",
       "      <th>bias</th>\n",
       "      <th>experience</th>\n",
       "      <th>salary</th>\n",
       "    </tr>\n",
       "  </thead>\n",
       "  <tbody>\n",
       "    <tr>\n",
       "      <th>0</th>\n",
       "      <td>1</td>\n",
       "      <td>0.187893</td>\n",
       "      <td>-1.143335</td>\n",
       "    </tr>\n",
       "    <tr>\n",
       "      <th>1</th>\n",
       "      <td>1</td>\n",
       "      <td>1.185555</td>\n",
       "      <td>0.043974</td>\n",
       "    </tr>\n",
       "    <tr>\n",
       "      <th>2</th>\n",
       "      <td>1</td>\n",
       "      <td>-0.310938</td>\n",
       "      <td>-0.351795</td>\n",
       "    </tr>\n",
       "    <tr>\n",
       "      <th>3</th>\n",
       "      <td>1</td>\n",
       "      <td>-1.629277</td>\n",
       "      <td>-1.341220</td>\n",
       "    </tr>\n",
       "    <tr>\n",
       "      <th>4</th>\n",
       "      <td>1</td>\n",
       "      <td>-1.308600</td>\n",
       "      <td>0.043974</td>\n",
       "    </tr>\n",
       "  </tbody>\n",
       "</table>\n",
       "</div>"
      ],
      "text/plain": [
       "   bias  experience    salary\n",
       "0     1    0.187893 -1.143335\n",
       "1     1    1.185555  0.043974\n",
       "2     1   -0.310938 -0.351795\n",
       "3     1   -1.629277 -1.341220\n",
       "4     1   -1.308600  0.043974"
      ]
     },
     "execution_count": 6,
     "metadata": {},
     "output_type": "execute_result"
    }
   ],
   "source": [
    "scaler = StandardScaler()\n",
    "bias_train = X_train[\"bias\"]\n",
    "bias_train = bias_train.reset_index()[\"bias\"]\n",
    "X_train = pd.DataFrame(scaler.fit_transform(X_train), columns = X_train.columns)\n",
    "X_train[\"bias\"] = bias_train\n",
    "X_train.head()"
   ]
  },
  {
   "cell_type": "code",
   "execution_count": 7,
   "metadata": {},
   "outputs": [],
   "source": [
    "y_train = y_train.reset_index()[\"Label\"]\n",
    "y_test = y_test.reset_index()[\"Label\"]"
   ]
  },
  {
   "cell_type": "code",
   "execution_count": 8,
   "metadata": {
    "scrolled": true
   },
   "outputs": [
    {
     "data": {
      "text/html": [
       "<div>\n",
       "<style scoped>\n",
       "    .dataframe tbody tr th:only-of-type {\n",
       "        vertical-align: middle;\n",
       "    }\n",
       "\n",
       "    .dataframe tbody tr th {\n",
       "        vertical-align: top;\n",
       "    }\n",
       "\n",
       "    .dataframe thead th {\n",
       "        text-align: right;\n",
       "    }\n",
       "</style>\n",
       "<table border=\"1\" class=\"dataframe\">\n",
       "  <thead>\n",
       "    <tr style=\"text-align: right;\">\n",
       "      <th></th>\n",
       "      <th>bias</th>\n",
       "      <th>experience</th>\n",
       "      <th>salary</th>\n",
       "    </tr>\n",
       "  </thead>\n",
       "  <tbody>\n",
       "    <tr>\n",
       "      <th>0</th>\n",
       "      <td>1</td>\n",
       "      <td>-1.344231</td>\n",
       "      <td>-0.615642</td>\n",
       "    </tr>\n",
       "    <tr>\n",
       "      <th>1</th>\n",
       "      <td>1</td>\n",
       "      <td>0.508570</td>\n",
       "      <td>0.307821</td>\n",
       "    </tr>\n",
       "    <tr>\n",
       "      <th>2</th>\n",
       "      <td>1</td>\n",
       "      <td>-0.310938</td>\n",
       "      <td>0.571667</td>\n",
       "    </tr>\n",
       "    <tr>\n",
       "      <th>3</th>\n",
       "      <td>1</td>\n",
       "      <td>1.363709</td>\n",
       "      <td>1.956862</td>\n",
       "    </tr>\n",
       "    <tr>\n",
       "      <th>4</th>\n",
       "      <td>1</td>\n",
       "      <td>-0.987923</td>\n",
       "      <td>-0.747565</td>\n",
       "    </tr>\n",
       "  </tbody>\n",
       "</table>\n",
       "</div>"
      ],
      "text/plain": [
       "   bias  experience    salary\n",
       "0     1   -1.344231 -0.615642\n",
       "1     1    0.508570  0.307821\n",
       "2     1   -0.310938  0.571667\n",
       "3     1    1.363709  1.956862\n",
       "4     1   -0.987923 -0.747565"
      ]
     },
     "execution_count": 8,
     "metadata": {},
     "output_type": "execute_result"
    }
   ],
   "source": [
    "bias_test = X_test[\"bias\"]\n",
    "bias_test = bias_test.reset_index()[\"bias\"]\n",
    "X_test = pd.DataFrame(scaler.transform(X_test), columns = X_test.columns)\n",
    "X_test[\"bias\"] = bias_test\n",
    "X_test.head()"
   ]
  },
  {
   "cell_type": "markdown",
   "metadata": {},
   "source": [
    "## sigmoid"
   ]
  },
  {
   "cell_type": "code",
   "execution_count": 9,
   "metadata": {},
   "outputs": [],
   "source": [
    "import random"
   ]
  },
  {
   "cell_type": "code",
   "execution_count": 10,
   "metadata": {},
   "outputs": [],
   "source": [
    "X_train = np.array(X_train[[\"bias\", \"experience\", \"salary\"]])"
   ]
  },
  {
   "cell_type": "code",
   "execution_count": 11,
   "metadata": {
    "scrolled": true
   },
   "outputs": [
    {
     "data": {
      "text/plain": [
       "array([0.24880286, 0.95708624, 0.96638597])"
      ]
     },
     "execution_count": 11,
     "metadata": {},
     "output_type": "execute_result"
    }
   ],
   "source": [
    "beta = np.array([random.random(), random.random(), random.random()]) # 임의의 beta값 생성\n",
    "beta"
   ]
  },
  {
   "cell_type": "markdown",
   "metadata": {},
   "source": [
    "sigmoid는 개별 $x_i$(bias, experience, salary) 입력값에 대해 $y$가 1일 확률을 계산하는 함수이다.  \n",
    "$p = \\frac{1}{1+exp(-ax+b)}$  \n",
    "$e$의 승수(multiplier)는 $\\sum\\beta_i x_i$ 이다."
   ]
  },
  {
   "cell_type": "code",
   "execution_count": 12,
   "metadata": {
    "scrolled": true
   },
   "outputs": [
    {
     "data": {
      "text/plain": [
       "0.3370942745485735"
      ]
     },
     "execution_count": 12,
     "metadata": {},
     "output_type": "execute_result"
    }
   ],
   "source": [
    "def sigmoid(x, beta) :\n",
    "    multiplier = 0\n",
    "    for i in range(x.size):\n",
    "        multiplier += x[i]*beta[i]\n",
    "    p = 1.0/(1.0+np.exp(-multiplier))\n",
    "    return p\n",
    "sigmoid(X_train[0], beta)"
   ]
  },
  {
   "cell_type": "markdown",
   "metadata": {},
   "source": [
    "## log likelihood\n",
    "\n",
    "$l(p) = \\sum[y_i\\log(p)+(1-y_i)\\log(1-p)]$"
   ]
  },
  {
   "cell_type": "code",
   "execution_count": 13,
   "metadata": {
    "scrolled": true
   },
   "outputs": [
    {
     "data": {
      "text/plain": [
       "-1.087392641316577"
      ]
     },
     "execution_count": 13,
     "metadata": {},
     "output_type": "execute_result"
    }
   ],
   "source": [
    "#개별 likelihood, 각각의 x입력값에 대한 p의 값 산정\n",
    "def lg_likelihood_i(x, y, beta, j) :\n",
    "    p_hat = 0\n",
    "    p = sigmoid(x[j], beta)\n",
    "    p_hat += y[j]*np.log(p) + (1-y[j])*np.log(1-p)\n",
    "    return p_hat\n",
    "lg_likelihood_i(X_train, y_train, beta, 0)"
   ]
  },
  {
   "cell_type": "code",
   "execution_count": 14,
   "metadata": {},
   "outputs": [
    {
     "data": {
      "text/plain": [
       "-157.75151201347444"
      ]
     },
     "execution_count": 14,
     "metadata": {},
     "output_type": "execute_result"
    }
   ],
   "source": [
    "def lg_likelihood(x, y, beta) :\n",
    "    log_p_hat = 0\n",
    "    for i in range(y.size) :\n",
    "        log_p_hat += lg_likelihood_i(x, y, beta, i) # log p 의 추정값에 계속 더해준다.\n",
    "        \n",
    "    return log_p_hat\n",
    "lg_likelihood(X_train, y_train, beta)"
   ]
  },
  {
   "cell_type": "markdown",
   "metadata": {},
   "source": [
    "## gradient Ascent"
   ]
  },
  {
   "cell_type": "markdown",
   "metadata": {},
   "source": [
    "get_gradients는 cost function(log likelihood)상에서 각각의 beta 계수들로 편미분했을 때, 각각의 기울기를 구하는 함수이다."
   ]
  },
  {
   "cell_type": "code",
   "execution_count": 15,
   "metadata": {
    "scrolled": false
   },
   "outputs": [
    {
     "data": {
      "text/plain": [
       "array([-0.24995655, -0.16811363, -0.37035542])"
      ]
     },
     "execution_count": 15,
     "metadata": {},
     "output_type": "execute_result"
    }
   ],
   "source": [
    "# gradients 한 번 구하기\n",
    "def get_gradients(x, y, beta):\n",
    "    gradients = []\n",
    "    \n",
    "    for i in range(x[0].size) :\n",
    "        gradient = 0                                  # 각 계수별 기울기\n",
    "        for j in range(y.size) :\n",
    "            p = sigmoid(x[j], beta)\n",
    "            gradient += (y[j] - p)*x[j][i]            # 개별 데이터 x에 대한 값을 합산\n",
    "               \n",
    "        gradient = gradient/y.size                    # 전체 n 값으로 나누기\n",
    "        gradients.append(gradient)\n",
    "    \n",
    "    gradients = np.array(gradients)\n",
    "    \n",
    "    return gradients\n",
    "\n",
    "gradients = np.array(get_gradients(X_train, y_train, beta))\n",
    "gradients"
   ]
  },
  {
   "cell_type": "markdown",
   "metadata": {},
   "source": [
    "step은 구한 기울기를 바탕으로 다음 학습을 진행할 지점을 지정하는 함수이다."
   ]
  },
  {
   "cell_type": "code",
   "execution_count": 16,
   "metadata": {},
   "outputs": [],
   "source": [
    "def step(beta, gradients, stepsize=np.array([0.01,0.01,0.01])) : #stepsize:학습률, 기본값은 0.01\n",
    "    beta = beta + stepsize*gradients\n",
    "    return beta"
   ]
  },
  {
   "cell_type": "code",
   "execution_count": 17,
   "metadata": {},
   "outputs": [
    {
     "data": {
      "text/plain": [
       "array([0.2463033 , 0.9554051 , 0.96268241])"
      ]
     },
     "execution_count": 17,
     "metadata": {},
     "output_type": "execute_result"
    }
   ],
   "source": [
    "step(beta, gradients)"
   ]
  },
  {
   "cell_type": "code",
   "execution_count": 18,
   "metadata": {},
   "outputs": [],
   "source": [
    "#max_cycle:최대 학습 횟수\n",
    "#tolerance:이 값보다 step의 변화율이 낮으면 학습을 종료함\n",
    "#theta_0:학습 이전의 계수\n",
    "#theta:학습 이후의 계수\n",
    "\n",
    "def gradientAscent(x, y, beta, max_cycle = 200000, tolerance = 0.000001, stepsize=np.array([0.01,0.01,0.01])) :\n",
    "    theta_0 = beta\n",
    "    i = 0\n",
    "    cost = lg_likelihood(x, y, theta_0)/y.size\n",
    "    gradients = np.array([])\n",
    "    while i < max_cycle:\n",
    "        gradients = get_gradients(x, y, theta_0)\n",
    "        theta = step(theta_0, gradients, stepsize)\n",
    "        temp = theta_0 - theta\n",
    "        theta_0 = theta\n",
    "        \n",
    "        if i % 100 == 0:\n",
    "            print(gradients)\n",
    "            print(i)\n",
    "            #print(theta_0)\n",
    "            #print(theta)\n",
    "            #print(np.abs(temp.sum()))\n",
    "        if np.abs(temp.sum()) < tolerance :\n",
    "            print(\"stop\")\n",
    "            break\n",
    "        i += 1\n",
    "    return theta_0"
   ]
  },
  {
   "cell_type": "code",
   "execution_count": 19,
   "metadata": {},
   "outputs": [
    {
     "data": {
      "text/plain": [
       "array([0.24880286, 0.95708624, 0.96638597])"
      ]
     },
     "execution_count": 19,
     "metadata": {},
     "output_type": "execute_result"
    }
   ],
   "source": [
    "beta"
   ]
  },
  {
   "cell_type": "code",
   "execution_count": 20,
   "metadata": {
    "scrolled": true
   },
   "outputs": [
    {
     "data": {
      "text/plain": [
       "2.172275064929897"
      ]
     },
     "execution_count": 20,
     "metadata": {},
     "output_type": "execute_result"
    }
   ],
   "source": [
    "beta.sum()"
   ]
  },
  {
   "cell_type": "markdown",
   "metadata": {},
   "source": [
    "## Step Size 결정\n",
    "\n",
    "Step Size를 고르는 기법으로는 다음 세가지 방법이 있다.\n",
    "\n",
    "- Fixed step size\n",
    "- Backtracking line search\n",
    "- Exact line search\n",
    "\n",
    "참고 : https://wikidocs.net/18088"
   ]
  },
  {
   "cell_type": "code",
   "execution_count": 21,
   "metadata": {},
   "outputs": [
    {
     "name": "stdout",
     "output_type": "stream",
     "text": [
      "[-0.24995655 -0.16811363 -0.37035542]\n",
      "0\n",
      "[-0.03276145  0.05740333 -0.0709181 ]\n",
      "100\n",
      "[-0.0123311   0.04478444 -0.04421574]\n",
      "200\n",
      "[-0.00873557  0.03371032 -0.03273935]\n",
      "300\n",
      "[-0.00716313  0.02658918 -0.02564408]\n",
      "400\n",
      "[-0.00606671  0.02172215 -0.02083713]\n",
      "500\n",
      "[-0.00521057  0.01819865 -0.0173789 ]\n",
      "600\n",
      "[-0.0045226   0.0155332  -0.01477711]\n",
      "700\n",
      "[-0.00396126  0.01344803 -0.01275163]\n",
      "800\n",
      "[-0.00349715  0.01177356 -0.01113222]\n",
      "900\n",
      "[-0.00310865  0.01040058 -0.00980962]\n",
      "1000\n",
      "[-0.00277971  0.00925558 -0.0087106 ]\n",
      "1100\n",
      "[-0.00249835  0.00828727 -0.00778419]\n",
      "1200\n",
      "[-0.00225547  0.00745874 -0.00699385]\n",
      "1300\n",
      "[-0.00204411  0.00674275 -0.0063127 ]\n",
      "1400\n",
      "[-0.00185885  0.00611872 -0.00572051]\n",
      "1500\n",
      "[-0.00169544  0.00557084 -0.00520175]\n",
      "1600\n",
      "[-0.00155048  0.00508672 -0.00474431]\n",
      "1700\n",
      "[-0.00142125  0.00465654 -0.00433861]\n",
      "1800\n",
      "[-0.00130553  0.0042724  -0.00397695]\n",
      "1900\n",
      "[-0.00120147  0.00392784 -0.00365309]\n",
      "2000\n",
      "[-0.00110758  0.0036176  -0.0033619 ]\n",
      "2100\n",
      "[-0.00102258  0.00333725 -0.00309914]\n",
      "2200\n",
      "[-0.0009454   0.00308313 -0.00286126]\n",
      "2300\n",
      "[-0.00087514  0.00285212 -0.00264527]\n",
      "2400\n",
      "[-0.00081102  0.00264159 -0.00244863]\n",
      "2500\n",
      "[-0.00075237  0.00244926 -0.00226918]\n",
      "2600\n",
      "[-0.00069863  0.0022732  -0.00210506]\n",
      "2700\n",
      "[-0.00064929  0.00211171 -0.00195465]\n",
      "2800\n",
      "[-0.00060391  0.00196332 -0.00181656]\n",
      "2900\n",
      "[-0.00056211  0.00182676 -0.00168956]\n",
      "3000\n",
      "[-0.00052356  0.00170088 -0.00157259]\n",
      "3100\n",
      "[-0.00048795  0.00158471 -0.00146469]\n",
      "3200\n",
      "[-0.00045502  0.00147734 -0.00136505]\n",
      "3300\n",
      "[-0.00042454  0.00137801 -0.00127291]\n",
      "3400\n",
      "[-0.0003963   0.00128601 -0.00118761]\n",
      "3500\n",
      "[-0.0003701   0.00120072 -0.00110857]\n",
      "3600\n",
      "[-0.00034578  0.00112157 -0.00103526]\n",
      "3700\n",
      "[-0.00032318  0.00104806 -0.0009672 ]\n",
      "3800\n",
      "[-0.00030216  0.00097974 -0.00090397]\n",
      "3900\n",
      "[-0.00028261  0.00091618 -0.00084518]\n",
      "4000\n",
      "[-0.00026441  0.00085703 -0.00079047]\n",
      "4100\n",
      "[-0.00024745  0.00080194 -0.00073954]\n",
      "4200\n",
      "[-0.00023164  0.0007506  -0.00069209]\n",
      "4300\n",
      "[-0.00021689  0.00070273 -0.00064786]\n",
      "4400\n",
      "[-0.00020313  0.00065807 -0.00060661]\n",
      "4500\n",
      "[-0.00019029  0.00061639 -0.00056812]\n",
      "4600\n",
      "[-0.00017829  0.00057747 -0.00053218]\n",
      "4700\n",
      "[-0.00016708  0.00054112 -0.00049863]\n",
      "4800\n",
      "[-0.00015661  0.00050714 -0.00046727]\n",
      "4900\n",
      "[-0.00014681  0.00047538 -0.00043797]\n",
      "5000\n",
      "[-0.00013765  0.00044569 -0.00041057]\n",
      "5100\n",
      "[-0.00012908  0.00041791 -0.00038495]\n",
      "5200\n",
      "[-0.00012106  0.00039191 -0.00036098]\n",
      "5300\n",
      "[-0.00011355  0.00036759 -0.00033855]\n",
      "5400\n",
      "[-0.00010652  0.00034481 -0.00031755]\n",
      "5500\n",
      "[-9.99403077e-05  3.23482761e-04 -2.97888174e-04]\n",
      "5600\n",
      "[-9.37738181e-05  3.03507302e-04 -2.79476408e-04]\n",
      "5700\n",
      "[-8.79963876e-05  2.84794060e-04 -2.62230045e-04]\n",
      "5800\n",
      "[-8.25824450e-05  2.67259846e-04 -2.46072041e-04]\n",
      "5900\n",
      "[-7.75082220e-05  2.50827364e-04 -2.30930837e-04]\n",
      "6000\n",
      "[-7.27516118e-05  2.35424742e-04 -2.16739921e-04]\n",
      "6100\n",
      "[-6.82920400e-05  2.20985115e-04 -2.03437435e-04]\n",
      "6200\n",
      "[-6.41103476e-05  2.07446233e-04 -1.90965807e-04]\n",
      "6300\n",
      "[-6.01886838e-05  1.94750115e-04 -1.79271432e-04]\n",
      "6400\n",
      "[-5.65104079e-05  1.82842721e-04 -1.68304364e-04]\n",
      "6500\n",
      "[-5.30600001e-05  1.71673669e-04 -1.58018045e-04]\n",
      "6600\n",
      "[-4.98229795e-05  1.61195954e-04 -1.48369055e-04]\n",
      "6700\n",
      "[-4.67858284e-05  1.51365711e-04 -1.39316882e-04]\n",
      "6800\n",
      "[-4.39359233e-05  1.42141986e-04 -1.30823708e-04]\n",
      "6900\n",
      "[-4.12614716e-05  1.33486524e-04 -1.22854221e-04]\n",
      "7000\n",
      "[-3.87514526e-05  1.25363583e-04 -1.15375431e-04]\n",
      "7100\n",
      "[-3.63955637e-05  1.17739756e-04 -1.08356509e-04]\n",
      "7200\n",
      "[-3.41841704e-05  1.10583806e-04 -1.01768636e-04]\n",
      "7300\n",
      "[-3.21082608e-05  1.03866520e-04 -9.55848643e-05]\n",
      "7400\n",
      "[-3.01594023e-05  9.75605665e-05 -8.97799841e-05]\n",
      "7500\n",
      "[-2.83297030e-05  9.16403687e-05 -8.43304099e-05]\n",
      "7600\n",
      "[-2.66117746e-05  8.60819867e-05 -7.92140675e-05]\n",
      "7700\n",
      "[-2.49986992e-05  8.08630062e-05 -7.44102924e-05]\n",
      "7800\n",
      "[-2.34839975e-05  7.59624371e-05 -6.98997355e-05]\n",
      "7900\n",
      "[-2.20616000e-05  7.13606183e-05 -6.56642755e-05]\n",
      "8000\n",
      "[-2.07258200e-05  6.70391307e-05 -6.16869369e-05]\n",
      "8100\n",
      "[-1.94713282e-05  6.29807149e-05 -5.79518151e-05]\n",
      "8200\n",
      "[-1.82931299e-05  5.91691956e-05 -5.44440060e-05]\n",
      "8300\n",
      "[-1.71865426e-05  5.55894107e-05 -5.11495405e-05]\n",
      "8400\n",
      "[-1.61471765e-05  5.22271463e-05 -4.80553238e-05]\n",
      "8500\n",
      "[-1.51709150e-05  4.90690745e-05 -4.51490787e-05]\n",
      "8600\n",
      "[-1.42538977e-05  4.61026973e-05 -4.24192934e-05]\n",
      "8700\n",
      "stop\n"
     ]
    },
    {
     "data": {
      "text/plain": [
       "array([-1.86332442,  4.25483168, -4.02438941])"
      ]
     },
     "execution_count": 21,
     "metadata": {},
     "output_type": "execute_result"
    }
   ],
   "source": [
    "# 학습률 0.01은 진행속도가 느려 학습결과에 큰 차이가 없는 0.1로 설정함.\n",
    "beta = gradientAscent(X_train, y_train, beta, stepsize=np.array([0.1,0.1,0.1]))\n",
    "beta"
   ]
  },
  {
   "cell_type": "code",
   "execution_count": 22,
   "metadata": {},
   "outputs": [
    {
     "data": {
      "text/plain": [
       "-44.73076833268423"
      ]
     },
     "execution_count": 22,
     "metadata": {},
     "output_type": "execute_result"
    }
   ],
   "source": [
    "lg_likelihood(X_train, y_train, beta) # 수렴한 우도"
   ]
  },
  {
   "cell_type": "markdown",
   "metadata": {},
   "source": [
    "## 예측"
   ]
  },
  {
   "cell_type": "code",
   "execution_count": 21,
   "metadata": {},
   "outputs": [],
   "source": [
    "X_test = np.array(X_test[[\"bias\", \"experience\", \"salary\"]])"
   ]
  },
  {
   "cell_type": "code",
   "execution_count": 22,
   "metadata": {
    "scrolled": true
   },
   "outputs": [
    {
     "data": {
      "text/plain": [
       "array([0, 0, 0, 0, 0, 0, 0, 1, 1, 1, 1, 0, 0, 0, 0, 0, 0, 0, 0, 0, 1, 0,\n",
       "       1, 0, 0, 1, 0, 0, 0, 1, 0, 0, 1, 1, 0, 0, 1, 0, 0, 0, 0, 0, 0, 0,\n",
       "       0, 0, 0, 0, 0, 0])"
      ]
     },
     "execution_count": 22,
     "metadata": {},
     "output_type": "execute_result"
    }
   ],
   "source": [
    "Label_predict = []\n",
    "for i in range(y_test.size) :\n",
    "    p = sigmoid(X_test[i], beta)  # 학습한 beta 값으로 p를 추정한다.\n",
    "    if p > 0.5 :\n",
    "        Label_predict.append(1) # p값이 0.5보다 크면 1로 분류한다.\n",
    "    else :\n",
    "        Label_predict.append(0)\n",
    "Label_predict = np.array(Label_predict)\n",
    "Label_predict"
   ]
  },
  {
   "cell_type": "markdown",
   "metadata": {},
   "source": [
    "## confusion_matrix"
   ]
  },
  {
   "cell_type": "code",
   "execution_count": 23,
   "metadata": {},
   "outputs": [
    {
     "data": {
      "text/plain": [
       "array([[38,  2],\n",
       "       [ 1,  9]], dtype=int64)"
      ]
     },
     "execution_count": 23,
     "metadata": {},
     "output_type": "execute_result"
    }
   ],
   "source": [
    "from sklearn.metrics import *\n",
    "tn, fp, fn, tp = confusion_matrix(y_test, Label_predict).ravel()\n",
    "confusion_matrix(y_test, Label_predict)"
   ]
  },
  {
   "cell_type": "code",
   "execution_count": 24,
   "metadata": {},
   "outputs": [
    {
     "data": {
      "text/plain": [
       "0.94"
      ]
     },
     "execution_count": 24,
     "metadata": {},
     "output_type": "execute_result"
    }
   ],
   "source": [
    "#Accuracy\n",
    "Accuracy = (tp+tn)/(tp+fn+fp+tn)\n",
    "Accuracy"
   ]
  },
  {
   "cell_type": "code",
   "execution_count": null,
   "metadata": {},
   "outputs": [],
   "source": []
  }
 ],
 "metadata": {
  "kernelspec": {
   "display_name": "Python 3",
   "language": "python",
   "name": "python3"
  },
  "language_info": {
   "codemirror_mode": {
    "name": "ipython",
    "version": 3
   },
   "file_extension": ".py",
   "mimetype": "text/x-python",
   "name": "python",
   "nbconvert_exporter": "python",
   "pygments_lexer": "ipython3",
   "version": "3.7.6"
  }
 },
 "nbformat": 4,
 "nbformat_minor": 4
}
