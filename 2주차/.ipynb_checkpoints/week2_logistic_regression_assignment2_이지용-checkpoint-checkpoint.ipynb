{
 "cells": [
  {
   "cell_type": "code",
   "execution_count": 408,
   "metadata": {
    "scrolled": false
   },
   "outputs": [
    {
     "data": {
      "text/html": [
       "<div>\n",
       "<style scoped>\n",
       "    .dataframe tbody tr th:only-of-type {\n",
       "        vertical-align: middle;\n",
       "    }\n",
       "\n",
       "    .dataframe tbody tr th {\n",
       "        vertical-align: top;\n",
       "    }\n",
       "\n",
       "    .dataframe thead th {\n",
       "        text-align: right;\n",
       "    }\n",
       "</style>\n",
       "<table border=\"1\" class=\"dataframe\">\n",
       "  <thead>\n",
       "    <tr style=\"text-align: right;\">\n",
       "      <th></th>\n",
       "      <th>Label</th>\n",
       "      <th>bias</th>\n",
       "      <th>experience</th>\n",
       "      <th>salary</th>\n",
       "    </tr>\n",
       "  </thead>\n",
       "  <tbody>\n",
       "    <tr>\n",
       "      <th>0</th>\n",
       "      <td>1</td>\n",
       "      <td>1</td>\n",
       "      <td>0.7</td>\n",
       "      <td>48000</td>\n",
       "    </tr>\n",
       "    <tr>\n",
       "      <th>1</th>\n",
       "      <td>0</td>\n",
       "      <td>1</td>\n",
       "      <td>1.9</td>\n",
       "      <td>48000</td>\n",
       "    </tr>\n",
       "    <tr>\n",
       "      <th>2</th>\n",
       "      <td>1</td>\n",
       "      <td>1</td>\n",
       "      <td>2.5</td>\n",
       "      <td>60000</td>\n",
       "    </tr>\n",
       "    <tr>\n",
       "      <th>3</th>\n",
       "      <td>0</td>\n",
       "      <td>1</td>\n",
       "      <td>4.2</td>\n",
       "      <td>63000</td>\n",
       "    </tr>\n",
       "    <tr>\n",
       "      <th>4</th>\n",
       "      <td>0</td>\n",
       "      <td>1</td>\n",
       "      <td>6.0</td>\n",
       "      <td>76000</td>\n",
       "    </tr>\n",
       "  </tbody>\n",
       "</table>\n",
       "</div>"
      ],
      "text/plain": [
       "   Label  bias  experience  salary\n",
       "0      1     1         0.7   48000\n",
       "1      0     1         1.9   48000\n",
       "2      1     1         2.5   60000\n",
       "3      0     1         4.2   63000\n",
       "4      0     1         6.0   76000"
      ]
     },
     "execution_count": 408,
     "metadata": {},
     "output_type": "execute_result"
    }
   ],
   "source": [
    "import numpy as np\n",
    "import pandas as pd\n",
    "from sklearn.preprocessing import StandardScaler\n",
    "data = pd.read_csv('assignment_2.csv')\n",
    "data.head()"
   ]
  },
  {
   "cell_type": "code",
   "execution_count": 413,
   "metadata": {},
   "outputs": [
    {
     "data": {
      "text/html": [
       "<div>\n",
       "<style scoped>\n",
       "    .dataframe tbody tr th:only-of-type {\n",
       "        vertical-align: middle;\n",
       "    }\n",
       "\n",
       "    .dataframe tbody tr th {\n",
       "        vertical-align: top;\n",
       "    }\n",
       "\n",
       "    .dataframe thead th {\n",
       "        text-align: right;\n",
       "    }\n",
       "</style>\n",
       "<table border=\"1\" class=\"dataframe\">\n",
       "  <thead>\n",
       "    <tr style=\"text-align: right;\">\n",
       "      <th></th>\n",
       "      <th>Label</th>\n",
       "      <th>bias</th>\n",
       "      <th>experience</th>\n",
       "      <th>salary</th>\n",
       "    </tr>\n",
       "  </thead>\n",
       "  <tbody>\n",
       "    <tr>\n",
       "      <th>0</th>\n",
       "      <td>1</td>\n",
       "      <td>1</td>\n",
       "      <td>-1.513249</td>\n",
       "      <td>-1.206602</td>\n",
       "    </tr>\n",
       "    <tr>\n",
       "      <th>1</th>\n",
       "      <td>0</td>\n",
       "      <td>1</td>\n",
       "      <td>-1.090751</td>\n",
       "      <td>-1.206602</td>\n",
       "    </tr>\n",
       "    <tr>\n",
       "      <th>2</th>\n",
       "      <td>1</td>\n",
       "      <td>1</td>\n",
       "      <td>-0.879501</td>\n",
       "      <td>-0.432312</td>\n",
       "    </tr>\n",
       "    <tr>\n",
       "      <th>3</th>\n",
       "      <td>0</td>\n",
       "      <td>1</td>\n",
       "      <td>-0.280962</td>\n",
       "      <td>-0.238739</td>\n",
       "    </tr>\n",
       "    <tr>\n",
       "      <th>4</th>\n",
       "      <td>0</td>\n",
       "      <td>1</td>\n",
       "      <td>0.352786</td>\n",
       "      <td>0.600075</td>\n",
       "    </tr>\n",
       "    <tr>\n",
       "      <th>...</th>\n",
       "      <td>...</td>\n",
       "      <td>...</td>\n",
       "      <td>...</td>\n",
       "      <td>...</td>\n",
       "    </tr>\n",
       "    <tr>\n",
       "      <th>195</th>\n",
       "      <td>0</td>\n",
       "      <td>1</td>\n",
       "      <td>0.528827</td>\n",
       "      <td>1.116268</td>\n",
       "    </tr>\n",
       "    <tr>\n",
       "      <th>196</th>\n",
       "      <td>0</td>\n",
       "      <td>1</td>\n",
       "      <td>0.669660</td>\n",
       "      <td>0.406502</td>\n",
       "    </tr>\n",
       "    <tr>\n",
       "      <th>197</th>\n",
       "      <td>0</td>\n",
       "      <td>1</td>\n",
       "      <td>0.035912</td>\n",
       "      <td>0.341978</td>\n",
       "    </tr>\n",
       "    <tr>\n",
       "      <th>198</th>\n",
       "      <td>1</td>\n",
       "      <td>1</td>\n",
       "      <td>1.444241</td>\n",
       "      <td>0.148406</td>\n",
       "    </tr>\n",
       "    <tr>\n",
       "      <th>199</th>\n",
       "      <td>1</td>\n",
       "      <td>1</td>\n",
       "      <td>1.690699</td>\n",
       "      <td>0.793647</td>\n",
       "    </tr>\n",
       "  </tbody>\n",
       "</table>\n",
       "<p>200 rows × 4 columns</p>\n",
       "</div>"
      ],
      "text/plain": [
       "     Label  bias  experience    salary\n",
       "0        1     1   -1.513249 -1.206602\n",
       "1        0     1   -1.090751 -1.206602\n",
       "2        1     1   -0.879501 -0.432312\n",
       "3        0     1   -0.280962 -0.238739\n",
       "4        0     1    0.352786  0.600075\n",
       "..     ...   ...         ...       ...\n",
       "195      0     1    0.528827  1.116268\n",
       "196      0     1    0.669660  0.406502\n",
       "197      0     1    0.035912  0.341978\n",
       "198      1     1    1.444241  0.148406\n",
       "199      1     1    1.690699  0.793647\n",
       "\n",
       "[200 rows x 4 columns]"
      ]
     },
     "execution_count": 413,
     "metadata": {},
     "output_type": "execute_result"
    }
   ],
   "source": [
    "bias = data[\"bias\"]\n",
    "Label = data[\"Label\"]\n",
    "scaler = StandardScaler() # Scaling\n",
    "df_new = pd.DataFrame(scaler.fit_transform(data), columns = data.columns)\n",
    "df_new[\"bias\"] = bias\n",
    "df_new[\"Label\"] = Label\n",
    "df_new"
   ]
  },
  {
   "cell_type": "code",
   "execution_count": 392,
   "metadata": {},
   "outputs": [
    {
     "data": {
      "text/plain": [
       "0      1\n",
       "1      1\n",
       "2      1\n",
       "3      1\n",
       "4      1\n",
       "      ..\n",
       "195    1\n",
       "196    1\n",
       "197    1\n",
       "198    1\n",
       "199    1\n",
       "Name: bias, Length: 200, dtype: int64"
      ]
     },
     "execution_count": 392,
     "metadata": {},
     "output_type": "execute_result"
    }
   ],
   "source": [
    "dataX_bias"
   ]
  },
  {
   "cell_type": "markdown",
   "metadata": {},
   "source": [
    "## sigmoid"
   ]
  },
  {
   "cell_type": "code",
   "execution_count": 106,
   "metadata": {},
   "outputs": [],
   "source": [
    "import random"
   ]
  },
  {
   "cell_type": "code",
   "execution_count": 645,
   "metadata": {},
   "outputs": [
    {
     "data": {
      "text/plain": [
       "array([0.19992772, 0.01903386, 0.85982076])"
      ]
     },
     "execution_count": 645,
     "metadata": {},
     "output_type": "execute_result"
    }
   ],
   "source": [
    "y = np.array(df_new[\"Label\"])\n",
    "x = np.array(df_new[[\"bias\", \"experience\", \"salary\"]])\n",
    "beta = np.array([random.random(), random.random(), random.random()])\n",
    "beta"
   ]
  },
  {
   "cell_type": "code",
   "execution_count": 599,
   "metadata": {
    "scrolled": true
   },
   "outputs": [
    {
     "data": {
      "text/plain": [
       "0.17631891826681273"
      ]
     },
     "execution_count": 599,
     "metadata": {},
     "output_type": "execute_result"
    }
   ],
   "source": [
    "def sigmoid(x, beta) :\n",
    "    multiplier = 0\n",
    "    for i in range(x.size):\n",
    "        multiplier += x[i]*beta[i]\n",
    "    p = 1.0/(1.0+np.exp(-multiplier))\n",
    "    return p\n",
    "sigmoid(x[0], beta)"
   ]
  },
  {
   "cell_type": "markdown",
   "metadata": {},
   "source": [
    "## log likelihood"
   ]
  },
  {
   "cell_type": "code",
   "execution_count": 639,
   "metadata": {},
   "outputs": [
    {
     "data": {
      "text/plain": [
       "-201.37205325530977"
      ]
     },
     "execution_count": 639,
     "metadata": {},
     "output_type": "execute_result"
    }
   ],
   "source": [
    "def lg_likelihood(x, y, beta) :\n",
    "    log_p_hat = 0\n",
    "    for i in range(y.size) :\n",
    "        p = sigmoid(x[i], beta)\n",
    "        log_p_hat += y[i]*np.log(p) + (1-y[i])*np.log(1-p)\n",
    "        \n",
    "    return log_p_hat\n",
    "lg_likelihood(x, y, beta)"
   ]
  },
  {
   "cell_type": "code",
   "execution_count": 601,
   "metadata": {
    "scrolled": true
   },
   "outputs": [
    {
     "data": {
      "text/plain": [
       "-1.7354608880930498"
      ]
     },
     "execution_count": 601,
     "metadata": {},
     "output_type": "execute_result"
    }
   ],
   "source": [
    "#개별 likelihood\n",
    "def lg_likelihood_i(x, y, beta, j) :\n",
    "    p_hat = 0\n",
    "    p = sigmoid(x[j], beta)\n",
    "    p_hat += y[j]*np.log(p) + (1-y[j])*np.log(1-p)\n",
    "    return p_hat\n",
    "lg_likelihood_i(x, y, beta, 0)"
   ]
  },
  {
   "cell_type": "markdown",
   "metadata": {},
   "source": [
    "## gradient Descent"
   ]
  },
  {
   "cell_type": "code",
   "execution_count": 602,
   "metadata": {},
   "outputs": [
    {
     "data": {
      "text/plain": [
       "array([-0.25616385, -0.11939429, -0.29846652])"
      ]
     },
     "execution_count": 602,
     "metadata": {},
     "output_type": "execute_result"
    }
   ],
   "source": [
    "# gradients 한 번 구하기\n",
    "def get_gradients(x, y, beta):\n",
    "    gradients = []\n",
    "    \n",
    "    for i in range(x[0].size) :\n",
    "        gradient = 0            # 각 계수별 기울기\n",
    "        for j in range(y.size) :\n",
    "            p = sigmoid(x[j], beta)\n",
    "            gradient += (y[j] - p)*x[j][i]\n",
    "            \n",
    "        gradient = gradient/y.size\n",
    "        gradients.append(gradient)\n",
    "    \n",
    "    gradients = np.array(gradients)\n",
    "    \n",
    "    return gradients\n",
    "\n",
    "gradients = np.array(get_gradients(x, y, beta))\n",
    "gradients"
   ]
  },
  {
   "cell_type": "code",
   "execution_count": 649,
   "metadata": {},
   "outputs": [],
   "source": [
    "def step(beta, gradients, stepsize=np.array([0.01,0.01,0.01])) :\n",
    "    beta = beta + stepsize*gradients\n",
    "    return beta"
   ]
  },
  {
   "cell_type": "code",
   "execution_count": 606,
   "metadata": {},
   "outputs": [
    {
     "data": {
      "text/plain": [
       "array([0.09236853, 0.69036544, 0.4906413 ])"
      ]
     },
     "execution_count": 606,
     "metadata": {},
     "output_type": "execute_result"
    }
   ],
   "source": [
    "step(beta, gradients)"
   ]
  },
  {
   "cell_type": "code",
   "execution_count": 659,
   "metadata": {},
   "outputs": [],
   "source": [
    "def gradientDescent(x, y, beta, max_cycle = 200000, tolerance = 0.000001, stepsize=np.array([0.05,0.05,0.05])) :\n",
    "    theta_0 = beta\n",
    "    i = 0\n",
    "    cost = lg_likelihood(x, y, theta_0)/y.size\n",
    "    gradients = np.array([])\n",
    "    while i < max_cycle:\n",
    "        gradients = get_gradients(x, y, theta_0)\n",
    "        theta = step(theta_0, gradients, stepsize)\n",
    "        temp = theta_0 - theta\n",
    "        theta_0 = theta\n",
    "        \n",
    "        if i % 1000 == 0:\n",
    "            print(gradients)\n",
    "            #print(theta_0)\n",
    "            #print(theta)\n",
    "            #print(np.abs(temp.sum()))\n",
    "        if np.abs(temp.sum()) < tolerance :\n",
    "            print(\"stop\")\n",
    "            break\n",
    "        i += 1\n",
    "    return theta_0"
   ]
  },
  {
   "cell_type": "code",
   "execution_count": 647,
   "metadata": {},
   "outputs": [
    {
     "data": {
      "text/plain": [
       "1.0787823447303087"
      ]
     },
     "execution_count": 647,
     "metadata": {},
     "output_type": "execute_result"
    }
   ],
   "source": [
    "beta.sum()"
   ]
  },
  {
   "cell_type": "code",
   "execution_count": 660,
   "metadata": {},
   "outputs": [
    {
     "name": "stdout",
     "output_type": "stream",
     "text": [
      "[-0.28105306 -0.04337432 -0.2745462 ]\n",
      "[-0.00683375  0.02426973 -0.02388329]\n",
      "[-0.00376994  0.01178443 -0.01151959]\n",
      "[-0.00236674  0.00713301 -0.00694437]\n",
      "[-0.00160012  0.00473994 -0.00460212]\n",
      "[-0.00112927  0.00331199 -0.00320966]\n",
      "[-0.00081874  0.00238607 -0.00230924]\n",
      "[-0.00060437  0.00175377 -0.00169564]\n",
      "[-0.00045172  0.00130686 -0.00126263]\n",
      "[-0.00034064  0.00098337 -0.00094957]\n",
      "[-0.00025855  0.0007452  -0.00071929]\n",
      "[-0.00019719  0.00056767 -0.00054776]\n",
      "[-0.00015093  0.00043411 -0.00041878]\n",
      "[-0.00011583  0.00033294 -0.00032113]\n",
      "[-8.90811111e-05  2.55920132e-04 -2.46805093e-04]\n",
      "[-6.86154614e-05  1.97047712e-04 -1.90008995e-04]\n",
      "[-5.29149633e-05  1.51914112e-04 -1.46475418e-04]\n",
      "[-4.08445459e-05  1.17234117e-04 -1.13029751e-04]\n",
      "[-3.15497886e-05  9.05398363e-05 -8.72884826e-05]\n",
      "[-2.43834469e-05  6.99647452e-05 -6.74496769e-05]\n",
      "stop\n"
     ]
    },
    {
     "data": {
      "text/plain": [
       "array([-2.1101016 ,  4.52136689, -4.38941492])"
      ]
     },
     "execution_count": 660,
     "metadata": {},
     "output_type": "execute_result"
    }
   ],
   "source": [
    "beta = gradientDescent(x, y, beta)\n",
    "beta"
   ]
  },
  {
   "cell_type": "code",
   "execution_count": 661,
   "metadata": {},
   "outputs": [
    {
     "data": {
      "text/plain": [
       "-57.47849343202163"
      ]
     },
     "execution_count": 661,
     "metadata": {},
     "output_type": "execute_result"
    }
   ],
   "source": [
    "lg_likelihood(x, y, beta) # 수렴한 최소 손실함수"
   ]
  }
 ],
 "metadata": {
  "kernelspec": {
   "display_name": "Python 3",
   "language": "python",
   "name": "python3"
  },
  "language_info": {
   "codemirror_mode": {
    "name": "ipython",
    "version": 3
   },
   "file_extension": ".py",
   "mimetype": "text/x-python",
   "name": "python",
   "nbconvert_exporter": "python",
   "pygments_lexer": "ipython3",
   "version": "3.7.6"
  }
 },
 "nbformat": 4,
 "nbformat_minor": 4
}
