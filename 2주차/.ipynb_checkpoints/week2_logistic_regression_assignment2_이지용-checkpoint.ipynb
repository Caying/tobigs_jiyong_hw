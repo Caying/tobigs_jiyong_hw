{
 "cells": [
  {
   "cell_type": "markdown",
   "metadata": {},
   "source": [
    "## 데이터 불러오기"
   ]
  },
  {
   "cell_type": "code",
   "execution_count": 1,
   "metadata": {
    "scrolled": false
   },
   "outputs": [
    {
     "data": {
      "text/html": [
       "<div>\n",
       "<style scoped>\n",
       "    .dataframe tbody tr th:only-of-type {\n",
       "        vertical-align: middle;\n",
       "    }\n",
       "\n",
       "    .dataframe tbody tr th {\n",
       "        vertical-align: top;\n",
       "    }\n",
       "\n",
       "    .dataframe thead th {\n",
       "        text-align: right;\n",
       "    }\n",
       "</style>\n",
       "<table border=\"1\" class=\"dataframe\">\n",
       "  <thead>\n",
       "    <tr style=\"text-align: right;\">\n",
       "      <th></th>\n",
       "      <th>Label</th>\n",
       "      <th>bias</th>\n",
       "      <th>experience</th>\n",
       "      <th>salary</th>\n",
       "    </tr>\n",
       "  </thead>\n",
       "  <tbody>\n",
       "    <tr>\n",
       "      <th>0</th>\n",
       "      <td>1</td>\n",
       "      <td>1</td>\n",
       "      <td>0.7</td>\n",
       "      <td>48000</td>\n",
       "    </tr>\n",
       "    <tr>\n",
       "      <th>1</th>\n",
       "      <td>0</td>\n",
       "      <td>1</td>\n",
       "      <td>1.9</td>\n",
       "      <td>48000</td>\n",
       "    </tr>\n",
       "    <tr>\n",
       "      <th>2</th>\n",
       "      <td>1</td>\n",
       "      <td>1</td>\n",
       "      <td>2.5</td>\n",
       "      <td>60000</td>\n",
       "    </tr>\n",
       "    <tr>\n",
       "      <th>3</th>\n",
       "      <td>0</td>\n",
       "      <td>1</td>\n",
       "      <td>4.2</td>\n",
       "      <td>63000</td>\n",
       "    </tr>\n",
       "    <tr>\n",
       "      <th>4</th>\n",
       "      <td>0</td>\n",
       "      <td>1</td>\n",
       "      <td>6.0</td>\n",
       "      <td>76000</td>\n",
       "    </tr>\n",
       "  </tbody>\n",
       "</table>\n",
       "</div>"
      ],
      "text/plain": [
       "   Label  bias  experience  salary\n",
       "0      1     1         0.7   48000\n",
       "1      0     1         1.9   48000\n",
       "2      1     1         2.5   60000\n",
       "3      0     1         4.2   63000\n",
       "4      0     1         6.0   76000"
      ]
     },
     "execution_count": 1,
     "metadata": {},
     "output_type": "execute_result"
    }
   ],
   "source": [
    "import numpy as np\n",
    "import pandas as pd\n",
    "from sklearn.preprocessing import StandardScaler\n",
    "data = pd.read_csv('assignment_2.csv')\n",
    "data.head()"
   ]
  },
  {
   "cell_type": "markdown",
   "metadata": {},
   "source": [
    "## 데이터 스케일링\n",
    "\n",
    "experience와 salary를 스케일링한다."
   ]
  },
  {
   "cell_type": "code",
   "execution_count": 2,
   "metadata": {},
   "outputs": [
    {
     "data": {
      "text/html": [
       "<div>\n",
       "<style scoped>\n",
       "    .dataframe tbody tr th:only-of-type {\n",
       "        vertical-align: middle;\n",
       "    }\n",
       "\n",
       "    .dataframe tbody tr th {\n",
       "        vertical-align: top;\n",
       "    }\n",
       "\n",
       "    .dataframe thead th {\n",
       "        text-align: right;\n",
       "    }\n",
       "</style>\n",
       "<table border=\"1\" class=\"dataframe\">\n",
       "  <thead>\n",
       "    <tr style=\"text-align: right;\">\n",
       "      <th></th>\n",
       "      <th>Label</th>\n",
       "      <th>bias</th>\n",
       "      <th>experience</th>\n",
       "      <th>salary</th>\n",
       "    </tr>\n",
       "  </thead>\n",
       "  <tbody>\n",
       "    <tr>\n",
       "      <th>0</th>\n",
       "      <td>1</td>\n",
       "      <td>1</td>\n",
       "      <td>-1.513249</td>\n",
       "      <td>-1.206602</td>\n",
       "    </tr>\n",
       "    <tr>\n",
       "      <th>1</th>\n",
       "      <td>0</td>\n",
       "      <td>1</td>\n",
       "      <td>-1.090751</td>\n",
       "      <td>-1.206602</td>\n",
       "    </tr>\n",
       "    <tr>\n",
       "      <th>2</th>\n",
       "      <td>1</td>\n",
       "      <td>1</td>\n",
       "      <td>-0.879501</td>\n",
       "      <td>-0.432312</td>\n",
       "    </tr>\n",
       "    <tr>\n",
       "      <th>3</th>\n",
       "      <td>0</td>\n",
       "      <td>1</td>\n",
       "      <td>-0.280962</td>\n",
       "      <td>-0.238739</td>\n",
       "    </tr>\n",
       "    <tr>\n",
       "      <th>4</th>\n",
       "      <td>0</td>\n",
       "      <td>1</td>\n",
       "      <td>0.352786</td>\n",
       "      <td>0.600075</td>\n",
       "    </tr>\n",
       "    <tr>\n",
       "      <th>...</th>\n",
       "      <td>...</td>\n",
       "      <td>...</td>\n",
       "      <td>...</td>\n",
       "      <td>...</td>\n",
       "    </tr>\n",
       "    <tr>\n",
       "      <th>195</th>\n",
       "      <td>0</td>\n",
       "      <td>1</td>\n",
       "      <td>0.528827</td>\n",
       "      <td>1.116268</td>\n",
       "    </tr>\n",
       "    <tr>\n",
       "      <th>196</th>\n",
       "      <td>0</td>\n",
       "      <td>1</td>\n",
       "      <td>0.669660</td>\n",
       "      <td>0.406502</td>\n",
       "    </tr>\n",
       "    <tr>\n",
       "      <th>197</th>\n",
       "      <td>0</td>\n",
       "      <td>1</td>\n",
       "      <td>0.035912</td>\n",
       "      <td>0.341978</td>\n",
       "    </tr>\n",
       "    <tr>\n",
       "      <th>198</th>\n",
       "      <td>1</td>\n",
       "      <td>1</td>\n",
       "      <td>1.444241</td>\n",
       "      <td>0.148406</td>\n",
       "    </tr>\n",
       "    <tr>\n",
       "      <th>199</th>\n",
       "      <td>1</td>\n",
       "      <td>1</td>\n",
       "      <td>1.690699</td>\n",
       "      <td>0.793647</td>\n",
       "    </tr>\n",
       "  </tbody>\n",
       "</table>\n",
       "<p>200 rows × 4 columns</p>\n",
       "</div>"
      ],
      "text/plain": [
       "     Label  bias  experience    salary\n",
       "0        1     1   -1.513249 -1.206602\n",
       "1        0     1   -1.090751 -1.206602\n",
       "2        1     1   -0.879501 -0.432312\n",
       "3        0     1   -0.280962 -0.238739\n",
       "4        0     1    0.352786  0.600075\n",
       "..     ...   ...         ...       ...\n",
       "195      0     1    0.528827  1.116268\n",
       "196      0     1    0.669660  0.406502\n",
       "197      0     1    0.035912  0.341978\n",
       "198      1     1    1.444241  0.148406\n",
       "199      1     1    1.690699  0.793647\n",
       "\n",
       "[200 rows x 4 columns]"
      ]
     },
     "execution_count": 2,
     "metadata": {},
     "output_type": "execute_result"
    }
   ],
   "source": [
    "bias = data[\"bias\"]\n",
    "Label = data[\"Label\"]\n",
    "scaler = StandardScaler() # Scaling\n",
    "df_new = pd.DataFrame(scaler.fit_transform(data), columns = data.columns)\n",
    "df_new[\"bias\"] = bias\n",
    "df_new[\"Label\"] = Label\n",
    "df_new"
   ]
  },
  {
   "cell_type": "markdown",
   "metadata": {},
   "source": [
    "## sigmoid"
   ]
  },
  {
   "cell_type": "code",
   "execution_count": 3,
   "metadata": {},
   "outputs": [],
   "source": [
    "import random"
   ]
  },
  {
   "cell_type": "code",
   "execution_count": 4,
   "metadata": {
    "scrolled": true
   },
   "outputs": [
    {
     "data": {
      "text/plain": [
       "array([0.03287644, 0.06530109, 0.06880682])"
      ]
     },
     "execution_count": 4,
     "metadata": {},
     "output_type": "execute_result"
    }
   ],
   "source": [
    "y = np.array(df_new[\"Label\"])\n",
    "x = np.array(df_new[[\"bias\", \"experience\", \"salary\"]])\n",
    "beta = np.array([random.random(), random.random(), random.random()]) # 임의의 beta값 생성\n",
    "beta"
   ]
  },
  {
   "cell_type": "markdown",
   "metadata": {},
   "source": [
    "sigmoid는 개별 $x_i$(bias, experience, salary) 입력값에 대해 $y$가 1일 확률을 계산하는 함수이다.  \n",
    "$p = \\frac{1}{1+exp(-ax+b)}$  \n",
    "$e$의 승수(multiplier)는 $\\sum\\beta_i x_i$ 이다."
   ]
  },
  {
   "cell_type": "code",
   "execution_count": 5,
   "metadata": {
    "scrolled": true
   },
   "outputs": [
    {
     "data": {
      "text/plain": [
       "0.4628279970351887"
      ]
     },
     "execution_count": 5,
     "metadata": {},
     "output_type": "execute_result"
    }
   ],
   "source": [
    "def sigmoid(x, beta) :\n",
    "    multiplier = 0\n",
    "    for i in range(x.size):\n",
    "        multiplier += x[i]*beta[i]\n",
    "    p = 1.0/(1.0+np.exp(-multiplier))\n",
    "    return p\n",
    "sigmoid(x[0], beta)"
   ]
  },
  {
   "cell_type": "markdown",
   "metadata": {},
   "source": [
    "## log likelihood\n",
    "\n",
    "$l(p) = \\sum[y_i\\log(p)+(1-y_i)\\log(1-p)]$"
   ]
  },
  {
   "cell_type": "code",
   "execution_count": 6,
   "metadata": {
    "scrolled": true
   },
   "outputs": [
    {
     "data": {
      "text/plain": [
       "-0.7703997906021487"
      ]
     },
     "execution_count": 6,
     "metadata": {},
     "output_type": "execute_result"
    }
   ],
   "source": [
    "#개별 likelihood, 각각의 x입력값에 대한 p의 값 산정\n",
    "def lg_likelihood_i(x, y, beta, j) :\n",
    "    p_hat = 0\n",
    "    p = sigmoid(x[j], beta)\n",
    "    p_hat += y[j]*np.log(p) + (1-y[j])*np.log(1-p)\n",
    "    return p_hat\n",
    "lg_likelihood_i(x, y, beta, 0)"
   ]
  },
  {
   "cell_type": "code",
   "execution_count": 7,
   "metadata": {},
   "outputs": [
    {
     "data": {
      "text/plain": [
       "-140.43178918699508"
      ]
     },
     "execution_count": 7,
     "metadata": {},
     "output_type": "execute_result"
    }
   ],
   "source": [
    "def lg_likelihood(x, y, beta) :\n",
    "    log_p_hat = 0\n",
    "    for i in range(y.size) :\n",
    "        log_p_hat += lg_likelihood_i(x, y, beta, i) # log p 의 추정값에 계속 더해준다.\n",
    "        \n",
    "    return log_p_hat\n",
    "lg_likelihood(x, y, beta)"
   ]
  },
  {
   "cell_type": "markdown",
   "metadata": {},
   "source": [
    "## gradient Ascent"
   ]
  },
  {
   "cell_type": "markdown",
   "metadata": {},
   "source": [
    "get_gradients는 cost function(log likelihood)상에서 각각의 beta 계수들로 편미분했을 때, 각각의 기울기를 구하는 함수이다."
   ]
  },
  {
   "cell_type": "code",
   "execution_count": 8,
   "metadata": {
    "scrolled": false
   },
   "outputs": [
    {
     "data": {
      "text/plain": [
       "array([-0.24818144,  0.07673107, -0.11605635])"
      ]
     },
     "execution_count": 8,
     "metadata": {},
     "output_type": "execute_result"
    }
   ],
   "source": [
    "# gradients 한 번 구하기\n",
    "def get_gradients(x, y, beta):\n",
    "    gradients = []\n",
    "    \n",
    "    for i in range(x[0].size) :\n",
    "        gradient = 0                                  # 각 계수별 기울기\n",
    "        for j in range(y.size) :\n",
    "            p = sigmoid(x[j], beta)\n",
    "            gradient += (y[j] - p)*x[j][i]            # 개별 데이터 x에 대한 값을 합산\n",
    "               \n",
    "        gradient = gradient/y.size                    # 전체 n 값으로 나누기\n",
    "        gradients.append(gradient)\n",
    "    \n",
    "    gradients = np.array(gradients)\n",
    "    \n",
    "    return gradients\n",
    "\n",
    "gradients = np.array(get_gradients(x, y, beta))\n",
    "gradients"
   ]
  },
  {
   "cell_type": "markdown",
   "metadata": {},
   "source": [
    "step은 구한 기울기를 바탕으로 다음 학습을 진행할 지점을 지정하는 함수이다."
   ]
  },
  {
   "cell_type": "code",
   "execution_count": 9,
   "metadata": {},
   "outputs": [],
   "source": [
    "def step(beta, gradients, stepsize=np.array([0.01,0.01,0.01])) : #stepsize:학습률\n",
    "    beta = beta + stepsize*gradients\n",
    "    return beta"
   ]
  },
  {
   "cell_type": "code",
   "execution_count": 10,
   "metadata": {},
   "outputs": [
    {
     "data": {
      "text/plain": [
       "array([0.03039463, 0.0660684 , 0.06764625])"
      ]
     },
     "execution_count": 10,
     "metadata": {},
     "output_type": "execute_result"
    }
   ],
   "source": [
    "step(beta, gradients)"
   ]
  },
  {
   "cell_type": "code",
   "execution_count": 11,
   "metadata": {},
   "outputs": [],
   "source": [
    "#max_cycle:최대 학습 횟수\n",
    "#tolerance:이 값보다 step의 변화율이 낮으면 학습을 종료함\n",
    "#theta_0:학습 이전의 계수\n",
    "#theta:학습 이후의 계수\n",
    "\n",
    "def gradientAscent(x, y, beta, max_cycle = 200000, tolerance = 0.000001, stepsize=np.array([0.05,0.05,0.05])) :\n",
    "    theta_0 = beta\n",
    "    i = 0\n",
    "    cost = lg_likelihood(x, y, theta_0)/y.size\n",
    "    gradients = np.array([])\n",
    "    while i < max_cycle:\n",
    "        gradients = get_gradients(x, y, theta_0)\n",
    "        theta = step(theta_0, gradients, stepsize)\n",
    "        temp = theta_0 - theta\n",
    "        theta_0 = theta\n",
    "        \n",
    "        if i % 1000 == 0:\n",
    "            print(gradients)\n",
    "            #print(theta_0)\n",
    "            #print(theta)\n",
    "            #print(np.abs(temp.sum()))\n",
    "        if np.abs(temp.sum()) < tolerance :\n",
    "            print(\"stop\")\n",
    "            break\n",
    "        i += 1\n",
    "    return theta_0"
   ]
  },
  {
   "cell_type": "code",
   "execution_count": 12,
   "metadata": {},
   "outputs": [
    {
     "data": {
      "text/plain": [
       "0.1669843507251335"
      ]
     },
     "execution_count": 12,
     "metadata": {},
     "output_type": "execute_result"
    }
   ],
   "source": [
    "beta.sum()"
   ]
  },
  {
   "cell_type": "code",
   "execution_count": 13,
   "metadata": {},
   "outputs": [
    {
     "name": "stdout",
     "output_type": "stream",
     "text": [
      "[-0.24818144  0.07673107 -0.11605635]\n",
      "[-0.00651793  0.02267369 -0.02229783]\n",
      "[-0.00362895  0.01129792 -0.01103996]\n",
      "[-0.00229452  0.00690366 -0.00671948]\n",
      "[-0.00155748  0.0046094  -0.00447464]\n",
      "[-0.00110184  0.00322973 -0.00312958]\n",
      "[-0.00080013  0.00233094 -0.0022557 ]\n",
      "[-0.00059126  0.0017153  -0.00165834]\n",
      "[-0.00044226  0.00127927 -0.00123591]\n",
      "[-0.00033369  0.00096319 -0.00093005]\n",
      "[-0.00025338  0.00073023 -0.00070482]\n",
      "[-0.0001933   0.00055644 -0.00053691]\n",
      "[-0.00014799  0.00042563 -0.00041059]\n",
      "[-0.0001136   0.0003265  -0.00031491]\n",
      "[-8.73724279e-05  2.51003094e-04 -2.42061006e-04]\n",
      "[-6.73060638e-05  1.93282606e-04 -1.86377090e-04]\n",
      "[-5.19091579e-05  1.49023683e-04 -1.43687703e-04]\n",
      "[-4.00705333e-05  1.15010814e-04 -1.10885726e-04]\n",
      "[-3.09533158e-05  8.88271054e-05 -8.56369845e-05]\n",
      "[-2.39232945e-05  6.86438052e-05 -6.61760588e-05]\n",
      "stop\n"
     ]
    },
    {
     "data": {
      "text/plain": [
       "array([-2.11010161,  4.52136692, -4.38941496])"
      ]
     },
     "execution_count": 13,
     "metadata": {},
     "output_type": "execute_result"
    }
   ],
   "source": [
    "beta = gradientAscent(x, y, beta)\n",
    "beta"
   ]
  },
  {
   "cell_type": "code",
   "execution_count": 14,
   "metadata": {},
   "outputs": [
    {
     "data": {
      "text/plain": [
       "-57.47849343109985"
      ]
     },
     "execution_count": 14,
     "metadata": {},
     "output_type": "execute_result"
    }
   ],
   "source": [
    "lg_likelihood(x, y, beta) # 수렴한 우도"
   ]
  },
  {
   "cell_type": "markdown",
   "metadata": {},
   "source": [
    "## 예측"
   ]
  },
  {
   "cell_type": "code",
   "execution_count": 15,
   "metadata": {},
   "outputs": [
    {
     "data": {
      "text/plain": [
       "array([0, 0, 0, 0, 0, 0, 0, 0, 0, 1, 0, 0, 1, 0, 0, 0, 0, 0, 0, 0, 0, 1,\n",
       "       0, 0, 0, 1, 0, 0, 1, 0, 0, 0, 0, 0, 0, 0, 1, 0, 0, 0, 0, 0, 0, 0,\n",
       "       1, 1, 1, 0, 0, 0, 0, 1, 1, 0, 0, 0, 1, 0, 0, 0, 0, 1, 0, 0, 1, 0,\n",
       "       0, 1, 1, 0, 0, 1, 1, 0, 0, 0, 0, 0, 0, 0, 0, 1, 0, 0, 0, 0, 0, 1,\n",
       "       0, 0, 0, 1, 0, 0, 0, 0, 1, 0, 0, 0, 0, 0, 0, 0, 1, 0, 0, 0, 0, 0,\n",
       "       0, 1, 0, 0, 0, 1, 0, 0, 0, 1, 0, 0, 0, 1, 1, 0, 0, 0, 0, 1, 0, 1,\n",
       "       0, 0, 0, 1, 0, 0, 0, 0, 0, 0, 0, 0, 0, 0, 1, 1, 0, 0, 1, 1, 1, 0,\n",
       "       0, 0, 0, 0, 1, 0, 0, 0, 0, 1, 0, 1, 0, 0, 0, 0, 0, 1, 0, 0, 1, 1,\n",
       "       0, 0, 0, 0, 0, 0, 0, 1, 0, 0, 0, 0, 1, 0, 0, 0, 0, 1, 0, 0, 0, 0,\n",
       "       1, 1])"
      ]
     },
     "execution_count": 15,
     "metadata": {},
     "output_type": "execute_result"
    }
   ],
   "source": [
    "Label_predict = []\n",
    "for i in range(y.size) :\n",
    "    p = sigmoid(x[i], beta)  # 학습한 beta 값으로 p를 추정한다.\n",
    "    if p > 0.5 :\n",
    "        Label_predict.append(1) # p값이 0.5보다 크면 1로 분류한다.\n",
    "    else :\n",
    "        Label_predict.append(0)\n",
    "Label_predict = np.array(Label_predict)\n",
    "Label_predict"
   ]
  },
  {
   "cell_type": "markdown",
   "metadata": {},
   "source": [
    "## confusion_matrix"
   ]
  },
  {
   "cell_type": "code",
   "execution_count": 16,
   "metadata": {},
   "outputs": [
    {
     "data": {
      "text/plain": [
       "array([[140,   8],\n",
       "       [ 13,  39]], dtype=int64)"
      ]
     },
     "execution_count": 16,
     "metadata": {},
     "output_type": "execute_result"
    }
   ],
   "source": [
    "from sklearn.metrics import *\n",
    "tn, fp, fn, tp = confusion_matrix(Label, Label_predict).ravel()\n",
    "confusion_matrix(Label, Label_predict)"
   ]
  },
  {
   "cell_type": "code",
   "execution_count": 17,
   "metadata": {},
   "outputs": [
    {
     "data": {
      "text/plain": [
       "0.895"
      ]
     },
     "execution_count": 17,
     "metadata": {},
     "output_type": "execute_result"
    }
   ],
   "source": [
    "#Accuracy\n",
    "Accuracy = (tp+tn)/(tp+fn+fp+tn)\n",
    "Accuracy"
   ]
  }
 ],
 "metadata": {
  "kernelspec": {
   "display_name": "Python 3",
   "language": "python",
   "name": "python3"
  },
  "language_info": {
   "codemirror_mode": {
    "name": "ipython",
    "version": 3
   },
   "file_extension": ".py",
   "mimetype": "text/x-python",
   "name": "python",
   "nbconvert_exporter": "python",
   "pygments_lexer": "ipython3",
   "version": "3.7.6"
  }
 },
 "nbformat": 4,
 "nbformat_minor": 4
}
