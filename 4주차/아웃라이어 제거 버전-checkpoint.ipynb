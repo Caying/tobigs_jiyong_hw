{
 "cells": [
  {
   "cell_type": "code",
   "execution_count": 1,
   "metadata": {
    "_cell_guid": "2dbccbd6-138b-4f1b-9b23-fd60c7525c14",
    "_execution_state": "idle",
    "_uuid": "c9b1d5dff21d39260eb47af6fe7aac4bd03be233"
   },
   "outputs": [],
   "source": [
    "#import some necessary librairies\n",
    "\n",
    "import numpy as np # linear algebra\n",
    "import pandas as pd # data processing, CSV file I/O (e.g. pd.read_csv)\n",
    "%matplotlib inline\n",
    "import matplotlib.pyplot as plt  # Matlab-style plotting\n",
    "import seaborn as sns\n",
    "color = sns.color_palette()\n",
    "sns.set_style('darkgrid')\n",
    "import warnings\n",
    "def ignore_warn(*args, **kwargs):\n",
    "    pass\n",
    "warnings.warn = ignore_warn #ignore annoying warning (from sklearn and seaborn)\n",
    "\n",
    "\n",
    "from scipy import stats\n",
    "from scipy.stats import norm, skew "
   ]
  },
  {
   "cell_type": "code",
   "execution_count": 2,
   "metadata": {
    "_cell_guid": "59617b4b-d797-44ce-9142-05fbfd36aada",
    "_execution_state": "idle",
    "_uuid": "0e694d13459e3e200f6e2c6333c887cbad779ba9"
   },
   "outputs": [],
   "source": [
    "test = pd.read_csv('test_new.csv') \n",
    "train = pd.read_csv('train_new.csv') "
   ]
  },
  {
   "cell_type": "code",
   "execution_count": 3,
   "metadata": {
    "_cell_guid": "3678529f-9d76-4853-88c5-4b2d230a85b6",
    "_execution_state": "idle",
    "_uuid": "3a32f51460a02fbe7a9122db55a740eb378dda97"
   },
   "outputs": [
    {
     "data": {
      "text/html": [
       "<div>\n",
       "<style scoped>\n",
       "    .dataframe tbody tr th:only-of-type {\n",
       "        vertical-align: middle;\n",
       "    }\n",
       "\n",
       "    .dataframe tbody tr th {\n",
       "        vertical-align: top;\n",
       "    }\n",
       "\n",
       "    .dataframe thead th {\n",
       "        text-align: right;\n",
       "    }\n",
       "</style>\n",
       "<table border=\"1\" class=\"dataframe\">\n",
       "  <thead>\n",
       "    <tr style=\"text-align: right;\">\n",
       "      <th></th>\n",
       "      <th>Id</th>\n",
       "      <th>MSSubClass</th>\n",
       "      <th>MSZoning</th>\n",
       "      <th>LotFrontage</th>\n",
       "      <th>LotArea</th>\n",
       "      <th>Street</th>\n",
       "      <th>Alley</th>\n",
       "      <th>LotShape</th>\n",
       "      <th>LandContour</th>\n",
       "      <th>Utilities</th>\n",
       "      <th>...</th>\n",
       "      <th>PoolArea</th>\n",
       "      <th>PoolQC</th>\n",
       "      <th>Fence</th>\n",
       "      <th>MiscFeature</th>\n",
       "      <th>MiscVal</th>\n",
       "      <th>MoSold</th>\n",
       "      <th>YrSold</th>\n",
       "      <th>SaleType</th>\n",
       "      <th>SaleCondition</th>\n",
       "      <th>SalePrice</th>\n",
       "    </tr>\n",
       "  </thead>\n",
       "  <tbody>\n",
       "    <tr>\n",
       "      <th>0</th>\n",
       "      <td>1</td>\n",
       "      <td>60</td>\n",
       "      <td>RL</td>\n",
       "      <td>65.0</td>\n",
       "      <td>8450</td>\n",
       "      <td>Pave</td>\n",
       "      <td>NaN</td>\n",
       "      <td>Reg</td>\n",
       "      <td>Lvl</td>\n",
       "      <td>AllPub</td>\n",
       "      <td>...</td>\n",
       "      <td>0</td>\n",
       "      <td>NaN</td>\n",
       "      <td>NaN</td>\n",
       "      <td>NaN</td>\n",
       "      <td>0</td>\n",
       "      <td>2</td>\n",
       "      <td>2008</td>\n",
       "      <td>WD</td>\n",
       "      <td>Normal</td>\n",
       "      <td>12.247699</td>\n",
       "    </tr>\n",
       "    <tr>\n",
       "      <th>1</th>\n",
       "      <td>2</td>\n",
       "      <td>20</td>\n",
       "      <td>RL</td>\n",
       "      <td>80.0</td>\n",
       "      <td>9600</td>\n",
       "      <td>Pave</td>\n",
       "      <td>NaN</td>\n",
       "      <td>Reg</td>\n",
       "      <td>Lvl</td>\n",
       "      <td>AllPub</td>\n",
       "      <td>...</td>\n",
       "      <td>0</td>\n",
       "      <td>NaN</td>\n",
       "      <td>NaN</td>\n",
       "      <td>NaN</td>\n",
       "      <td>0</td>\n",
       "      <td>5</td>\n",
       "      <td>2007</td>\n",
       "      <td>WD</td>\n",
       "      <td>Normal</td>\n",
       "      <td>12.109016</td>\n",
       "    </tr>\n",
       "    <tr>\n",
       "      <th>2</th>\n",
       "      <td>3</td>\n",
       "      <td>60</td>\n",
       "      <td>RL</td>\n",
       "      <td>68.0</td>\n",
       "      <td>11250</td>\n",
       "      <td>Pave</td>\n",
       "      <td>NaN</td>\n",
       "      <td>IR1</td>\n",
       "      <td>Lvl</td>\n",
       "      <td>AllPub</td>\n",
       "      <td>...</td>\n",
       "      <td>0</td>\n",
       "      <td>NaN</td>\n",
       "      <td>NaN</td>\n",
       "      <td>NaN</td>\n",
       "      <td>0</td>\n",
       "      <td>9</td>\n",
       "      <td>2008</td>\n",
       "      <td>WD</td>\n",
       "      <td>Normal</td>\n",
       "      <td>12.317171</td>\n",
       "    </tr>\n",
       "    <tr>\n",
       "      <th>3</th>\n",
       "      <td>4</td>\n",
       "      <td>70</td>\n",
       "      <td>RL</td>\n",
       "      <td>60.0</td>\n",
       "      <td>9550</td>\n",
       "      <td>Pave</td>\n",
       "      <td>NaN</td>\n",
       "      <td>IR1</td>\n",
       "      <td>Lvl</td>\n",
       "      <td>AllPub</td>\n",
       "      <td>...</td>\n",
       "      <td>0</td>\n",
       "      <td>NaN</td>\n",
       "      <td>NaN</td>\n",
       "      <td>NaN</td>\n",
       "      <td>0</td>\n",
       "      <td>2</td>\n",
       "      <td>2006</td>\n",
       "      <td>WD</td>\n",
       "      <td>Abnorml</td>\n",
       "      <td>11.849405</td>\n",
       "    </tr>\n",
       "    <tr>\n",
       "      <th>4</th>\n",
       "      <td>5</td>\n",
       "      <td>60</td>\n",
       "      <td>RL</td>\n",
       "      <td>84.0</td>\n",
       "      <td>14260</td>\n",
       "      <td>Pave</td>\n",
       "      <td>NaN</td>\n",
       "      <td>IR1</td>\n",
       "      <td>Lvl</td>\n",
       "      <td>AllPub</td>\n",
       "      <td>...</td>\n",
       "      <td>0</td>\n",
       "      <td>NaN</td>\n",
       "      <td>NaN</td>\n",
       "      <td>NaN</td>\n",
       "      <td>0</td>\n",
       "      <td>12</td>\n",
       "      <td>2008</td>\n",
       "      <td>WD</td>\n",
       "      <td>Normal</td>\n",
       "      <td>12.429220</td>\n",
       "    </tr>\n",
       "    <tr>\n",
       "      <th>...</th>\n",
       "      <td>...</td>\n",
       "      <td>...</td>\n",
       "      <td>...</td>\n",
       "      <td>...</td>\n",
       "      <td>...</td>\n",
       "      <td>...</td>\n",
       "      <td>...</td>\n",
       "      <td>...</td>\n",
       "      <td>...</td>\n",
       "      <td>...</td>\n",
       "      <td>...</td>\n",
       "      <td>...</td>\n",
       "      <td>...</td>\n",
       "      <td>...</td>\n",
       "      <td>...</td>\n",
       "      <td>...</td>\n",
       "      <td>...</td>\n",
       "      <td>...</td>\n",
       "      <td>...</td>\n",
       "      <td>...</td>\n",
       "      <td>...</td>\n",
       "    </tr>\n",
       "    <tr>\n",
       "      <th>855</th>\n",
       "      <td>856</td>\n",
       "      <td>20</td>\n",
       "      <td>RL</td>\n",
       "      <td>NaN</td>\n",
       "      <td>6897</td>\n",
       "      <td>Pave</td>\n",
       "      <td>NaN</td>\n",
       "      <td>IR1</td>\n",
       "      <td>Lvl</td>\n",
       "      <td>AllPub</td>\n",
       "      <td>...</td>\n",
       "      <td>0</td>\n",
       "      <td>NaN</td>\n",
       "      <td>NaN</td>\n",
       "      <td>NaN</td>\n",
       "      <td>0</td>\n",
       "      <td>4</td>\n",
       "      <td>2010</td>\n",
       "      <td>WD</td>\n",
       "      <td>Normal</td>\n",
       "      <td>11.751950</td>\n",
       "    </tr>\n",
       "    <tr>\n",
       "      <th>856</th>\n",
       "      <td>857</td>\n",
       "      <td>80</td>\n",
       "      <td>RL</td>\n",
       "      <td>NaN</td>\n",
       "      <td>10970</td>\n",
       "      <td>Pave</td>\n",
       "      <td>NaN</td>\n",
       "      <td>IR1</td>\n",
       "      <td>Low</td>\n",
       "      <td>AllPub</td>\n",
       "      <td>...</td>\n",
       "      <td>0</td>\n",
       "      <td>NaN</td>\n",
       "      <td>MnPrv</td>\n",
       "      <td>NaN</td>\n",
       "      <td>0</td>\n",
       "      <td>10</td>\n",
       "      <td>2008</td>\n",
       "      <td>WD</td>\n",
       "      <td>Normal</td>\n",
       "      <td>11.898195</td>\n",
       "    </tr>\n",
       "    <tr>\n",
       "      <th>857</th>\n",
       "      <td>858</td>\n",
       "      <td>60</td>\n",
       "      <td>RL</td>\n",
       "      <td>65.0</td>\n",
       "      <td>8125</td>\n",
       "      <td>Pave</td>\n",
       "      <td>NaN</td>\n",
       "      <td>Reg</td>\n",
       "      <td>Lvl</td>\n",
       "      <td>AllPub</td>\n",
       "      <td>...</td>\n",
       "      <td>0</td>\n",
       "      <td>NaN</td>\n",
       "      <td>NaN</td>\n",
       "      <td>NaN</td>\n",
       "      <td>0</td>\n",
       "      <td>3</td>\n",
       "      <td>2009</td>\n",
       "      <td>WD</td>\n",
       "      <td>Normal</td>\n",
       "      <td>12.066816</td>\n",
       "    </tr>\n",
       "    <tr>\n",
       "      <th>858</th>\n",
       "      <td>859</td>\n",
       "      <td>20</td>\n",
       "      <td>RL</td>\n",
       "      <td>80.0</td>\n",
       "      <td>10400</td>\n",
       "      <td>Pave</td>\n",
       "      <td>NaN</td>\n",
       "      <td>Reg</td>\n",
       "      <td>Lvl</td>\n",
       "      <td>AllPub</td>\n",
       "      <td>...</td>\n",
       "      <td>0</td>\n",
       "      <td>NaN</td>\n",
       "      <td>MnPrv</td>\n",
       "      <td>NaN</td>\n",
       "      <td>0</td>\n",
       "      <td>6</td>\n",
       "      <td>2009</td>\n",
       "      <td>WD</td>\n",
       "      <td>Family</td>\n",
       "      <td>11.931642</td>\n",
       "    </tr>\n",
       "    <tr>\n",
       "      <th>859</th>\n",
       "      <td>860</td>\n",
       "      <td>60</td>\n",
       "      <td>RL</td>\n",
       "      <td>NaN</td>\n",
       "      <td>11029</td>\n",
       "      <td>Pave</td>\n",
       "      <td>NaN</td>\n",
       "      <td>IR1</td>\n",
       "      <td>Lvl</td>\n",
       "      <td>AllPub</td>\n",
       "      <td>...</td>\n",
       "      <td>0</td>\n",
       "      <td>NaN</td>\n",
       "      <td>NaN</td>\n",
       "      <td>NaN</td>\n",
       "      <td>0</td>\n",
       "      <td>8</td>\n",
       "      <td>2006</td>\n",
       "      <td>WD</td>\n",
       "      <td>Normal</td>\n",
       "      <td>12.429220</td>\n",
       "    </tr>\n",
       "  </tbody>\n",
       "</table>\n",
       "<p>860 rows × 81 columns</p>\n",
       "</div>"
      ],
      "text/plain": [
       "      Id  MSSubClass MSZoning  LotFrontage  LotArea Street Alley LotShape  \\\n",
       "0      1          60       RL         65.0     8450   Pave   NaN      Reg   \n",
       "1      2          20       RL         80.0     9600   Pave   NaN      Reg   \n",
       "2      3          60       RL         68.0    11250   Pave   NaN      IR1   \n",
       "3      4          70       RL         60.0     9550   Pave   NaN      IR1   \n",
       "4      5          60       RL         84.0    14260   Pave   NaN      IR1   \n",
       "..   ...         ...      ...          ...      ...    ...   ...      ...   \n",
       "855  856          20       RL          NaN     6897   Pave   NaN      IR1   \n",
       "856  857          80       RL          NaN    10970   Pave   NaN      IR1   \n",
       "857  858          60       RL         65.0     8125   Pave   NaN      Reg   \n",
       "858  859          20       RL         80.0    10400   Pave   NaN      Reg   \n",
       "859  860          60       RL          NaN    11029   Pave   NaN      IR1   \n",
       "\n",
       "    LandContour Utilities  ... PoolArea PoolQC  Fence MiscFeature MiscVal  \\\n",
       "0           Lvl    AllPub  ...        0    NaN    NaN         NaN       0   \n",
       "1           Lvl    AllPub  ...        0    NaN    NaN         NaN       0   \n",
       "2           Lvl    AllPub  ...        0    NaN    NaN         NaN       0   \n",
       "3           Lvl    AllPub  ...        0    NaN    NaN         NaN       0   \n",
       "4           Lvl    AllPub  ...        0    NaN    NaN         NaN       0   \n",
       "..          ...       ...  ...      ...    ...    ...         ...     ...   \n",
       "855         Lvl    AllPub  ...        0    NaN    NaN         NaN       0   \n",
       "856         Low    AllPub  ...        0    NaN  MnPrv         NaN       0   \n",
       "857         Lvl    AllPub  ...        0    NaN    NaN         NaN       0   \n",
       "858         Lvl    AllPub  ...        0    NaN  MnPrv         NaN       0   \n",
       "859         Lvl    AllPub  ...        0    NaN    NaN         NaN       0   \n",
       "\n",
       "    MoSold YrSold  SaleType  SaleCondition  SalePrice  \n",
       "0        2   2008        WD         Normal  12.247699  \n",
       "1        5   2007        WD         Normal  12.109016  \n",
       "2        9   2008        WD         Normal  12.317171  \n",
       "3        2   2006        WD        Abnorml  11.849405  \n",
       "4       12   2008        WD         Normal  12.429220  \n",
       "..     ...    ...       ...            ...        ...  \n",
       "855      4   2010        WD         Normal  11.751950  \n",
       "856     10   2008        WD         Normal  11.898195  \n",
       "857      3   2009        WD         Normal  12.066816  \n",
       "858      6   2009        WD         Family  11.931642  \n",
       "859      8   2006        WD         Normal  12.429220  \n",
       "\n",
       "[860 rows x 81 columns]"
      ]
     },
     "execution_count": 3,
     "metadata": {},
     "output_type": "execute_result"
    }
   ],
   "source": [
    "train"
   ]
  },
  {
   "cell_type": "code",
   "execution_count": 4,
   "metadata": {
    "_cell_guid": "ff37c1ba-8679-49e0-b3c8-9c53d01b1b04",
    "_execution_state": "idle",
    "_uuid": "816b1463b3dd0daf44949a1fa15ebfbc0e2f1235"
   },
   "outputs": [
    {
     "data": {
      "text/html": [
       "<div>\n",
       "<style scoped>\n",
       "    .dataframe tbody tr th:only-of-type {\n",
       "        vertical-align: middle;\n",
       "    }\n",
       "\n",
       "    .dataframe tbody tr th {\n",
       "        vertical-align: top;\n",
       "    }\n",
       "\n",
       "    .dataframe thead th {\n",
       "        text-align: right;\n",
       "    }\n",
       "</style>\n",
       "<table border=\"1\" class=\"dataframe\">\n",
       "  <thead>\n",
       "    <tr style=\"text-align: right;\">\n",
       "      <th></th>\n",
       "      <th>Id</th>\n",
       "      <th>MSSubClass</th>\n",
       "      <th>MSZoning</th>\n",
       "      <th>LotFrontage</th>\n",
       "      <th>LotArea</th>\n",
       "      <th>Street</th>\n",
       "      <th>Alley</th>\n",
       "      <th>LotShape</th>\n",
       "      <th>LandContour</th>\n",
       "      <th>Utilities</th>\n",
       "      <th>...</th>\n",
       "      <th>ScreenPorch</th>\n",
       "      <th>PoolArea</th>\n",
       "      <th>PoolQC</th>\n",
       "      <th>Fence</th>\n",
       "      <th>MiscFeature</th>\n",
       "      <th>MiscVal</th>\n",
       "      <th>MoSold</th>\n",
       "      <th>YrSold</th>\n",
       "      <th>SaleType</th>\n",
       "      <th>SaleCondition</th>\n",
       "    </tr>\n",
       "  </thead>\n",
       "  <tbody>\n",
       "    <tr>\n",
       "      <th>0</th>\n",
       "      <td>861</td>\n",
       "      <td>50</td>\n",
       "      <td>RL</td>\n",
       "      <td>55.0</td>\n",
       "      <td>7642</td>\n",
       "      <td>Pave</td>\n",
       "      <td>NaN</td>\n",
       "      <td>Reg</td>\n",
       "      <td>Lvl</td>\n",
       "      <td>AllPub</td>\n",
       "      <td>...</td>\n",
       "      <td>0</td>\n",
       "      <td>0</td>\n",
       "      <td>NaN</td>\n",
       "      <td>GdPrv</td>\n",
       "      <td>NaN</td>\n",
       "      <td>0</td>\n",
       "      <td>6</td>\n",
       "      <td>2007</td>\n",
       "      <td>WD</td>\n",
       "      <td>Normal</td>\n",
       "    </tr>\n",
       "    <tr>\n",
       "      <th>1</th>\n",
       "      <td>862</td>\n",
       "      <td>190</td>\n",
       "      <td>RL</td>\n",
       "      <td>75.0</td>\n",
       "      <td>11625</td>\n",
       "      <td>Pave</td>\n",
       "      <td>NaN</td>\n",
       "      <td>Reg</td>\n",
       "      <td>Lvl</td>\n",
       "      <td>AllPub</td>\n",
       "      <td>...</td>\n",
       "      <td>0</td>\n",
       "      <td>0</td>\n",
       "      <td>NaN</td>\n",
       "      <td>NaN</td>\n",
       "      <td>NaN</td>\n",
       "      <td>0</td>\n",
       "      <td>4</td>\n",
       "      <td>2010</td>\n",
       "      <td>WD</td>\n",
       "      <td>Normal</td>\n",
       "    </tr>\n",
       "    <tr>\n",
       "      <th>2</th>\n",
       "      <td>863</td>\n",
       "      <td>20</td>\n",
       "      <td>RL</td>\n",
       "      <td>81.0</td>\n",
       "      <td>9672</td>\n",
       "      <td>Pave</td>\n",
       "      <td>NaN</td>\n",
       "      <td>Reg</td>\n",
       "      <td>Lvl</td>\n",
       "      <td>AllPub</td>\n",
       "      <td>...</td>\n",
       "      <td>0</td>\n",
       "      <td>0</td>\n",
       "      <td>NaN</td>\n",
       "      <td>GdPrv</td>\n",
       "      <td>NaN</td>\n",
       "      <td>0</td>\n",
       "      <td>5</td>\n",
       "      <td>2010</td>\n",
       "      <td>WD</td>\n",
       "      <td>Normal</td>\n",
       "    </tr>\n",
       "    <tr>\n",
       "      <th>3</th>\n",
       "      <td>864</td>\n",
       "      <td>20</td>\n",
       "      <td>RL</td>\n",
       "      <td>70.0</td>\n",
       "      <td>7931</td>\n",
       "      <td>Pave</td>\n",
       "      <td>NaN</td>\n",
       "      <td>Reg</td>\n",
       "      <td>Lvl</td>\n",
       "      <td>AllPub</td>\n",
       "      <td>...</td>\n",
       "      <td>0</td>\n",
       "      <td>0</td>\n",
       "      <td>NaN</td>\n",
       "      <td>GdPrv</td>\n",
       "      <td>NaN</td>\n",
       "      <td>0</td>\n",
       "      <td>7</td>\n",
       "      <td>2009</td>\n",
       "      <td>WD</td>\n",
       "      <td>Normal</td>\n",
       "    </tr>\n",
       "    <tr>\n",
       "      <th>4</th>\n",
       "      <td>865</td>\n",
       "      <td>20</td>\n",
       "      <td>FV</td>\n",
       "      <td>72.0</td>\n",
       "      <td>8640</td>\n",
       "      <td>Pave</td>\n",
       "      <td>NaN</td>\n",
       "      <td>Reg</td>\n",
       "      <td>Lvl</td>\n",
       "      <td>AllPub</td>\n",
       "      <td>...</td>\n",
       "      <td>0</td>\n",
       "      <td>0</td>\n",
       "      <td>NaN</td>\n",
       "      <td>NaN</td>\n",
       "      <td>NaN</td>\n",
       "      <td>0</td>\n",
       "      <td>5</td>\n",
       "      <td>2008</td>\n",
       "      <td>New</td>\n",
       "      <td>Partial</td>\n",
       "    </tr>\n",
       "    <tr>\n",
       "      <th>...</th>\n",
       "      <td>...</td>\n",
       "      <td>...</td>\n",
       "      <td>...</td>\n",
       "      <td>...</td>\n",
       "      <td>...</td>\n",
       "      <td>...</td>\n",
       "      <td>...</td>\n",
       "      <td>...</td>\n",
       "      <td>...</td>\n",
       "      <td>...</td>\n",
       "      <td>...</td>\n",
       "      <td>...</td>\n",
       "      <td>...</td>\n",
       "      <td>...</td>\n",
       "      <td>...</td>\n",
       "      <td>...</td>\n",
       "      <td>...</td>\n",
       "      <td>...</td>\n",
       "      <td>...</td>\n",
       "      <td>...</td>\n",
       "      <td>...</td>\n",
       "    </tr>\n",
       "    <tr>\n",
       "      <th>595</th>\n",
       "      <td>1456</td>\n",
       "      <td>60</td>\n",
       "      <td>RL</td>\n",
       "      <td>62.0</td>\n",
       "      <td>7917</td>\n",
       "      <td>Pave</td>\n",
       "      <td>NaN</td>\n",
       "      <td>Reg</td>\n",
       "      <td>Lvl</td>\n",
       "      <td>AllPub</td>\n",
       "      <td>...</td>\n",
       "      <td>0</td>\n",
       "      <td>0</td>\n",
       "      <td>NaN</td>\n",
       "      <td>NaN</td>\n",
       "      <td>NaN</td>\n",
       "      <td>0</td>\n",
       "      <td>8</td>\n",
       "      <td>2007</td>\n",
       "      <td>WD</td>\n",
       "      <td>Normal</td>\n",
       "    </tr>\n",
       "    <tr>\n",
       "      <th>596</th>\n",
       "      <td>1457</td>\n",
       "      <td>20</td>\n",
       "      <td>RL</td>\n",
       "      <td>85.0</td>\n",
       "      <td>13175</td>\n",
       "      <td>Pave</td>\n",
       "      <td>NaN</td>\n",
       "      <td>Reg</td>\n",
       "      <td>Lvl</td>\n",
       "      <td>AllPub</td>\n",
       "      <td>...</td>\n",
       "      <td>0</td>\n",
       "      <td>0</td>\n",
       "      <td>NaN</td>\n",
       "      <td>MnPrv</td>\n",
       "      <td>NaN</td>\n",
       "      <td>0</td>\n",
       "      <td>2</td>\n",
       "      <td>2010</td>\n",
       "      <td>WD</td>\n",
       "      <td>Normal</td>\n",
       "    </tr>\n",
       "    <tr>\n",
       "      <th>597</th>\n",
       "      <td>1458</td>\n",
       "      <td>70</td>\n",
       "      <td>RL</td>\n",
       "      <td>66.0</td>\n",
       "      <td>9042</td>\n",
       "      <td>Pave</td>\n",
       "      <td>NaN</td>\n",
       "      <td>Reg</td>\n",
       "      <td>Lvl</td>\n",
       "      <td>AllPub</td>\n",
       "      <td>...</td>\n",
       "      <td>0</td>\n",
       "      <td>0</td>\n",
       "      <td>NaN</td>\n",
       "      <td>GdPrv</td>\n",
       "      <td>Shed</td>\n",
       "      <td>2500</td>\n",
       "      <td>5</td>\n",
       "      <td>2010</td>\n",
       "      <td>WD</td>\n",
       "      <td>Normal</td>\n",
       "    </tr>\n",
       "    <tr>\n",
       "      <th>598</th>\n",
       "      <td>1459</td>\n",
       "      <td>20</td>\n",
       "      <td>RL</td>\n",
       "      <td>68.0</td>\n",
       "      <td>9717</td>\n",
       "      <td>Pave</td>\n",
       "      <td>NaN</td>\n",
       "      <td>Reg</td>\n",
       "      <td>Lvl</td>\n",
       "      <td>AllPub</td>\n",
       "      <td>...</td>\n",
       "      <td>0</td>\n",
       "      <td>0</td>\n",
       "      <td>NaN</td>\n",
       "      <td>NaN</td>\n",
       "      <td>NaN</td>\n",
       "      <td>0</td>\n",
       "      <td>4</td>\n",
       "      <td>2010</td>\n",
       "      <td>WD</td>\n",
       "      <td>Normal</td>\n",
       "    </tr>\n",
       "    <tr>\n",
       "      <th>599</th>\n",
       "      <td>1460</td>\n",
       "      <td>20</td>\n",
       "      <td>RL</td>\n",
       "      <td>75.0</td>\n",
       "      <td>9937</td>\n",
       "      <td>Pave</td>\n",
       "      <td>NaN</td>\n",
       "      <td>Reg</td>\n",
       "      <td>Lvl</td>\n",
       "      <td>AllPub</td>\n",
       "      <td>...</td>\n",
       "      <td>0</td>\n",
       "      <td>0</td>\n",
       "      <td>NaN</td>\n",
       "      <td>NaN</td>\n",
       "      <td>NaN</td>\n",
       "      <td>0</td>\n",
       "      <td>6</td>\n",
       "      <td>2008</td>\n",
       "      <td>WD</td>\n",
       "      <td>Normal</td>\n",
       "    </tr>\n",
       "  </tbody>\n",
       "</table>\n",
       "<p>600 rows × 80 columns</p>\n",
       "</div>"
      ],
      "text/plain": [
       "       Id  MSSubClass MSZoning  LotFrontage  LotArea Street Alley LotShape  \\\n",
       "0     861          50       RL         55.0     7642   Pave   NaN      Reg   \n",
       "1     862         190       RL         75.0    11625   Pave   NaN      Reg   \n",
       "2     863          20       RL         81.0     9672   Pave   NaN      Reg   \n",
       "3     864          20       RL         70.0     7931   Pave   NaN      Reg   \n",
       "4     865          20       FV         72.0     8640   Pave   NaN      Reg   \n",
       "..    ...         ...      ...          ...      ...    ...   ...      ...   \n",
       "595  1456          60       RL         62.0     7917   Pave   NaN      Reg   \n",
       "596  1457          20       RL         85.0    13175   Pave   NaN      Reg   \n",
       "597  1458          70       RL         66.0     9042   Pave   NaN      Reg   \n",
       "598  1459          20       RL         68.0     9717   Pave   NaN      Reg   \n",
       "599  1460          20       RL         75.0     9937   Pave   NaN      Reg   \n",
       "\n",
       "    LandContour Utilities  ... ScreenPorch PoolArea PoolQC  Fence MiscFeature  \\\n",
       "0           Lvl    AllPub  ...           0        0    NaN  GdPrv         NaN   \n",
       "1           Lvl    AllPub  ...           0        0    NaN    NaN         NaN   \n",
       "2           Lvl    AllPub  ...           0        0    NaN  GdPrv         NaN   \n",
       "3           Lvl    AllPub  ...           0        0    NaN  GdPrv         NaN   \n",
       "4           Lvl    AllPub  ...           0        0    NaN    NaN         NaN   \n",
       "..          ...       ...  ...         ...      ...    ...    ...         ...   \n",
       "595         Lvl    AllPub  ...           0        0    NaN    NaN         NaN   \n",
       "596         Lvl    AllPub  ...           0        0    NaN  MnPrv         NaN   \n",
       "597         Lvl    AllPub  ...           0        0    NaN  GdPrv        Shed   \n",
       "598         Lvl    AllPub  ...           0        0    NaN    NaN         NaN   \n",
       "599         Lvl    AllPub  ...           0        0    NaN    NaN         NaN   \n",
       "\n",
       "    MiscVal MoSold  YrSold  SaleType  SaleCondition  \n",
       "0         0      6    2007        WD         Normal  \n",
       "1         0      4    2010        WD         Normal  \n",
       "2         0      5    2010        WD         Normal  \n",
       "3         0      7    2009        WD         Normal  \n",
       "4         0      5    2008       New        Partial  \n",
       "..      ...    ...     ...       ...            ...  \n",
       "595       0      8    2007        WD         Normal  \n",
       "596       0      2    2010        WD         Normal  \n",
       "597    2500      5    2010        WD         Normal  \n",
       "598       0      4    2010        WD         Normal  \n",
       "599       0      6    2008        WD         Normal  \n",
       "\n",
       "[600 rows x 80 columns]"
      ]
     },
     "execution_count": 4,
     "metadata": {},
     "output_type": "execute_result"
    }
   ],
   "source": [
    "test"
   ]
  },
  {
   "cell_type": "code",
   "execution_count": 5,
   "metadata": {
    "_cell_guid": "b24451a1-fb8c-4094-ad0b-0940469d07fc",
    "_execution_state": "idle",
    "_uuid": "687813c270cbfdedccc7a9e4ec9fbb78a99d54ed"
   },
   "outputs": [
    {
     "name": "stdout",
     "output_type": "stream",
     "text": [
      "The train data size before dropping Id feature is : (860, 81) \n",
      "The test data size before dropping Id feature is : (600, 80) \n",
      "\n",
      "The train data size after dropping Id feature is : (860, 80) \n",
      "The test data size after dropping Id feature is : (600, 79) \n"
     ]
    }
   ],
   "source": [
    "#check the numbers of samples and features\n",
    "print(\"The train data size before dropping Id feature is : {} \".format(train.shape))\n",
    "print(\"The test data size before dropping Id feature is : {} \".format(test.shape))\n",
    "\n",
    "#Save the 'Id' column\n",
    "train_ID = train['Id']\n",
    "test_ID = test['Id']\n",
    "\n",
    "#Now drop the  'Id' colum since it's unnecessary for  the prediction process.\n",
    "train.drop(\"Id\", axis = 1, inplace = True)\n",
    "test.drop(\"Id\", axis = 1, inplace = True)\n",
    "\n",
    "#check again the data size after dropping the 'Id' variable\n",
    "print(\"\\nThe train data size after dropping Id feature is : {} \".format(train.shape)) \n",
    "print(\"The test data size after dropping Id feature is : {} \".format(test.shape))"
   ]
  },
  {
   "cell_type": "markdown",
   "metadata": {
    "_cell_guid": "7d5829c4-b2f1-4ef3-8b02-11f02eb7aabf",
    "_execution_state": "idle",
    "_uuid": "228cb602f1c7a47d3c5250514cab57f7e7bc75e5"
   },
   "source": [
    "# <span style=\"color:blue\"> Data Processing 전처리 같이 해봅시다"
   ]
  },
  {
   "cell_type": "code",
   "execution_count": 6,
   "metadata": {
    "_cell_guid": "637bd0fd-7508-41d1-b240-ea0e8598dddf",
    "_execution_state": "idle",
    "_uuid": "8903aa1a4a700aa2160edb3baf806f3800ae7d9a"
   },
   "outputs": [
    {
     "data": {
      "image/png": "[encoded data removed]",
      "text/plain": [
       "<Figure size 432x288 with 1 Axes>"
      ]
     },
     "metadata": {},
     "output_type": "display_data"
    }
   ],
   "source": [
    "fig, ax = plt.subplots()\n",
    "ax.scatter(x = train['GrLivArea'], y = train['SalePrice'])\n",
    "plt.ylabel('SalePrice', fontsize=13)\n",
    "plt.xlabel('GrLivArea', fontsize=13)\n",
    "plt.show()"
   ]
  },
  {
   "cell_type": "markdown",
   "metadata": {},
   "source": [
    "**Q1. 위 그림에서 이상치로 판단되는 데이터를 제거하시오.**\n",
    "\n",
    "**사람마다 기준은 다르나 저는 오른쪽 따로노는 아이가 이상하군요....?**"
   ]
  },
  {
   "cell_type": "code",
   "execution_count": 7,
   "metadata": {
    "_cell_guid": "6c5780b2-d4a8-42d9-b902-c6a23eef7d99",
    "_execution_state": "idle",
    "_uuid": "583bb417102d7bebb4aaf14bcb1aebcae86443bb"
   },
   "outputs": [
    {
     "data": {
      "image/png": "[encoded data removed]",
      "text/plain": [
       "<Figure size 432x288 with 1 Axes>"
      ]
     },
     "metadata": {},
     "output_type": "display_data"
    }
   ],
   "source": [
    "#Deleting outliers\n",
    "train = train.drop(train[train['GrLivArea'] > 4500].index)\n",
    "\n",
    "#Check the graphic again\n",
    "fig, ax = plt.subplots()\n",
    "ax.scatter(train['GrLivArea'], train['SalePrice'])\n",
    "plt.ylabel('SalePrice', fontsize=13)\n",
    "plt.xlabel('GrLivArea', fontsize=13)\n",
    "plt.show()"
   ]
  },
  {
   "cell_type": "markdown",
   "metadata": {
    "_cell_guid": "802df76d-0e0b-4868-ba16-91335568d2d7",
    "_execution_state": "idle",
    "_uuid": "827a86d65c6d176f4af55224b91b44a47966652d"
   },
   "source": [
    "## Features engineering"
   ]
  },
  {
   "cell_type": "code",
   "execution_count": 8,
   "metadata": {
    "_cell_guid": "1bd3e9b9-2f42-4251-aadd-5ced84eb1a27",
    "_execution_state": "idle",
    "_uuid": "efc576211e4eed962f04cd94d901c667e6912528"
   },
   "outputs": [
    {
     "name": "stdout",
     "output_type": "stream",
     "text": [
      "all_data size is : (1459, 79)\n"
     ]
    }
   ],
   "source": [
    "ntrain = train.shape[0]\n",
    "ntest = test.shape[0]\n",
    "y_train = train.SalePrice.values\n",
    "all_data = pd.concat((train, test)).reset_index(drop=True)\n",
    "all_data.drop(['SalePrice'], axis=1, inplace=True)\n",
    "print(\"all_data size is : {}\".format(all_data.shape))"
   ]
  },
  {
   "cell_type": "markdown",
   "metadata": {
    "_cell_guid": "9ce95008-a3b9-43fa-bc4e-649ca0f43768",
    "_execution_state": "idle",
    "_uuid": "abe25f3032a0bed179d58d5911cb42d97b35841b"
   },
   "source": [
    "### Missing Data"
   ]
  },
  {
   "cell_type": "code",
   "execution_count": 9,
   "metadata": {
    "_cell_guid": "501b465f-8c80-4b93-81d0-a5d41e08d235",
    "_execution_state": "idle",
    "_uuid": "f97d25548ec8f6c02e2d1ee5a6df6c3d107fdf53",
    "scrolled": true
   },
   "outputs": [
    {
     "data": {
      "text/html": [
       "<div>\n",
       "<style scoped>\n",
       "    .dataframe tbody tr th:only-of-type {\n",
       "        vertical-align: middle;\n",
       "    }\n",
       "\n",
       "    .dataframe tbody tr th {\n",
       "        vertical-align: top;\n",
       "    }\n",
       "\n",
       "    .dataframe thead th {\n",
       "        text-align: right;\n",
       "    }\n",
       "</style>\n",
       "<table border=\"1\" class=\"dataframe\">\n",
       "  <thead>\n",
       "    <tr style=\"text-align: right;\">\n",
       "      <th></th>\n",
       "      <th>Missing Ratio</th>\n",
       "    </tr>\n",
       "  </thead>\n",
       "  <tbody>\n",
       "    <tr>\n",
       "      <th>PoolQC</th>\n",
       "      <td>99.520219</td>\n",
       "    </tr>\n",
       "    <tr>\n",
       "      <th>MiscFeature</th>\n",
       "      <td>96.298835</td>\n",
       "    </tr>\n",
       "    <tr>\n",
       "      <th>Alley</th>\n",
       "      <td>93.762851</td>\n",
       "    </tr>\n",
       "    <tr>\n",
       "      <th>Fence</th>\n",
       "      <td>80.740233</td>\n",
       "    </tr>\n",
       "    <tr>\n",
       "      <th>FireplaceQu</th>\n",
       "      <td>47.292666</td>\n",
       "    </tr>\n",
       "    <tr>\n",
       "      <th>LotFrontage</th>\n",
       "      <td>17.751885</td>\n",
       "    </tr>\n",
       "    <tr>\n",
       "      <th>GarageYrBlt</th>\n",
       "      <td>5.551748</td>\n",
       "    </tr>\n",
       "    <tr>\n",
       "      <th>GarageType</th>\n",
       "      <td>5.551748</td>\n",
       "    </tr>\n",
       "    <tr>\n",
       "      <th>GarageQual</th>\n",
       "      <td>5.551748</td>\n",
       "    </tr>\n",
       "    <tr>\n",
       "      <th>GarageFinish</th>\n",
       "      <td>5.551748</td>\n",
       "    </tr>\n",
       "    <tr>\n",
       "      <th>GarageCond</th>\n",
       "      <td>5.551748</td>\n",
       "    </tr>\n",
       "    <tr>\n",
       "      <th>BsmtFinType2</th>\n",
       "      <td>2.604524</td>\n",
       "    </tr>\n",
       "    <tr>\n",
       "      <th>BsmtExposure</th>\n",
       "      <td>2.604524</td>\n",
       "    </tr>\n",
       "    <tr>\n",
       "      <th>BsmtQual</th>\n",
       "      <td>2.535984</td>\n",
       "    </tr>\n",
       "    <tr>\n",
       "      <th>BsmtFinType1</th>\n",
       "      <td>2.535984</td>\n",
       "    </tr>\n",
       "    <tr>\n",
       "      <th>BsmtCond</th>\n",
       "      <td>2.535984</td>\n",
       "    </tr>\n",
       "    <tr>\n",
       "      <th>MasVnrArea</th>\n",
       "      <td>0.548321</td>\n",
       "    </tr>\n",
       "    <tr>\n",
       "      <th>MasVnrType</th>\n",
       "      <td>0.548321</td>\n",
       "    </tr>\n",
       "    <tr>\n",
       "      <th>Electrical</th>\n",
       "      <td>0.068540</td>\n",
       "    </tr>\n",
       "  </tbody>\n",
       "</table>\n",
       "</div>"
      ],
      "text/plain": [
       "              Missing Ratio\n",
       "PoolQC            99.520219\n",
       "MiscFeature       96.298835\n",
       "Alley             93.762851\n",
       "Fence             80.740233\n",
       "FireplaceQu       47.292666\n",
       "LotFrontage       17.751885\n",
       "GarageYrBlt        5.551748\n",
       "GarageType         5.551748\n",
       "GarageQual         5.551748\n",
       "GarageFinish       5.551748\n",
       "GarageCond         5.551748\n",
       "BsmtFinType2       2.604524\n",
       "BsmtExposure       2.604524\n",
       "BsmtQual           2.535984\n",
       "BsmtFinType1       2.535984\n",
       "BsmtCond           2.535984\n",
       "MasVnrArea         0.548321\n",
       "MasVnrType         0.548321\n",
       "Electrical         0.068540"
      ]
     },
     "execution_count": 9,
     "metadata": {},
     "output_type": "execute_result"
    }
   ],
   "source": [
    "all_data_na = (all_data.isnull().sum() / len(all_data)) * 100\n",
    "all_data_na = all_data_na.drop(all_data_na[all_data_na == 0].index).sort_values(ascending=False)[:30]\n",
    "missing_data = pd.DataFrame({'Missing Ratio' :all_data_na})\n",
    "missing_data.head(20)"
   ]
  },
  {
   "cell_type": "code",
   "execution_count": 10,
   "metadata": {
    "_cell_guid": "1c80610d-8f19-43c8-bd54-7d786b0dca49",
    "_execution_state": "idle",
    "_uuid": "2eb6e1361884db6a4f65afc3b158fcbe85c2392e",
    "scrolled": false
   },
   "outputs": [
    {
     "data": {
      "text/plain": [
       "Text(0.5, 1.0, 'Percent missing data by feature')"
      ]
     },
     "execution_count": 10,
     "metadata": {},
     "output_type": "execute_result"
    },
    {
     "data": {
      "image/png": "[encoded data removed]",
      "text/plain": [
       "<Figure size 1080x864 with 1 Axes>"
      ]
     },
     "metadata": {},
     "output_type": "display_data"
    }
   ],
   "source": [
    "f, ax = plt.subplots(figsize=(15, 12))\n",
    "plt.xticks(rotation='90')\n",
    "sns.barplot(x=all_data_na.index, y=all_data_na)\n",
    "plt.xlabel('Features', fontsize=15)\n",
    "plt.ylabel('Percent of missing values', fontsize=15)\n",
    "plt.title('Percent missing data by feature', fontsize=15)"
   ]
  },
  {
   "cell_type": "markdown",
   "metadata": {
    "_cell_guid": "5d88502a-2484-45d7-a750-0d32075133dd",
    "_execution_state": "idle",
    "_uuid": "dbf28eddefa2c0825781a31cde823ac5ece5a1ee"
   },
   "source": [
    "**Data Correlation**\n"
   ]
  },
  {
   "cell_type": "code",
   "execution_count": 11,
   "metadata": {
    "_cell_guid": "3fc115c7-33bb-456d-b3e5-4dd985bfbc9f",
    "_execution_state": "idle",
    "_uuid": "0f6b9912c752212f3f4bdca0b60f5fd01c12d2a0"
   },
   "outputs": [
    {
     "data": {
      "text/plain": [
       "<matplotlib.axes._subplots.AxesSubplot at 0x2906772ed48>"
      ]
     },
     "execution_count": 11,
     "metadata": {},
     "output_type": "execute_result"
    },
    {
     "data": {
      "image/png": "[encoded data removed]",
      "text/plain": [
       "<Figure size 864x648 with 2 Axes>"
      ]
     },
     "metadata": {},
     "output_type": "display_data"
    }
   ],
   "source": [
    "#Correlation map to see how features are correlated with SalePrice\n",
    "corrmat = train.corr()\n",
    "plt.subplots(figsize=(12,9))\n",
    "sns.heatmap(corrmat, vmax=0.9, square=True)"
   ]
  },
  {
   "cell_type": "markdown",
   "metadata": {
    "_cell_guid": "cd681698-02d2-473e-bfc8-2d98a1353a18",
    "_execution_state": "idle",
    "_uuid": "41a6b40f8f03212a624f54167cad456a9f193f93"
   },
   "source": [
    "## Imputing missing values "
   ]
  },
  {
   "cell_type": "markdown",
   "metadata": {},
   "source": [
    "**Q3.결측치를 None으로 바꿔봅시다**  \n",
    "**그냥 바꾸지만 마시고 왜 None으로 바꾸는지 한번 생각해보세요**"
   ]
  },
  {
   "cell_type": "markdown",
   "metadata": {
    "_cell_guid": "6f7d94ef-5ffb-4e1b-b1a2-a917cce3f357",
    "_execution_state": "idle",
    "_uuid": "d6d054aff0098e4e602ef618e0a4d3706d71dd66"
   },
   "source": [
    "- **PoolQC** : data description says NA means \"No  Pool\". That make sense, given the huge ratio of missing value (+99%) and majority of houses have no Pool at all in general. "
   ]
  },
  {
   "cell_type": "code",
   "execution_count": 12,
   "metadata": {
    "_cell_guid": "ca8a04eb-f42b-4c26-a690-bb98c95c6118",
    "_execution_state": "idle",
    "_uuid": "1d94b062f7683d711d479e48530009040185fd4c"
   },
   "outputs": [],
   "source": [
    "all_data[\"PoolQC\"] = all_data[\"PoolQC\"].fillna(\"None\")"
   ]
  },
  {
   "cell_type": "markdown",
   "metadata": {
    "_cell_guid": "ea3aecb9-b2e8-4cdc-853d-999f8e2f789c",
    "_execution_state": "idle",
    "_uuid": "0516efe507d7176591f6af3d503312db5038949a"
   },
   "source": [
    "- **MiscFeature** : data description says NA means \"no misc feature\"\n"
   ]
  },
  {
   "cell_type": "code",
   "execution_count": 13,
   "metadata": {
    "_cell_guid": "689863b8-4e4e-45d7-9972-8894e8defbe2",
    "_execution_state": "idle",
    "_uuid": "c311993a26d66d66ce82584a3e00d7ed56a3ea5a"
   },
   "outputs": [],
   "source": [
    "all_data[\"MiscFeature\"] = all_data[\"MiscFeature\"].fillna(\"None\")"
   ]
  },
  {
   "cell_type": "markdown",
   "metadata": {
    "_cell_guid": "d467b9e0-0793-41e5-aaa1-d1686946ba9f",
    "_execution_state": "idle",
    "_uuid": "44cfbd9eecce5e4f2bc91a72ed095270e6010f57"
   },
   "source": [
    "- **Alley** : data description says NA means \"no alley access\""
   ]
  },
  {
   "cell_type": "code",
   "execution_count": 14,
   "metadata": {
    "_cell_guid": "0f822e30-09f3-45f8-b09e-0ffed4ff985c",
    "_execution_state": "idle",
    "_uuid": "35709caf5cb2b0220cd9043f76462a116de15059"
   },
   "outputs": [],
   "source": [
    "all_data[\"Alley\"] = all_data[\"Alley\"].fillna(\"None\") "
   ]
  },
  {
   "cell_type": "markdown",
   "metadata": {
    "_cell_guid": "0bab3349-eddb-4977-acd5-8dad4553ff7f",
    "_execution_state": "idle",
    "_uuid": "3265fc176140dbf1b641e18f2d57b91554c85771"
   },
   "source": [
    "- **Fence** : data description says NA means \"no fence\""
   ]
  },
  {
   "cell_type": "code",
   "execution_count": 15,
   "metadata": {
    "_cell_guid": "c0d6e4f4-df14-467f-bab2-86bfd0493a35",
    "_execution_state": "idle",
    "_uuid": "6d9d6998298a7fea5677f0916bcc9f33dc99e231"
   },
   "outputs": [],
   "source": [
    "all_data[\"Fence\"] = all_data[\"Fence\"].fillna(\"None\") "
   ]
  },
  {
   "cell_type": "markdown",
   "metadata": {
    "_cell_guid": "49747765-81f1-4b23-ad63-534c7fe48b7a",
    "_execution_state": "idle",
    "_uuid": "4869889d4b2b118bc6dcef239cbc27546a7b445e"
   },
   "source": [
    "- **FireplaceQu** : data description says NA means \"no fireplace\""
   ]
  },
  {
   "cell_type": "code",
   "execution_count": 16,
   "metadata": {
    "_cell_guid": "22b88c5b-6419-424f-9805-2c2b11e85dca",
    "_execution_state": "idle",
    "_uuid": "fb8cdb59e4ecba1f7ec78eb3b34c7209c34b1c86"
   },
   "outputs": [],
   "source": [
    "all_data[\"FireplaceQu\"] = all_data[\"FireplaceQu\"].fillna(\"None\") "
   ]
  },
  {
   "cell_type": "code",
   "execution_count": 17,
   "metadata": {
    "scrolled": false
   },
   "outputs": [
    {
     "data": {
      "text/html": [
       "<div>\n",
       "<style scoped>\n",
       "    .dataframe tbody tr th:only-of-type {\n",
       "        vertical-align: middle;\n",
       "    }\n",
       "\n",
       "    .dataframe tbody tr th {\n",
       "        vertical-align: top;\n",
       "    }\n",
       "\n",
       "    .dataframe thead th {\n",
       "        text-align: right;\n",
       "    }\n",
       "</style>\n",
       "<table border=\"1\" class=\"dataframe\">\n",
       "  <thead>\n",
       "    <tr style=\"text-align: right;\">\n",
       "      <th></th>\n",
       "      <th>1stFlrSF</th>\n",
       "      <th>2ndFlrSF</th>\n",
       "      <th>3SsnPorch</th>\n",
       "      <th>Alley</th>\n",
       "      <th>BedroomAbvGr</th>\n",
       "      <th>BldgType</th>\n",
       "      <th>BsmtCond</th>\n",
       "      <th>BsmtExposure</th>\n",
       "      <th>BsmtFinSF1</th>\n",
       "      <th>BsmtFinSF2</th>\n",
       "      <th>...</th>\n",
       "      <th>SaleType</th>\n",
       "      <th>ScreenPorch</th>\n",
       "      <th>Street</th>\n",
       "      <th>TotRmsAbvGrd</th>\n",
       "      <th>TotalBsmtSF</th>\n",
       "      <th>Utilities</th>\n",
       "      <th>WoodDeckSF</th>\n",
       "      <th>YearBuilt</th>\n",
       "      <th>YearRemodAdd</th>\n",
       "      <th>YrSold</th>\n",
       "    </tr>\n",
       "  </thead>\n",
       "  <tbody>\n",
       "    <tr>\n",
       "      <th>0</th>\n",
       "      <td>856</td>\n",
       "      <td>854</td>\n",
       "      <td>0</td>\n",
       "      <td>None</td>\n",
       "      <td>3</td>\n",
       "      <td>1Fam</td>\n",
       "      <td>TA</td>\n",
       "      <td>No</td>\n",
       "      <td>706</td>\n",
       "      <td>0</td>\n",
       "      <td>...</td>\n",
       "      <td>WD</td>\n",
       "      <td>0</td>\n",
       "      <td>Pave</td>\n",
       "      <td>8</td>\n",
       "      <td>856</td>\n",
       "      <td>AllPub</td>\n",
       "      <td>0</td>\n",
       "      <td>2003</td>\n",
       "      <td>2003</td>\n",
       "      <td>2008</td>\n",
       "    </tr>\n",
       "    <tr>\n",
       "      <th>1</th>\n",
       "      <td>1262</td>\n",
       "      <td>0</td>\n",
       "      <td>0</td>\n",
       "      <td>None</td>\n",
       "      <td>3</td>\n",
       "      <td>1Fam</td>\n",
       "      <td>TA</td>\n",
       "      <td>Gd</td>\n",
       "      <td>978</td>\n",
       "      <td>0</td>\n",
       "      <td>...</td>\n",
       "      <td>WD</td>\n",
       "      <td>0</td>\n",
       "      <td>Pave</td>\n",
       "      <td>6</td>\n",
       "      <td>1262</td>\n",
       "      <td>AllPub</td>\n",
       "      <td>298</td>\n",
       "      <td>1976</td>\n",
       "      <td>1976</td>\n",
       "      <td>2007</td>\n",
       "    </tr>\n",
       "    <tr>\n",
       "      <th>2</th>\n",
       "      <td>920</td>\n",
       "      <td>866</td>\n",
       "      <td>0</td>\n",
       "      <td>None</td>\n",
       "      <td>3</td>\n",
       "      <td>1Fam</td>\n",
       "      <td>TA</td>\n",
       "      <td>Mn</td>\n",
       "      <td>486</td>\n",
       "      <td>0</td>\n",
       "      <td>...</td>\n",
       "      <td>WD</td>\n",
       "      <td>0</td>\n",
       "      <td>Pave</td>\n",
       "      <td>6</td>\n",
       "      <td>920</td>\n",
       "      <td>AllPub</td>\n",
       "      <td>0</td>\n",
       "      <td>2001</td>\n",
       "      <td>2002</td>\n",
       "      <td>2008</td>\n",
       "    </tr>\n",
       "    <tr>\n",
       "      <th>3</th>\n",
       "      <td>961</td>\n",
       "      <td>756</td>\n",
       "      <td>0</td>\n",
       "      <td>None</td>\n",
       "      <td>3</td>\n",
       "      <td>1Fam</td>\n",
       "      <td>Gd</td>\n",
       "      <td>No</td>\n",
       "      <td>216</td>\n",
       "      <td>0</td>\n",
       "      <td>...</td>\n",
       "      <td>WD</td>\n",
       "      <td>0</td>\n",
       "      <td>Pave</td>\n",
       "      <td>7</td>\n",
       "      <td>756</td>\n",
       "      <td>AllPub</td>\n",
       "      <td>0</td>\n",
       "      <td>1915</td>\n",
       "      <td>1970</td>\n",
       "      <td>2006</td>\n",
       "    </tr>\n",
       "    <tr>\n",
       "      <th>4</th>\n",
       "      <td>1145</td>\n",
       "      <td>1053</td>\n",
       "      <td>0</td>\n",
       "      <td>None</td>\n",
       "      <td>4</td>\n",
       "      <td>1Fam</td>\n",
       "      <td>TA</td>\n",
       "      <td>Av</td>\n",
       "      <td>655</td>\n",
       "      <td>0</td>\n",
       "      <td>...</td>\n",
       "      <td>WD</td>\n",
       "      <td>0</td>\n",
       "      <td>Pave</td>\n",
       "      <td>9</td>\n",
       "      <td>1145</td>\n",
       "      <td>AllPub</td>\n",
       "      <td>192</td>\n",
       "      <td>2000</td>\n",
       "      <td>2000</td>\n",
       "      <td>2008</td>\n",
       "    </tr>\n",
       "    <tr>\n",
       "      <th>...</th>\n",
       "      <td>...</td>\n",
       "      <td>...</td>\n",
       "      <td>...</td>\n",
       "      <td>...</td>\n",
       "      <td>...</td>\n",
       "      <td>...</td>\n",
       "      <td>...</td>\n",
       "      <td>...</td>\n",
       "      <td>...</td>\n",
       "      <td>...</td>\n",
       "      <td>...</td>\n",
       "      <td>...</td>\n",
       "      <td>...</td>\n",
       "      <td>...</td>\n",
       "      <td>...</td>\n",
       "      <td>...</td>\n",
       "      <td>...</td>\n",
       "      <td>...</td>\n",
       "      <td>...</td>\n",
       "      <td>...</td>\n",
       "      <td>...</td>\n",
       "    </tr>\n",
       "    <tr>\n",
       "      <th>1454</th>\n",
       "      <td>953</td>\n",
       "      <td>694</td>\n",
       "      <td>0</td>\n",
       "      <td>None</td>\n",
       "      <td>3</td>\n",
       "      <td>1Fam</td>\n",
       "      <td>TA</td>\n",
       "      <td>No</td>\n",
       "      <td>0</td>\n",
       "      <td>0</td>\n",
       "      <td>...</td>\n",
       "      <td>WD</td>\n",
       "      <td>0</td>\n",
       "      <td>Pave</td>\n",
       "      <td>7</td>\n",
       "      <td>953</td>\n",
       "      <td>AllPub</td>\n",
       "      <td>0</td>\n",
       "      <td>1999</td>\n",
       "      <td>2000</td>\n",
       "      <td>2007</td>\n",
       "    </tr>\n",
       "    <tr>\n",
       "      <th>1455</th>\n",
       "      <td>2073</td>\n",
       "      <td>0</td>\n",
       "      <td>0</td>\n",
       "      <td>None</td>\n",
       "      <td>3</td>\n",
       "      <td>1Fam</td>\n",
       "      <td>TA</td>\n",
       "      <td>No</td>\n",
       "      <td>790</td>\n",
       "      <td>163</td>\n",
       "      <td>...</td>\n",
       "      <td>WD</td>\n",
       "      <td>0</td>\n",
       "      <td>Pave</td>\n",
       "      <td>7</td>\n",
       "      <td>1542</td>\n",
       "      <td>AllPub</td>\n",
       "      <td>349</td>\n",
       "      <td>1978</td>\n",
       "      <td>1988</td>\n",
       "      <td>2010</td>\n",
       "    </tr>\n",
       "    <tr>\n",
       "      <th>1456</th>\n",
       "      <td>1188</td>\n",
       "      <td>1152</td>\n",
       "      <td>0</td>\n",
       "      <td>None</td>\n",
       "      <td>4</td>\n",
       "      <td>1Fam</td>\n",
       "      <td>Gd</td>\n",
       "      <td>No</td>\n",
       "      <td>275</td>\n",
       "      <td>0</td>\n",
       "      <td>...</td>\n",
       "      <td>WD</td>\n",
       "      <td>0</td>\n",
       "      <td>Pave</td>\n",
       "      <td>9</td>\n",
       "      <td>1152</td>\n",
       "      <td>AllPub</td>\n",
       "      <td>0</td>\n",
       "      <td>1941</td>\n",
       "      <td>2006</td>\n",
       "      <td>2010</td>\n",
       "    </tr>\n",
       "    <tr>\n",
       "      <th>1457</th>\n",
       "      <td>1078</td>\n",
       "      <td>0</td>\n",
       "      <td>0</td>\n",
       "      <td>None</td>\n",
       "      <td>2</td>\n",
       "      <td>1Fam</td>\n",
       "      <td>TA</td>\n",
       "      <td>Mn</td>\n",
       "      <td>49</td>\n",
       "      <td>1029</td>\n",
       "      <td>...</td>\n",
       "      <td>WD</td>\n",
       "      <td>0</td>\n",
       "      <td>Pave</td>\n",
       "      <td>5</td>\n",
       "      <td>1078</td>\n",
       "      <td>AllPub</td>\n",
       "      <td>366</td>\n",
       "      <td>1950</td>\n",
       "      <td>1996</td>\n",
       "      <td>2010</td>\n",
       "    </tr>\n",
       "    <tr>\n",
       "      <th>1458</th>\n",
       "      <td>1256</td>\n",
       "      <td>0</td>\n",
       "      <td>0</td>\n",
       "      <td>None</td>\n",
       "      <td>3</td>\n",
       "      <td>1Fam</td>\n",
       "      <td>TA</td>\n",
       "      <td>No</td>\n",
       "      <td>830</td>\n",
       "      <td>290</td>\n",
       "      <td>...</td>\n",
       "      <td>WD</td>\n",
       "      <td>0</td>\n",
       "      <td>Pave</td>\n",
       "      <td>6</td>\n",
       "      <td>1256</td>\n",
       "      <td>AllPub</td>\n",
       "      <td>736</td>\n",
       "      <td>1965</td>\n",
       "      <td>1965</td>\n",
       "      <td>2008</td>\n",
       "    </tr>\n",
       "  </tbody>\n",
       "</table>\n",
       "<p>1459 rows × 79 columns</p>\n",
       "</div>"
      ],
      "text/plain": [
       "      1stFlrSF  2ndFlrSF  3SsnPorch Alley  BedroomAbvGr BldgType BsmtCond  \\\n",
       "0          856       854          0  None             3     1Fam       TA   \n",
       "1         1262         0          0  None             3     1Fam       TA   \n",
       "2          920       866          0  None             3     1Fam       TA   \n",
       "3          961       756          0  None             3     1Fam       Gd   \n",
       "4         1145      1053          0  None             4     1Fam       TA   \n",
       "...        ...       ...        ...   ...           ...      ...      ...   \n",
       "1454       953       694          0  None             3     1Fam       TA   \n",
       "1455      2073         0          0  None             3     1Fam       TA   \n",
       "1456      1188      1152          0  None             4     1Fam       Gd   \n",
       "1457      1078         0          0  None             2     1Fam       TA   \n",
       "1458      1256         0          0  None             3     1Fam       TA   \n",
       "\n",
       "     BsmtExposure  BsmtFinSF1  BsmtFinSF2  ... SaleType ScreenPorch  Street  \\\n",
       "0              No         706           0  ...       WD           0    Pave   \n",
       "1              Gd         978           0  ...       WD           0    Pave   \n",
       "2              Mn         486           0  ...       WD           0    Pave   \n",
       "3              No         216           0  ...       WD           0    Pave   \n",
       "4              Av         655           0  ...       WD           0    Pave   \n",
       "...           ...         ...         ...  ...      ...         ...     ...   \n",
       "1454           No           0           0  ...       WD           0    Pave   \n",
       "1455           No         790         163  ...       WD           0    Pave   \n",
       "1456           No         275           0  ...       WD           0    Pave   \n",
       "1457           Mn          49        1029  ...       WD           0    Pave   \n",
       "1458           No         830         290  ...       WD           0    Pave   \n",
       "\n",
       "      TotRmsAbvGrd TotalBsmtSF  Utilities WoodDeckSF YearBuilt YearRemodAdd  \\\n",
       "0                8         856     AllPub          0      2003         2003   \n",
       "1                6        1262     AllPub        298      1976         1976   \n",
       "2                6         920     AllPub          0      2001         2002   \n",
       "3                7         756     AllPub          0      1915         1970   \n",
       "4                9        1145     AllPub        192      2000         2000   \n",
       "...            ...         ...        ...        ...       ...          ...   \n",
       "1454             7         953     AllPub          0      1999         2000   \n",
       "1455             7        1542     AllPub        349      1978         1988   \n",
       "1456             9        1152     AllPub          0      1941         2006   \n",
       "1457             5        1078     AllPub        366      1950         1996   \n",
       "1458             6        1256     AllPub        736      1965         1965   \n",
       "\n",
       "     YrSold  \n",
       "0      2008  \n",
       "1      2007  \n",
       "2      2008  \n",
       "3      2006  \n",
       "4      2008  \n",
       "...     ...  \n",
       "1454   2007  \n",
       "1455   2010  \n",
       "1456   2010  \n",
       "1457   2010  \n",
       "1458   2008  \n",
       "\n",
       "[1459 rows x 79 columns]"
      ]
     },
     "execution_count": 17,
     "metadata": {},
     "output_type": "execute_result"
    }
   ],
   "source": [
    "all_data"
   ]
  },
  {
   "cell_type": "markdown",
   "metadata": {
    "_cell_guid": "357994d1-974a-49ee-98e4-a19bc524fcb6",
    "_execution_state": "idle",
    "_uuid": "2b00af603b7dbc9114e62c421b2b886154d31959"
   },
   "source": [
    "- **LotFrontage** : "
   ]
  },
  {
   "cell_type": "markdown",
   "metadata": {},
   "source": [
    " **Q4. the area of each street connected to the house property most likely have a similar area to other houses in its neighborhood. 인 변수입니다. 그러면 결측치를 어떻게 바꾸는게 좋을까요?**"
   ]
  },
  {
   "cell_type": "code",
   "execution_count": 18,
   "metadata": {
    "_cell_guid": "b8cd4872-67c6-4c82-a1a3-807d08efb658",
    "_execution_state": "idle",
    "_uuid": "56c268a7217e85301d2847ceeca410d62e781b89"
   },
   "outputs": [],
   "source": [
    "all_data[\"LotFrontage\"] = all_data.groupby(\"Neighborhood\")[\"LotFrontage\"].transform(\n",
    "    lambda x: x.fillna(x.mean()))"
   ]
  },
  {
   "cell_type": "code",
   "execution_count": 19,
   "metadata": {},
   "outputs": [
    {
     "data": {
      "text/plain": [
       "0       65.0\n",
       "1       80.0\n",
       "2       68.0\n",
       "3       60.0\n",
       "4       84.0\n",
       "        ... \n",
       "1454    62.0\n",
       "1455    85.0\n",
       "1456    66.0\n",
       "1457    68.0\n",
       "1458    75.0\n",
       "Name: LotFrontage, Length: 1459, dtype: float64"
      ]
     },
     "execution_count": 19,
     "metadata": {},
     "output_type": "execute_result"
    }
   ],
   "source": [
    "all_data[\"LotFrontage\"]"
   ]
  },
  {
   "cell_type": "markdown",
   "metadata": {
    "_cell_guid": "c0432c37-f664-4da1-a4d8-87a7cb450bd1",
    "_execution_state": "idle",
    "_uuid": "53712c1d6c7cf2945c6ba8b537171ea6b84f085e"
   },
   "source": [
    "- **Q5. GarageType, GarageFinish, GarageQual and GarageCond** : Replacing missing data with None"
   ]
  },
  {
   "cell_type": "code",
   "execution_count": 20,
   "metadata": {
    "_cell_guid": "f264979e-f5e2-4aae-b313-7468570c0294",
    "_execution_state": "idle",
    "_uuid": "d556da5418394ed50d3c14bd02668714cee0fb4a"
   },
   "outputs": [],
   "source": [
    "for col in ('GarageType', 'GarageFinish', 'GarageQual', 'GarageCond'):\n",
    "    all_data[col] = all_data[col].fillna(\"None\") "
   ]
  },
  {
   "cell_type": "markdown",
   "metadata": {
    "_cell_guid": "92173e82-fd12-4fa0-b7dd-f66fb7b0be3b",
    "_execution_state": "idle",
    "_uuid": "b38ea3ec1c4b8fa4b31e8f86f378798319c05a71"
   },
   "source": [
    "- **Q6. GarageYrBlt, GarageArea and GarageCars** : Replacing missing data with 0 (Since No garage = no cars in such garage.)\n"
   ]
  },
  {
   "cell_type": "code",
   "execution_count": 21,
   "metadata": {
    "_cell_guid": "ada7acfa-8bc3-4d52-9f42-28a78cefc950",
    "_execution_state": "idle",
    "_uuid": "2726cce29df2a2621c54c4c8a06eb570a7191552"
   },
   "outputs": [],
   "source": [
    "for col in ('GarageYrBlt', 'GarageArea', 'GarageCars'):\n",
    "    all_data[col] = all_data[col].fillna(0) "
   ]
  },
  {
   "cell_type": "markdown",
   "metadata": {
    "_cell_guid": "b9f955c5-4e03-4835-8df7-1284120453ff",
    "_execution_state": "idle",
    "_uuid": "1729c36d95461d03679eb95e18eaac3d37aeb076"
   },
   "source": [
    "- **Q7. BsmtFinSF1, BsmtFinSF2, BsmtUnfSF, TotalBsmtSF, BsmtFullBath and BsmtHalfBath** : missing values are likely zero for having no basement"
   ]
  },
  {
   "cell_type": "code",
   "execution_count": 22,
   "metadata": {
    "_cell_guid": "dd9e7ef7-3cee-437a-9a33-20987e238425",
    "_execution_state": "idle",
    "_uuid": "3008a6bd07ed883ff92a83ebe390940a24010fcb"
   },
   "outputs": [],
   "source": [
    "for col in ('BsmtFinSF1', 'BsmtFinSF2', 'BsmtUnfSF','TotalBsmtSF', 'BsmtFullBath', 'BsmtHalfBath'):\n",
    "    all_data[col] = all_data[col].fillna(0)"
   ]
  },
  {
   "cell_type": "markdown",
   "metadata": {
    "_cell_guid": "441b397e-c527-4bd5-8d3c-df6aeba72192",
    "_execution_state": "idle",
    "_uuid": "d4ed0fcea9f8bb309118ba2fb703431e386c6cbd"
   },
   "source": [
    "- **Q8. BsmtQual, BsmtCond, BsmtExposure, BsmtFinType1 and BsmtFinType2** : For all these categorical basement-related features, NaN means that there is no  basement.\n"
   ]
  },
  {
   "cell_type": "code",
   "execution_count": 23,
   "metadata": {
    "_cell_guid": "6d7aa4f6-41b9-4f27-acb0-8af6aca2c8ff",
    "_execution_state": "idle",
    "_uuid": "ee281d3c691a50795e93bb797603c697d320b286"
   },
   "outputs": [],
   "source": [
    "for col in ('BsmtQual', 'BsmtCond', 'BsmtExposure', 'BsmtFinType1', 'BsmtFinType2'):\n",
    "    all_data[col] = all_data[col].fillna(\"None\")"
   ]
  },
  {
   "cell_type": "markdown",
   "metadata": {
    "_cell_guid": "e7f2515f-8438-4075-9d22-0b37c1a2ef01",
    "_execution_state": "idle",
    "_uuid": "556165bc959cd6ff2354cb774341ac947d052f6a"
   },
   "source": [
    "- **Q9. MasVnrArea and MasVnrType** : NA most likely means no masonry veneer for these houses. We can fill 0 for the area and None for the type. \n"
   ]
  },
  {
   "cell_type": "code",
   "execution_count": 24,
   "metadata": {
    "_cell_guid": "63a3a030-482f-4292-a887-16880f7a2882",
    "_execution_state": "idle",
    "_uuid": "800ff604bb70023baf1d403b53b674b765d9047c"
   },
   "outputs": [],
   "source": [
    "all_data[\"MasVnrType\"] = all_data[col].fillna(\"None\")\n",
    "all_data[\"MasVnrArea\"] = all_data[col].fillna(0)"
   ]
  },
  {
   "cell_type": "markdown",
   "metadata": {
    "_cell_guid": "f2f7f337-de24-44ec-93a6-09428ec9a252",
    "_execution_state": "idle",
    "_uuid": "ded1f7ea0443654bd033eeed1361056f820a925b"
   },
   "source": [
    "- **MSZoning (The general zoning classification)** :  'RL' is by far  the most common value.  So we can fill in missing values with 'RL'  \n",
    "\n",
    "**Q10. MSZoning에서 가장 많이 존재하는 값으로 결측치를 대체하세요**"
   ]
  },
  {
   "cell_type": "code",
   "execution_count": 25,
   "metadata": {
    "_cell_guid": "0e4f28b5-784c-4369-92f4-bda15fa55172",
    "_execution_state": "idle",
    "_uuid": "ca93ce9b34c853c1bb11d837eaff6c2986234757"
   },
   "outputs": [],
   "source": [
    "all_data['MSZoning'] = all_data['MSZoning'].fillna(all_data['MSZoning'].mode())"
   ]
  },
  {
   "cell_type": "markdown",
   "metadata": {
    "_cell_guid": "99310a4b-9dbf-4273-81b5-94bf0adf338c",
    "_execution_state": "idle",
    "_uuid": "de39073aef3db7d13894fa82285eff803d6e5c1b"
   },
   "source": [
    "- **Utilities** : For this categorical feature all records are \"AllPub\", except for one \"NoSeWa\"  and 2 NA . Since the house with 'NoSewa' is in the training set, **this feature won't help in predictive modelling**. We can then safely  remove it.\n"
   ]
  },
  {
   "cell_type": "code",
   "execution_count": 26,
   "metadata": {
    "_cell_guid": "facec65d-945f-4be1-86c8-1be011cc2bd0",
    "_execution_state": "idle",
    "_uuid": "de8ee2aca9eb3eeed7442cd9d12843cc64746708"
   },
   "outputs": [],
   "source": [
    "all_data = all_data.drop(['Utilities'], axis=1)"
   ]
  },
  {
   "cell_type": "markdown",
   "metadata": {
    "_cell_guid": "c6aabfcd-4a1d-4845-88a1-b2f5cb7d8901",
    "_execution_state": "idle",
    "_uuid": "3450d048089ba8ff98807c6ae3b745b0a34165f9"
   },
   "source": [
    "- **Functional** : data description says NA means typical"
   ]
  },
  {
   "cell_type": "code",
   "execution_count": 27,
   "metadata": {
    "_cell_guid": "c968aa5e-c34f-442e-9388-69e074a2c84e",
    "_execution_state": "idle",
    "_uuid": "e2d331e991fa868320b5d089f61c58b54ce7cb37"
   },
   "outputs": [],
   "source": [
    "all_data[\"Functional\"] = all_data[\"Functional\"].fillna(\"Typ\")"
   ]
  },
  {
   "cell_type": "markdown",
   "metadata": {
    "_cell_guid": "4f2bad4d-8db8-4ac3-8991-ffa2c775a72d",
    "_execution_state": "idle",
    "_uuid": "c122f5b5596bc4ce615c6b620b7e1824a54a47b8"
   },
   "source": [
    "- **Electrical** : It has one NA value. Since this feature has mostly 'SBrkr', we can set that for the missing value.\n"
   ]
  },
  {
   "cell_type": "markdown",
   "metadata": {},
   "source": [
    "**Q11.  가장 많이 존재하는 값으로 결측치를 대체하세요**"
   ]
  },
  {
   "cell_type": "code",
   "execution_count": 28,
   "metadata": {
    "_cell_guid": "d93eab84-7759-4201-bd7d-d450399478f7",
    "_execution_state": "idle",
    "_uuid": "d31761ee8878ce4143cf21adde149cd622c5a039"
   },
   "outputs": [],
   "source": [
    "all_data['Electrical'] = all_data['Electrical'].fillna(all_data['Electrical'].mode())"
   ]
  },
  {
   "cell_type": "markdown",
   "metadata": {
    "_cell_guid": "3d089b8e-3392-4067-a5a1-4f6d4e3e8fb5",
    "_execution_state": "idle",
    "_uuid": "8e0fd54a802f1eddfec0aa4104412c19e1c266d0"
   },
   "source": [
    "- **KitchenQual**: Only one NA value, and same as Electrical, we set 'TA' (which is the most frequent)  for the missing value in KitchenQual.\n"
   ]
  },
  {
   "cell_type": "code",
   "execution_count": 29,
   "metadata": {
    "_cell_guid": "9f68e47a-5b50-436f-9e31-ff65a1cb1687",
    "_execution_state": "idle",
    "_uuid": "23071ddb69b67b1d742bb15d260421d57aed5583"
   },
   "outputs": [],
   "source": [
    "all_data['KitchenQual'] = all_data['KitchenQual'].fillna(\"TA\")"
   ]
  },
  {
   "cell_type": "markdown",
   "metadata": {
    "_cell_guid": "e32aec7d-2841-4bfc-a6d2-d181000af4b8",
    "_execution_state": "idle",
    "_uuid": "e8aca612daf293e7228eed9647370036d003e0fb"
   },
   "source": [
    "- **Exterior1st and Exterior2nd** : Again Both Exterior 1 & 2 have only one missing value. We will just substitute in the most common string\n"
   ]
  },
  {
   "cell_type": "code",
   "execution_count": 30,
   "metadata": {
    "_cell_guid": "85903feb-7fdb-4911-9a6a-f29629bbf308",
    "_execution_state": "idle",
    "_uuid": "6375e9c7c145e0f2832cbe03addbce3d90cb44c4"
   },
   "outputs": [],
   "source": [
    "all_data['Exterior1st'] = all_data['Exterior1st'].fillna(all_data['Exterior1st'].mode())\n",
    "all_data['Exterior2nd'] = all_data['Exterior2nd'].fillna(all_data['Exterior2nd'].mode())"
   ]
  },
  {
   "cell_type": "markdown",
   "metadata": {
    "_cell_guid": "b87d629d-6820-4f3e-80f3-efc16436b982",
    "_execution_state": "idle",
    "_uuid": "67f41f0ad648d536d70e2ccb617a4b495fb7f782"
   },
   "source": [
    "- **SaleType** : Fill in again with most frequent which is \"WD\""
   ]
  },
  {
   "cell_type": "code",
   "execution_count": 31,
   "metadata": {
    "_cell_guid": "aaa407ac-ad4a-4313-8530-ac96826be6e5",
    "_execution_state": "idle",
    "_uuid": "06c104efedaf57a4052c8f61c502cb6313e0beea"
   },
   "outputs": [],
   "source": [
    "all_data['SaleType'] = all_data['SaleType'].fillna(\"WD\")"
   ]
  },
  {
   "cell_type": "markdown",
   "metadata": {
    "_cell_guid": "8ddca94e-7cfa-4f25-9333-29e013c9c30d",
    "_execution_state": "idle",
    "_uuid": "8a3a35f5dc00732929143480a8a0b34a2a502c27"
   },
   "source": [
    "- **MSSubClass** : Na most likely means No building class. We can replace missing values with None\n"
   ]
  },
  {
   "cell_type": "code",
   "execution_count": 32,
   "metadata": {
    "_cell_guid": "23dedd0c-7d5e-4870-8588-8bc4890f627b",
    "_execution_state": "idle",
    "_uuid": "9608a2eada6013e7f14e9341862cca0dca4621e9"
   },
   "outputs": [],
   "source": [
    "all_data['MSSubClass'] = all_data['MSSubClass'].fillna(\"None\")"
   ]
  },
  {
   "cell_type": "markdown",
   "metadata": {
    "_cell_guid": "9193270b-8e7b-4a24-b769-d6eb661a1ae7",
    "_execution_state": "idle",
    "_uuid": "465570fcce8944ee31b1709ec6954d03cbf32ff8"
   },
   "source": [
    "Is there any remaining missing value ? "
   ]
  },
  {
   "cell_type": "code",
   "execution_count": 33,
   "metadata": {
    "_cell_guid": "0adf05cf-ce60-4169-805c-ca776e60e85a",
    "_execution_state": "idle",
    "_uuid": "b091fa2ebef19425019e2e550410d0376b9e9fac"
   },
   "outputs": [
    {
     "data": {
      "text/html": [
       "<div>\n",
       "<style scoped>\n",
       "    .dataframe tbody tr th:only-of-type {\n",
       "        vertical-align: middle;\n",
       "    }\n",
       "\n",
       "    .dataframe tbody tr th {\n",
       "        vertical-align: top;\n",
       "    }\n",
       "\n",
       "    .dataframe thead th {\n",
       "        text-align: right;\n",
       "    }\n",
       "</style>\n",
       "<table border=\"1\" class=\"dataframe\">\n",
       "  <thead>\n",
       "    <tr style=\"text-align: right;\">\n",
       "      <th></th>\n",
       "      <th>Missing Ratio</th>\n",
       "    </tr>\n",
       "  </thead>\n",
       "  <tbody>\n",
       "    <tr>\n",
       "      <th>Electrical</th>\n",
       "      <td>0.06854</td>\n",
       "    </tr>\n",
       "  </tbody>\n",
       "</table>\n",
       "</div>"
      ],
      "text/plain": [
       "            Missing Ratio\n",
       "Electrical        0.06854"
      ]
     },
     "execution_count": 33,
     "metadata": {},
     "output_type": "execute_result"
    }
   ],
   "source": [
    "#Check remaining missing values if any \n",
    "all_data_na = (all_data.isnull().sum() / len(all_data)) * 100\n",
    "all_data_na = all_data_na.drop(all_data_na[all_data_na == 0].index).sort_values(ascending=False)\n",
    "missing_data = pd.DataFrame({'Missing Ratio' :all_data_na})\n",
    "missing_data.head()"
   ]
  },
  {
   "cell_type": "markdown",
   "metadata": {
    "_cell_guid": "7996debf-c724-4365-9d63-f6104bae6140",
    "_execution_state": "idle",
    "_uuid": "915505b9c21b4dd84cc466660a68fb0d6b84cfae"
   },
   "source": [
    "### More features engeneering"
   ]
  },
  {
   "cell_type": "markdown",
   "metadata": {
    "_cell_guid": "0d5076fa-b4ab-4787-bebb-8fd445b8815a",
    "_execution_state": "idle",
    "_uuid": "1cfcb671a97068569efb4e7855da91aa30c5bbde"
   },
   "source": [
    "**Transforming some numerical variables that are really categorical**   \n",
    "\n",
    "숫자형태를 한 값일 뿐 실제 연속형도 숫자 데이터도 아니죠? 따라서 문자형식으로 바꾼후 라벨링 인코더 하겠습니다."
   ]
  },
  {
   "cell_type": "markdown",
   "metadata": {},
   "source": [
    "**Q12. 데이터를 문자형으로 바꾸세요.**"
   ]
  },
  {
   "cell_type": "code",
   "execution_count": 34,
   "metadata": {
    "_cell_guid": "a52dc2f9-ca02-4024-987a-165ce630b356",
    "_execution_state": "idle",
    "_uuid": "cc7557817a4442e799e4e4c84dd1efd8bd08867a"
   },
   "outputs": [],
   "source": [
    "#MSSubClass=The building class\n",
    "all_data['MSSubClass'] = all_data['MSSubClass'].astype(str)\n",
    "\n",
    "\n",
    "#Changing OverallCond into a categorical variable\n",
    "all_data['OverallCond'] = all_data['OverallCond'].astype(str)\n",
    "\n",
    "\n",
    "#Year and month sold are transformed into categorical features.\n",
    "all_data['YrSold'] = all_data['YrSold'].astype(str)\n",
    "all_data['MoSold'] = all_data['MoSold'].astype(str)"
   ]
  },
  {
   "cell_type": "markdown",
   "metadata": {
    "_cell_guid": "9f80c0e7-3f3f-45c5-b111-e36f4e31e814",
    "_execution_state": "idle",
    "_uuid": "c4743ffb7fbb050edca7c77dc7cb6520577c1398"
   },
   "source": [
    "**Label Encoding some categorical variables that may contain information in their ordering set** "
   ]
  },
  {
   "cell_type": "markdown",
   "metadata": {},
   "source": [
    "**Q13. LabelEncoder로 해당 범주형 데이터를 바꿔보세요..**"
   ]
  },
  {
   "cell_type": "code",
   "execution_count": 35,
   "metadata": {
    "_cell_guid": "81c97efb-4f76-4e87-861a-10a60ab5c84b",
    "_execution_state": "idle",
    "_uuid": "fdb5ddf0a49a3c6df303c569c9f3509c79ac8b61"
   },
   "outputs": [
    {
     "name": "stdout",
     "output_type": "stream",
     "text": [
      "Shape all_data: (1459, 78)\n"
     ]
    }
   ],
   "source": [
    "from sklearn.preprocessing import LabelEncoder\n",
    "cols = ('FireplaceQu', 'BsmtQual', 'BsmtCond', 'GarageQual', 'GarageCond', \n",
    "        'ExterQual', 'ExterCond','HeatingQC', 'PoolQC', 'KitchenQual', 'BsmtFinType1', \n",
    "        'BsmtFinType2', 'Functional', 'Fence', 'BsmtExposure', 'GarageFinish', 'LandSlope',\n",
    "        'LotShape', 'PavedDrive', 'Street', 'Alley', 'CentralAir', 'MSSubClass', 'OverallCond', \n",
    "        'YrSold', 'MoSold')\n",
    "\n",
    "le = LabelEncoder()\n",
    "for col in cols :\n",
    "    le.fit(all_data[col])\n",
    "    all_data[col] = le.transform(all_data[col]) \n",
    "\n",
    "# shape        \n",
    "print('Shape all_data: {}'.format(all_data.shape))"
   ]
  },
  {
   "cell_type": "markdown",
   "metadata": {
    "_cell_guid": "a4879ef7-ab0d-4955-bc48-7ebcfa04b3bd",
    "_execution_state": "idle",
    "_uuid": "9976d6288bc183d443fbccc2bde439d5bc3a87b1"
   },
   "source": [
    "**Adding one more important feature**"
   ]
  },
  {
   "cell_type": "code",
   "execution_count": 36,
   "metadata": {
    "_cell_guid": "fc1a8f1a-f003-4538-8e60-d819f46362a3",
    "_execution_state": "idle",
    "_uuid": "208f8d22188786227fff4a978dc3b11b4e1ffd90"
   },
   "outputs": [],
   "source": [
    "# Adding total sqfootage feature \n",
    "all_data['TotalSF'] = all_data['TotalBsmtSF'] + all_data['1stFlrSF'] + all_data['2ndFlrSF']"
   ]
  },
  {
   "cell_type": "markdown",
   "metadata": {
    "_cell_guid": "91c73aad-82d1-4301-b540-b2f69dc13902",
    "_execution_state": "idle",
    "_uuid": "aa36d6e3253e354b46d9c9c6f2e8a4089c76be16"
   },
   "source": [
    "**Skewed features**"
   ]
  },
  {
   "cell_type": "code",
   "execution_count": 37,
   "metadata": {
    "_cell_guid": "c5972a73-7e86-4164-a9d6-58432dae1933",
    "_execution_state": "idle",
    "_uuid": "53c471c7008c66590f257e70866f8a3037813f13"
   },
   "outputs": [
    {
     "name": "stdout",
     "output_type": "stream",
     "text": [
      "\n",
      "Skew in numerical features: \n",
      "\n"
     ]
    },
    {
     "data": {
      "text/html": [
       "<div>\n",
       "<style scoped>\n",
       "    .dataframe tbody tr th:only-of-type {\n",
       "        vertical-align: middle;\n",
       "    }\n",
       "\n",
       "    .dataframe tbody tr th {\n",
       "        vertical-align: top;\n",
       "    }\n",
       "\n",
       "    .dataframe thead th {\n",
       "        text-align: right;\n",
       "    }\n",
       "</style>\n",
       "<table border=\"1\" class=\"dataframe\">\n",
       "  <thead>\n",
       "    <tr style=\"text-align: right;\">\n",
       "      <th></th>\n",
       "      <th>Skew</th>\n",
       "    </tr>\n",
       "  </thead>\n",
       "  <tbody>\n",
       "    <tr>\n",
       "      <th>MiscVal</th>\n",
       "      <td>24.443278</td>\n",
       "    </tr>\n",
       "    <tr>\n",
       "      <th>PoolArea</th>\n",
       "      <td>14.807992</td>\n",
       "    </tr>\n",
       "    <tr>\n",
       "      <th>LotArea</th>\n",
       "      <td>12.290047</td>\n",
       "    </tr>\n",
       "    <tr>\n",
       "      <th>3SsnPorch</th>\n",
       "      <td>10.290132</td>\n",
       "    </tr>\n",
       "    <tr>\n",
       "      <th>LowQualFinSF</th>\n",
       "      <td>8.998885</td>\n",
       "    </tr>\n",
       "    <tr>\n",
       "      <th>LandSlope</th>\n",
       "      <td>4.806884</td>\n",
       "    </tr>\n",
       "    <tr>\n",
       "      <th>KitchenAbvGr</th>\n",
       "      <td>4.482026</td>\n",
       "    </tr>\n",
       "    <tr>\n",
       "      <th>BsmtFinSF2</th>\n",
       "      <td>4.249219</td>\n",
       "    </tr>\n",
       "    <tr>\n",
       "      <th>ScreenPorch</th>\n",
       "      <td>4.116334</td>\n",
       "    </tr>\n",
       "    <tr>\n",
       "      <th>BsmtHalfBath</th>\n",
       "      <td>4.097541</td>\n",
       "    </tr>\n",
       "  </tbody>\n",
       "</table>\n",
       "</div>"
      ],
      "text/plain": [
       "                   Skew\n",
       "MiscVal       24.443278\n",
       "PoolArea      14.807992\n",
       "LotArea       12.290047\n",
       "3SsnPorch     10.290132\n",
       "LowQualFinSF   8.998885\n",
       "LandSlope      4.806884\n",
       "KitchenAbvGr   4.482026\n",
       "BsmtFinSF2     4.249219\n",
       "ScreenPorch    4.116334\n",
       "BsmtHalfBath   4.097541"
      ]
     },
     "execution_count": 37,
     "metadata": {},
     "output_type": "execute_result"
    }
   ],
   "source": [
    "numeric_feats = all_data.dtypes[all_data.dtypes != \"object\"].index\n",
    "\n",
    "skewed_feats = all_data[numeric_feats].apply(lambda x: skew(x.dropna())).sort_values(ascending=False)\n",
    "print(\"\\nSkew in numerical features: \\n\")\n",
    "skewness = pd.DataFrame({'Skew' :skewed_feats})\n",
    "skewness.head(10)"
   ]
  },
  {
   "cell_type": "markdown",
   "metadata": {
    "_cell_guid": "9f110087-b707-4073-a1df-0a0a9d6ccbd3",
    "_execution_state": "idle",
    "_uuid": "cf63bdc9f4f80d81f1bfa14f89d65ff104d45e5b"
   },
   "source": [
    "**Box Cox Transformation of (highly) skewed features**"
   ]
  },
  {
   "cell_type": "markdown",
   "metadata": {
    "_cell_guid": "d1d18243-42d8-4a21-808d-784c21e53973",
    "_execution_state": "idle",
    "_uuid": "eab0b4c0a85ae2fbe1bdeea0eedd113904ef3eb1"
   },
   "source": [
    "We use the scipy  function boxcox1p which computes the Box-Cox transformation of **\\\\(1 + x\\\\)**. \n",
    "\n",
    "Note that setting \\\\( \\lambda = 0 \\\\) is equivalent to log1p used above for the target variable.  \n",
    "\n",
    "See [this page][1] for more details on Box Cox Transformation as well as [the scipy function's page][2]\n",
    "[1]: http://onlinestatbook.com/2/transformations/box-cox.html\n",
    "[2]: https://docs.scipy.org/doc/scipy-0.19.0/reference/generated/scipy.special.boxcox1p.html"
   ]
  },
  {
   "cell_type": "code",
   "execution_count": 38,
   "metadata": {
    "_cell_guid": "d8ebce87-c55d-46c6-8f06-8b34116d7370",
    "_execution_state": "idle",
    "_uuid": "969fdff338ef46f064d8f855782c96d322a264b1"
   },
   "outputs": [],
   "source": [
    "skewness = skewness[abs(skewness) > 0.75]\n",
    "\n",
    "\n",
    "from scipy.special import boxcox1p\n",
    "skewed_features = skewness.index\n",
    "lam = 0.15\n",
    "for feat in skewed_features:\n",
    "    all_data[feat] = boxcox1p(all_data[feat], lam)"
   ]
  },
  {
   "cell_type": "markdown",
   "metadata": {
    "_cell_guid": "39639caf-31a4-4401-a663-0ba9536b39bf",
    "_execution_state": "idle",
    "_uuid": "5a13a6e2a3e48975de9129d1593bd38df44a1069"
   },
   "source": [
    "**Getting dummy categorical features**"
   ]
  },
  {
   "cell_type": "markdown",
   "metadata": {},
   "source": [
    "**Q14. 더미화하세요.**"
   ]
  },
  {
   "cell_type": "code",
   "execution_count": 39,
   "metadata": {
    "_cell_guid": "c8e63516-e4e2-4f36-a60e-1c8316392c60",
    "_execution_state": "idle",
    "_uuid": "acd44e283867425257ffd1fb2f4893cdbff43f67"
   },
   "outputs": [
    {
     "name": "stdout",
     "output_type": "stream",
     "text": [
      "(1459, 230)\n"
     ]
    }
   ],
   "source": [
    "all_data = pd.get_dummies(all_data)\n",
    "print(all_data.shape)"
   ]
  },
  {
   "cell_type": "code",
   "execution_count": 40,
   "metadata": {},
   "outputs": [
    {
     "data": {
      "text/html": [
       "<div>\n",
       "<style scoped>\n",
       "    .dataframe tbody tr th:only-of-type {\n",
       "        vertical-align: middle;\n",
       "    }\n",
       "\n",
       "    .dataframe tbody tr th {\n",
       "        vertical-align: top;\n",
       "    }\n",
       "\n",
       "    .dataframe thead th {\n",
       "        text-align: right;\n",
       "    }\n",
       "</style>\n",
       "<table border=\"1\" class=\"dataframe\">\n",
       "  <thead>\n",
       "    <tr style=\"text-align: right;\">\n",
       "      <th></th>\n",
       "      <th>1stFlrSF</th>\n",
       "      <th>2ndFlrSF</th>\n",
       "      <th>3SsnPorch</th>\n",
       "      <th>Alley</th>\n",
       "      <th>BedroomAbvGr</th>\n",
       "      <th>BsmtCond</th>\n",
       "      <th>BsmtExposure</th>\n",
       "      <th>BsmtFinSF1</th>\n",
       "      <th>BsmtFinSF2</th>\n",
       "      <th>BsmtFinType1</th>\n",
       "      <th>...</th>\n",
       "      <th>SaleCondition_Partial</th>\n",
       "      <th>SaleType_COD</th>\n",
       "      <th>SaleType_CWD</th>\n",
       "      <th>SaleType_Con</th>\n",
       "      <th>SaleType_ConLD</th>\n",
       "      <th>SaleType_ConLI</th>\n",
       "      <th>SaleType_ConLw</th>\n",
       "      <th>SaleType_New</th>\n",
       "      <th>SaleType_Oth</th>\n",
       "      <th>SaleType_WD</th>\n",
       "    </tr>\n",
       "  </thead>\n",
       "  <tbody>\n",
       "    <tr>\n",
       "      <th>0</th>\n",
       "      <td>11.692623</td>\n",
       "      <td>11.686189</td>\n",
       "      <td>0.0</td>\n",
       "      <td>0.730463</td>\n",
       "      <td>1.540963</td>\n",
       "      <td>1.820334</td>\n",
       "      <td>1.540963</td>\n",
       "      <td>11.170327</td>\n",
       "      <td>0.000000</td>\n",
       "      <td>1.194318</td>\n",
       "      <td>...</td>\n",
       "      <td>0</td>\n",
       "      <td>0</td>\n",
       "      <td>0</td>\n",
       "      <td>0</td>\n",
       "      <td>0</td>\n",
       "      <td>0</td>\n",
       "      <td>0</td>\n",
       "      <td>0</td>\n",
       "      <td>0</td>\n",
       "      <td>1</td>\n",
       "    </tr>\n",
       "    <tr>\n",
       "      <th>1</th>\n",
       "      <td>12.792276</td>\n",
       "      <td>0.000000</td>\n",
       "      <td>0.0</td>\n",
       "      <td>0.730463</td>\n",
       "      <td>1.540963</td>\n",
       "      <td>1.820334</td>\n",
       "      <td>0.730463</td>\n",
       "      <td>12.062832</td>\n",
       "      <td>0.000000</td>\n",
       "      <td>0.000000</td>\n",
       "      <td>...</td>\n",
       "      <td>0</td>\n",
       "      <td>0</td>\n",
       "      <td>0</td>\n",
       "      <td>0</td>\n",
       "      <td>0</td>\n",
       "      <td>0</td>\n",
       "      <td>0</td>\n",
       "      <td>0</td>\n",
       "      <td>0</td>\n",
       "      <td>1</td>\n",
       "    </tr>\n",
       "    <tr>\n",
       "      <th>2</th>\n",
       "      <td>11.892039</td>\n",
       "      <td>11.724598</td>\n",
       "      <td>0.0</td>\n",
       "      <td>0.730463</td>\n",
       "      <td>1.540963</td>\n",
       "      <td>1.820334</td>\n",
       "      <td>1.194318</td>\n",
       "      <td>10.200343</td>\n",
       "      <td>0.000000</td>\n",
       "      <td>1.194318</td>\n",
       "      <td>...</td>\n",
       "      <td>0</td>\n",
       "      <td>0</td>\n",
       "      <td>0</td>\n",
       "      <td>0</td>\n",
       "      <td>0</td>\n",
       "      <td>0</td>\n",
       "      <td>0</td>\n",
       "      <td>0</td>\n",
       "      <td>0</td>\n",
       "      <td>1</td>\n",
       "    </tr>\n",
       "    <tr>\n",
       "      <th>3</th>\n",
       "      <td>12.013683</td>\n",
       "      <td>11.354094</td>\n",
       "      <td>0.0</td>\n",
       "      <td>0.730463</td>\n",
       "      <td>1.540963</td>\n",
       "      <td>0.730463</td>\n",
       "      <td>1.540963</td>\n",
       "      <td>8.274266</td>\n",
       "      <td>0.000000</td>\n",
       "      <td>0.000000</td>\n",
       "      <td>...</td>\n",
       "      <td>0</td>\n",
       "      <td>0</td>\n",
       "      <td>0</td>\n",
       "      <td>0</td>\n",
       "      <td>0</td>\n",
       "      <td>0</td>\n",
       "      <td>0</td>\n",
       "      <td>0</td>\n",
       "      <td>0</td>\n",
       "      <td>1</td>\n",
       "    </tr>\n",
       "    <tr>\n",
       "      <th>4</th>\n",
       "      <td>12.510588</td>\n",
       "      <td>12.271365</td>\n",
       "      <td>0.0</td>\n",
       "      <td>0.730463</td>\n",
       "      <td>1.820334</td>\n",
       "      <td>1.820334</td>\n",
       "      <td>0.000000</td>\n",
       "      <td>10.971129</td>\n",
       "      <td>0.000000</td>\n",
       "      <td>1.194318</td>\n",
       "      <td>...</td>\n",
       "      <td>0</td>\n",
       "      <td>0</td>\n",
       "      <td>0</td>\n",
       "      <td>0</td>\n",
       "      <td>0</td>\n",
       "      <td>0</td>\n",
       "      <td>0</td>\n",
       "      <td>0</td>\n",
       "      <td>0</td>\n",
       "      <td>1</td>\n",
       "    </tr>\n",
       "    <tr>\n",
       "      <th>...</th>\n",
       "      <td>...</td>\n",
       "      <td>...</td>\n",
       "      <td>...</td>\n",
       "      <td>...</td>\n",
       "      <td>...</td>\n",
       "      <td>...</td>\n",
       "      <td>...</td>\n",
       "      <td>...</td>\n",
       "      <td>...</td>\n",
       "      <td>...</td>\n",
       "      <td>...</td>\n",
       "      <td>...</td>\n",
       "      <td>...</td>\n",
       "      <td>...</td>\n",
       "      <td>...</td>\n",
       "      <td>...</td>\n",
       "      <td>...</td>\n",
       "      <td>...</td>\n",
       "      <td>...</td>\n",
       "      <td>...</td>\n",
       "      <td>...</td>\n",
       "    </tr>\n",
       "    <tr>\n",
       "      <th>1454</th>\n",
       "      <td>11.990298</td>\n",
       "      <td>11.124583</td>\n",
       "      <td>0.0</td>\n",
       "      <td>0.730463</td>\n",
       "      <td>1.540963</td>\n",
       "      <td>1.820334</td>\n",
       "      <td>1.540963</td>\n",
       "      <td>0.000000</td>\n",
       "      <td>0.000000</td>\n",
       "      <td>2.259674</td>\n",
       "      <td>...</td>\n",
       "      <td>0</td>\n",
       "      <td>0</td>\n",
       "      <td>0</td>\n",
       "      <td>0</td>\n",
       "      <td>0</td>\n",
       "      <td>0</td>\n",
       "      <td>0</td>\n",
       "      <td>0</td>\n",
       "      <td>0</td>\n",
       "      <td>1</td>\n",
       "    </tr>\n",
       "    <tr>\n",
       "      <th>1455</th>\n",
       "      <td>14.295205</td>\n",
       "      <td>0.000000</td>\n",
       "      <td>0.0</td>\n",
       "      <td>0.730463</td>\n",
       "      <td>1.540963</td>\n",
       "      <td>1.820334</td>\n",
       "      <td>1.540963</td>\n",
       "      <td>11.473247</td>\n",
       "      <td>7.659675</td>\n",
       "      <td>0.000000</td>\n",
       "      <td>...</td>\n",
       "      <td>0</td>\n",
       "      <td>0</td>\n",
       "      <td>0</td>\n",
       "      <td>0</td>\n",
       "      <td>0</td>\n",
       "      <td>0</td>\n",
       "      <td>0</td>\n",
       "      <td>0</td>\n",
       "      <td>0</td>\n",
       "      <td>1</td>\n",
       "    </tr>\n",
       "    <tr>\n",
       "      <th>1456</th>\n",
       "      <td>12.616840</td>\n",
       "      <td>12.528113</td>\n",
       "      <td>0.0</td>\n",
       "      <td>0.730463</td>\n",
       "      <td>1.820334</td>\n",
       "      <td>0.730463</td>\n",
       "      <td>1.540963</td>\n",
       "      <td>8.823108</td>\n",
       "      <td>0.000000</td>\n",
       "      <td>1.194318</td>\n",
       "      <td>...</td>\n",
       "      <td>0</td>\n",
       "      <td>0</td>\n",
       "      <td>0</td>\n",
       "      <td>0</td>\n",
       "      <td>0</td>\n",
       "      <td>0</td>\n",
       "      <td>0</td>\n",
       "      <td>0</td>\n",
       "      <td>0</td>\n",
       "      <td>1</td>\n",
       "    </tr>\n",
       "    <tr>\n",
       "      <th>1457</th>\n",
       "      <td>12.338074</td>\n",
       "      <td>0.000000</td>\n",
       "      <td>0.0</td>\n",
       "      <td>0.730463</td>\n",
       "      <td>1.194318</td>\n",
       "      <td>1.820334</td>\n",
       "      <td>1.194318</td>\n",
       "      <td>5.321541</td>\n",
       "      <td>12.206046</td>\n",
       "      <td>1.194318</td>\n",
       "      <td>...</td>\n",
       "      <td>0</td>\n",
       "      <td>0</td>\n",
       "      <td>0</td>\n",
       "      <td>0</td>\n",
       "      <td>0</td>\n",
       "      <td>0</td>\n",
       "      <td>0</td>\n",
       "      <td>0</td>\n",
       "      <td>0</td>\n",
       "      <td>1</td>\n",
       "    </tr>\n",
       "    <tr>\n",
       "      <th>1458</th>\n",
       "      <td>12.778382</td>\n",
       "      <td>0.000000</td>\n",
       "      <td>0.0</td>\n",
       "      <td>0.730463</td>\n",
       "      <td>1.540963</td>\n",
       "      <td>1.820334</td>\n",
       "      <td>1.540963</td>\n",
       "      <td>11.607976</td>\n",
       "      <td>8.946561</td>\n",
       "      <td>0.730463</td>\n",
       "      <td>...</td>\n",
       "      <td>0</td>\n",
       "      <td>0</td>\n",
       "      <td>0</td>\n",
       "      <td>0</td>\n",
       "      <td>0</td>\n",
       "      <td>0</td>\n",
       "      <td>0</td>\n",
       "      <td>0</td>\n",
       "      <td>0</td>\n",
       "      <td>1</td>\n",
       "    </tr>\n",
       "  </tbody>\n",
       "</table>\n",
       "<p>1459 rows × 230 columns</p>\n",
       "</div>"
      ],
      "text/plain": [
       "       1stFlrSF   2ndFlrSF  3SsnPorch     Alley  BedroomAbvGr  BsmtCond  \\\n",
       "0     11.692623  11.686189        0.0  0.730463      1.540963  1.820334   \n",
       "1     12.792276   0.000000        0.0  0.730463      1.540963  1.820334   \n",
       "2     11.892039  11.724598        0.0  0.730463      1.540963  1.820334   \n",
       "3     12.013683  11.354094        0.0  0.730463      1.540963  0.730463   \n",
       "4     12.510588  12.271365        0.0  0.730463      1.820334  1.820334   \n",
       "...         ...        ...        ...       ...           ...       ...   \n",
       "1454  11.990298  11.124583        0.0  0.730463      1.540963  1.820334   \n",
       "1455  14.295205   0.000000        0.0  0.730463      1.540963  1.820334   \n",
       "1456  12.616840  12.528113        0.0  0.730463      1.820334  0.730463   \n",
       "1457  12.338074   0.000000        0.0  0.730463      1.194318  1.820334   \n",
       "1458  12.778382   0.000000        0.0  0.730463      1.540963  1.820334   \n",
       "\n",
       "      BsmtExposure  BsmtFinSF1  BsmtFinSF2  BsmtFinType1  ...  \\\n",
       "0         1.540963   11.170327    0.000000      1.194318  ...   \n",
       "1         0.730463   12.062832    0.000000      0.000000  ...   \n",
       "2         1.194318   10.200343    0.000000      1.194318  ...   \n",
       "3         1.540963    8.274266    0.000000      0.000000  ...   \n",
       "4         0.000000   10.971129    0.000000      1.194318  ...   \n",
       "...            ...         ...         ...           ...  ...   \n",
       "1454      1.540963    0.000000    0.000000      2.259674  ...   \n",
       "1455      1.540963   11.473247    7.659675      0.000000  ...   \n",
       "1456      1.540963    8.823108    0.000000      1.194318  ...   \n",
       "1457      1.194318    5.321541   12.206046      1.194318  ...   \n",
       "1458      1.540963   11.607976    8.946561      0.730463  ...   \n",
       "\n",
       "      SaleCondition_Partial  SaleType_COD  SaleType_CWD  SaleType_Con  \\\n",
       "0                         0             0             0             0   \n",
       "1                         0             0             0             0   \n",
       "2                         0             0             0             0   \n",
       "3                         0             0             0             0   \n",
       "4                         0             0             0             0   \n",
       "...                     ...           ...           ...           ...   \n",
       "1454                      0             0             0             0   \n",
       "1455                      0             0             0             0   \n",
       "1456                      0             0             0             0   \n",
       "1457                      0             0             0             0   \n",
       "1458                      0             0             0             0   \n",
       "\n",
       "      SaleType_ConLD  SaleType_ConLI  SaleType_ConLw  SaleType_New  \\\n",
       "0                  0               0               0             0   \n",
       "1                  0               0               0             0   \n",
       "2                  0               0               0             0   \n",
       "3                  0               0               0             0   \n",
       "4                  0               0               0             0   \n",
       "...              ...             ...             ...           ...   \n",
       "1454               0               0               0             0   \n",
       "1455               0               0               0             0   \n",
       "1456               0               0               0             0   \n",
       "1457               0               0               0             0   \n",
       "1458               0               0               0             0   \n",
       "\n",
       "      SaleType_Oth  SaleType_WD  \n",
       "0                0            1  \n",
       "1                0            1  \n",
       "2                0            1  \n",
       "3                0            1  \n",
       "4                0            1  \n",
       "...            ...          ...  \n",
       "1454             0            1  \n",
       "1455             0            1  \n",
       "1456             0            1  \n",
       "1457             0            1  \n",
       "1458             0            1  \n",
       "\n",
       "[1459 rows x 230 columns]"
      ]
     },
     "execution_count": 40,
     "metadata": {},
     "output_type": "execute_result"
    }
   ],
   "source": [
    "pd.get_dummies(all_data)"
   ]
  },
  {
   "cell_type": "markdown",
   "metadata": {
    "_cell_guid": "243cf047-c2ba-4ae5-a531-22ef9b7cfbfe",
    "_execution_state": "idle",
    "_uuid": "fe9d78c7e37142ee8089826eca3065e0fa5803c1"
   },
   "source": [
    "Getting the new train and test sets. "
   ]
  },
  {
   "cell_type": "code",
   "execution_count": 41,
   "metadata": {
    "_cell_guid": "0a75646f-1974-40ad-a085-ff7bc08454a5",
    "_execution_state": "idle",
    "_uuid": "89e464095544a53177d5a009b914ba4c660072a7"
   },
   "outputs": [],
   "source": [
    "train = all_data[:ntrain]\n",
    "test = all_data[ntrain:]   "
   ]
  },
  {
   "cell_type": "code",
   "execution_count": 42,
   "metadata": {},
   "outputs": [
    {
     "data": {
      "text/html": [
       "<div>\n",
       "<style scoped>\n",
       "    .dataframe tbody tr th:only-of-type {\n",
       "        vertical-align: middle;\n",
       "    }\n",
       "\n",
       "    .dataframe tbody tr th {\n",
       "        vertical-align: top;\n",
       "    }\n",
       "\n",
       "    .dataframe thead th {\n",
       "        text-align: right;\n",
       "    }\n",
       "</style>\n",
       "<table border=\"1\" class=\"dataframe\">\n",
       "  <thead>\n",
       "    <tr style=\"text-align: right;\">\n",
       "      <th></th>\n",
       "      <th>1stFlrSF</th>\n",
       "      <th>2ndFlrSF</th>\n",
       "      <th>3SsnPorch</th>\n",
       "      <th>Alley</th>\n",
       "      <th>BedroomAbvGr</th>\n",
       "      <th>BsmtCond</th>\n",
       "      <th>BsmtExposure</th>\n",
       "      <th>BsmtFinSF1</th>\n",
       "      <th>BsmtFinSF2</th>\n",
       "      <th>BsmtFinType1</th>\n",
       "      <th>...</th>\n",
       "      <th>SaleCondition_Partial</th>\n",
       "      <th>SaleType_COD</th>\n",
       "      <th>SaleType_CWD</th>\n",
       "      <th>SaleType_Con</th>\n",
       "      <th>SaleType_ConLD</th>\n",
       "      <th>SaleType_ConLI</th>\n",
       "      <th>SaleType_ConLw</th>\n",
       "      <th>SaleType_New</th>\n",
       "      <th>SaleType_Oth</th>\n",
       "      <th>SaleType_WD</th>\n",
       "    </tr>\n",
       "  </thead>\n",
       "  <tbody>\n",
       "    <tr>\n",
       "      <th>0</th>\n",
       "      <td>11.692623</td>\n",
       "      <td>11.686189</td>\n",
       "      <td>0.0</td>\n",
       "      <td>0.730463</td>\n",
       "      <td>1.540963</td>\n",
       "      <td>1.820334</td>\n",
       "      <td>1.540963</td>\n",
       "      <td>11.170327</td>\n",
       "      <td>0.000000</td>\n",
       "      <td>1.194318</td>\n",
       "      <td>...</td>\n",
       "      <td>0</td>\n",
       "      <td>0</td>\n",
       "      <td>0</td>\n",
       "      <td>0</td>\n",
       "      <td>0</td>\n",
       "      <td>0</td>\n",
       "      <td>0</td>\n",
       "      <td>0</td>\n",
       "      <td>0</td>\n",
       "      <td>1</td>\n",
       "    </tr>\n",
       "    <tr>\n",
       "      <th>1</th>\n",
       "      <td>12.792276</td>\n",
       "      <td>0.000000</td>\n",
       "      <td>0.0</td>\n",
       "      <td>0.730463</td>\n",
       "      <td>1.540963</td>\n",
       "      <td>1.820334</td>\n",
       "      <td>0.730463</td>\n",
       "      <td>12.062832</td>\n",
       "      <td>0.000000</td>\n",
       "      <td>0.000000</td>\n",
       "      <td>...</td>\n",
       "      <td>0</td>\n",
       "      <td>0</td>\n",
       "      <td>0</td>\n",
       "      <td>0</td>\n",
       "      <td>0</td>\n",
       "      <td>0</td>\n",
       "      <td>0</td>\n",
       "      <td>0</td>\n",
       "      <td>0</td>\n",
       "      <td>1</td>\n",
       "    </tr>\n",
       "    <tr>\n",
       "      <th>2</th>\n",
       "      <td>11.892039</td>\n",
       "      <td>11.724598</td>\n",
       "      <td>0.0</td>\n",
       "      <td>0.730463</td>\n",
       "      <td>1.540963</td>\n",
       "      <td>1.820334</td>\n",
       "      <td>1.194318</td>\n",
       "      <td>10.200343</td>\n",
       "      <td>0.000000</td>\n",
       "      <td>1.194318</td>\n",
       "      <td>...</td>\n",
       "      <td>0</td>\n",
       "      <td>0</td>\n",
       "      <td>0</td>\n",
       "      <td>0</td>\n",
       "      <td>0</td>\n",
       "      <td>0</td>\n",
       "      <td>0</td>\n",
       "      <td>0</td>\n",
       "      <td>0</td>\n",
       "      <td>1</td>\n",
       "    </tr>\n",
       "    <tr>\n",
       "      <th>3</th>\n",
       "      <td>12.013683</td>\n",
       "      <td>11.354094</td>\n",
       "      <td>0.0</td>\n",
       "      <td>0.730463</td>\n",
       "      <td>1.540963</td>\n",
       "      <td>0.730463</td>\n",
       "      <td>1.540963</td>\n",
       "      <td>8.274266</td>\n",
       "      <td>0.000000</td>\n",
       "      <td>0.000000</td>\n",
       "      <td>...</td>\n",
       "      <td>0</td>\n",
       "      <td>0</td>\n",
       "      <td>0</td>\n",
       "      <td>0</td>\n",
       "      <td>0</td>\n",
       "      <td>0</td>\n",
       "      <td>0</td>\n",
       "      <td>0</td>\n",
       "      <td>0</td>\n",
       "      <td>1</td>\n",
       "    </tr>\n",
       "    <tr>\n",
       "      <th>4</th>\n",
       "      <td>12.510588</td>\n",
       "      <td>12.271365</td>\n",
       "      <td>0.0</td>\n",
       "      <td>0.730463</td>\n",
       "      <td>1.820334</td>\n",
       "      <td>1.820334</td>\n",
       "      <td>0.000000</td>\n",
       "      <td>10.971129</td>\n",
       "      <td>0.000000</td>\n",
       "      <td>1.194318</td>\n",
       "      <td>...</td>\n",
       "      <td>0</td>\n",
       "      <td>0</td>\n",
       "      <td>0</td>\n",
       "      <td>0</td>\n",
       "      <td>0</td>\n",
       "      <td>0</td>\n",
       "      <td>0</td>\n",
       "      <td>0</td>\n",
       "      <td>0</td>\n",
       "      <td>1</td>\n",
       "    </tr>\n",
       "    <tr>\n",
       "      <th>...</th>\n",
       "      <td>...</td>\n",
       "      <td>...</td>\n",
       "      <td>...</td>\n",
       "      <td>...</td>\n",
       "      <td>...</td>\n",
       "      <td>...</td>\n",
       "      <td>...</td>\n",
       "      <td>...</td>\n",
       "      <td>...</td>\n",
       "      <td>...</td>\n",
       "      <td>...</td>\n",
       "      <td>...</td>\n",
       "      <td>...</td>\n",
       "      <td>...</td>\n",
       "      <td>...</td>\n",
       "      <td>...</td>\n",
       "      <td>...</td>\n",
       "      <td>...</td>\n",
       "      <td>...</td>\n",
       "      <td>...</td>\n",
       "      <td>...</td>\n",
       "    </tr>\n",
       "    <tr>\n",
       "      <th>854</th>\n",
       "      <td>12.236143</td>\n",
       "      <td>0.000000</td>\n",
       "      <td>0.0</td>\n",
       "      <td>0.730463</td>\n",
       "      <td>1.540963</td>\n",
       "      <td>1.820334</td>\n",
       "      <td>1.540963</td>\n",
       "      <td>10.987220</td>\n",
       "      <td>0.000000</td>\n",
       "      <td>0.000000</td>\n",
       "      <td>...</td>\n",
       "      <td>0</td>\n",
       "      <td>0</td>\n",
       "      <td>0</td>\n",
       "      <td>0</td>\n",
       "      <td>0</td>\n",
       "      <td>0</td>\n",
       "      <td>0</td>\n",
       "      <td>0</td>\n",
       "      <td>0</td>\n",
       "      <td>1</td>\n",
       "    </tr>\n",
       "    <tr>\n",
       "      <th>855</th>\n",
       "      <td>12.197790</td>\n",
       "      <td>0.000000</td>\n",
       "      <td>0.0</td>\n",
       "      <td>0.730463</td>\n",
       "      <td>1.540963</td>\n",
       "      <td>0.730463</td>\n",
       "      <td>0.730463</td>\n",
       "      <td>10.297453</td>\n",
       "      <td>9.922773</td>\n",
       "      <td>1.194318</td>\n",
       "      <td>...</td>\n",
       "      <td>0</td>\n",
       "      <td>0</td>\n",
       "      <td>0</td>\n",
       "      <td>0</td>\n",
       "      <td>0</td>\n",
       "      <td>0</td>\n",
       "      <td>0</td>\n",
       "      <td>0</td>\n",
       "      <td>0</td>\n",
       "      <td>1</td>\n",
       "    </tr>\n",
       "    <tr>\n",
       "      <th>856</th>\n",
       "      <td>11.155153</td>\n",
       "      <td>11.435182</td>\n",
       "      <td>0.0</td>\n",
       "      <td>0.730463</td>\n",
       "      <td>1.540963</td>\n",
       "      <td>1.820334</td>\n",
       "      <td>1.540963</td>\n",
       "      <td>0.000000</td>\n",
       "      <td>0.000000</td>\n",
       "      <td>2.259674</td>\n",
       "      <td>...</td>\n",
       "      <td>0</td>\n",
       "      <td>0</td>\n",
       "      <td>0</td>\n",
       "      <td>0</td>\n",
       "      <td>0</td>\n",
       "      <td>0</td>\n",
       "      <td>0</td>\n",
       "      <td>0</td>\n",
       "      <td>0</td>\n",
       "      <td>1</td>\n",
       "    </tr>\n",
       "    <tr>\n",
       "      <th>857</th>\n",
       "      <td>13.033249</td>\n",
       "      <td>0.000000</td>\n",
       "      <td>0.0</td>\n",
       "      <td>0.730463</td>\n",
       "      <td>1.540963</td>\n",
       "      <td>1.820334</td>\n",
       "      <td>1.540963</td>\n",
       "      <td>0.000000</td>\n",
       "      <td>0.000000</td>\n",
       "      <td>2.259674</td>\n",
       "      <td>...</td>\n",
       "      <td>0</td>\n",
       "      <td>0</td>\n",
       "      <td>0</td>\n",
       "      <td>0</td>\n",
       "      <td>0</td>\n",
       "      <td>0</td>\n",
       "      <td>0</td>\n",
       "      <td>0</td>\n",
       "      <td>0</td>\n",
       "      <td>1</td>\n",
       "    </tr>\n",
       "    <tr>\n",
       "      <th>858</th>\n",
       "      <td>13.326638</td>\n",
       "      <td>12.503049</td>\n",
       "      <td>0.0</td>\n",
       "      <td>0.730463</td>\n",
       "      <td>1.820334</td>\n",
       "      <td>1.820334</td>\n",
       "      <td>1.194318</td>\n",
       "      <td>10.822435</td>\n",
       "      <td>0.000000</td>\n",
       "      <td>0.730463</td>\n",
       "      <td>...</td>\n",
       "      <td>0</td>\n",
       "      <td>0</td>\n",
       "      <td>0</td>\n",
       "      <td>0</td>\n",
       "      <td>0</td>\n",
       "      <td>0</td>\n",
       "      <td>0</td>\n",
       "      <td>0</td>\n",
       "      <td>0</td>\n",
       "      <td>1</td>\n",
       "    </tr>\n",
       "  </tbody>\n",
       "</table>\n",
       "<p>859 rows × 230 columns</p>\n",
       "</div>"
      ],
      "text/plain": [
       "      1stFlrSF   2ndFlrSF  3SsnPorch     Alley  BedroomAbvGr  BsmtCond  \\\n",
       "0    11.692623  11.686189        0.0  0.730463      1.540963  1.820334   \n",
       "1    12.792276   0.000000        0.0  0.730463      1.540963  1.820334   \n",
       "2    11.892039  11.724598        0.0  0.730463      1.540963  1.820334   \n",
       "3    12.013683  11.354094        0.0  0.730463      1.540963  0.730463   \n",
       "4    12.510588  12.271365        0.0  0.730463      1.820334  1.820334   \n",
       "..         ...        ...        ...       ...           ...       ...   \n",
       "854  12.236143   0.000000        0.0  0.730463      1.540963  1.820334   \n",
       "855  12.197790   0.000000        0.0  0.730463      1.540963  0.730463   \n",
       "856  11.155153  11.435182        0.0  0.730463      1.540963  1.820334   \n",
       "857  13.033249   0.000000        0.0  0.730463      1.540963  1.820334   \n",
       "858  13.326638  12.503049        0.0  0.730463      1.820334  1.820334   \n",
       "\n",
       "     BsmtExposure  BsmtFinSF1  BsmtFinSF2  BsmtFinType1  ...  \\\n",
       "0        1.540963   11.170327    0.000000      1.194318  ...   \n",
       "1        0.730463   12.062832    0.000000      0.000000  ...   \n",
       "2        1.194318   10.200343    0.000000      1.194318  ...   \n",
       "3        1.540963    8.274266    0.000000      0.000000  ...   \n",
       "4        0.000000   10.971129    0.000000      1.194318  ...   \n",
       "..            ...         ...         ...           ...  ...   \n",
       "854      1.540963   10.987220    0.000000      0.000000  ...   \n",
       "855      0.730463   10.297453    9.922773      1.194318  ...   \n",
       "856      1.540963    0.000000    0.000000      2.259674  ...   \n",
       "857      1.540963    0.000000    0.000000      2.259674  ...   \n",
       "858      1.194318   10.822435    0.000000      0.730463  ...   \n",
       "\n",
       "     SaleCondition_Partial  SaleType_COD  SaleType_CWD  SaleType_Con  \\\n",
       "0                        0             0             0             0   \n",
       "1                        0             0             0             0   \n",
       "2                        0             0             0             0   \n",
       "3                        0             0             0             0   \n",
       "4                        0             0             0             0   \n",
       "..                     ...           ...           ...           ...   \n",
       "854                      0             0             0             0   \n",
       "855                      0             0             0             0   \n",
       "856                      0             0             0             0   \n",
       "857                      0             0             0             0   \n",
       "858                      0             0             0             0   \n",
       "\n",
       "     SaleType_ConLD  SaleType_ConLI  SaleType_ConLw  SaleType_New  \\\n",
       "0                 0               0               0             0   \n",
       "1                 0               0               0             0   \n",
       "2                 0               0               0             0   \n",
       "3                 0               0               0             0   \n",
       "4                 0               0               0             0   \n",
       "..              ...             ...             ...           ...   \n",
       "854               0               0               0             0   \n",
       "855               0               0               0             0   \n",
       "856               0               0               0             0   \n",
       "857               0               0               0             0   \n",
       "858               0               0               0             0   \n",
       "\n",
       "     SaleType_Oth  SaleType_WD  \n",
       "0               0            1  \n",
       "1               0            1  \n",
       "2               0            1  \n",
       "3               0            1  \n",
       "4               0            1  \n",
       "..            ...          ...  \n",
       "854             0            1  \n",
       "855             0            1  \n",
       "856             0            1  \n",
       "857             0            1  \n",
       "858             0            1  \n",
       "\n",
       "[859 rows x 230 columns]"
      ]
     },
     "execution_count": 42,
     "metadata": {},
     "output_type": "execute_result"
    }
   ],
   "source": [
    "train"
   ]
  },
  {
   "cell_type": "markdown",
   "metadata": {
    "_cell_guid": "461af83d-a928-4645-8512-5e4dbcaf7be0",
    "_execution_state": "idle",
    "_uuid": "10aab4cee97832560e2627a490e01e80c0ffb814"
   },
   "source": [
    "#Modelling"
   ]
  },
  {
   "cell_type": "markdown",
   "metadata": {},
   "source": [
    "# <span style=\"color:blue\"> 이 아래부터의 과정은 앙상블을 정말 모르겠다.(코드) 그런 분들을 위해 참조용으로 있을 뿐. 알아서 하셔도 무방합니다."
   ]
  },
  {
   "cell_type": "markdown",
   "metadata": {
    "_cell_guid": "811925a6-341f-4cae-89c9-00983868a6b2",
    "_execution_state": "idle",
    "_uuid": "be4e4b315682b26359eba1ba3d65022aca9501e1"
   },
   "source": [
    "**Import librairies**"
   ]
  },
  {
   "cell_type": "code",
   "execution_count": 43,
   "metadata": {},
   "outputs": [],
   "source": [
    "# ! pip install xgboost"
   ]
  },
  {
   "cell_type": "code",
   "execution_count": 44,
   "metadata": {},
   "outputs": [],
   "source": [
    "# ! pip install lightgbm"
   ]
  },
  {
   "cell_type": "code",
   "execution_count": 45,
   "metadata": {
    "_cell_guid": "135e8ac5-ce46-4a5f-b205-13f827ef33b8",
    "_execution_state": "idle",
    "_uuid": "fc664fbe27561a3697d0210921107b0e14b7d211"
   },
   "outputs": [],
   "source": [
    "from sklearn.linear_model import ElasticNet, Lasso,  BayesianRidge, LassoLarsIC\n",
    "from sklearn.ensemble import RandomForestRegressor,  GradientBoostingRegressor\n",
    "from sklearn.kernel_ridge import KernelRidge\n",
    "from sklearn.pipeline import make_pipeline\n",
    "from sklearn.preprocessing import RobustScaler\n",
    "from sklearn.base import BaseEstimator, TransformerMixin, RegressorMixin, clone\n",
    "from sklearn.model_selection import KFold, cross_val_score, train_test_split, GridSearchCV\n",
    "from sklearn.metrics import mean_squared_error\n",
    "import xgboost as xgb\n",
    "import lightgbm as lgb"
   ]
  },
  {
   "cell_type": "markdown",
   "metadata": {
    "_cell_guid": "7aa6ebb9-27a7-4bd3-a7b2-4ddc6a0abbed",
    "_execution_state": "idle",
    "_uuid": "056b657c8f0de30d4708c600eabbb33684c64479"
   },
   "source": [
    "**Define a cross validation strategy**"
   ]
  },
  {
   "cell_type": "markdown",
   "metadata": {
    "_cell_guid": "4a2b5181-44f2-4c74-b482-aae0f5afc25a",
    "_execution_state": "idle",
    "_uuid": "dc0d7a3013f349988b3f2c84a6c130d6ad350170"
   },
   "source": [
    "We use the **cross_val_score** function of Sklearn. However this function has not a shuffle attribut, we add then one line of code,  in order to shuffle the dataset  prior to cross-validation"
   ]
  },
  {
   "cell_type": "code",
   "execution_count": null,
   "metadata": {},
   "outputs": [],
   "source": []
  },
  {
   "cell_type": "code",
   "execution_count": 46,
   "metadata": {},
   "outputs": [],
   "source": [
    "X_train_train, X_train_test, y_train_train, y_train_test = train_test_split(train, y_train, test_size=0.2, random_state=48)"
   ]
  },
  {
   "cell_type": "code",
   "execution_count": 121,
   "metadata": {
    "_cell_guid": "f396260b-e182-4a87-9a2a-b92b9375ea6f",
    "_execution_state": "idle",
    "_uuid": "5c12551d092a6c5cf32d86398b054da7af3047b8"
   },
   "outputs": [],
   "source": [
    "#Validation function\n",
    "n_folds = 5\n",
    "\n",
    "def rmsle_cv(model):\n",
    "    kf = KFold(n_folds, shuffle=True, random_state=42).get_n_splits(train.values)\n",
    "    rmse= np.sqrt(-cross_val_score(model, train.values, y_train, scoring=\"neg_mean_squared_error\", cv = kf))\n",
    "    return(rmse)"
   ]
  },
  {
   "cell_type": "markdown",
   "metadata": {
    "_cell_guid": "42e1565e-77a1-41a7-ac31-893e405d34ad",
    "_execution_state": "busy",
    "_uuid": "643ae2c4a88576ebbd55824ce8e654486087a6e0"
   },
   "source": [
    "##Base models"
   ]
  },
  {
   "cell_type": "markdown",
   "metadata": {
    "_cell_guid": "578f088d-1a84-41cb-b945-ec64800f2308",
    "_execution_state": "idle",
    "_uuid": "370125198a0cbbc9336cbf179f00a2ebb02cb063"
   },
   "source": [
    "-  **LASSO  Regression**  : \n",
    "\n",
    "This model may be very sensitive to outliers. So we need to made it more robust on them. For that we use the sklearn's  **Robustscaler()**  method on pipeline "
   ]
  },
  {
   "cell_type": "code",
   "execution_count": 48,
   "metadata": {
    "_cell_guid": "03f45cb7-0a40-45ea-94e8-64fd7ff1e8f6",
    "_execution_state": "idle",
    "_uuid": "2a50c954cb771d350c3092c3658486ba4d22aba5"
   },
   "outputs": [],
   "source": [
    "lasso = make_pipeline(RobustScaler(), Lasso(alpha =0.0007, random_state=1))"
   ]
  },
  {
   "cell_type": "code",
   "execution_count": 49,
   "metadata": {
    "_cell_guid": "2d0cc958-1654-425c-90ed-1ceb9edd7186",
    "_execution_state": "idle",
    "_uuid": "7d994349237b9304b0d17719e1af077e69288229"
   },
   "outputs": [
    {
     "name": "stdout",
     "output_type": "stream",
     "text": [
      "\n",
      "Lasso score: 0.1151 (0.0119)\n",
      "\n"
     ]
    }
   ],
   "source": [
    "score = rmsle_cv(lasso)\n",
    "print(\"\\nLasso score: {:.4f} ({:.4f})\\n\".format(score.mean(), score.std()))"
   ]
  },
  {
   "cell_type": "markdown",
   "metadata": {
    "_cell_guid": "2c826f7b-ac66-421c-a7ae-29dfdd765bdb",
    "_execution_state": "idle",
    "_uuid": "30e9756cf63991715b48e8c53bc57906fc76f380"
   },
   "source": [
    "- **Elastic Net Regression** :\n",
    "\n",
    "again made robust to outliers"
   ]
  },
  {
   "cell_type": "code",
   "execution_count": 50,
   "metadata": {
    "_cell_guid": "e635cc7e-caeb-4f8b-ae78-c41f8eb0be59",
    "_execution_state": "idle",
    "_uuid": "b614cf1bdee86a3b1cbdde05298f9f7ae023799b"
   },
   "outputs": [],
   "source": [
    "ENet = make_pipeline(RobustScaler(), ElasticNet(alpha=0.0008, l1_ratio=.8, random_state=3))"
   ]
  },
  {
   "cell_type": "code",
   "execution_count": 51,
   "metadata": {
    "_cell_guid": "7cf6faaf-d69a-4268-b192-a9e60d207c28",
    "_execution_state": "idle",
    "_uuid": "b6d299b9d4a0cdb23ddd8459b3935da2948016d6"
   },
   "outputs": [
    {
     "name": "stdout",
     "output_type": "stream",
     "text": [
      "ElasticNet score: 0.1150 (0.0116)\n",
      "\n"
     ]
    }
   ],
   "source": [
    "score = rmsle_cv(ENet)\n",
    "print(\"ElasticNet score: {:.4f} ({:.4f})\\n\".format(score.mean(), score.std()))"
   ]
  },
  {
   "cell_type": "markdown",
   "metadata": {
    "_cell_guid": "7aae5316-4e32-4203-bff5-3b38c1f657c3",
    "_execution_state": "idle",
    "_uuid": "0775061bb477242f1332a048778e879ca540a216"
   },
   "source": [
    "- **Kernel Ridge Regression** :"
   ]
  },
  {
   "cell_type": "code",
   "execution_count": 52,
   "metadata": {
    "_cell_guid": "805343d9-0af6-43a2-a351-c0b25c62fcf0",
    "_execution_state": "idle",
    "_uuid": "3199c83513d93407c818ce1ed43c6c52e7f5a8c6"
   },
   "outputs": [],
   "source": [
    "KRR = KernelRidge(alpha=0.6, kernel='polynomial', degree=2, coef0=2)"
   ]
  },
  {
   "cell_type": "code",
   "execution_count": 53,
   "metadata": {
    "_cell_guid": "a1195106-2170-47f2-86a7-c4f3be683aa8",
    "_execution_state": "idle",
    "_uuid": "437dc093e88d661a369539520af1b4c37d1a0c1a"
   },
   "outputs": [
    {
     "name": "stdout",
     "output_type": "stream",
     "text": [
      "Kernel Ridge score: 0.1189 (0.0115)\n",
      "\n"
     ]
    }
   ],
   "source": [
    "score = rmsle_cv(KRR)\n",
    "print(\"Kernel Ridge score: {:.4f} ({:.4f})\\n\".format(score.mean(), score.std()))"
   ]
  },
  {
   "cell_type": "markdown",
   "metadata": {
    "_cell_guid": "5a66c27c-be80-4ec0-8953-eaeb2a7dd2e7",
    "_execution_state": "idle",
    "_uuid": "14b60a7e4296cccb39042c9c625a1480d59a01c1"
   },
   "source": [
    "- **Gradient Boosting Regression** :\n",
    "\n",
    "With **huber**  loss that makes it robust to outliers\n",
    "    "
   ]
  },
  {
   "cell_type": "code",
   "execution_count": 54,
   "metadata": {
    "_cell_guid": "af13332c-fd37-40bb-a078-6bad6caaa2ab",
    "_execution_state": "idle",
    "_uuid": "9a983f0f62a0dde7689b20a8e52022bb189478b4"
   },
   "outputs": [],
   "source": [
    "GBoost = GradientBoostingRegressor(n_estimators=3000, learning_rate=0.05,\n",
    "                                   max_depth=4, max_features='sqrt',\n",
    "                                   min_samples_leaf=15, min_samples_split=10, \n",
    "                                   loss='huber', random_state =5)"
   ]
  },
  {
   "cell_type": "code",
   "execution_count": 55,
   "metadata": {
    "_cell_guid": "43dd152f-7c49-41b6-8f8e-a5864b1e2a71",
    "_execution_state": "idle",
    "_uuid": "e9d8c4bd191f77d8d275f53c0c1a6cf344151294"
   },
   "outputs": [
    {
     "name": "stdout",
     "output_type": "stream",
     "text": [
      "Gradient Boosting score: 0.1234 (0.0164)\n",
      "\n"
     ]
    }
   ],
   "source": [
    "score = rmsle_cv(GBoost)\n",
    "print(\"Gradient Boosting score: {:.4f} ({:.4f})\\n\".format(score.mean(), score.std()))"
   ]
  },
  {
   "cell_type": "markdown",
   "metadata": {
    "_cell_guid": "d44ac87e-bf01-440b-ab22-b2868eb6ae48",
    "_execution_state": "idle",
    "_uuid": "53d7991f7dd03fcd7fb5ab1ec26fcd0614d002d3"
   },
   "source": [
    "- **XGBoost** :"
   ]
  },
  {
   "cell_type": "code",
   "execution_count": 56,
   "metadata": {
    "_cell_guid": "ed738a4c-c246-443c-a3c1-39df25f988b7",
    "_execution_state": "idle",
    "_uuid": "57c24b596ceb46d6f32ebf9501d672d7e469c15b"
   },
   "outputs": [
    {
     "name": "stdout",
     "output_type": "stream",
     "text": [
      "Xgboost score: 0.1222 (0.0156)\n",
      "\n"
     ]
    }
   ],
   "source": [
    "model_xgb = xgb.XGBRegressor(colsample_bytree=0.4, gamma=0.03, \n",
    "                             learning_rate=0.01, max_depth=5, \n",
    "                             min_child_weight=1.5, n_estimators=2200,\n",
    "                             reg_alpha=0.4, reg_lambda=0.8,\n",
    "                             subsample=0.5, silent=1,\n",
    "                             random_state =7, nthread = -1)\n",
    "score = rmsle_cv(model_xgb)\n",
    "print(\"Xgboost score: {:.4f} ({:.4f})\\n\".format(score.mean(), score.std()))"
   ]
  },
  {
   "cell_type": "code",
   "execution_count": 57,
   "metadata": {
    "_cell_guid": "30738ecc-39f8-44ed-9f42-68518beb7e6a",
    "_execution_state": "idle",
    "_uuid": "5f52ccf39d01165e61a7c6be8b788be4e58e286b",
    "scrolled": true
   },
   "outputs": [
    {
     "name": "stdout",
     "output_type": "stream",
     "text": [
      "Xgboost score: 0.1222 (0.0156)\n",
      "\n"
     ]
    }
   ],
   "source": [
    "score = rmsle_cv(model_xgb)\n",
    "print(\"Xgboost score: {:.4f} ({:.4f})\\n\".format(score.mean(), score.std()))"
   ]
  },
  {
   "cell_type": "code",
   "execution_count": 58,
   "metadata": {},
   "outputs": [
    {
     "data": {
      "text/plain": [
       "' 그리드 서치\\n\\nparameters = {\\'objective\\':[\\'reg:linear\\'],\\n              \\'learning_rate\\': [.01, .03, 0.05, .07], #so called `eta` value\\n              \\'max_depth\\': [5, 6, 7],\\n              \\'min_child_weight\\': [4],\\n              \\'silent\\': [1],\\n              \\'subsample\\': [0.7],\\n              \\'colsample_bytree\\': [0.7],\\n              \\'n_estimators\\': [500]}\\n\\nclf = GridSearchCV(xgb_model, parameters, n_jobs=5, \\n                   cv=StratifiedKFold(train[\\'QuoteConversion_Flag\\'], n_folds=5, shuffle=True), \\n                   scoring=\\'roc_auc\\',\\n                   verbose=2, refit=True)\\n\\nclf.fit(train[features], train[\"QuoteConversion_Flag\"])\\n\\n#trust your CV!\\nbest_parameters, score, _ = max(clf.grid_scores_, key=lambda x: x[1])\\nprint(\\'Raw AUC score:\\', score)\\nfor param_name in sorted(best_parameters.keys()):\\n    print(\"%s: %r\" % (param_name, best_parameters[param_name]))\\n\\ntest_probs = clf.predict_proba(test[features])[:,1]\\n'"
      ]
     },
     "execution_count": 58,
     "metadata": {},
     "output_type": "execute_result"
    }
   ],
   "source": [
    "\"\"\" 그리드 서치\n",
    "\n",
    "parameters = {'objective':['reg:linear'],\n",
    "              'learning_rate': [.01, .03, 0.05, .07], #so called `eta` value\n",
    "              'max_depth': [5, 6, 7],\n",
    "              'min_child_weight': [4],\n",
    "              'silent': [1],\n",
    "              'subsample': [0.7],\n",
    "              'colsample_bytree': [0.7],\n",
    "              'n_estimators': [500]}\n",
    "\n",
    "clf = GridSearchCV(xgb_model, parameters, n_jobs=5, \n",
    "                   cv=StratifiedKFold(train['QuoteConversion_Flag'], n_folds=5, shuffle=True), \n",
    "                   scoring='roc_auc',\n",
    "                   verbose=2, refit=True)\n",
    "\n",
    "clf.fit(train[features], train[\"QuoteConversion_Flag\"])\n",
    "\n",
    "#trust your CV!\n",
    "best_parameters, score, _ = max(clf.grid_scores_, key=lambda x: x[1])\n",
    "print('Raw AUC score:', score)\n",
    "for param_name in sorted(best_parameters.keys()):\n",
    "    print(\"%s: %r\" % (param_name, best_parameters[param_name]))\n",
    "\n",
    "test_probs = clf.predict_proba(test[features])[:,1]\n",
    "\"\"\""
   ]
  },
  {
   "cell_type": "markdown",
   "metadata": {
    "_cell_guid": "a43ca74d-093c-4a56-a76c-b3223bf82fbc",
    "_execution_state": "idle",
    "_uuid": "460f3ccf7d5c33ea9f8a826bbf056d759e7b5119"
   },
   "source": [
    "- **LightGBM** :"
   ]
  },
  {
   "cell_type": "code",
   "execution_count": 59,
   "metadata": {
    "_cell_guid": "dd84d7db-3f83-4e4e-b02f-7632ca5ee4ac",
    "_execution_state": "idle",
    "_uuid": "4c94cf90f0ef0d350c5e66f3bd397865bfcc61ae"
   },
   "outputs": [
    {
     "name": "stdout",
     "output_type": "stream",
     "text": [
      "LGBM score: 0.1194 (0.0137)\n",
      "\n"
     ]
    }
   ],
   "source": [
    "model_lgb = lgb.LGBMRegressor(objective='regression',num_leaves=5,\n",
    "                              learning_rate=0.01, n_estimators=2500,\n",
    "                              max_bin = 57, bagging_fraction = 0.75,\n",
    "                              bagging_freq = 4, feature_fraction = 0.18,\n",
    "                              feature_fraction_seed=9, bagging_seed=9,\n",
    "                              min_data_in_leaf = 6, min_sum_hessian_in_leaf = 7)\n",
    "score = rmsle_cv(model_lgb)\n",
    "print(\"LGBM score: {:.4f} ({:.4f})\\n\" .format(score.mean(), score.std()))"
   ]
  },
  {
   "cell_type": "markdown",
   "metadata": {
    "_cell_guid": "9e1eff6a-e937-45e4-96ef-41593e31e1bb",
    "_execution_state": "idle",
    "_uuid": "71bce529300e2f3d9f9f475d01bd7001258dbede"
   },
   "source": [
    "###Base models scores"
   ]
  },
  {
   "cell_type": "markdown",
   "metadata": {
    "_cell_guid": "84ddecce-7671-44e5-919d-97348bf413f4",
    "_execution_state": "idle",
    "_uuid": "cae4987b8ec89e90a90d7826c4ec98d315cac00b"
   },
   "source": [
    "cross-validation rmsle error로 모델 성능을 확인해 봅시다"
   ]
  },
  {
   "cell_type": "markdown",
   "metadata": {
    "_cell_guid": "1114bc71-7eb5-4a7c-97a1-42a69cc21130",
    "_execution_state": "idle",
    "_uuid": "06d3adc16585b54a85113882975297c67672ea07"
   },
   "source": [
    "##Stacking  models"
   ]
  },
  {
   "cell_type": "markdown",
   "metadata": {
    "_cell_guid": "56746043-0d77-4687-a8f2-ae494efae3a8",
    "_execution_state": "idle",
    "_uuid": "2410d2172ddc108475db49214c52c21e66aeee59"
   },
   "source": [
    "###Simplest Stacking approach : Averaging base models"
   ]
  },
  {
   "cell_type": "markdown",
   "metadata": {
    "_cell_guid": "d0145496-896a-44e3-b01b-e12546328f06",
    "_execution_state": "idle",
    "_uuid": "5ecc887f1ab4001c872862cecf3a0b350ac51a23"
   },
   "source": [
    "**Averaged base models class**"
   ]
  },
  {
   "cell_type": "code",
   "execution_count": 60,
   "metadata": {
    "_cell_guid": "49e44ad6-8dc4-4a67-8079-adbac934fec4",
    "_execution_state": "idle",
    "_uuid": "ff3ee5889bcac40847909c3a71285d2b8f9d431f"
   },
   "outputs": [],
   "source": [
    "class AveragingModels(BaseEstimator, RegressorMixin, TransformerMixin):\n",
    "    def __init__(self, models):\n",
    "        self.models = models\n",
    "        \n",
    "    # we define clones of the original models to fit the data in\n",
    "    def fit(self, X, y):\n",
    "        self.models_ = [clone(x) for x in self.models]\n",
    "        \n",
    "        # Train cloned base models\n",
    "        for model in self.models_:\n",
    "            model.fit(X, y)\n",
    "\n",
    "        return self\n",
    "    \n",
    "    #Now we do the predictions for cloned models and average them\n",
    "    def predict(self, X):\n",
    "        predictions = np.column_stack([\n",
    "            model.predict(X) for model in self.models_\n",
    "        ])\n",
    "        return np.mean(predictions, axis=1)   "
   ]
  },
  {
   "cell_type": "markdown",
   "metadata": {
    "_cell_guid": "825eb99f-d509-4203-b0c6-4ff77f696322",
    "_execution_state": "idle",
    "_uuid": "f05bf966ea7a7b5e6f8ca5d641ebd11281d54d0d"
   },
   "source": [
    "**Averaged base models score**"
   ]
  },
  {
   "cell_type": "code",
   "execution_count": 61,
   "metadata": {
    "_cell_guid": "d480916f-89e7-4bcc-9b9d-b54492591654",
    "_execution_state": "idle",
    "_uuid": "81ce9e148b7e735f465b4b6508511dea44fbf791",
    "scrolled": true
   },
   "outputs": [
    {
     "name": "stdout",
     "output_type": "stream",
     "text": [
      " Averaged base models score: 0.1135 (0.0132)\n",
      "\n"
     ]
    }
   ],
   "source": [
    "averaged_models1 = AveragingModels(models = [lasso, model_xgb])\n",
    "\n",
    "score = rmsle_cv(averaged_models1)\n",
    "print(\" Averaged base models score: {:.4f} ({:.4f})\\n\".format(score.mean(), score.std()))"
   ]
  },
  {
   "cell_type": "code",
   "execution_count": 62,
   "metadata": {},
   "outputs": [
    {
     "name": "stdout",
     "output_type": "stream",
     "text": [
      " Averaged base models score: 0.1120 (0.0120)\n",
      "\n"
     ]
    }
   ],
   "source": [
    "averaged_models2 = AveragingModels(models = [lasso, ENet, model_lgb])\n",
    "\n",
    "score = rmsle_cv(averaged_models2)\n",
    "print(\" Averaged base models score: {:.4f} ({:.4f})\\n\".format(score.mean(), score.std()))"
   ]
  },
  {
   "cell_type": "code",
   "execution_count": 63,
   "metadata": {},
   "outputs": [
    {
     "name": "stdout",
     "output_type": "stream",
     "text": [
      " Averaged base models score: 0.1116 (0.0124)\n",
      "\n"
     ]
    }
   ],
   "source": [
    "averaged_models3 = AveragingModels(models = [lasso, ENet, KRR, model_xgb])\n",
    "\n",
    "score = rmsle_cv(averaged_models3)\n",
    "print(\" Averaged base models score: {:.4f} ({:.4f})\\n\".format(score.mean(), score.std()))"
   ]
  },
  {
   "cell_type": "code",
   "execution_count": 64,
   "metadata": {},
   "outputs": [
    {
     "name": "stdout",
     "output_type": "stream",
     "text": [
      " Averaged base models score: 0.1150 (0.0117)\n",
      "\n"
     ]
    }
   ],
   "source": [
    "averaged_models4 = AveragingModels(models = [lasso, ENet])\n",
    "\n",
    "score = rmsle_cv(averaged_models4)\n",
    "print(\" Averaged base models score: {:.4f} ({:.4f})\\n\".format(score.mean(), score.std()))"
   ]
  },
  {
   "cell_type": "code",
   "execution_count": 65,
   "metadata": {},
   "outputs": [
    {
     "data": {
      "text/plain": [
       "array([12.04772992, 11.78291799, 11.89737635, 11.85789022, 12.24351856,\n",
       "       11.78821749, 12.43567784, 11.74939121, 12.0788576 , 12.36153061,\n",
       "       11.49924644, 12.12386431, 11.64450404, 11.80477377, 11.43856034,\n",
       "       12.68197487, 11.83080452, 12.72561197, 11.92064115, 11.8258302 ,\n",
       "       11.93947382, 12.28828095, 12.05126186, 11.75685521, 11.61803191,\n",
       "       12.41381151, 12.00219476, 11.83666347, 12.58573289, 12.00006851,\n",
       "       11.66480979, 12.04048959, 11.89489356, 11.93908519, 11.70750578,\n",
       "       11.99569545, 11.48105   , 11.85604708, 13.07230565, 11.83208503,\n",
       "       11.60583384, 11.91235089, 12.13410025, 12.42071852, 11.65857604,\n",
       "       11.70696372, 12.50102312, 12.37182963, 11.81100657, 12.13481727,\n",
       "       11.94455315, 11.95661452, 11.48205787, 12.01368919, 12.0063043 ,\n",
       "       11.38434859, 10.71641983, 11.77360436, 12.46000839, 12.16953008,\n",
       "       12.17009578, 11.97500232, 12.12814757, 12.20376367, 12.23095402,\n",
       "       11.92920197, 12.60904029, 12.11300211, 12.42765409, 12.28837667,\n",
       "       12.309457  , 11.72667378, 12.64663674, 12.22157841, 12.42004428,\n",
       "       11.4209362 , 12.14354986, 12.40705389, 12.41961257, 12.28061599,\n",
       "       12.05949761, 12.33140234, 11.63439146, 11.92903289, 11.89501933,\n",
       "       12.01172256, 11.87773104, 12.52359422, 12.25237388, 12.07065061,\n",
       "       11.83375563, 11.64091274, 11.75160373, 12.00708036, 11.68995191,\n",
       "       12.01984124, 11.73151409, 11.73605122, 12.17702263, 12.06206045,\n",
       "       11.69822019, 12.47388662, 11.96939988, 12.52832308, 12.32233129,\n",
       "       12.09711974, 11.94113056, 11.78582156, 11.17341852, 11.75079781,\n",
       "       11.33573838, 12.08504396, 11.70714012, 12.25463911, 12.11521833,\n",
       "       12.08969056, 11.39718084, 12.18702925, 11.50427768, 11.79903709,\n",
       "       12.16403781, 12.64992614, 12.07105968, 12.40624301, 11.82919514,\n",
       "       11.71666656, 11.79733857, 12.86573166, 12.1304925 , 12.20302301,\n",
       "       12.62447012, 12.15120991, 12.21911775, 12.05814501, 12.74595135,\n",
       "       11.60399163, 11.74902263, 11.96139351, 11.39279303, 12.15951409,\n",
       "       11.21023982, 11.27095655, 12.41376954, 11.92855791, 12.18054034,\n",
       "       11.85062364, 12.04501187, 11.42163511, 12.39044108, 11.62057904,\n",
       "       11.73708988, 11.64767511, 11.99535888, 11.49259812, 11.75263867,\n",
       "       12.2568812 , 12.29667421, 12.15746902, 12.04828288, 12.17395479,\n",
       "       11.91637268, 12.21449908, 11.66404604, 12.16205706, 12.61467471,\n",
       "       11.68170494, 11.87732156, 12.56353059, 11.73322003, 11.68207665,\n",
       "       11.8286451 , 12.31054726, 12.64283478, 12.35474239, 11.76358701,\n",
       "       11.16633929, 12.63513767, 12.43892063, 11.50117078, 11.24018893,\n",
       "       11.95192967, 12.01293665, 12.19156618, 12.47784889, 12.64161996,\n",
       "       11.77457665, 13.02895448, 11.84668636, 11.88467487, 11.48623249,\n",
       "       12.14507155, 12.20991247, 12.08805174, 11.89453537, 12.47458989,\n",
       "       12.00208431, 12.26709396, 12.44389384, 12.77154296, 12.1852071 ,\n",
       "       12.24649286, 11.35330551, 11.80087059, 11.80269198, 11.92213068,\n",
       "       12.48483007, 12.06892346, 12.07250517, 12.02060672, 11.78427822,\n",
       "       11.78057827, 11.9213554 , 11.55702805, 11.8773776 , 12.1569523 ,\n",
       "       12.12860173, 11.98214429, 11.77059593, 11.86437801, 11.78466409,\n",
       "       11.9860919 , 11.72879431, 12.19523931, 11.90995378, 12.11324789,\n",
       "       11.97570095, 11.45996741, 12.48158173, 11.85098425, 12.21589103,\n",
       "       11.40815759, 11.98083664, 12.02393316, 11.99731001, 11.79482359,\n",
       "       12.08481968, 11.71994757, 12.01477344, 11.62969032, 11.97974282,\n",
       "       10.93728688, 11.67076913, 11.78003373, 11.98684565, 11.58258352,\n",
       "       12.69966829, 12.16076272, 12.48719107, 12.02644118, 12.62077623,\n",
       "       12.12246916, 12.16999136, 11.66791622, 11.82567824, 11.70340415,\n",
       "       12.64749731, 12.18462883, 11.81299564, 11.81204183, 11.75363677,\n",
       "       11.65349828, 12.34594433, 11.27691029, 11.47082687, 12.02595254,\n",
       "       11.62862833, 12.21529024, 12.41427981, 12.29334955, 11.7721519 ,\n",
       "       11.84905769, 11.63902862, 11.7872441 , 12.37571127, 12.07532098,\n",
       "       11.58011695, 11.69526548, 11.45627538, 12.21893762, 11.69959235,\n",
       "       11.6843696 , 12.12377445, 12.81683446, 11.48854763, 11.44685844,\n",
       "       11.77843723, 12.09724801, 12.09989743, 11.65995592, 11.97295749,\n",
       "       11.70592024, 11.99618505, 12.27421855, 11.73989231, 12.26914158,\n",
       "       12.24467528, 12.1008423 , 12.22779947, 12.33620152, 12.1248529 ,\n",
       "       11.87110879, 12.3261473 , 11.75779189, 11.81867149, 12.16006151,\n",
       "       12.28317811, 12.38689048, 12.16069846, 12.22185963, 13.1481327 ,\n",
       "       11.9168155 , 11.98208001, 11.97688146, 12.33733252, 12.30678769,\n",
       "       12.66725825, 11.71315392, 11.64422786, 11.77688415, 11.41383098,\n",
       "       12.41591525, 12.54458623, 13.14709081, 11.8763685 , 12.19831071,\n",
       "       11.71785575, 11.67674   , 12.53495092, 12.14776328, 12.15558793,\n",
       "       12.13225254, 12.06973333, 11.80512466, 11.98620553, 11.87472356,\n",
       "       12.00365615, 12.37256234, 11.90912727, 12.075662  , 11.84477579,\n",
       "       11.4456743 , 12.19026418, 11.74885397, 12.2367261 , 11.91023599,\n",
       "       12.57263206, 11.6528831 , 12.30021923, 11.86748859, 12.55911947,\n",
       "       12.16542585, 12.29550707, 11.28448945, 11.83790904, 11.75829415,\n",
       "       11.62414171, 11.82494988, 12.36069025, 11.19881216, 11.36805575,\n",
       "       11.53658897, 11.74438206, 11.97785636, 11.94262491, 12.24007871,\n",
       "       11.86161044, 12.34553906, 11.91072674, 12.79627241, 11.8197377 ,\n",
       "       12.18264141, 11.86469134, 11.57886555, 11.76309673, 11.64555484,\n",
       "       11.850638  , 12.05168058, 12.28729323, 11.87474644, 12.37780383,\n",
       "       12.25827806, 12.44412898, 11.99170433, 12.97516838, 12.18911268,\n",
       "       12.16250656, 12.19656686, 11.86928597, 11.9588141 , 11.68930134,\n",
       "       12.50399524, 12.14213249, 11.64372476, 12.45282214, 12.1230641 ,\n",
       "       11.80611459, 12.62577191, 11.43290763, 12.11079548, 11.98300958,\n",
       "       12.15845109, 11.72677419, 11.85374155, 11.96353947, 11.97514206,\n",
       "       12.09940332, 11.72114286, 12.73678736, 12.8158789 , 11.82368812,\n",
       "       12.38977341, 12.0371433 , 11.77398183, 12.10704307, 11.84586463,\n",
       "       11.88416043, 11.95009682, 12.2070098 , 12.42942421, 11.18917528,\n",
       "       12.25810985, 12.15047261, 11.92345091, 11.89337596, 12.12486537,\n",
       "       11.74289792, 11.92604114, 12.08796648, 12.44335057, 12.5518207 ,\n",
       "       11.97341544, 11.6581585 , 11.70119183, 12.11902746, 11.63536026,\n",
       "       11.78089381, 11.9006408 , 11.82995876, 13.57654653, 12.02353728,\n",
       "       12.34497171, 11.98370543, 12.62926584, 12.35764289, 11.87890187,\n",
       "       12.70141081, 12.20776651, 11.85926657, 11.93562152, 12.05848055,\n",
       "       12.67395181, 12.22226226, 12.66016422, 12.69525525, 11.61070477,\n",
       "       12.19000089, 12.48986485, 12.1884709 , 12.48904275, 11.58464094,\n",
       "       12.0068892 , 11.19364921, 12.364237  , 11.36956131, 12.55835098,\n",
       "       11.10046998, 11.3882784 , 11.82719796, 12.33536027, 12.12461477,\n",
       "       12.42768197, 11.78183279, 11.56490019, 11.77343611, 11.65722041,\n",
       "       11.99049381, 11.84846522, 11.06125966, 12.35664356, 11.72380062,\n",
       "       11.58169008, 11.99792895, 12.40555563, 12.08724701, 12.14804581,\n",
       "       11.49494398, 12.45155134, 12.56858853, 12.40052722, 11.9366378 ,\n",
       "       12.16843162, 12.03705443, 11.76240605, 12.85008894, 12.36680454,\n",
       "       12.13680884, 11.61379596, 11.98731241, 12.03867328, 12.84826944,\n",
       "       12.13188419, 12.5376124 , 11.75123946, 12.0206532 , 11.85985327,\n",
       "       12.25222165, 12.17631373, 11.82156171, 11.86058663, 12.40928177,\n",
       "       11.68673463, 12.14166923, 12.45623477, 13.02744042, 12.42145812,\n",
       "       12.41774968, 11.49540338, 11.81727218, 11.51336567, 11.9209181 ,\n",
       "       11.20845461, 12.34308193, 11.94100608, 11.95272678, 11.60304502,\n",
       "       11.62646224, 12.46448098, 11.97243435, 12.72945062, 11.8033075 ,\n",
       "       12.32962629, 11.85062484, 11.74393913, 11.9949366 , 12.3426799 ,\n",
       "       12.53325885, 11.98714498, 11.83094005, 11.83240174, 12.00901681,\n",
       "       11.68454488, 12.13396963, 12.19333265, 12.44854174, 11.42589529,\n",
       "       12.4431575 , 11.78294319, 11.65274718, 11.6661431 , 12.25207729,\n",
       "       12.30863135, 11.98661543, 11.49647068, 12.42291384, 12.10763814,\n",
       "       12.31602791, 11.77738358, 12.65044294, 11.77175334, 12.34155341,\n",
       "       12.02421911, 11.8537667 , 11.83166198, 12.15829148, 11.86519236,\n",
       "       11.90560376, 12.44068597, 11.86959209, 11.59468405, 12.1803625 ,\n",
       "       12.15927868, 11.77806516, 11.55803012, 12.15814644, 12.04077625,\n",
       "       12.04354966, 11.66071529, 12.81431817, 11.90472479, 12.08283798,\n",
       "       12.31417706, 11.87363238, 12.78702647, 11.62614599, 12.18484202,\n",
       "       11.7204012 , 11.88958946, 12.45128411, 11.63988633, 11.35898036,\n",
       "       11.82478489, 12.46937359, 11.73971437, 11.79649079, 12.17054689,\n",
       "       12.08220787, 12.22966094, 12.39946876, 11.83085143, 11.89342718])"
      ]
     },
     "execution_count": 65,
     "metadata": {},
     "output_type": "execute_result"
    }
   ],
   "source": [
    "averaged_models2.fit(train, y_train)\n",
    "avg_pred = averaged_models2.predict(test)\n",
    "avg_pred"
   ]
  },
  {
   "cell_type": "markdown",
   "metadata": {
    "_cell_guid": "387761c7-9dc5-41aa-8cda-5315b6a72fbf",
    "_execution_state": "idle",
    "_uuid": "01b68302f0ec3af42a70794bc339bf5956ab2569"
   },
   "source": [
    "###Less simple Stacking : Adding a Meta-model"
   ]
  },
  {
   "cell_type": "markdown",
   "metadata": {
    "_cell_guid": "cb18e314-968d-4765-942a-5706d0f4f815",
    "_execution_state": "idle",
    "_uuid": "69f216ce13eb61f0d07403986a2d38b11e18ae6a"
   },
   "source": [
    "In this approach, we add a meta-model on averaged base models and use the out-of-folds predictions of these base models to train our meta-model. \n",
    "\n",
    "The procedure, for the training part, may be described as follows:\n",
    "\n",
    "\n",
    "1. Split the total training set into two disjoint sets (here **train** and .**holdout** )\n",
    "\n",
    "2. Train several base models on the first part (**train**)\n",
    "\n",
    "3. Test these base models on the second part (**holdout**)\n",
    "\n",
    "4. Use the predictions from 3)  (called  out-of-folds predictions) as the inputs, and the correct responses (target variable) as the outputs  to train a higher level learner called **meta-model**.\n",
    "\n",
    "The first three steps are done iteratively . If we take for example a 5-fold stacking , we first split the training data into 5 folds. Then we will do 5 iterations. In each iteration,  we train every base model on 4 folds and predict on the remaining fold (holdout fold). \n",
    "\n",
    "So, we will be sure, after 5 iterations , that the entire data is used to get out-of-folds predictions that we will then use as \n",
    "new feature to train our meta-model in the step 4.\n",
    "\n",
    "For the prediction part , We average the predictions of  all base models on the test data  and used them as **meta-features**  on which, the final prediction is done with the meta-model.\n"
   ]
  },
  {
   "cell_type": "markdown",
   "metadata": {
    "_cell_guid": "7a1d4b95-ad19-4522-8459-99f0839a49bb",
    "_uuid": "5e232cc0edea67af1fc672ee07a93c435e7e2f98"
   },
   "source": [
    "![Faron](http://i.imgur.com/QBuDOjs.jpg)\n",
    "\n",
    "(Image taken from [Faron](https://www.kaggle.com/getting-started/18153#post103381))"
   ]
  },
  {
   "cell_type": "markdown",
   "metadata": {
    "_cell_guid": "b9ca03ee-0377-4313-a236-59d3d972cac3",
    "_uuid": "a46c5bab3855a4728c52765379c1674de3123a25"
   },
   "source": [
    "On this gif, the base models are algorithms 0, 1, 2 and the meta-model is algorithm 3. The entire training dataset is \n",
    "A+B (target variable y known) that we can split into train part (A) and holdout part (B). And the test dataset is C. \n",
    "\n",
    "B1 (which is the prediction from the holdout part)  is the new feature used to train the meta-model 3 and C1 (which\n",
    "is the prediction  from the test dataset) is the meta-feature on which the final prediction is done. "
   ]
  },
  {
   "cell_type": "markdown",
   "metadata": {
    "_cell_guid": "bd10661e-6eec-4789-83fa-d55b77619252",
    "_execution_state": "idle",
    "_uuid": "5374a729325ac38423ff82891f1cc887f14ba317"
   },
   "source": [
    "**Stacking averaged Models Class**"
   ]
  },
  {
   "cell_type": "code",
   "execution_count": 66,
   "metadata": {
    "_cell_guid": "03326750-2442-4e14-8774-6e2ce9330173",
    "_execution_state": "idle",
    "_uuid": "9115cf7180ba9491bd0a2c5bd566e18238c9de80"
   },
   "outputs": [],
   "source": [
    "class StackingAveragedModels(BaseEstimator, RegressorMixin, TransformerMixin):\n",
    "    def __init__(self, base_models, meta_model, n_folds=5):\n",
    "        self.base_models = base_models\n",
    "        self.meta_model = meta_model\n",
    "        self.n_folds = n_folds\n",
    "   \n",
    "    # We again fit the data on clones of the original models\n",
    "    def fit(self, X, y):\n",
    "        self.base_models_ = [list() for x in self.base_models]\n",
    "        self.meta_model_ = clone(self.meta_model)\n",
    "        kfold = KFold(n_splits=self.n_folds, shuffle=True, random_state=156)\n",
    "        \n",
    "        # Train cloned base models then create out-of-fold predictions\n",
    "        # that are needed to train the cloned meta-model\n",
    "        out_of_fold_predictions = np.zeros((X.shape[0], len(self.base_models)))\n",
    "        for i, model in enumerate(self.base_models):\n",
    "            for train_index, holdout_index in kfold.split(X, y):\n",
    "                instance = clone(model)\n",
    "                self.base_models_[i].append(instance)\n",
    "                instance.fit(X[train_index], y[train_index])\n",
    "                y_pred = instance.predict(X[holdout_index])\n",
    "                out_of_fold_predictions[holdout_index, i] = y_pred\n",
    "                \n",
    "        # Now train the cloned  meta-model using the out-of-fold predictions as new feature\n",
    "        self.meta_model_.fit(out_of_fold_predictions, y)\n",
    "        return self\n",
    "   \n",
    "    #Do the predictions of all base models on the test data and use the averaged predictions as \n",
    "    #meta-features for the final prediction which is done by the meta-model \n",
    "    def predict(self, X):\n",
    "        meta_features = np.column_stack([\n",
    "            np.column_stack([model.predict(X) for model in base_models]).mean(axis=1)\n",
    "            for base_models in self.base_models_ ])\n",
    "        return self.meta_model_.predict(meta_features)"
   ]
  },
  {
   "cell_type": "markdown",
   "metadata": {
    "_cell_guid": "da4c9354-b5c2-4994-8ffd-550416a5c4db",
    "_execution_state": "idle",
    "_uuid": "5fdbcf5c678b260adf80cf39b0f3bb63a26213e1"
   },
   "source": [
    "**Stacking Averaged models Score**"
   ]
  },
  {
   "cell_type": "code",
   "execution_count": 67,
   "metadata": {
    "_cell_guid": "4db03a27-e9fb-484d-bbfe-2058f16dce77",
    "_execution_state": "idle",
    "_uuid": "f2c78b5950097660d3f8b84bade8d8dbdc3964f2"
   },
   "outputs": [
    {
     "name": "stdout",
     "output_type": "stream",
     "text": [
      "Stacking Averaged models score: 0.1106 (0.0121)\n"
     ]
    }
   ],
   "source": [
    "stacked_averaged_models = StackingAveragedModels(base_models = [lasso, model_lgb],\n",
    "                                                 meta_model = lasso)\n",
    "\n",
    "score = rmsle_cv(stacked_averaged_models)                 \n",
    "print(\"Stacking Averaged models score: {:.4f} ({:.4f})\".format(score.mean(), score.std()))"
   ]
  },
  {
   "cell_type": "code",
   "execution_count": 68,
   "metadata": {},
   "outputs": [
    {
     "name": "stdout",
     "output_type": "stream",
     "text": [
      "Stacking Averaged models score: 0.1118 (0.0136)\n"
     ]
    }
   ],
   "source": [
    "stacked_averaged_models2 = StackingAveragedModels(base_models = [KRR, model_lgb],\n",
    "                                                 meta_model = lasso)\n",
    "\n",
    "score = rmsle_cv(stacked_averaged_models2)                 \n",
    "print(\"Stacking Averaged models score: {:.4f} ({:.4f})\".format(score.mean(), score.std()))"
   ]
  },
  {
   "cell_type": "code",
   "execution_count": 69,
   "metadata": {},
   "outputs": [
    {
     "name": "stdout",
     "output_type": "stream",
     "text": [
      "Stacking Averaged models score: 0.1105 (0.0119)\n"
     ]
    }
   ],
   "source": [
    "stacked_averaged_models3 = StackingAveragedModels(base_models = [ENet, model_lgb],\n",
    "                                                 meta_model = lasso)\n",
    "\n",
    "score = rmsle_cv(stacked_averaged_models3)                 \n",
    "print(\"Stacking Averaged models score: {:.4f} ({:.4f})\".format(score.mean(), score.std()))"
   ]
  },
  {
   "cell_type": "code",
   "execution_count": 122,
   "metadata": {},
   "outputs": [
    {
     "name": "stdout",
     "output_type": "stream",
     "text": [
      "Stacking Averaged models score: 0.1134 (0.0120)\n"
     ]
    }
   ],
   "source": [
    "stacked_averaged_models4 = StackingAveragedModels(base_models = [KRR, ENet, model_lgb],\n",
    "                                                 meta_model = lasso)\n",
    "\n",
    "score = rmsle_cv(stacked_averaged_models4)                 \n",
    "print(\"Stacking Averaged models score: {:.4f} ({:.4f})\".format(score.mean(), score.std()))"
   ]
  },
  {
   "cell_type": "code",
   "execution_count": 71,
   "metadata": {},
   "outputs": [
    {
     "name": "stdout",
     "output_type": "stream",
     "text": [
      "Stacking Averaged models score: 0.1103 (0.0124)\n"
     ]
    }
   ],
   "source": [
    "stacked_averaged_models5 = StackingAveragedModels(base_models = [KRR, ENet, model_lgb, model_xgb],\n",
    "                                                 meta_model = lasso)\n",
    "\n",
    "score = rmsle_cv(stacked_averaged_models5)                 \n",
    "print(\"Stacking Averaged models score: {:.4f} ({:.4f})\".format(score.mean(), score.std()))"
   ]
  },
  {
   "cell_type": "code",
   "execution_count": null,
   "metadata": {},
   "outputs": [],
   "source": []
  },
  {
   "cell_type": "code",
   "execution_count": 72,
   "metadata": {
    "_cell_guid": "232c3959-c6e1-4535-8ad4-62892edc3f06",
    "_execution_state": "idle",
    "_uuid": "07f9ef433905b61a08a36790254d6a34661f0653"
   },
   "outputs": [],
   "source": [
    "def rmsle(y, y_pred):\n",
    "    return np.sqrt(mean_squared_error(y, y_pred))"
   ]
  },
  {
   "cell_type": "markdown",
   "metadata": {
    "_cell_guid": "999a8cc6-5083-4fca-bc90-616ac2f3ef8b",
    "_execution_state": "idle",
    "_uuid": "b7b74b70e6514b7623bc67cfec2b4f5d37c98707"
   },
   "source": [
    "### Final Training and Prediction"
   ]
  },
  {
   "cell_type": "markdown",
   "metadata": {
    "_cell_guid": "717b4b02-8bcf-4df3-8994-f6a113110115",
    "_execution_state": "idle",
    "_uuid": "115d9e90a84c33213f0f0de7d86b6098f29ca7d8"
   },
   "source": [
    "**StackedRegressor:**"
   ]
  },
  {
   "cell_type": "code",
   "execution_count": 104,
   "metadata": {
    "_cell_guid": "e64b2750-1e32-4e91-affb-e583d6ca8722",
    "_execution_state": "busy",
    "_uuid": "8936479533c4bb147ab09f1d2133d8bacbf9afc1"
   },
   "outputs": [
    {
     "name": "stdout",
     "output_type": "stream",
     "text": [
      "0.08107454560586982\n"
     ]
    }
   ],
   "source": [
    "stacked_averaged_models4.fit(train.values, y_train)\n",
    "stacked_train_pred4 = stacked_averaged_models4.predict(train.values)\n",
    "stacked_pred4 = stacked_averaged_models4.predict(test.values)\n",
    "print(rmsle(y_train, stacked_train_pred4))"
   ]
  },
  {
   "cell_type": "code",
   "execution_count": 105,
   "metadata": {},
   "outputs": [
    {
     "name": "stdout",
     "output_type": "stream",
     "text": [
      "0.08745182516508278\n"
     ]
    }
   ],
   "source": [
    "averaged_models2.fit(train.values, y_train)\n",
    "averaged_models2_train_pred = averaged_models2.predict(train.values)\n",
    "averaged_models2_pred = averaged_models2.predict(test.values)\n",
    "print(rmsle(y_train, averaged_models2_train_pred))"
   ]
  },
  {
   "cell_type": "code",
   "execution_count": 107,
   "metadata": {},
   "outputs": [
    {
     "name": "stdout",
     "output_type": "stream",
     "text": [
      "0.10110668769579284\n"
     ]
    }
   ],
   "source": [
    "lasso.fit(train.values, y_train)\n",
    "lasso_train_pred = lasso.predict(train.values)\n",
    "lasso_pred = lasso.predict(test.values)\n",
    "print(rmsle(y_train, lasso_train_pred))"
   ]
  },
  {
   "cell_type": "code",
   "execution_count": null,
   "metadata": {},
   "outputs": [],
   "source": []
  },
  {
   "cell_type": "markdown",
   "metadata": {},
   "source": [
    "#같은 방식으로 여러 모델을 학습하고 예측값을 뺴보세요."
   ]
  },
  {
   "cell_type": "code",
   "execution_count": 76,
   "metadata": {
    "_cell_guid": "619452b2-c395-48fe-81ab-d6b1d355236b",
    "_execution_state": "idle",
    "_uuid": "07500cf506f6a90c6439c2dabf81ab966cf1c792"
   },
   "outputs": [
    {
     "data": {
      "text/plain": [
       "\"RMSE on the entire Train data when averaging\\n\\nprint('RMSLE score on train data:')\\nprint(rmsle(y_train, ### )) # 예측값을 앙상블 가중합한 값과 rmse값을 봐보자! \""
      ]
     },
     "execution_count": 76,
     "metadata": {},
     "output_type": "execute_result"
    }
   ],
   "source": [
    "'''RMSE on the entire Train data when averaging\n",
    "\n",
    "print('RMSLE score on train data:')\n",
    "print(rmsle(y_train, ### )) # 예측값을 앙상블 가중합한 값과 rmse값을 봐보자! '''"
   ]
  },
  {
   "cell_type": "markdown",
   "metadata": {},
   "source": [
    "## 아웃라이어 제거\n",
    "\n",
    "stackedregressor 기준 아웃라이어 관측"
   ]
  },
  {
   "cell_type": "code",
   "execution_count": 119,
   "metadata": {
    "scrolled": true
   },
   "outputs": [
    {
     "data": {
      "text/plain": [
       "array([ 13,  30,  66,  88, 142, 218, 277, 308, 328, 410, 431, 462, 479,\n",
       "       495, 558, 559, 580, 587, 627, 631, 657, 665, 680, 687, 690, 709,\n",
       "       713, 715, 727, 737, 773, 811], dtype=int64)"
      ]
     },
     "execution_count": 119,
     "metadata": {},
     "output_type": "execute_result"
    }
   ],
   "source": [
    "resid = y_train - stacked_train_pred4\n",
    "mean_resid = resid.mean()\n",
    "std_resid = resid.std()\n",
    "z = (resid - mean_resid) / std_resid\n",
    "z = np.array(z)\n",
    "outliers = np.where(abs(z) > abs(z).std() * 3)[0]\n",
    "outliers"
   ]
  },
  {
   "cell_type": "code",
   "execution_count": 111,
   "metadata": {},
   "outputs": [],
   "source": [
    "new_train = train.drop(outliers)\n",
    "new_y_train = np.delete(y_train, outliers)"
   ]
  },
  {
   "cell_type": "code",
   "execution_count": 112,
   "metadata": {},
   "outputs": [
    {
     "data": {
      "text/plain": [
       "((827, 230), (827,))"
      ]
     },
     "execution_count": 112,
     "metadata": {},
     "output_type": "execute_result"
    }
   ],
   "source": [
    "new_train.shape, new_y_train.shape"
   ]
  },
  {
   "cell_type": "markdown",
   "metadata": {},
   "source": [
    "다시 검증"
   ]
  },
  {
   "cell_type": "code",
   "execution_count": 113,
   "metadata": {},
   "outputs": [
    {
     "name": "stdout",
     "output_type": "stream",
     "text": [
      "0.11511130579302005\n"
     ]
    }
   ],
   "source": [
    "stacked_averaged_models4.fit(new_train.values, new_y_train)\n",
    "new_stacked_train_pred4 = stacked_averaged_models4.predict(X_train_test.values)\n",
    "stacked_pred4 = stacked_averaged_models4.predict(test.values)\n",
    "print(rmsle(y_train_test, new_stacked_train_pred4))"
   ]
  },
  {
   "cell_type": "code",
   "execution_count": null,
   "metadata": {},
   "outputs": [],
   "source": [
    "resid = y_train - averaged_models2_train_pred\n",
    "mean_resid = resid.mean()\n",
    "std_resid = resid.std()\n",
    "z = (resid - mean_resid) / std_resid\n",
    "z = np.array(z)\n",
    "outliers2 = np.where(abs(z) > abs(z).std() * 3)[0]\n",
    "outliers2"
   ]
  },
  {
   "cell_type": "code",
   "execution_count": 114,
   "metadata": {
    "scrolled": false
   },
   "outputs": [
    {
     "name": "stdout",
     "output_type": "stream",
     "text": [
      "0.12166112167921861\n"
     ]
    }
   ],
   "source": [
    "averaged_models3.fit(new_train.values, new_y_train)\n",
    "new_averaged_models3_train_pred = averaged_models3.predict(X_train_test.values)\n",
    "averaged_models3_pred = averaged_models3.predict(test.values)\n",
    "print(rmsle(y_train_test, new_averaged_models3_train_pred))"
   ]
  },
  {
   "cell_type": "code",
   "execution_count": null,
   "metadata": {},
   "outputs": [],
   "source": [
    "resid = y_train - lasso_train_pred\n",
    "mean_resid = resid.mean()\n",
    "std_resid = resid.std()\n",
    "z = (resid - mean_resid) / std_resid\n",
    "z = np.array(z)\n",
    "outliers2 = np.where(abs(z) > abs(z).std() * 3)[0]\n",
    "outliers2"
   ]
  },
  {
   "cell_type": "code",
   "execution_count": 115,
   "metadata": {},
   "outputs": [
    {
     "name": "stdout",
     "output_type": "stream",
     "text": [
      "0.1110859234482445\n"
     ]
    }
   ],
   "source": [
    "lasso.fit(new_train.values, new_y_train)\n",
    "new_lasso_train_pred = lasso.predict(train.values)\n",
    "lasso_pred = lasso.predict(test.values)\n",
    "print(rmsle(y_train, new_lasso_train_pred))"
   ]
  },
  {
   "cell_type": "code",
   "execution_count": null,
   "metadata": {},
   "outputs": [],
   "source": [
    "score = rmsle_cv(lasso)\n",
    "print(\"Lasso score: {:.4f} ({:.4f})\\n\".format(score.mean(), score.std()))\n",
    "score = rmsle_cv(ENet)\n",
    "print(\"ENet score: {:.4f} ({:.4f})\\n\".format(score.mean(), score.std()))\n",
    "score = rmsle_cv(KRR)\n",
    "print(\"KRR score: {:.4f} ({:.4f})\\n\".format(score.mean(), score.std()))\n",
    "score = rmsle_cv(GBoost)\n",
    "print(\"GBoost score: {:.4f} ({:.4f})\\n\".format(score.mean(), score.std()))\n",
    "score = rmsle_cv(model_xgb)\n",
    "print(\"Model_xgb score: {:.4f} ({:.4f})\\n\".format(score.mean(), score.std()))\n",
    "score = rmsle_cv(averaged_models2)\n",
    "print(\"Averaged_models2 score: {:.4f} ({:.4f})\\n\".format(score.mean(), score.std()))\n",
    "score = rmsle_cv(stacked_averaged_models)\n",
    "print(\"Stacked_averaged_models score: {:.4f} ({:.4f})\\n\".format(score.mean(), score.std()))"
   ]
  },
  {
   "cell_type": "code",
   "execution_count": null,
   "metadata": {},
   "outputs": [],
   "source": []
  },
  {
   "cell_type": "code",
   "execution_count": 120,
   "metadata": {},
   "outputs": [
    {
     "data": {
      "text/plain": [
       "array([11.99207712, 11.78673782, 11.89423049, 11.90588642, 12.26236016,\n",
       "       11.83061153, 12.43093271, 11.79920076, 12.10643769, 12.36102072,\n",
       "       11.51468438, 12.13901261, 11.62333809, 11.79271666, 11.4650715 ,\n",
       "       12.71078149, 11.85698223, 12.73266008, 11.95993334, 11.82802072,\n",
       "       11.95215397, 12.25885029, 12.04664898, 11.75060302, 11.64554629,\n",
       "       12.43015631, 12.02731459, 11.85399202, 12.6130605 , 12.01177164,\n",
       "       11.60018403, 12.0619535 , 11.88036906, 11.97704016, 11.72619386,\n",
       "       12.00717829, 11.53045685, 11.89306243, 13.08542995, 11.83791745,\n",
       "       11.64101526, 11.95966832, 12.11157456, 12.44298361, 11.68665745,\n",
       "       11.69634328, 12.47352249, 12.32574609, 11.81354808, 12.09416633,\n",
       "       11.92857904, 11.96089356, 11.5332401 , 11.97950489, 12.02263282,\n",
       "       11.37555929, 10.93641654, 11.83236733, 12.43749568, 12.16473676,\n",
       "       12.16181417, 12.02153239, 12.08554776, 12.23084248, 12.26752028,\n",
       "       11.98141599, 12.6496215 , 12.13967673, 12.47462286, 12.28959962,\n",
       "       12.28393454, 11.77095138, 12.65371856, 12.20520675, 12.42381983,\n",
       "       11.45512535, 12.14369841, 12.40476059, 12.41640387, 12.3005543 ,\n",
       "       12.04819388, 12.34779817, 11.6564704 , 11.91977728, 11.91501916,\n",
       "       11.98718078, 11.89675874, 12.52811507, 12.24922355, 12.11453811,\n",
       "       11.84331186, 11.63892336, 11.7401399 , 12.0392395 , 11.69799047,\n",
       "       11.96526023, 11.74668229, 11.76508375, 12.15640025, 12.04203745,\n",
       "       11.68701191, 12.49149666, 11.96885302, 12.55041566, 12.32188812,\n",
       "       12.0819723 , 11.84957   , 11.8243677 , 11.1975466 , 11.74169805,\n",
       "       11.35857741, 12.0818342 , 11.70041266, 12.23793496, 12.12476148,\n",
       "       12.03827945, 11.39309721, 12.18005176, 11.56950992, 11.83317184,\n",
       "       12.14531552, 12.65716507, 12.04362078, 12.39012042, 11.8176502 ,\n",
       "       11.7415006 , 11.73674738, 12.9025358 , 12.17176863, 12.19605267,\n",
       "       12.64143534, 12.13272066, 12.24829212, 12.05843143, 12.73015981,\n",
       "       11.66707876, 11.76712204, 11.97560533, 11.458961  , 12.14029717,\n",
       "       11.24732008, 11.29227238, 12.4224204 , 11.91781309, 12.15777876,\n",
       "       11.82027832, 12.01665335, 11.44406888, 12.43848796, 11.54918199,\n",
       "       11.74930519, 11.64725753, 11.96547936, 11.52833648, 11.72808888,\n",
       "       12.24431873, 12.32334665, 12.14916696, 12.00904563, 12.15503953,\n",
       "       11.94192362, 12.18499113, 11.63693633, 12.14212129, 12.63111534,\n",
       "       11.67971531, 11.88630131, 12.56157592, 11.71610225, 11.67697488,\n",
       "       11.81024151, 12.27797114, 12.61092594, 12.35793823, 11.68754405,\n",
       "       11.21904447, 12.65883188, 12.47859606, 11.48101414, 11.26346991,\n",
       "       11.94209916, 12.03134115, 12.21490186, 12.48534956, 12.67006641,\n",
       "       11.84739861, 13.0306127 , 11.87108793, 11.89620845, 11.50586539,\n",
       "       12.13055512, 12.14841817, 12.08128432, 11.92464187, 12.4415629 ,\n",
       "       12.0291748 , 12.26515693, 12.40218504, 12.78094656, 12.14545171,\n",
       "       12.19522882, 11.57793743, 11.86886165, 11.8093767 , 11.93485506,\n",
       "       12.54433802, 12.07916704, 12.05219299, 12.05726008, 11.7881352 ,\n",
       "       11.78762433, 11.9400132 , 11.50779562, 11.88990528, 12.14844957,\n",
       "       12.12734371, 11.98558045, 11.77777469, 11.84774369, 11.81154235,\n",
       "       12.01121291, 11.7338293 , 12.1891226 , 11.93680913, 12.10053364,\n",
       "       11.95591534, 11.485057  , 12.4916075 , 11.85242907, 12.20526386,\n",
       "       11.39287549, 11.97171381, 11.99918945, 11.97148193, 11.75959453,\n",
       "       12.07755274, 11.68666217, 11.95783393, 11.66615267, 12.04472415,\n",
       "       11.01985036, 11.70570875, 11.82270076, 11.96441496, 11.60256844,\n",
       "       12.69534511, 12.14954884, 12.45351484, 12.04579246, 12.63661528,\n",
       "       12.10550824, 12.19822629, 11.65365174, 11.81575163, 11.69539086,\n",
       "       12.6531582 , 12.16307348, 11.8168653 , 11.83484186, 11.75989725,\n",
       "       11.68693033, 12.31959583, 11.29793958, 11.50100543, 12.01237789,\n",
       "       11.64203119, 12.22062455, 12.43264504, 12.30347325, 11.77020477,\n",
       "       11.87369685, 11.67476783, 11.8480447 , 12.38227816, 12.08954912,\n",
       "       11.5801435 , 11.7164066 , 11.46076   , 12.27717051, 11.74520621,\n",
       "       11.71144278, 12.12616908, 12.85217837, 11.50090709, 11.44080218,\n",
       "       11.82631622, 12.10256889, 12.07657814, 11.65325562, 11.98970557,\n",
       "       11.69615345, 11.99437198, 12.29056094, 11.72413292, 12.28157626,\n",
       "       12.22906648, 12.12139912, 12.24614548, 12.38459427, 12.15095858,\n",
       "       11.89288937, 12.27485372, 11.78353346, 11.81290637, 12.19391568,\n",
       "       12.31748623, 12.39302725, 12.17333397, 12.25506602, 13.09727421,\n",
       "       11.91726873, 11.99278082, 11.98595679, 12.28485544, 12.3303656 ,\n",
       "       12.64985468, 11.70889813, 11.63852919, 11.71285146, 11.43038208,\n",
       "       12.43495006, 12.54101482, 13.12773084, 11.91472252, 12.27444116,\n",
       "       11.70029855, 11.70529904, 12.52391625, 12.13963963, 12.16893305,\n",
       "       12.14627939, 12.03772537, 11.81398779, 11.99765354, 11.85879039,\n",
       "       11.99310172, 12.35619545, 11.8723908 , 12.05265105, 11.86589283,\n",
       "       11.48945484, 12.17969794, 11.75395801, 12.24069366, 11.91404509,\n",
       "       12.60872932, 11.63485417, 12.29011557, 11.86746855, 12.54207582,\n",
       "       12.17291619, 12.27036848, 11.3830986 , 11.8236552 , 11.76977704,\n",
       "       11.65514029, 11.84333155, 12.35538873, 11.20089168, 11.38296944,\n",
       "       11.59564562, 11.79673587, 11.93816397, 11.94485742, 12.22549195,\n",
       "       11.86956422, 12.33063744, 11.89831556, 12.7697633 , 11.86583419,\n",
       "       12.20335414, 11.87324935, 11.55196066, 11.81681078, 11.72244052,\n",
       "       11.87025717, 12.03859447, 12.27254648, 11.8815052 , 12.37385714,\n",
       "       12.25944228, 12.44486167, 12.05210463, 12.9815263 , 12.15845072,\n",
       "       12.20604261, 12.19364489, 11.87765905, 11.93368542, 11.71520917,\n",
       "       12.5257736 , 12.10077197, 11.65492016, 12.48014127, 12.12053017,\n",
       "       11.78782007, 12.63188443, 11.42080366, 12.09530674, 11.95481638,\n",
       "       12.19839425, 11.75857543, 11.83044992, 12.01913299, 11.97825843,\n",
       "       12.08768685, 11.74069471, 12.80449359, 12.83103605, 11.83229973,\n",
       "       12.43114448, 12.06898306, 11.80000263, 12.09001284, 11.72954921,\n",
       "       11.86558475, 11.97189459, 12.22111194, 12.43077012, 11.41371047,\n",
       "       12.27808765, 12.15794193, 11.92350313, 11.80549316, 12.12289296,\n",
       "       11.73150501, 11.96242356, 12.15689562, 12.43590327, 12.55167289,\n",
       "       11.98120958, 11.67763093, 11.7706583 , 12.11742948, 11.66391479,\n",
       "       11.77398   , 11.90593562, 11.80939612, 13.5014937 , 12.04651977,\n",
       "       12.34500769, 11.96342847, 12.63453918, 12.35308745, 11.88447592,\n",
       "       12.69381494, 12.20395572, 11.87223372, 11.9419098 , 12.06322804,\n",
       "       12.66503401, 12.19519917, 12.65786578, 12.6853122 , 11.62810371,\n",
       "       12.19144685, 12.49922388, 12.17869961, 12.51222431, 11.61638753,\n",
       "       11.99560792, 11.25762354, 12.34463738, 11.37263772, 12.56535339,\n",
       "       11.09171253, 11.35361581, 11.78753534, 12.37820428, 12.13966015,\n",
       "       12.41025817, 11.78701421, 11.60441058, 11.74807551, 11.67956731,\n",
       "       12.02790868, 11.86531201, 11.05013078, 12.34439269, 11.70573   ,\n",
       "       11.59978356, 12.02271158, 12.41544994, 12.03328449, 12.1068454 ,\n",
       "       11.51721847, 12.48166253, 12.55295257, 12.40172269, 11.89975692,\n",
       "       12.19091026, 12.03914603, 11.79273468, 12.84571037, 12.38715973,\n",
       "       12.13976788, 11.60625275, 11.98441208, 12.04411636, 12.85721328,\n",
       "       12.15246176, 12.54783883, 11.74377073, 12.01692448, 11.86240613,\n",
       "       12.25287125, 12.20929725, 11.84627725, 11.84803097, 12.4325361 ,\n",
       "       11.63490181, 12.12180787, 12.44284639, 13.02487297, 12.43759927,\n",
       "       12.40420696, 11.50263796, 11.86286088, 11.47911634, 11.90479953,\n",
       "       11.22255746, 12.35215991, 11.95131966, 11.99736616, 11.59896807,\n",
       "       11.6815701 , 12.50784779, 12.04312947, 12.73261335, 11.79166225,\n",
       "       12.34664806, 11.88634285, 11.73666098, 11.96281288, 12.32207732,\n",
       "       12.55700183, 12.07704693, 11.83179853, 11.81243028, 11.95035035,\n",
       "       11.67488193, 12.12525149, 12.16157789, 12.4490059 , 11.48883205,\n",
       "       12.43730568, 11.74582347, 11.63660828, 11.72241083, 12.28388686,\n",
       "       12.32950196, 11.9819173 , 11.46994361, 12.42075132, 12.16291211,\n",
       "       12.31571111, 11.84904877, 12.69263641, 11.78835803, 12.31877218,\n",
       "       12.01982309, 11.879188  , 11.8247154 , 12.25418133, 11.88809126,\n",
       "       11.91177655, 12.47240097, 11.84947521, 11.58976433, 12.1620991 ,\n",
       "       12.17852545, 11.77302188, 11.5600155 , 12.14849994, 12.07078706,\n",
       "       12.07096317, 11.66624815, 12.85222614, 11.90026695, 12.10210375,\n",
       "       12.26670994, 11.86398791, 12.76842311, 11.64611903, 12.13888155,\n",
       "       11.73433849, 11.91310628, 12.44961352, 11.6569732 , 11.32267206,\n",
       "       11.81766964, 12.48165181, 11.738878  , 11.83747167, 12.1442461 ,\n",
       "       12.09702153, 12.24697911, 12.37104797, 11.83030437, 11.90615609])"
      ]
     },
     "execution_count": 120,
     "metadata": {},
     "output_type": "execute_result"
    }
   ],
   "source": [
    "stacked_pred4"
   ]
  },
  {
   "cell_type": "markdown",
   "metadata": {
    "_cell_guid": "844b5e21-7bd2-4a2b-9f7a-2e755ed06ecb",
    "_execution_state": "idle",
    "_uuid": "59443e95f66cb9e595cff9a3666824299239126b"
   },
   "source": [
    "**Ensemble prediction:**"
   ]
  },
  {
   "cell_type": "code",
   "execution_count": 117,
   "metadata": {
    "_cell_guid": "3ec2c58f-6bee-46a6-a263-1fe2cf3569cb",
    "_execution_state": "idle",
    "_uuid": "18996472b775bd9114fea7f08c8a554d4dafe774"
   },
   "outputs": [],
   "source": [
    "ensemble =  0.5*averaged_models3_pred + 0.5*stacked_pred4"
   ]
  },
  {
   "cell_type": "code",
   "execution_count": 124,
   "metadata": {},
   "outputs": [
    {
     "data": {
      "text/plain": [
       "array([11.9881685 , 11.78608867, 11.89108519, 11.9004766 , 12.26050898,\n",
       "       11.83400728, 12.42978289, 11.78758299, 12.10214871, 12.36000838,\n",
       "       11.51752313, 12.13624321, 11.61906935, 11.79314021, 11.46606744,\n",
       "       12.70660537, 11.85455561, 12.73500801, 11.95733625, 11.82629096,\n",
       "       11.95363661, 12.26150655, 12.04284251, 11.73809166, 11.63389907,\n",
       "       12.42239636, 12.02318862, 11.85330787, 12.60132741, 12.01631041,\n",
       "       11.60044372, 12.06455564, 11.88402737, 11.97151976, 11.72667845,\n",
       "       12.00377131, 11.529566  , 11.8991883 , 13.06629873, 11.83233616,\n",
       "       11.64208719, 11.96919727, 12.11334009, 12.43791459, 11.67503668,\n",
       "       11.68839609, 12.47677407, 12.32015019, 11.8053133 , 12.09568875,\n",
       "       11.93770337, 11.95790261, 11.53080852, 11.96991601, 12.0132016 ,\n",
       "       11.37288126, 10.9222135 , 11.83608052, 12.42541796, 12.1745949 ,\n",
       "       12.15821732, 12.00027132, 12.08666816, 12.22400596, 12.27216471,\n",
       "       11.98286697, 12.64084718, 12.13764333, 12.47430939, 12.29222127,\n",
       "       12.2875231 , 11.77138352, 12.64523023, 12.21019649, 12.42518236,\n",
       "       11.46364372, 12.15047004, 12.41295252, 12.4183292 , 12.2992818 ,\n",
       "       12.05554864, 12.35009462, 11.65136058, 11.91984718, 11.91579938,\n",
       "       11.99557782, 11.89217164, 12.51722297, 12.25457196, 12.12013821,\n",
       "       11.84287239, 11.64010399, 11.74353792, 12.02898935, 11.69293253,\n",
       "       11.9578873 , 11.74124651, 11.76052643, 12.15881103, 12.04186165,\n",
       "       11.69817013, 12.48866769, 11.97205521, 12.55199806, 12.32086652,\n",
       "       12.07949485, 11.84551495, 11.8172585 , 11.20539935, 11.74264427,\n",
       "       11.36901902, 12.08600477, 11.69672917, 12.23672869, 12.1245641 ,\n",
       "       12.04284049, 11.41563929, 12.18707335, 11.56324638, 11.83466905,\n",
       "       12.15890936, 12.65632481, 12.04855388, 12.39579668, 11.8202986 ,\n",
       "       11.73436468, 11.75176432, 12.88225358, 12.16926111, 12.19335519,\n",
       "       12.64151009, 12.13611679, 12.24640828, 12.05872686, 12.73181024,\n",
       "       11.66509842, 11.7642722 , 11.98055984, 11.4394811 , 12.14337637,\n",
       "       11.26139503, 11.31229854, 12.42334013, 11.92539921, 12.15831348,\n",
       "       11.81607909, 12.03080015, 11.44060702, 12.42939143, 11.54708793,\n",
       "       11.74470393, 11.64867076, 11.96014119, 11.52796586, 11.72739897,\n",
       "       12.25257406, 12.32419926, 12.16024983, 12.0092929 , 12.15174339,\n",
       "       11.93885916, 12.19098568, 11.63233182, 12.1374388 , 12.63826583,\n",
       "       11.67853427, 11.88077801, 12.54839377, 11.70925607, 11.6770472 ,\n",
       "       11.81142324, 12.29189763, 12.61764955, 12.35341172, 11.68404429,\n",
       "       11.22931005, 12.65383859, 12.47789602, 11.48779799, 11.25415989,\n",
       "       11.93008145, 12.03576254, 12.21444881, 12.48796406, 12.66072524,\n",
       "       11.83034089, 13.01823606, 11.87129169, 11.90107511, 11.50998565,\n",
       "       12.13677993, 12.1524638 , 12.08588417, 11.93113296, 12.44567686,\n",
       "       12.03290327, 12.26746064, 12.41216535, 12.77613086, 12.13853271,\n",
       "       12.20215056, 11.56307373, 11.86627097, 11.81150645, 11.93056541,\n",
       "       12.54364657, 12.07778292, 12.05335798, 12.0632503 , 11.78982555,\n",
       "       11.78045003, 11.94309442, 11.51905079, 11.8952155 , 12.14870492,\n",
       "       12.12835552, 11.98359457, 11.77190154, 11.84652526, 11.80439763,\n",
       "       12.01244112, 11.72533278, 12.19081774, 11.93550887, 12.09566786,\n",
       "       11.95805128, 11.47903642, 12.48434567, 11.85475343, 12.2052238 ,\n",
       "       11.3902574 , 11.96918458, 11.99436763, 11.97943287, 11.75871201,\n",
       "       12.07665157, 11.6973479 , 11.95632269, 11.66917966, 12.05219904,\n",
       "       10.98931132, 11.70055772, 11.82420971, 11.9636138 , 11.59717471,\n",
       "       12.69697735, 12.14679669, 12.4548025 , 12.04615991, 12.62823523,\n",
       "       12.0975109 , 12.20467356, 11.65424112, 11.82194014, 11.69270947,\n",
       "       12.65419209, 12.16682257, 11.81725212, 11.83994009, 11.75114988,\n",
       "       11.68447164, 12.32235092, 11.31073707, 11.51778949, 12.01014942,\n",
       "       11.6501537 , 12.21318412, 12.42889541, 12.30139507, 11.77355656,\n",
       "       11.87318216, 11.66876028, 11.83766058, 12.3904342 , 12.08937092,\n",
       "       11.57346823, 11.71530476, 11.46431209, 12.27009452, 11.73307594,\n",
       "       11.71426757, 12.1217749 , 12.83227249, 11.5055475 , 11.45572595,\n",
       "       11.81809349, 12.10014845, 12.07327785, 11.65177587, 12.00036395,\n",
       "       11.6929032 , 11.99783176, 12.29309942, 11.72700893, 12.28734438,\n",
       "       12.22884298, 12.10982975, 12.24628011, 12.38626319, 12.14590019,\n",
       "       11.89533535, 12.269494  , 11.77148316, 11.82639556, 12.19500179,\n",
       "       12.31636053, 12.38624835, 12.17373309, 12.26121019, 13.08852399,\n",
       "       11.91998588, 11.98808324, 11.98327453, 12.27264224, 12.32035722,\n",
       "       12.64663628, 11.69694914, 11.64387614, 11.70507786, 11.43244219,\n",
       "       12.44075482, 12.51954609, 13.12863635, 11.91165105, 12.270011  ,\n",
       "       11.69478241, 11.6969642 , 12.50823869, 12.14490586, 12.17316992,\n",
       "       12.14868779, 12.04115425, 11.81658259, 11.99419697, 11.85972268,\n",
       "       11.99925037, 12.35457579, 11.87283628, 12.05523545, 11.86693304,\n",
       "       11.48259289, 12.1798864 , 11.75430069, 12.24228055, 11.91353612,\n",
       "       12.60402709, 11.64340495, 12.28892834, 11.87378049, 12.5428797 ,\n",
       "       12.16702641, 12.28232442, 11.38257635, 11.83598534, 11.76064195,\n",
       "       11.64803197, 11.84921608, 12.34861385, 11.22466533, 11.3928294 ,\n",
       "       11.590212  , 11.78848554, 11.93955554, 11.9579001 , 12.23098385,\n",
       "       11.87322099, 12.32197812, 11.90197323, 12.75952685, 11.85665524,\n",
       "       12.2019434 , 11.86779694, 11.55460757, 11.81780351, 11.71280946,\n",
       "       11.85258219, 12.04463039, 12.27189603, 11.89262075, 12.37952315,\n",
       "       12.26087443, 12.44796217, 12.05230668, 12.97191569, 12.15233727,\n",
       "       12.20017943, 12.19072271, 11.8792343 , 11.92817268, 11.70568077,\n",
       "       12.52503917, 12.10098288, 11.64720133, 12.48675225, 12.1186682 ,\n",
       "       11.79088219, 12.62769899, 11.42707823, 12.09824178, 11.96688864,\n",
       "       12.19783397, 11.75699401, 11.83907729, 12.02002234, 11.9752834 ,\n",
       "       12.08311755, 11.73693745, 12.78310872, 12.81891216, 11.83220687,\n",
       "       12.43179639, 12.06572199, 11.79327689, 12.10366061, 11.73067953,\n",
       "       11.85641667, 11.96713655, 12.22432361, 12.43505168, 11.41826036,\n",
       "       12.28134026, 12.15882049, 11.92997917, 11.81040711, 12.13125095,\n",
       "       11.73897749, 11.96288723, 12.15045514, 12.43576504, 12.55162568,\n",
       "       11.9779454 , 11.67259111, 11.76445864, 12.11400724, 11.67006705,\n",
       "       11.77161725, 11.90196079, 11.81504449, 13.53704107, 12.0427825 ,\n",
       "       12.34552692, 11.95063282, 12.631807  , 12.35059805, 11.88614927,\n",
       "       12.6893413 , 12.20925257, 11.8713606 , 11.93608644, 12.05742393,\n",
       "       12.65551541, 12.1962943 , 12.65535596, 12.67783308, 11.62581927,\n",
       "       12.20046546, 12.48653825, 12.17400112, 12.50299095, 11.60460319,\n",
       "       11.99623818, 11.25442775, 12.34437137, 11.39417934, 12.56569655,\n",
       "       11.10376322, 11.34925993, 11.78916448, 12.3646132 , 12.14182949,\n",
       "       12.40816414, 11.78686072, 11.60031367, 11.75314326, 11.68061394,\n",
       "       12.030861  , 11.86467776, 11.08238689, 12.34728974, 11.7052983 ,\n",
       "       11.59772184, 12.03125364, 12.42033522, 12.02622421, 12.11629043,\n",
       "       11.51705185, 12.48292158, 12.55337324, 12.39544632, 11.88534159,\n",
       "       12.18910382, 12.0423138 , 11.80466952, 12.84090941, 12.38075488,\n",
       "       12.13734865, 11.59554932, 11.98526343, 12.03377221, 12.84663295,\n",
       "       12.1390286 , 12.5428745 , 11.7375244 , 12.02020938, 11.86143617,\n",
       "       12.24744299, 12.21287252, 11.83945538, 11.8456159 , 12.42974353,\n",
       "       11.63699716, 12.12532453, 12.45226144, 13.02559933, 12.42275552,\n",
       "       12.40170328, 11.49733986, 11.86992934, 11.48381949, 11.90701914,\n",
       "       11.21870172, 12.35738725, 11.95208578, 11.99308093, 11.60637313,\n",
       "       11.68805617, 12.50230518, 12.04654374, 12.72387142, 11.78756564,\n",
       "       12.3397983 , 11.88996472, 11.72117392, 11.96570193, 12.3140495 ,\n",
       "       12.55051002, 12.08198025, 11.82672305, 11.82043409, 11.94813579,\n",
       "       11.67329066, 12.12526872, 12.16238965, 12.44849907, 11.48032993,\n",
       "       12.41979485, 11.7502476 , 11.627208  , 11.72491092, 12.28976851,\n",
       "       12.32880728, 11.99798888, 11.47597612, 12.43134294, 12.15037652,\n",
       "       12.31052805, 11.84904823, 12.69366242, 11.78543008, 12.31715239,\n",
       "       12.01646833, 11.87254124, 11.82438999, 12.251833  , 11.88880109,\n",
       "       11.91252084, 12.47940309, 11.85621024, 11.58582631, 12.16327431,\n",
       "       12.17042231, 11.77842143, 11.55567262, 12.15010719, 12.05567042,\n",
       "       12.07708671, 11.66829337, 12.83594838, 11.90438069, 12.10709961,\n",
       "       12.25930311, 11.86230405, 12.76171719, 11.65760592, 12.14195914,\n",
       "       11.72747533, 11.91492549, 12.45361658, 11.6705977 , 11.33996291,\n",
       "       11.81826082, 12.4766202 , 11.74093603, 11.83766696, 12.1454156 ,\n",
       "       12.09501082, 12.26613562, 12.36949825, 11.83239266, 11.9048245 ])"
      ]
     },
     "execution_count": 124,
     "metadata": {},
     "output_type": "execute_result"
    }
   ],
   "source": [
    "ensemble"
   ]
  },
  {
   "cell_type": "markdown",
   "metadata": {
    "_cell_guid": "434ca649-2fa0-46a5-ab29-7f403448ddf7",
    "_execution_state": "idle",
    "_uuid": "c9f02561da543f4901dcd2051acbd6c197108dd5"
   },
   "source": [
    "**Submission**"
   ]
  },
  {
   "cell_type": "code",
   "execution_count": 125,
   "metadata": {
    "_cell_guid": "3db46af9-e18a-43bb-9699-45b851f835e5",
    "_execution_state": "idle",
    "_uuid": "93f6915cf25c7bb6b6fa6e74ad7b853387ac1db5"
   },
   "outputs": [],
   "source": [
    "sub = pd.DataFrame()\n",
    "sub['Id'] = test_ID\n",
    "sub['SalePrice'] = ensemble\n",
    "sub.to_csv('submission.csv',index=False)"
   ]
  },
  {
   "cell_type": "code",
   "execution_count": null,
   "metadata": {},
   "outputs": [],
   "source": []
  }
 ],
 "metadata": {
  "kernelspec": {
   "display_name": "Python 3",
   "language": "python",
   "name": "python3"
  },
  "language_info": {
   "codemirror_mode": {
    "name": "ipython",
    "version": 3
   },
   "file_extension": ".py",
   "mimetype": "text/x-python",
   "name": "python",
   "nbconvert_exporter": "python",
   "pygments_lexer": "ipython3",
   "version": "3.7.6"
  }
 },
 "nbformat": 4,
 "nbformat_minor": 1
}
