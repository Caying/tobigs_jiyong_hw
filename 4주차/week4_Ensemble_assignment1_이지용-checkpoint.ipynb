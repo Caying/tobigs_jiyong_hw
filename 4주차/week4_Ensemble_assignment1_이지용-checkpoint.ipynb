{
 "cells": [
  {
   "cell_type": "markdown",
   "metadata": {},
   "source": [
    "# Assignment1 Ensemble 정리"
   ]
  },
  {
   "cell_type": "markdown",
   "metadata": {},
   "source": [
    "## Ensemble의 의미  \n",
    "\n",
    "Ensemble method란 여러 예측 모델들을 혼합하는 방법론이다."
   ]
  },
  {
   "cell_type": "markdown",
   "metadata": {},
   "source": [
    "## Emsemble이 필요한 이유\n",
    "\n",
    "Bias와 Variance를 동시에 줄이는 것은 어려운 일이다. Underfitting과 Overfitting을 방지하고 정확도를 높이기 위해서는 여러 모델들을 결합할 필요가 있다."
   ]
  },
  {
   "cell_type": "markdown",
   "metadata": {},
   "source": [
    "## Ensemble의 종류\n",
    "\n",
    "#### Basic  \n",
    "- [Max Voting](#Max-Voting)  \n",
    "- [Averaging](#Averaging)  \n",
    "- [Weighted Average](#Weighted-Average)  \n",
    "\n",
    "#### Advanced  \n",
    "- [Stacking](#Stacking)  \n",
    "- [Blending](#Blending)  \n",
    "- [Bagging](#Bagging)\n",
    "- [Boosting](#Boosting)  \n",
    "\n",
    "#### Algorithms based on Bagging and Boosting\n",
    "- [Bagging meta-estimator](#Bagging-meta-estimator)  \n",
    "- [Random Forest](#Random-Forest)  \n",
    "- [AdaBoost](#AdaBoost)  \n",
    "- [GBM](#GBM)  \n",
    "- [XGM](#XGM)  \n",
    "- [Light GBM](#Light-GBM)  \n",
    "- [CatBoost](#CatBoost)"
   ]
  },
  {
   "cell_type": "markdown",
   "metadata": {},
   "source": [
    "### Max Voting"
   ]
  },
  {
   "cell_type": "markdown",
   "metadata": {},
   "source": [
    "Max Voting은 분류 문제에 많이 사용된다. 여러 모델을 사용해 투표를 진행한 후, 가장 많은 표를 얻은 결과를 최종 선정한다."
   ]
  },
  {
   "cell_type": "markdown",
   "metadata": {},
   "source": [
    "#### Hard voting vs Soft voting  \n",
    "Hard voting : 가장 많이 투표된 결과를 사용한다.  \n",
    "Ex) 1~5번 분류기의 예측 결과가 (1, 2, 2, 3, 2)라면 2번이 최종 결과  \n",
    "\n",
    "Soft voting : 각각의 분류기에서 각각의 클래스일 확률을 정해주는 경우, 각각의 클래스에 대한 확률을 더한 다음 평균을 내어 평균값이 높은 쪽을 최종 결과로 선정한다.  \n",
    "EX) 클래스가 A, B, C가 있을때, 1번 분류기가 (0.3, 0.4, 0.3) 2번 분류기가 (0.2, 0.6, 0.2), 3번 분류기가 (0.1, 0.5, 0.4)를 예상확률로 내놓았을 때, A는 (0.3+0.2+0.1)/3 = 0.2, B는 0.5, C는 0.3 이므로 B가 최종 결과가 된다."
   ]
  },
  {
   "cell_type": "markdown",
   "metadata": {},
   "source": [
    "### Averaging"
   ]
  },
  {
   "cell_type": "markdown",
   "metadata": {},
   "source": [
    "Regression, 또는 분류 확률 문제를 해결하기 위한 방법으로, 각 분류기별 예상치들을 평균을 구해 최종결과를 선정한다."
   ]
  },
  {
   "cell_type": "markdown",
   "metadata": {},
   "source": [
    "### Weighted Average"
   ]
  },
  {
   "cell_type": "markdown",
   "metadata": {},
   "source": [
    "Averaging에서 각 분류모델별로 가중치를 곱한 값의 평균을 구해 최종결과를 선정한다."
   ]
  },
  {
   "cell_type": "markdown",
   "metadata": {},
   "source": [
    "### Stacking"
   ]
  },
  {
   "cell_type": "markdown",
   "metadata": {},
   "source": []
  },
  {
   "cell_type": "markdown",
   "metadata": {},
   "source": [
    "### Blending"
   ]
  },
  {
   "cell_type": "markdown",
   "metadata": {},
   "source": []
  },
  {
   "cell_type": "markdown",
   "metadata": {},
   "source": [
    "### Bagging"
   ]
  },
  {
   "cell_type": "markdown",
   "metadata": {},
   "source": []
  },
  {
   "cell_type": "markdown",
   "metadata": {},
   "source": [
    "### Boosting"
   ]
  },
  {
   "cell_type": "markdown",
   "metadata": {},
   "source": []
  },
  {
   "cell_type": "markdown",
   "metadata": {},
   "source": [
    "### Bagging meta-estimator"
   ]
  },
  {
   "cell_type": "markdown",
   "metadata": {},
   "source": []
  },
  {
   "cell_type": "markdown",
   "metadata": {},
   "source": [
    "### Random Forest"
   ]
  },
  {
   "cell_type": "markdown",
   "metadata": {},
   "source": []
  },
  {
   "cell_type": "markdown",
   "metadata": {},
   "source": [
    "### AdaBoost"
   ]
  },
  {
   "cell_type": "markdown",
   "metadata": {},
   "source": []
  },
  {
   "cell_type": "markdown",
   "metadata": {},
   "source": [
    "### GBM"
   ]
  },
  {
   "cell_type": "markdown",
   "metadata": {},
   "source": []
  },
  {
   "cell_type": "markdown",
   "metadata": {},
   "source": [
    "### XGM"
   ]
  },
  {
   "cell_type": "markdown",
   "metadata": {},
   "source": []
  },
  {
   "cell_type": "markdown",
   "metadata": {},
   "source": [
    "### Light GBM"
   ]
  },
  {
   "cell_type": "markdown",
   "metadata": {},
   "source": []
  },
  {
   "cell_type": "markdown",
   "metadata": {},
   "source": [
    "### CatBoost"
   ]
  },
  {
   "cell_type": "markdown",
   "metadata": {},
   "source": []
  },
  {
   "cell_type": "markdown",
   "metadata": {},
   "source": []
  },
  {
   "cell_type": "markdown",
   "metadata": {},
   "source": []
  },
  {
   "cell_type": "markdown",
   "metadata": {},
   "source": []
  }
 ],
 "metadata": {
  "kernelspec": {
   "display_name": "Python 3",
   "language": "python",
   "name": "python3"
  },
  "language_info": {
   "codemirror_mode": {
    "name": "ipython",
    "version": 3
   },
   "file_extension": ".py",
   "mimetype": "text/x-python",
   "name": "python",
   "nbconvert_exporter": "python",
   "pygments_lexer": "ipython3",
   "version": "3.7.6"
  }
 },
 "nbformat": 4,
 "nbformat_minor": 4
}
