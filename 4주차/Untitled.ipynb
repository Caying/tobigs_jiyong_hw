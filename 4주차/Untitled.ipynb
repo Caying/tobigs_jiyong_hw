{
 "cells": [
  {
   "cell_type": "code",
   "execution_count": 52,
   "metadata": {},
   "outputs": [],
   "source": [
    "#import some necessary librairies\n",
    "\n",
    "import numpy as np # linear algebra\n",
    "import pandas as pd # data processing, CSV file I/O (e.g. pd.read_csv)\n",
    "%matplotlib inline\n",
    "import matplotlib.pyplot as plt  # Matlab-style plotting\n",
    "import seaborn as sns\n",
    "color = sns.color_palette()\n",
    "sns.set_style('darkgrid')\n",
    "import warnings\n",
    "def ignore_warn(*args, **kwargs):\n",
    "    pass\n",
    "warnings.warn = ignore_warn #ignore annoying warning (from sklearn and seaborn)\n",
    "\n",
    "\n",
    "from scipy import stats\n",
    "from scipy.stats import norm, skew "
   ]
  },
  {
   "cell_type": "code",
   "execution_count": 59,
   "metadata": {},
   "outputs": [],
   "source": [
    "test = pd.read_csv('test_new.csv') \n",
    "train = pd.read_csv('train_new.csv') "
   ]
  },
  {
   "cell_type": "code",
   "execution_count": 60,
   "metadata": {},
   "outputs": [
    {
     "name": "stdout",
     "output_type": "stream",
     "text": [
      "The train data size before dropping Id feature is : (860, 81) \n",
      "The test data size before dropping Id feature is : (600, 80) \n",
      "\n",
      "The train data size after dropping Id feature is : (860, 80) \n",
      "The test data size after dropping Id feature is : (600, 79) \n"
     ]
    }
   ],
   "source": [
    "#check the numbers of samples and features\n",
    "print(\"The train data size before dropping Id feature is : {} \".format(train.shape))\n",
    "print(\"The test data size before dropping Id feature is : {} \".format(test.shape))\n",
    "\n",
    "#Save the 'Id' column\n",
    "train_ID = train['Id']\n",
    "test_ID = test['Id']\n",
    "\n",
    "#Now drop the  'Id' colum since it's unnecessary for  the prediction process.\n",
    "train.drop(\"Id\", axis = 1, inplace = True)\n",
    "test.drop(\"Id\", axis = 1, inplace = True)\n",
    "\n",
    "#check again the data size after dropping the 'Id' variable\n",
    "print(\"\\nThe train data size after dropping Id feature is : {} \".format(train.shape)) \n",
    "print(\"The test data size after dropping Id feature is : {} \".format(test.shape))"
   ]
  },
  {
   "cell_type": "code",
   "execution_count": 61,
   "metadata": {},
   "outputs": [],
   "source": [
    "train = train[train.GrLivArea < 4500]\n",
    "train.reset_index(drop=True, inplace=True)\n",
    "train[\"SalePrice\"]\n",
    "y = train['SalePrice'].reset_index(drop=True)"
   ]
  },
  {
   "cell_type": "code",
   "execution_count": 62,
   "metadata": {},
   "outputs": [
    {
     "data": {
      "text/plain": [
       "0      12.247699\n",
       "1      12.109016\n",
       "2      12.317171\n",
       "3      11.849405\n",
       "4      12.429220\n",
       "         ...    \n",
       "854    11.751950\n",
       "855    11.898195\n",
       "856    12.066816\n",
       "857    11.931642\n",
       "858    12.429220\n",
       "Name: SalePrice, Length: 859, dtype: float64"
      ]
     },
     "execution_count": 62,
     "metadata": {},
     "output_type": "execute_result"
    }
   ],
   "source": [
    "y"
   ]
  },
  {
   "cell_type": "code",
   "execution_count": 63,
   "metadata": {},
   "outputs": [],
   "source": [
    "train_features = train.drop(['SalePrice'], axis=1)\n",
    "test_features = test\n",
    "features = pd.concat([train_features, test_features]).reset_index(drop=True)"
   ]
  },
  {
   "cell_type": "code",
   "execution_count": 64,
   "metadata": {},
   "outputs": [],
   "source": [
    "objects = []\n",
    "for i in features.columns:\n",
    "    if features[i].dtype == object:\n",
    "        objects.append(i)\n",
    "features.update(features[objects].fillna('None'))\n",
    "\n",
    "features['LotFrontage'] = features.groupby('Neighborhood')['LotFrontage'].transform(lambda x: x.fillna(x.median()))\n",
    "\n",
    "numeric_dtypes = ['int16', 'int32', 'int64', 'float16', 'float32', 'float64']\n",
    "numerics = []\n",
    "for i in features.columns:\n",
    "    if features[i].dtype in numeric_dtypes:\n",
    "        numerics.append(i)\n",
    "features.update(features[numerics].fillna(0))"
   ]
  },
  {
   "cell_type": "code",
   "execution_count": 65,
   "metadata": {},
   "outputs": [
    {
     "name": "stdout",
     "output_type": "stream",
     "text": [
      "\n",
      "Skew in numerical features: \n",
      "\n"
     ]
    },
    {
     "data": {
      "text/html": [
       "<div>\n",
       "<style scoped>\n",
       "    .dataframe tbody tr th:only-of-type {\n",
       "        vertical-align: middle;\n",
       "    }\n",
       "\n",
       "    .dataframe tbody tr th {\n",
       "        vertical-align: top;\n",
       "    }\n",
       "\n",
       "    .dataframe thead th {\n",
       "        text-align: right;\n",
       "    }\n",
       "</style>\n",
       "<table border=\"1\" class=\"dataframe\">\n",
       "  <thead>\n",
       "    <tr style=\"text-align: right;\">\n",
       "      <th></th>\n",
       "      <th>Skew</th>\n",
       "    </tr>\n",
       "  </thead>\n",
       "  <tbody>\n",
       "    <tr>\n",
       "      <th>MiscVal</th>\n",
       "      <td>24.443278</td>\n",
       "    </tr>\n",
       "    <tr>\n",
       "      <th>PoolArea</th>\n",
       "      <td>14.807992</td>\n",
       "    </tr>\n",
       "    <tr>\n",
       "      <th>LotArea</th>\n",
       "      <td>12.290047</td>\n",
       "    </tr>\n",
       "    <tr>\n",
       "      <th>3SsnPorch</th>\n",
       "      <td>10.290132</td>\n",
       "    </tr>\n",
       "    <tr>\n",
       "      <th>LowQualFinSF</th>\n",
       "      <td>8.998885</td>\n",
       "    </tr>\n",
       "    <tr>\n",
       "      <th>KitchenAbvGr</th>\n",
       "      <td>4.482026</td>\n",
       "    </tr>\n",
       "    <tr>\n",
       "      <th>BsmtFinSF2</th>\n",
       "      <td>4.249219</td>\n",
       "    </tr>\n",
       "    <tr>\n",
       "      <th>ScreenPorch</th>\n",
       "      <td>4.116334</td>\n",
       "    </tr>\n",
       "    <tr>\n",
       "      <th>BsmtHalfBath</th>\n",
       "      <td>4.097541</td>\n",
       "    </tr>\n",
       "    <tr>\n",
       "      <th>EnclosedPorch</th>\n",
       "      <td>3.085342</td>\n",
       "    </tr>\n",
       "  </tbody>\n",
       "</table>\n",
       "</div>"
      ],
      "text/plain": [
       "                    Skew\n",
       "MiscVal        24.443278\n",
       "PoolArea       14.807992\n",
       "LotArea        12.290047\n",
       "3SsnPorch      10.290132\n",
       "LowQualFinSF    8.998885\n",
       "KitchenAbvGr    4.482026\n",
       "BsmtFinSF2      4.249219\n",
       "ScreenPorch     4.116334\n",
       "BsmtHalfBath    4.097541\n",
       "EnclosedPorch   3.085342"
      ]
     },
     "execution_count": 65,
     "metadata": {},
     "output_type": "execute_result"
    }
   ],
   "source": [
    "numeric_feats = features.dtypes[features.dtypes != \"object\"].index\n",
    "\n",
    "skewed_feats = features[numeric_feats].apply(lambda x: skew(x.dropna())).sort_values(ascending=False)\n",
    "print(\"\\nSkew in numerical features: \\n\")\n",
    "skewness = pd.DataFrame({'Skew' :skewed_feats})\n",
    "skewness.head(10)"
   ]
  },
  {
   "cell_type": "code",
   "execution_count": 66,
   "metadata": {},
   "outputs": [],
   "source": [
    "skewness = skewness[abs(skewness) > 0.75]\n",
    "\n",
    "\n",
    "from scipy.special import boxcox1p\n",
    "skewed_features = skewness.index\n",
    "lam = 0.15\n",
    "for feat in skewed_features:\n",
    "    features[feat] = boxcox1p(features[feat], lam)"
   ]
  },
  {
   "cell_type": "code",
   "execution_count": 67,
   "metadata": {},
   "outputs": [],
   "source": [
    "from scipy.stats import boxcox_normmax\n",
    "numeric_dtypes = ['int16', 'int32', 'int64', 'float16', 'float32', 'float64']\n",
    "numerics2 = []\n",
    "for i in features.columns:\n",
    "    if features[i].dtype in numeric_dtypes:\n",
    "        numerics2.append(i)\n",
    "skew_features = features[numerics2].apply(lambda x: skew(x)).sort_values(ascending=False)\n",
    "\n",
    "high_skew = skew_features[skew_features > 0.5]\n",
    "skew_index = high_skew.index\n",
    "\n",
    "for i in skew_index:\n",
    "    features[i] = boxcox1p(features[i], boxcox_normmax(features[i] + 1))"
   ]
  },
  {
   "cell_type": "code",
   "execution_count": 68,
   "metadata": {},
   "outputs": [],
   "source": [
    "features = features.drop(['Utilities', 'Street', 'PoolQC',], axis=1)\n",
    "\n",
    "features['YrBltAndRemod']=features['YearBuilt']+features['YearRemodAdd']\n",
    "features['TotalSF']=features['TotalBsmtSF'] + features['1stFlrSF'] + features['2ndFlrSF']\n",
    "\n",
    "features['Total_sqr_footage'] = (features['BsmtFinSF1'] + features['BsmtFinSF2'] +\n",
    "                                 features['1stFlrSF'] + features['2ndFlrSF'])\n",
    "\n",
    "features['Total_Bathrooms'] = (features['FullBath'] + (0.5 * features['HalfBath']) +\n",
    "                               features['BsmtFullBath'] + (0.5 * features['BsmtHalfBath']))\n",
    "\n",
    "features['Total_porch_sf'] = (features['OpenPorchSF'] + features['3SsnPorch'] +\n",
    "                              features['EnclosedPorch'] + features['ScreenPorch'] +\n",
    "                              features['WoodDeckSF'])"
   ]
  },
  {
   "cell_type": "code",
   "execution_count": 69,
   "metadata": {},
   "outputs": [],
   "source": [
    "features['haspool'] = features['PoolArea'].apply(lambda x: 1 if x > 0 else 0)\n",
    "features['has2ndfloor'] = features['2ndFlrSF'].apply(lambda x: 1 if x > 0 else 0)\n",
    "features['hasgarage'] = features['GarageArea'].apply(lambda x: 1 if x > 0 else 0)\n",
    "features['hasbsmt'] = features['TotalBsmtSF'].apply(lambda x: 1 if x > 0 else 0)\n",
    "features['hasfireplace'] = features['Fireplaces'].apply(lambda x: 1 if x > 0 else 0)"
   ]
  },
  {
   "cell_type": "code",
   "execution_count": 70,
   "metadata": {},
   "outputs": [
    {
     "data": {
      "text/plain": [
       "(1459, 305)"
      ]
     },
     "execution_count": 70,
     "metadata": {},
     "output_type": "execute_result"
    }
   ],
   "source": [
    "final_features = pd.get_dummies(features).reset_index(drop=True)\n",
    "final_features.shape"
   ]
  },
  {
   "cell_type": "code",
   "execution_count": 71,
   "metadata": {
    "scrolled": false
   },
   "outputs": [
    {
     "data": {
      "text/plain": [
       "((859, 305), (859,), (600, 305))"
      ]
     },
     "execution_count": 71,
     "metadata": {},
     "output_type": "execute_result"
    }
   ],
   "source": [
    "X = final_features.iloc[:len(y), :]\n",
    "X_sub = final_features.iloc[len(y):, :]\n",
    "X.shape, y.shape, X_sub.shape"
   ]
  },
  {
   "cell_type": "code",
   "execution_count": 72,
   "metadata": {},
   "outputs": [
    {
     "data": {
      "text/plain": [
       "0      12.247699\n",
       "1      12.109016\n",
       "2      12.317171\n",
       "3      11.849405\n",
       "4      12.429220\n",
       "         ...    \n",
       "854    11.751950\n",
       "855    11.898195\n",
       "856    12.066816\n",
       "857    11.931642\n",
       "858    12.429220\n",
       "Name: SalePrice, Length: 859, dtype: float64"
      ]
     },
     "execution_count": 72,
     "metadata": {},
     "output_type": "execute_result"
    }
   ],
   "source": [
    "y"
   ]
  },
  {
   "cell_type": "code",
   "execution_count": 73,
   "metadata": {},
   "outputs": [
    {
     "ename": "NameError",
     "evalue": "name 'ntrain' is not defined",
     "output_type": "error",
     "traceback": [
      "\u001b[1;31m---------------------------------------------------------------------------\u001b[0m",
      "\u001b[1;31mNameError\u001b[0m                                 Traceback (most recent call last)",
      "\u001b[1;32m<ipython-input-73-6c0a9eb9f47a>\u001b[0m in \u001b[0;36m<module>\u001b[1;34m\u001b[0m\n\u001b[1;32m----> 1\u001b[1;33m \u001b[0mtrain\u001b[0m \u001b[1;33m=\u001b[0m \u001b[0mfinal_features\u001b[0m\u001b[1;33m[\u001b[0m\u001b[1;33m:\u001b[0m\u001b[0mntrain\u001b[0m\u001b[1;33m]\u001b[0m\u001b[1;33m\u001b[0m\u001b[1;33m\u001b[0m\u001b[0m\n\u001b[0m\u001b[0;32m      2\u001b[0m \u001b[0mtest\u001b[0m \u001b[1;33m=\u001b[0m \u001b[0mfinal_features\u001b[0m\u001b[1;33m[\u001b[0m\u001b[0mntrain\u001b[0m\u001b[1;33m:\u001b[0m\u001b[1;33m]\u001b[0m\u001b[1;33m\u001b[0m\u001b[1;33m\u001b[0m\u001b[0m\n\u001b[0;32m      3\u001b[0m \u001b[1;33m\u001b[0m\u001b[0m\n\u001b[0;32m      4\u001b[0m \u001b[0moverfit\u001b[0m \u001b[1;33m=\u001b[0m \u001b[1;33m[\u001b[0m\u001b[1;33m]\u001b[0m\u001b[1;33m\u001b[0m\u001b[1;33m\u001b[0m\u001b[0m\n\u001b[0;32m      5\u001b[0m \u001b[1;32mfor\u001b[0m \u001b[0mi\u001b[0m \u001b[1;32min\u001b[0m \u001b[0mX\u001b[0m\u001b[1;33m.\u001b[0m\u001b[0mcolumns\u001b[0m\u001b[1;33m:\u001b[0m\u001b[1;33m\u001b[0m\u001b[1;33m\u001b[0m\u001b[0m\n",
      "\u001b[1;31mNameError\u001b[0m: name 'ntrain' is not defined"
     ]
    }
   ],
   "source": [
    "train = final_features[:ntrain]\n",
    "test = final_features[ntrain:]   \n",
    "\n",
    "overfit = []\n",
    "for i in X.columns:\n",
    "    counts = X[i].value_counts()\n",
    "    zeros = counts.iloc[0]\n",
    "    if zeros / len(X) * 100 > 99.94:\n",
    "        overfit.append(i)\n",
    "\n",
    "overfit = list(overfit)\n",
    "X = X.drop(overfit, axis=1)\n",
    "X_sub = X_sub.drop(overfit, axis=1)"
   ]
  },
  {
   "cell_type": "code",
   "execution_count": 74,
   "metadata": {},
   "outputs": [],
   "source": [
    "from sklearn.linear_model import ElasticNet, Lasso,  BayesianRidge, LassoLarsIC\n",
    "from sklearn.ensemble import RandomForestRegressor,  GradientBoostingRegressor\n",
    "from sklearn.kernel_ridge import KernelRidge\n",
    "from sklearn.pipeline import make_pipeline\n",
    "from sklearn.preprocessing import RobustScaler\n",
    "from sklearn.base import BaseEstimator, TransformerMixin, RegressorMixin, clone\n",
    "from sklearn.model_selection import KFold, cross_val_score, train_test_split, GridSearchCV\n",
    "from sklearn.metrics import mean_squared_error\n",
    "import xgboost as xgb\n",
    "import lightgbm as lgb"
   ]
  },
  {
   "cell_type": "code",
   "execution_count": 95,
   "metadata": {},
   "outputs": [],
   "source": [
    "#Validation function\n",
    "n_folds = 5\n",
    "\n",
    "def rmsle_cv(model):\n",
    "    kf = KFold(n_folds, shuffle=True, random_state=42).get_n_splits(train.values)\n",
    "    rmse= np.sqrt(-cross_val_score(model, X.values, y, scoring=\"neg_mean_squared_error\", cv = kf))\n",
    "    return(rmse)"
   ]
  },
  {
   "cell_type": "code",
   "execution_count": 76,
   "metadata": {},
   "outputs": [],
   "source": [
    "alphas_alt = [14.5, 14.6, 14.7, 14.8, 14.9, 15, 15.1, 15.2, 15.3, 15.4, 15.5]\n",
    "alphas2 = [5e-05, 0.0001, 0.0002, 0.0003, 0.0004, 0.0005, 0.0006, 0.0007, 0.0008]\n",
    "e_alphas = [0.0001, 0.0002, 0.0003, 0.0004, 0.0005, 0.0006, 0.0007]\n",
    "e_l1ratio = [0.8, 0.85, 0.9, 0.95, 0.99, 1]"
   ]
  },
  {
   "cell_type": "code",
   "execution_count": 92,
   "metadata": {},
   "outputs": [],
   "source": [
    "from sklearn.linear_model import RidgeCV, LassoCV, ElasticNetCV\n",
    "from sklearn.svm import SVR"
   ]
  },
  {
   "cell_type": "code",
   "execution_count": 96,
   "metadata": {},
   "outputs": [
    {
     "name": "stdout",
     "output_type": "stream",
     "text": [
      "ridge: 0.1176 (0.0100)\n",
      "\n"
     ]
    }
   ],
   "source": [
    "ridge = make_pipeline(RobustScaler(), RidgeCV(alphas=alphas_alt, cv=kfolds))\n",
    "score = rmsle_cv(ridge)\n",
    "print(\"ridge: {:.4f} ({:.4f})\\n\".format(score.mean(), score.std()))"
   ]
  },
  {
   "cell_type": "code",
   "execution_count": 138,
   "metadata": {},
   "outputs": [
    {
     "name": "stdout",
     "output_type": "stream",
     "text": [
      "Kernel Ridge score: 0.1267 (0.0100)\n",
      "\n"
     ]
    }
   ],
   "source": [
    "KRR = KernelRidge(alpha=9.5, kernel='polynomial', gamma=0.003, degree=2.5, coef0=35.5)\n",
    "score = rmsle_cv(KRR)\n",
    "print(\"Kernel Ridge score: {:.4f} ({:.4f})\\n\".format(score.mean(), score.std()))"
   ]
  },
  {
   "cell_type": "code",
   "execution_count": 139,
   "metadata": {},
   "outputs": [
    {
     "name": "stdout",
     "output_type": "stream",
     "text": [
      "LASSO: 0.1147 (0.0107)\n",
      "\n"
     ]
    }
   ],
   "source": [
    "lasso = make_pipeline(RobustScaler(), LassoCV(max_iter=1e7, alphas=alphas2, random_state=42, cv=kfolds))\n",
    "score = rmsle_cv(lasso)\n",
    "print(\"LASSO: {:.4f} ({:.4f})\\n\".format(score.mean(), score.std()))"
   ]
  },
  {
   "cell_type": "code",
   "execution_count": 144,
   "metadata": {},
   "outputs": [
    {
     "name": "stdout",
     "output_type": "stream",
     "text": [
      "\n",
      "Lasso score: 0.1146 (0.0104)\n",
      "\n"
     ]
    }
   ],
   "source": [
    "lasso = make_pipeline(RobustScaler(), Lasso(alpha =0.0007, random_state=0))\n",
    "score = rmsle_cv(lasso)\n",
    "print(\"\\nLasso score: {:.4f} ({:.4f})\\n\".format(score.mean(), score.std()))"
   ]
  },
  {
   "cell_type": "code",
   "execution_count": 145,
   "metadata": {},
   "outputs": [
    {
     "name": "stdout",
     "output_type": "stream",
     "text": [
      "elastic net: 0.1147 (0.0106)\n",
      "\n"
     ]
    }
   ],
   "source": [
    "elasticnet = make_pipeline(RobustScaler(), ElasticNetCV(max_iter=1e7, alphas=e_alphas, cv=kfolds, l1_ratio=e_l1ratio)) \n",
    "score = rmsle_cv(elasticnet)\n",
    "print(\"elastic net: {:.4f} ({:.4f})\\n\".format(score.mean(), score.std()) )"
   ]
  },
  {
   "cell_type": "code",
   "execution_count": null,
   "metadata": {},
   "outputs": [],
   "source": []
  },
  {
   "cell_type": "code",
   "execution_count": 146,
   "metadata": {},
   "outputs": [
    {
     "name": "stdout",
     "output_type": "stream",
     "text": [
      "SVR: 0.1237 (0.0140)\n",
      "\n"
     ]
    }
   ],
   "source": [
    "svr = make_pipeline(RobustScaler(), SVR(C= 20, epsilon= 0.008, gamma=0.0003,))\n",
    "score = rmsle_cv(svr)\n",
    "print(\"SVR: {:.4f} ({:.4f})\\n\".format(score.mean(), score.std()))"
   ]
  },
  {
   "cell_type": "code",
   "execution_count": null,
   "metadata": {},
   "outputs": [],
   "source": []
  },
  {
   "cell_type": "code",
   "execution_count": 147,
   "metadata": {},
   "outputs": [
    {
     "name": "stdout",
     "output_type": "stream",
     "text": [
      "gbr: 0.1246 (0.0108)\n",
      "\n"
     ]
    }
   ],
   "source": [
    "gbr = GradientBoostingRegressor(n_estimators=3000, learning_rate=0.05, \n",
    "                                max_depth=4, max_features='sqrt', \n",
    "                                min_samples_leaf=15, min_samples_split=10, \n",
    "                                loss='huber', random_state =42) \n",
    "score = rmsle_cv(gbr)\n",
    "print(\"gbr: {:.4f} ({:.4f})\\n\".format(score.mean(), score.std()) )"
   ]
  },
  {
   "cell_type": "code",
   "execution_count": 148,
   "metadata": {},
   "outputs": [
    {
     "name": "stdout",
     "output_type": "stream",
     "text": [
      "Gradient Boosting score: 0.1226 (0.0111)\n",
      "\n"
     ]
    }
   ],
   "source": [
    "GBoost = GradientBoostingRegressor(alpha=0.8,\n",
    "                                   n_estimators=2500, learning_rate=0.025,\n",
    "                                   max_depth=4, max_features='sqrt',\n",
    "                                   min_samples_leaf=15, min_samples_split=10, \n",
    "                                   loss='huber', random_state =5)\n",
    "score = rmsle_cv(GBoost)\n",
    "print(\"Gradient Boosting score: {:.4f} ({:.4f})\\n\".format(score.mean(), score.std()))"
   ]
  },
  {
   "cell_type": "code",
   "execution_count": 149,
   "metadata": {},
   "outputs": [
    {
     "name": "stdout",
     "output_type": "stream",
     "text": [
      "lightgbm: 0.1211 (0.0114)\n",
      "\n"
     ]
    }
   ],
   "source": [
    "from lightgbm import LGBMRegressor\n",
    "lightgbm = LGBMRegressor(objective='regression', \n",
    "                                       num_leaves=4,\n",
    "                                       learning_rate=0.01, \n",
    "                                       n_estimators=5000,\n",
    "                                       max_bin=200, \n",
    "                                       bagging_fraction=0.75,\n",
    "                                       bagging_freq=5, \n",
    "                                       bagging_seed=7,\n",
    "                                       feature_fraction=0.2,\n",
    "                                       feature_fraction_seed=7,\n",
    "                                       verbose=-1,\n",
    "                                       )\n",
    "score = rmsle_cv(lightgbm)\n",
    "print(\"lightgbm: {:.4f} ({:.4f})\\n\".format(score.mean(), score.std()))"
   ]
  },
  {
   "cell_type": "code",
   "execution_count": 150,
   "metadata": {},
   "outputs": [
    {
     "name": "stdout",
     "output_type": "stream",
     "text": [
      "LGBM score: 0.1192 (0.0114)\n",
      "\n"
     ]
    }
   ],
   "source": [
    "model_lgb = lgb.LGBMRegressor(objective='regression',num_leaves=4,\n",
    "                              learning_rate=0.01, n_estimators=2500,\n",
    "                              max_bin = 57, bagging_fraction = 0.62,\n",
    "                              bagging_freq = 5, feature_fraction = 0.2,\n",
    "                              feature_fraction_seed = 9, bagging_seed=9,\n",
    "                              min_data_in_leaf = 6, min_sum_hessian_in_leaf = 7)\n",
    "score = rmsle_cv(model_lgb)\n",
    "print(\"LGBM score: {:.4f} ({:.4f})\\n\" .format(score.mean(), score.std()))"
   ]
  },
  {
   "cell_type": "code",
   "execution_count": 151,
   "metadata": {},
   "outputs": [
    {
     "name": "stdout",
     "output_type": "stream",
     "text": [
      "[17:21:52] WARNING: C:/Jenkins/workspace/xgboost-win64_release_0.90/src/objective/regression_obj.cu:152: reg:linear is now deprecated in favor of reg:squarederror.\n",
      "[17:21:59] WARNING: C:/Jenkins/workspace/xgboost-win64_release_0.90/src/objective/regression_obj.cu:152: reg:linear is now deprecated in favor of reg:squarederror.\n",
      "[17:22:04] WARNING: C:/Jenkins/workspace/xgboost-win64_release_0.90/src/objective/regression_obj.cu:152: reg:linear is now deprecated in favor of reg:squarederror.\n",
      "[17:22:10] WARNING: C:/Jenkins/workspace/xgboost-win64_release_0.90/src/objective/regression_obj.cu:152: reg:linear is now deprecated in favor of reg:squarederror.\n",
      "[17:22:17] WARNING: C:/Jenkins/workspace/xgboost-win64_release_0.90/src/objective/regression_obj.cu:152: reg:linear is now deprecated in favor of reg:squarederror.\n",
      "xgboost: 0.1230 (0.0097)\n",
      "\n"
     ]
    }
   ],
   "source": [
    "\n",
    "xgboost = xgb.XGBRegressor(learning_rate=0.01,n_estimators=3460,\n",
    "                                     max_depth=3, min_child_weight=0,\n",
    "                                     gamma=0, subsample=0.7,\n",
    "                                     colsample_bytree=0.7,\n",
    "                                     objective='reg:linear', nthread=-1,\n",
    "                                     scale_pos_weight=1, seed=27,\n",
    "                                     reg_alpha=0.00006)\n",
    "\n",
    "score = rmsle_cv(xgboost)\n",
    "print(\"xgboost: {:.4f} ({:.4f})\\n\".format(score.mean(), score.std()) )"
   ]
  },
  {
   "cell_type": "code",
   "execution_count": 152,
   "metadata": {},
   "outputs": [
    {
     "name": "stdout",
     "output_type": "stream",
     "text": [
      "Xgboost score: 0.1211 (0.0094)\n",
      "\n"
     ]
    }
   ],
   "source": [
    "model_xgb = xgb.XGBRegressor(colsample_bytree=0.47, gamma=0.003, \n",
    "                             learning_rate=0.03, max_depth=3, \n",
    "                             min_child_weight=1.7, n_estimators=2200,\n",
    "                             reg_alpha=0.006, reg_lambda=0.8,\n",
    "                             subsample=0.7, silent=1,\n",
    "                             random_state = 0, nthread = -1,\n",
    "                             objective=\"reg:linear\", seed=27\n",
    "                            )\n",
    "score = rmsle_cv(model_xgb)\n",
    "print(\"Xgboost score: {:.4f} ({:.4f})\\n\".format(score.mean(), score.std()))"
   ]
  },
  {
   "cell_type": "code",
   "execution_count": 81,
   "metadata": {},
   "outputs": [],
   "source": [
    "from mlxtend.regressor import StackingCVRegressor\n",
    "stack_gen = StackingCVRegressor(regressors=(ridge, lasso, elasticnet, gbr, xgboost, lightgbm),\n",
    "                                meta_regressor=xgboost,\n",
    "                                use_features_in_secondary=True)"
   ]
  },
  {
   "cell_type": "code",
   "execution_count": 82,
   "metadata": {},
   "outputs": [
    {
     "name": "stdout",
     "output_type": "stream",
     "text": [
      "LASSO: 0.1194 (0.0226)\n",
      "\n",
      "elastic net: 0.1192 (0.0218)\n",
      "\n",
      "SVR: 0.1216 (0.0222)\n",
      "\n",
      "lightgbm: 0.1226 (0.0221)\n",
      "\n",
      "gbr: 0.1222 (0.0234)\n",
      "\n",
      "[17:00:54] WARNING: C:/Jenkins/workspace/xgboost-win64_release_0.90/src/objective/regression_obj.cu:152: reg:linear is now deprecated in favor of reg:squarederror.\n",
      "[17:01:00] WARNING: C:/Jenkins/workspace/xgboost-win64_release_0.90/src/objective/regression_obj.cu:152: reg:linear is now deprecated in favor of reg:squarederror.\n",
      "[17:01:07] WARNING: C:/Jenkins/workspace/xgboost-win64_release_0.90/src/objective/regression_obj.cu:152: reg:linear is now deprecated in favor of reg:squarederror.\n",
      "[17:01:13] WARNING: C:/Jenkins/workspace/xgboost-win64_release_0.90/src/objective/regression_obj.cu:152: reg:linear is now deprecated in favor of reg:squarederror.\n",
      "[17:01:20] WARNING: C:/Jenkins/workspace/xgboost-win64_release_0.90/src/objective/regression_obj.cu:152: reg:linear is now deprecated in favor of reg:squarederror.\n",
      "[17:01:27] WARNING: C:/Jenkins/workspace/xgboost-win64_release_0.90/src/objective/regression_obj.cu:152: reg:linear is now deprecated in favor of reg:squarederror.\n",
      "[17:01:33] WARNING: C:/Jenkins/workspace/xgboost-win64_release_0.90/src/objective/regression_obj.cu:152: reg:linear is now deprecated in favor of reg:squarederror.\n",
      "[17:01:40] WARNING: C:/Jenkins/workspace/xgboost-win64_release_0.90/src/objective/regression_obj.cu:152: reg:linear is now deprecated in favor of reg:squarederror.\n",
      "[17:01:46] WARNING: C:/Jenkins/workspace/xgboost-win64_release_0.90/src/objective/regression_obj.cu:152: reg:linear is now deprecated in favor of reg:squarederror.\n",
      "[17:01:52] WARNING: C:/Jenkins/workspace/xgboost-win64_release_0.90/src/objective/regression_obj.cu:152: reg:linear is now deprecated in favor of reg:squarederror.\n",
      "xgboost: 0.1233 (0.0250)\n",
      "\n"
     ]
    }
   ],
   "source": [
    "score = cv_rmse(ridge)\n",
    "score = cv_rmse(lasso)\n",
    "print(\"LASSO: {:.4f} ({:.4f})\\n\".format(score.mean(), score.std()))\n",
    "\n",
    "score = cv_rmse(elasticnet)\n",
    "print(\"elastic net: {:.4f} ({:.4f})\\n\".format(score.mean(), score.std()) )\n",
    "\n",
    "score = cv_rmse(svr)\n",
    "print(\"SVR: {:.4f} ({:.4f})\\n\".format(score.mean(), score.std()))\n",
    "\n",
    "score = cv_rmse(lightgbm)\n",
    "print(\"lightgbm: {:.4f} ({:.4f})\\n\".format(score.mean(), score.std()))\n",
    "\n",
    "score = cv_rmse(gbr)\n",
    "print(\"gbr: {:.4f} ({:.4f})\\n\".format(score.mean(), score.std()) )\n",
    "\n",
    "score = cv_rmse(xgboost)\n",
    "print(\"xgboost: {:.4f} ({:.4f})\\n\".format(score.mean(), score.std()) )"
   ]
  },
  {
   "cell_type": "code",
   "execution_count": 83,
   "metadata": {},
   "outputs": [
    {
     "name": "stdout",
     "output_type": "stream",
     "text": [
      "START Fit\n",
      "stack_gen\n",
      "[17:03:15] WARNING: C:/Jenkins/workspace/xgboost-win64_release_0.90/src/objective/regression_obj.cu:152: reg:linear is now deprecated in favor of reg:squarederror.\n",
      "[17:03:21] WARNING: C:/Jenkins/workspace/xgboost-win64_release_0.90/src/objective/regression_obj.cu:152: reg:linear is now deprecated in favor of reg:squarederror.\n",
      "[17:03:27] WARNING: C:/Jenkins/workspace/xgboost-win64_release_0.90/src/objective/regression_obj.cu:152: reg:linear is now deprecated in favor of reg:squarederror.\n",
      "[17:03:32] WARNING: C:/Jenkins/workspace/xgboost-win64_release_0.90/src/objective/regression_obj.cu:152: reg:linear is now deprecated in favor of reg:squarederror.\n",
      "[17:03:38] WARNING: C:/Jenkins/workspace/xgboost-win64_release_0.90/src/objective/regression_obj.cu:152: reg:linear is now deprecated in favor of reg:squarederror.\n",
      "[17:03:47] WARNING: C:/Jenkins/workspace/xgboost-win64_release_0.90/src/objective/regression_obj.cu:152: reg:linear is now deprecated in favor of reg:squarederror.\n",
      "[17:04:10] WARNING: C:/Jenkins/workspace/xgboost-win64_release_0.90/src/objective/regression_obj.cu:152: reg:linear is now deprecated in favor of reg:squarederror.\n",
      "elasticnet\n",
      "Lasso\n",
      "Ridge\n",
      "Svr\n",
      "GradientBoosting\n",
      "xgboost\n",
      "[17:04:33] WARNING: C:/Jenkins/workspace/xgboost-win64_release_0.90/src/objective/regression_obj.cu:152: reg:linear is now deprecated in favor of reg:squarederror.\n",
      "lightgbm\n"
     ]
    }
   ],
   "source": [
    "print('START Fit')\n",
    "\n",
    "print('stack_gen')\n",
    "stack_gen_model = stack_gen.fit(np.array(X), np.array(y))\n",
    "\n",
    "print('elasticnet')\n",
    "elastic_model_full_data = elasticnet.fit(X, y)\n",
    "\n",
    "print('Lasso')\n",
    "lasso_model_full_data = lasso.fit(X, y)\n",
    "\n",
    "print('Ridge')\n",
    "ridge_model_full_data = ridge.fit(X, y)\n",
    "\n",
    "print('Svr')\n",
    "svr_model_full_data = svr.fit(X, y)\n",
    "\n",
    "print('GradientBoosting')\n",
    "gbr_model_full_data = gbr.fit(X, y)\n",
    "\n",
    "print('xgboost')\n",
    "xgb_model_full_data = xgboost.fit(X, y)\n",
    "\n",
    "print('lightgbm')\n",
    "lgb_model_full_data = lightgbm.fit(X, y)"
   ]
  },
  {
   "cell_type": "code",
   "execution_count": 84,
   "metadata": {},
   "outputs": [],
   "source": [
    "def blend_models_predict(X):\n",
    "    return ((0.1 * elastic_model_full_data.predict(X)) + \\\n",
    "            (0.05 * lasso_model_full_data.predict(X)) + \\\n",
    "            (0.1 * ridge_model_full_data.predict(X)) + \\\n",
    "            (0.1 * svr_model_full_data.predict(X)) + \\\n",
    "            (0.1 * gbr_model_full_data.predict(X)) + \\\n",
    "            (0.15 * xgb_model_full_data.predict(X)) + \\\n",
    "            (0.1 * lgb_model_full_data.predict(X)) + \\\n",
    "            (0.3 * stack_gen_model.predict(np.array(X))))"
   ]
  },
  {
   "cell_type": "code",
   "execution_count": 85,
   "metadata": {},
   "outputs": [
    {
     "name": "stdout",
     "output_type": "stream",
     "text": [
      "RMSLE score on train data:\n",
      "0.05186653430791941\n"
     ]
    }
   ],
   "source": [
    "print('RMSLE score on train data:')\n",
    "print(rmsle(y, blend_models_predict(X)))"
   ]
  },
  {
   "cell_type": "code",
   "execution_count": 86,
   "metadata": {},
   "outputs": [
    {
     "data": {
      "text/plain": [
       "array([12.04202822, 11.77877544, 11.88359303, 11.88436641, 12.22623015,\n",
       "       11.80012436, 12.46195609, 11.74076824, 12.05587183, 12.3512099 ,\n",
       "       11.51112801, 12.12106436, 11.69217633, 11.79168939, 11.44888988,\n",
       "       12.68986301, 11.88416895, 12.71876082, 11.86704004, 11.84060322,\n",
       "       11.95924225, 12.29390078, 12.05416926, 11.71162913, 11.65091324,\n",
       "       12.40232467, 11.97115362, 11.86285186, 12.59912808, 11.96958229,\n",
       "       11.69364277, 12.05644578, 11.88879191, 11.94480221, 11.6956658 ,\n",
       "       12.0314961 , 11.48559441, 11.84439514, 13.10322262, 11.8498187 ,\n",
       "       11.63187691, 11.93049291, 12.10553704, 12.4013763 , 11.66805591,\n",
       "       11.75911889, 12.49573809, 12.35196951, 11.81433167, 12.08259059,\n",
       "       11.98461777, 11.92292685, 11.54061302, 11.97276999, 12.03789616,\n",
       "       11.40163641, 10.78900452, 11.77785939, 12.47474973, 12.09583385,\n",
       "       12.13402252, 12.03157623, 12.06962697, 12.18025485, 12.21490795,\n",
       "       11.91512971, 12.63144399, 12.13804472, 12.43140385, 12.27949054,\n",
       "       12.28917764, 11.77256451, 12.62408507, 12.19318821, 12.42595139,\n",
       "       11.41974827, 12.13941311, 12.41602523, 12.42096134, 12.32603521,\n",
       "       12.07153962, 12.32941362, 11.74168154, 11.87396008, 11.95086165,\n",
       "       11.94296631, 11.87886513, 12.50741082, 12.25369008, 12.08220897,\n",
       "       11.86391354, 11.68923048, 11.75593643, 11.9800097 , 11.71563179,\n",
       "       12.00593107, 11.71041884, 11.74882559, 12.17193212, 12.01307275,\n",
       "       11.72753564, 12.49769531, 11.97545372, 12.53250955, 12.31197399,\n",
       "       12.06741374, 11.90858711, 11.80064353, 11.17233865, 11.8201332 ,\n",
       "       11.36931571, 12.03031093, 11.70456437, 12.25656512, 12.06928322,\n",
       "       12.03922862, 11.37277706, 12.17503072, 11.52845586, 11.80686364,\n",
       "       12.11851614, 12.66268601, 12.04427819, 12.39266622, 11.82043097,\n",
       "       11.7088589 , 11.77330444, 12.88342914, 12.11547855, 12.18199775,\n",
       "       12.62915911, 12.05892245, 12.27577456, 12.05843081, 12.76664008,\n",
       "       11.652476  , 11.76234096, 11.96729516, 11.39110181, 12.16161028,\n",
       "       11.12582371, 11.28388369, 12.38387908, 11.91780105, 12.13501178,\n",
       "       11.81002064, 11.99271395, 11.4167116 , 12.42570561, 11.6545025 ,\n",
       "       11.75349793, 11.60779229, 12.03433808, 11.48684322, 11.69525509,\n",
       "       12.22575202, 12.31421704, 12.1167944 , 12.06174059, 12.21358212,\n",
       "       11.94034325, 12.21685199, 11.65426588, 12.14077449, 12.56917373,\n",
       "       11.70633226, 11.85417438, 12.64202169, 11.73253748, 11.71009319,\n",
       "       11.88603515, 12.30967082, 12.61391219, 12.34992275, 11.68559441,\n",
       "       11.17107069, 12.68444588, 12.46872649, 11.53667401, 11.18943128,\n",
       "       12.02378952, 12.02699838, 12.16792279, 12.47962973, 12.61141462,\n",
       "       11.75775484, 13.03267638, 11.87046657, 11.82003064, 11.50470606,\n",
       "       12.0960625 , 12.17267605, 12.07421243, 11.86450421, 12.46680956,\n",
       "       12.01754682, 12.25971865, 12.414577  , 12.76479869, 12.21037175,\n",
       "       12.22411018, 11.36171784, 11.77104908, 11.75361199, 11.89973932,\n",
       "       12.52952892, 12.07323344, 12.11390863, 12.05151302, 11.78939562,\n",
       "       11.80914254, 11.94404894, 11.54981123, 11.86065463, 12.13349691,\n",
       "       12.13320366, 11.98764115, 11.82364038, 11.86785325, 11.79591275,\n",
       "       11.98983646, 11.74713357, 12.1744929 , 11.91790662, 12.08671653,\n",
       "       11.92680382, 11.46997833, 12.49067119, 11.83533279, 12.22924922,\n",
       "       11.39827307, 11.96831645, 12.03853613, 11.99932206, 11.81140882,\n",
       "       12.04887164, 11.69575536, 11.9817116 , 11.63331336, 11.97751291,\n",
       "       10.95429623, 11.68439877, 11.78126497, 11.99917647, 11.62510796,\n",
       "       12.68031884, 12.19990179, 12.47120189, 12.03025816, 12.64682268,\n",
       "       12.12196935, 12.17403169, 11.70343299, 11.81999139, 11.68292349,\n",
       "       12.6765532 , 12.20660964, 11.82058679, 11.81719069, 11.7452023 ,\n",
       "       11.66806289, 12.30836022, 11.33421847, 11.49024666, 12.05775398,\n",
       "       11.61779322, 12.22259669, 12.2962559 , 12.29733653, 11.7955936 ,\n",
       "       11.86359241, 11.65331614, 11.7243426 , 12.35320906, 12.08397818,\n",
       "       11.55643701, 11.72901179, 11.46313697, 12.26200887, 11.7705455 ,\n",
       "       11.71148244, 12.11601858, 12.9098808 , 11.45397051, 11.45112025,\n",
       "       11.804936  , 12.06695572, 12.10237722, 11.67551458, 11.93434795,\n",
       "       11.69635869, 11.89917864, 12.27899845, 11.72376916, 12.31281767,\n",
       "       12.24175542, 12.142008  , 12.23077487, 12.3539017 , 12.12878253,\n",
       "       11.88590258, 12.2917399 , 11.74868705, 11.79347319, 12.19008572,\n",
       "       12.30674177, 12.40265558, 12.16465541, 12.19334276, 13.20044511,\n",
       "       11.89134509, 11.99049487, 11.98946566, 12.36513776, 12.33436485,\n",
       "       12.65292892, 11.76489546, 11.64106569, 11.7633836 , 11.37602413,\n",
       "       12.38876756, 12.57568371, 13.05468197, 11.88392939, 12.27979659,\n",
       "       11.69051048, 11.65060048, 12.54702168, 12.11215973, 12.15778586,\n",
       "       12.10259132, 12.04495265, 11.82243411, 11.99795969, 11.89725215,\n",
       "       12.01126918, 12.33705632, 11.88219359, 12.06343998, 11.85373851,\n",
       "       11.48394047, 12.18219918, 11.75409971, 12.22491469, 11.90298834,\n",
       "       12.52337034, 11.61422052, 12.26593503, 11.88582981, 12.58041369,\n",
       "       12.12812593, 12.31026486, 11.32164864, 11.81147833, 11.7583137 ,\n",
       "       11.67369376, 11.82320321, 12.38709081, 11.14291452, 11.39265402,\n",
       "       11.54638347, 11.7369632 , 11.9903108 , 11.82095488, 12.22819982,\n",
       "       11.88911051, 12.34461495, 11.91753508, 12.77849767, 11.88717855,\n",
       "       12.25203226, 11.85996898, 11.52904239, 11.77882174, 11.59617717,\n",
       "       11.8888665 , 12.02150902, 12.27736571, 11.83819222, 12.36328277,\n",
       "       12.25011349, 12.43330861, 11.96978989, 13.00974009, 12.19099224,\n",
       "       12.21288073, 12.1706392 , 11.85779356, 11.92286256, 11.70507286,\n",
       "       12.48345029, 12.10770311, 11.66051692, 12.519604  , 12.11548693,\n",
       "       11.79580513, 12.65952246, 11.39738384, 12.14010392, 11.94428137,\n",
       "       12.15693432, 11.74162791, 11.82102343, 11.98529699, 11.94619339,\n",
       "       12.0718537 , 11.72586763, 12.73979748, 12.87262138, 11.86516024,\n",
       "       12.38314156, 12.0488356 , 11.75479896, 12.06728514, 11.81253343,\n",
       "       11.91546557, 11.93536074, 12.17184279, 12.43017051, 11.20879738,\n",
       "       12.23161147, 12.14870842, 11.90788161, 11.92257319, 12.12309633,\n",
       "       11.74670965, 11.93995097, 12.12074663, 12.42286035, 12.57235738,\n",
       "       11.94383875, 11.67960867, 11.66857003, 12.12174803, 11.65200461,\n",
       "       11.80665465, 11.92355489, 11.88478737, 13.23606976, 12.03443582,\n",
       "       12.33725523, 11.90380305, 12.64488292, 12.33425801, 11.87437764,\n",
       "       12.71641573, 12.2062366 , 11.86446667, 11.93234059, 12.04463161,\n",
       "       12.64598541, 12.21627426, 12.67078395, 12.67981577, 11.64029572,\n",
       "       12.14362669, 12.55430195, 12.16888159, 12.54520462, 11.61061409,\n",
       "       11.99868206, 11.18200019, 12.34089114, 11.28922439, 12.56170446,\n",
       "       11.10455438, 11.3833547 , 11.83421845, 12.29441958, 12.11370968,\n",
       "       12.44242152, 11.77752156, 11.61866722, 11.75401531, 11.63017047,\n",
       "       12.00702205, 11.82219701, 11.03762211, 12.34372462, 11.73180885,\n",
       "       11.58407792, 11.98041466, 12.39528419, 12.10739365, 12.09987538,\n",
       "       11.47195563, 12.51566804, 12.62912298, 12.41250615, 11.8321406 ,\n",
       "       12.15834402, 12.03805044, 11.74799938, 12.88312137, 12.37310991,\n",
       "       12.1669452 , 11.63969055, 11.98503627, 12.02470284, 12.84580803,\n",
       "       12.15935089, 12.47824154, 11.77018246, 12.04056493, 11.85786462,\n",
       "       12.24917317, 12.1711967 , 11.84587904, 11.84467445, 12.41545036,\n",
       "       11.68686468, 12.14155319, 12.4685891 , 13.04096243, 12.40974598,\n",
       "       12.4726428 , 11.48697151, 11.76577884, 11.51745101, 11.96598399,\n",
       "       11.2111431 , 12.36672816, 11.96703794, 11.97911295, 11.60926628,\n",
       "       11.65480258, 12.49979604, 11.94740554, 12.75675128, 11.83529686,\n",
       "       12.31624231, 11.7381017 , 11.72234383, 12.00721571, 12.3357266 ,\n",
       "       12.59970048, 12.0143806 , 11.82222489, 11.83946794, 12.00566409,\n",
       "       11.696954  , 12.14646493, 12.15518074, 12.49286158, 11.45908392,\n",
       "       12.5050513 , 11.75666554, 11.68010647, 11.65157117, 12.26914474,\n",
       "       12.31125193, 11.94471897, 11.52229272, 12.43170845, 12.1419047 ,\n",
       "       12.31681551, 11.78469429, 12.68306524, 11.80510498, 12.30319347,\n",
       "       12.06216106, 11.84948093, 11.82626692, 12.12952272, 11.88988294,\n",
       "       11.8606728 , 12.45149684, 11.87688945, 11.65015288, 12.16051854,\n",
       "       12.14341646, 11.73400907, 11.61078736, 12.18296636, 12.03315799,\n",
       "       12.01517282, 11.66341323, 12.81318077, 11.88099634, 12.10944829,\n",
       "       12.2955945 , 11.86265921, 12.77326994, 11.5495523 , 12.16666598,\n",
       "       11.72652932, 11.86746108, 12.47745205, 11.61866972, 11.3370189 ,\n",
       "       11.88356673, 12.48083619, 11.7821205 , 11.82011927, 12.16408521,\n",
       "       12.0795548 , 12.18678267, 12.39649708, 11.83896746, 11.87737642])"
      ]
     },
     "execution_count": 86,
     "metadata": {},
     "output_type": "execute_result"
    }
   ],
   "source": [
    "blend_models_predict(X_sub)"
   ]
  },
  {
   "cell_type": "code",
   "execution_count": 50,
   "metadata": {},
   "outputs": [
    {
     "ename": "TypeError",
     "evalue": "object of type 'method' has no len()",
     "output_type": "error",
     "traceback": [
      "\u001b[1;31m---------------------------------------------------------------------------\u001b[0m",
      "\u001b[1;31mTypeError\u001b[0m                                 Traceback (most recent call last)",
      "\u001b[1;32m<ipython-input-50-fa57e5088b70>\u001b[0m in \u001b[0;36m<module>\u001b[1;34m\u001b[0m\n\u001b[1;32m----> 1\u001b[1;33m \u001b[0mlen\u001b[0m\u001b[1;33m(\u001b[0m\u001b[0mX\u001b[0m\u001b[1;33m.\u001b[0m\u001b[0msub\u001b[0m\u001b[1;33m)\u001b[0m\u001b[1;33m\u001b[0m\u001b[1;33m\u001b[0m\u001b[0m\n\u001b[0m",
      "\u001b[1;31mTypeError\u001b[0m: object of type 'method' has no len()"
     ]
    }
   ],
   "source": [
    "len(X.sub)"
   ]
  },
  {
   "cell_type": "code",
   "execution_count": null,
   "metadata": {},
   "outputs": [],
   "source": []
  }
 ],
 "metadata": {
  "kernelspec": {
   "display_name": "Python 3",
   "language": "python",
   "name": "python3"
  },
  "language_info": {
   "codemirror_mode": {
    "name": "ipython",
    "version": 3
   },
   "file_extension": ".py",
   "mimetype": "text/x-python",
   "name": "python",
   "nbconvert_exporter": "python",
   "pygments_lexer": "ipython3",
   "version": "3.7.6"
  }
 },
 "nbformat": 4,
 "nbformat_minor": 4
}
